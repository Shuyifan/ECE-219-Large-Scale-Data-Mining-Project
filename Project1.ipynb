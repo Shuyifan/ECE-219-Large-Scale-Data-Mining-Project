{
 "cells": [
  {
   "cell_type": "markdown",
   "metadata": {},
   "source": [
    "## Check the data"
   ]
  },
  {
   "cell_type": "code",
   "execution_count": 2,
   "metadata": {},
   "outputs": [],
   "source": [
    "from sklearn.datasets import fetch_20newsgroups\n",
    "# Refer to the offcial document of scikit-learn for detailed usages:\n",
    "# http://scikit-learn.org/stable/modules/generated/sklearn.datasets.fetch_20newsgroups.html\n",
    "twenty_train = fetch_20newsgroups(subset='train', # choose which subset of the dataset to use; can be 'train', 'test', 'all'\n",
    "                                  shuffle=True,\n",
    "                                  random_state=42, # set the seed of random number generator when shuffling to make the outcome repeatable across different runs\n",
    "#                                   remove=['headers'],\n",
    "                                 )\n",
    "twenty_test = fetch_20newsgroups(subset='test', shuffle=True, random_state=42)"
   ]
  },
  {
   "cell_type": "code",
   "execution_count": 3,
   "metadata": {
    "scrolled": true
   },
   "outputs": [
    {
     "name": "stdout",
     "output_type": "stream",
     "text": [
      "<class 'sklearn.utils.Bunch'>\n",
      "dict_keys(['data', 'filenames', 'target_names', 'target', 'DESCR'])\n"
     ]
    }
   ],
   "source": [
    "print(type(twenty_train))\n",
    "print(twenty_train.keys())"
   ]
  },
  {
   "cell_type": "code",
   "execution_count": 4,
   "metadata": {},
   "outputs": [
    {
     "data": {
      "text/plain": [
       "array(['/Users/apple/scikit_learn_data/20news_home/20news-bydate-train/rec.autos/102994',\n",
       "       '/Users/apple/scikit_learn_data/20news_home/20news-bydate-train/comp.sys.mac.hardware/51861',\n",
       "       '/Users/apple/scikit_learn_data/20news_home/20news-bydate-train/comp.sys.mac.hardware/51879',\n",
       "       ...,\n",
       "       '/Users/apple/scikit_learn_data/20news_home/20news-bydate-train/comp.sys.ibm.pc.hardware/60695',\n",
       "       '/Users/apple/scikit_learn_data/20news_home/20news-bydate-train/comp.graphics/38319',\n",
       "       '/Users/apple/scikit_learn_data/20news_home/20news-bydate-train/rec.motorcycles/104440'],\n",
       "      dtype='<U93')"
      ]
     },
     "execution_count": 4,
     "metadata": {},
     "output_type": "execute_result"
    }
   ],
   "source": [
    "twenty_train.filenames"
   ]
  },
  {
   "cell_type": "code",
   "execution_count": 5,
   "metadata": {},
   "outputs": [
    {
     "data": {
      "text/plain": [
       "array([7, 4, 4, ..., 3, 1, 8])"
      ]
     },
     "execution_count": 5,
     "metadata": {},
     "output_type": "execute_result"
    }
   ],
   "source": [
    "twenty_train.target"
   ]
  },
  {
   "cell_type": "code",
   "execution_count": 6,
   "metadata": {},
   "outputs": [
    {
     "data": {
      "text/plain": [
       "['alt.atheism',\n",
       " 'comp.graphics',\n",
       " 'comp.os.ms-windows.misc',\n",
       " 'comp.sys.ibm.pc.hardware',\n",
       " 'comp.sys.mac.hardware',\n",
       " 'comp.windows.x',\n",
       " 'misc.forsale',\n",
       " 'rec.autos',\n",
       " 'rec.motorcycles',\n",
       " 'rec.sport.baseball',\n",
       " 'rec.sport.hockey',\n",
       " 'sci.crypt',\n",
       " 'sci.electronics',\n",
       " 'sci.med',\n",
       " 'sci.space',\n",
       " 'soc.religion.christian',\n",
       " 'talk.politics.guns',\n",
       " 'talk.politics.mideast',\n",
       " 'talk.politics.misc',\n",
       " 'talk.religion.misc']"
      ]
     },
     "execution_count": 6,
     "metadata": {},
     "output_type": "execute_result"
    }
   ],
   "source": [
    "twenty_train.target_names"
   ]
  },
  {
   "cell_type": "code",
   "execution_count": 7,
   "metadata": {},
   "outputs": [
    {
     "data": {
      "text/plain": [
       "20"
      ]
     },
     "execution_count": 7,
     "metadata": {},
     "output_type": "execute_result"
    }
   ],
   "source": [
    "len(twenty_train.target_names)"
   ]
  },
  {
   "cell_type": "code",
   "execution_count": 8,
   "metadata": {},
   "outputs": [
    {
     "data": {
      "text/plain": [
       "array([ 0,  1,  2,  3,  4,  5,  6,  7,  8,  9, 10, 11, 12, 13, 14, 15, 16,\n",
       "       17, 18, 19])"
      ]
     },
     "execution_count": 8,
     "metadata": {},
     "output_type": "execute_result"
    }
   ],
   "source": [
    "# `twenty_train.target` only contains 0 and 1\n",
    "import numpy as np\n",
    "np.unique(twenty_train.target)"
   ]
  },
  {
   "cell_type": "code",
   "execution_count": 9,
   "metadata": {},
   "outputs": [
    {
     "name": "stdout",
     "output_type": "stream",
     "text": [
      "4\n",
      "From: guykuo@carson.u.washington.edu (Guy Kuo)\n",
      "Subject: SI Clock Poll - Final Call\n",
      "Summary: Final call for SI clock reports\n",
      "Keywords: SI,acceleration,clock,upgrade\n",
      "Article-I.D.: shelley.1qvfo9INNc3s\n",
      "Organization: University of Washington\n",
      "Lines: 11\n",
      "NNTP-Posting-Host: carson.u.washington.edu\n",
      "\n",
      "A fair number of brave souls who upgraded their SI clock oscillator have\n",
      "shared their experiences for this poll. Please send a brief message detailing\n",
      "your experiences with the procedure. Top speed attained, CPU rated speed,\n",
      "add on cards and adapters, heat sinks, hour of usage per day, floppy disk\n",
      "functionality with 800 and 1.4 m floppies are especially requested.\n",
      "\n",
      "I will be summarizing in the next two days, so please add to the network\n",
      "knowledge base if you have done the clock upgrade and haven't answered this\n",
      "poll. Thanks.\n",
      "\n",
      "Guy Kuo <guykuo@u.washington.edu>\n",
      "\n"
     ]
    }
   ],
   "source": [
    "print(twenty_train.target[1])\n",
    "print(twenty_train.data[1])"
   ]
  },
  {
   "cell_type": "code",
   "execution_count": 10,
   "metadata": {},
   "outputs": [
    {
     "name": "stdout",
     "output_type": "stream",
     "text": [
      "rec.autos\n"
     ]
    }
   ],
   "source": [
    "# The first document belongs to the category 'comp.sys.mac.hardware'\n",
    "print(twenty_train.target_names[twenty_train.target[0]])"
   ]
  },
  {
   "cell_type": "code",
   "execution_count": 11,
   "metadata": {},
   "outputs": [
    {
     "name": "stdout",
     "output_type": "stream",
     "text": [
      "11314\n",
      "11314\n"
     ]
    }
   ],
   "source": [
    "print(len(twenty_train.data))\n",
    "print(len(twenty_train.target))"
   ]
  },
  {
   "cell_type": "markdown",
   "metadata": {},
   "source": [
    "## Question 1:\n",
    "To get started, plot a histogram of the number of training documents for each\n",
    "of the 20 categories to check if they are evenly distributed."
   ]
  },
  {
   "cell_type": "code",
   "execution_count": 12,
   "metadata": {},
   "outputs": [
    {
     "data": {
      "text/plain": [
       "11314"
      ]
     },
     "execution_count": 12,
     "metadata": {},
     "output_type": "execute_result"
    }
   ],
   "source": [
    "len(twenty_train.target==1)"
   ]
  },
  {
   "cell_type": "code",
   "execution_count": 13,
   "metadata": {},
   "outputs": [
    {
     "name": "stdout",
     "output_type": "stream",
     "text": [
      "[480, 584, 591, 590, 578, 593, 585, 594, 598, 597, 600, 595, 591, 594, 593, 599, 546, 564, 465, 377]\n"
     ]
    }
   ],
   "source": [
    "num = [0]*20\n",
    "lenth = len(twenty_train.target)\n",
    "for i in range(0,lenth):\n",
    "    num[twenty_train.target[i]]+=1\n",
    "print(num)"
   ]
  },
  {
   "cell_type": "code",
   "execution_count": 15,
   "metadata": {},
   "outputs": [
    {
     "data": {
      "image/png": "[encoded data removed]",
      "text/plain": [
       "<Figure size 432x288 with 1 Axes>"
      ]
     },
     "metadata": {
      "needs_background": "light"
     },
     "output_type": "display_data"
    }
   ],
   "source": [
    "from matplotlib import pyplot as plt\n",
    "t = range(0,20)\n",
    "plt.bar(t,num,0.5)\n",
    "plt.xticks(t,t)\n",
    "plt.title(\"Distribution of documents\")\n",
    "plt.xlabel(\"Category ID\")\n",
    "plt.ylabel(\"Number of documents in the group\")\n",
    "plt.show()"
   ]
  },
  {
   "cell_type": "markdown",
   "metadata": {},
   "source": [
    "## Question 2: \n",
    "Use the following specs to extract features from the textual data:\n",
    "- Use the “english” stopwords of the CountVectorizer\n",
    "- Exclude terms that are numbers (e.g. “123”, “-45”, “6.7” etc.) \n",
    "- Perform lemmatization with nltk.stem.wordnet.WordNetLemmatizer and pos_tag \n",
    "- Use min_df=3 \n",
    "\n",
    "Report the shape of the TF-IDF matrices of the train and test subsets respectively"
   ]
  },
  {
   "cell_type": "code",
   "execution_count": 17,
   "metadata": {},
   "outputs": [],
   "source": [
    "from sklearn.datasets import fetch_20newsgroups\n",
    "categories = ['comp.graphics', 'comp.os.ms-windows.misc',\n",
    "'comp.sys.ibm.pc.hardware', 'comp.sys.mac.hardware',\n",
    "'rec.autos', 'rec.motorcycles',\n",
    "'rec.sport.baseball', 'rec.sport.hockey']\n",
    "train_dataset = fetch_20newsgroups(subset = 'train', categories = categories, shuffle = True, random_state = None)\n",
    "test_dataset = fetch_20newsgroups(subset = 'test', categories = categories, shuffle = True, random_state = None)"
   ]
  },
  {
   "cell_type": "code",
   "execution_count": 18,
   "metadata": {},
   "outputs": [
    {
     "name": "stdout",
     "output_type": "stream",
     "text": [
      "[0 1 2 3 4 5 6 7]\n",
      "['comp.graphics', 'comp.os.ms-windows.misc', 'comp.sys.ibm.pc.hardware', 'comp.sys.mac.hardware', 'rec.autos', 'rec.motorcycles', 'rec.sport.baseball', 'rec.sport.hockey']\n",
      "4732\n",
      "3150\n",
      "<class 'numpy.ndarray'>\n"
     ]
    }
   ],
   "source": [
    "import numpy as np\n",
    "print(np.unique(train_dataset.target))\n",
    "print(train_dataset.target_names)\n",
    "print(len(train_dataset.target))\n",
    "print(len(test_dataset.target))\n",
    "print(type(train_dataset.target))"
   ]
  },
  {
   "cell_type": "code",
   "execution_count": 19,
   "metadata": {},
   "outputs": [
    {
     "data": {
      "text/plain": [
       "CountVectorizer(analyzer='word', binary=False, decode_error='strict',\n",
       "        dtype=<class 'numpy.int64'>, encoding='utf-8', input='content',\n",
       "        lowercase=True, max_df=1.0, max_features=None, min_df=3,\n",
       "        ngram_range=(1, 1), preprocessor=None, stop_words='english',\n",
       "        strip_accents=None, token_pattern='(?u)\\\\b[a-zA-Z]{2,}\\\\b',\n",
       "        tokenizer=None, vocabulary=None)"
      ]
     },
     "execution_count": 19,
     "metadata": {},
     "output_type": "execute_result"
    }
   ],
   "source": [
    "from sklearn.feature_extraction.text import CountVectorizer\n",
    "\n",
    "vectorizer = CountVectorizer(min_df=3,token_pattern=r'(?u)\\b[a-zA-Z]{2,}\\b',stop_words='english') \n",
    "# ngram is n words together to be concidered as a phrase\n",
    "# max_df = 1.0 means if the context only consists of the same word, then it will be eliminated.\n",
    "# min_df = 3 (int) means if the context contains the word repeats less than 3 times, then it will be ignored.\n",
    "vectorizer"
   ]
  },
  {
   "cell_type": "code",
   "execution_count": 20,
   "metadata": {},
   "outputs": [
    {
     "name": "stdout",
     "output_type": "stream",
     "text": [
      "(4732, 16317)\n",
      "--------------------\n",
      "16317\n",
      "--------------------\n",
      "['aa', 'aaa', 'aamir', 'aardvark', 'aargh', 'aarghhhh', 'aarhus', 'aaron', 'aau', 'ab', 'abad', 'abandon', 'abate', 'abbot', 'abbott', 'abbreviation', 'abc', 'abd', 'abel', 'aber', 'aberystwyth', 'abiding', 'abilities', 'ability', 'able', 'abo', 'abominations', 'abort', 'abott', 'abs', 'absence', 'absent', 'absolute', 'absolutely', 'abstact', 'abstract', 'abstracts', 'absurd', 'absurdity', 'absurdum', 'abuse', 'abused', 'ac', 'acad', 'academic', 'academy', 'acadiau', 'acbl', 'acc', 'accel', 'accelerate', 'accelerated', 'accelerating', 'acceleration', 'accelerator', 'accelerators', 'accelleration', 'accellerator', 'accented', 'accept', 'acceptable', 'acceptance', 'accepted', 'accepts', 'access', 'accessed', 'accesses', 'accessible', 'accessing', 'accessories', 'accessory', 'accident', 'accidental', 'accidentally', 'accidents', 'acclimated', 'accommodate', 'accomodate', 'accompanied', 'accomplish', 'accomplished', 'accomplishments', 'accord', 'according', 'account', 'accounted', 'accounting', 'accounts', 'accucolor', 'accummulate', 'accumulate', 'accuracy', 'accurate', 'accurately', 'accuse', 'accused', 'acd', 'ace', 'achieve', 'achieved']\n"
     ]
    }
   ],
   "source": [
    " X_train = vectorizer.fit_transform(train_dataset.data)\n",
    "print(X_train.shape)\n",
    "print('-' * 20)\n",
    "print(len(vectorizer.get_feature_names()))\n",
    "print('-' * 20)\n",
    "print(vectorizer.get_feature_names()[:100]) # not lemmatized"
   ]
  },
  {
   "cell_type": "code",
   "execution_count": 21,
   "metadata": {},
   "outputs": [
    {
     "name": "stdout",
     "output_type": "stream",
     "text": [
      "CountVectorizer(analyzer=<function stem_rmv_punc at 0x11f2f82f0>,\n",
      "        binary=False, decode_error='strict', dtype=<class 'numpy.int64'>,\n",
      "        encoding='utf-8', input='content', lowercase=True, max_df=1.0,\n",
      "        max_features=None, min_df=3, ngram_range=(1, 1), preprocessor=None,\n",
      "        stop_words='english', strip_accents=None,\n",
      "        token_pattern='(?u)\\\\b\\\\w\\\\w+\\\\b', tokenizer=None, vocabulary=None)\n",
      "--------------------\n",
      "(4732, 16466)\n",
      "--------------------\n",
      "16466\n",
      "--------------------\n",
      "['e1t', 'e2', 'e22u', 'e3', 'e31', 'e4', 'e5', 'e6', 'e7', 'e8', 'e8l6', 'e9', 'e9c', 'e9f', 'e9l0qax', 'e_', 'e_mail', 'ea', 'ea4', 'ea86', 'eagan', 'eagerly', 'eagle', 'eaiser', 'ear', 'earl', 'earlier', 'earlobe', 'early', 'earn', 'earnest', 'earth', 'earthly', 'ease', 'easier', 'easily', 'easley', 'east', 'easter', 'eastern', 'eastgate', 'eastman', 'eastwood', 'easy', 'eat', 'eau', 'eb', 'eb0', 'ebc', 'ebosco', 'ebu', 'ec', 'ecac', 'ece', 'ecf', 'echelon', 'echl', 'echo', 'echonology', 'eckhardt', 'eckton', 'ecktons', 'eclipse', 'ecn', 'ecole', 'econ', 'economic', 'economical', 'economically', 'economics', 'economy', 'ecp', 'ecqs', 'ecr', 'ecs', 'ecst', 'ed', 'ed4', 'ed5', 'edb', 'edd', 'eddie', 'edelman', 'eden', 'edf003', 'edgar', 'edge', 'edinburgh', 'edit', 'editing', 'edition', 'editor', 'editorial', 'edm', 'edmondson', 'edmonton', 'edmoore', 'ednobles', 'edo', 'edt']\n"
     ]
    }
   ],
   "source": [
    "# Lemmatization\n",
    "from nltk import pos_tag,word_tokenize\n",
    "from nltk.stem.wordnet import WordNetLemmatizer\n",
    "from nltk.corpus import wordnet as wn\n",
    "from nltk.corpus import stopwords\n",
    "\n",
    "wnl = WordNetLemmatizer()\n",
    "\n",
    "def penn2morphy(penntag):\n",
    "    \"\"\" Converts Penn Treebank tags to WordNet. \"\"\"\n",
    "    morphy_tag = {'NN':'n', 'JJ':'a',\n",
    "                  'VB':'v', 'RB':'r'}\n",
    "    try:\n",
    "        return morphy_tag[penntag[:2]]\n",
    "    except:\n",
    "        return 'n'\n",
    "\n",
    "def lemmatize_sent_demo(text):\n",
    "    # Text input is string, returns array of lowercased strings(words).\n",
    "    return [wnl.lemmatize(word.lower(), pos=penn2morphy(tag)) \n",
    "            for word, tag in pos_tag(nltk.word_tokenize(text))]\n",
    "def lemmatize_sent(list_word):\n",
    "    # Text input is string, returns array of lowercased strings(words).\n",
    "    return [wnl.lemmatize(word.lower(), pos=penn2morphy(tag)) \n",
    "            for word, tag in pos_tag(list_word)]\n",
    "\n",
    "def stemmed_words(doc):\n",
    "    return (stemmer.stem(w) for w in analyzer(doc))\n",
    "\n",
    "def stem_rmv_punc(doc):\n",
    "    return (word for word in lemmatize_sent(analyzer(doc)) if word not in stopwords.words('english') and not word.isdigit())\n",
    "\n",
    "analyzer = CountVectorizer().build_analyzer()\n",
    "vec = CountVectorizer(min_df=3, analyzer=stem_rmv_punc, stop_words = 'english') # new vectorizer \n",
    "print(vec)\n",
    "print('-' * 20)\n",
    "X_train = vec.fit_transform(train_dataset.data)\n",
    "print(X_train.shape)\n",
    "print('-' * 20)\n",
    "print(len(vec.get_feature_names()))\n",
    "print('-' * 20)\n",
    "print(vec.get_feature_names()[5000:5100])"
   ]
  },
  {
   "cell_type": "code",
   "execution_count": 24,
   "metadata": {},
   "outputs": [
    {
     "name": "stdout",
     "output_type": "stream",
     "text": [
      "(3150, 16466)\n"
     ]
    }
   ],
   "source": [
    "# test data\n",
    "X_test = vec.transform(test_dataset.data)\n",
    "print(X_test.shape)"
   ]
  },
  {
   "cell_type": "code",
   "execution_count": 25,
   "metadata": {},
   "outputs": [
    {
     "name": "stdout",
     "output_type": "stream",
     "text": [
      "TfidfTransformer(norm='l2', smooth_idf=True, sublinear_tf=False, use_idf=True)\n",
      "--------------------\n",
      "(4732, 16466)\n",
      "--------------------\n",
      "[[0 0 0 0 0 0 0 0 0 0]\n",
      " [0 0 0 0 0 0 0 0 0 0]\n",
      " [0 0 0 0 0 0 0 0 0 0]\n",
      " [0 0 0 0 0 0 0 0 0 0]\n",
      " [0 0 0 0 0 0 0 0 0 0]\n",
      " [0 0 0 0 0 0 0 0 0 0]\n",
      " [0 0 0 0 0 0 0 0 0 0]\n",
      " [0 0 0 0 0 0 0 0 0 0]\n",
      " [0 0 0 0 0 0 0 0 0 0]\n",
      " [0 0 0 0 0 0 0 0 0 0]]\n",
      "--------------------\n",
      "[[0. 0. 0. 0. 0. 0. 0. 0. 0. 0.]\n",
      " [0. 0. 0. 0. 0. 0. 0. 0. 0. 0.]\n",
      " [0. 0. 0. 0. 0. 0. 0. 0. 0. 0.]\n",
      " [0. 0. 0. 0. 0. 0. 0. 0. 0. 0.]\n",
      " [0. 0. 0. 0. 0. 0. 0. 0. 0. 0.]\n",
      " [0. 0. 0. 0. 0. 0. 0. 0. 0. 0.]\n",
      " [0. 0. 0. 0. 0. 0. 0. 0. 0. 0.]\n",
      " [0. 0. 0. 0. 0. 0. 0. 0. 0. 0.]\n",
      " [0. 0. 0. 0. 0. 0. 0. 0. 0. 0.]\n",
      " [0. 0. 0. 0. 0. 0. 0. 0. 0. 0.]]\n"
     ]
    }
   ],
   "source": [
    "# TF-IDF matrices of the train subsets\n",
    "from sklearn.feature_extraction.text import TfidfTransformer\n",
    "tfidf = TfidfTransformer()\n",
    "\n",
    "print(tfidf)\n",
    "print('-' * 20)\n",
    "\n",
    "X_train_tfidf = tfidf.fit_transform(X_train)\n",
    "print(X_train_tfidf.shape)\n",
    "print('-' * 20)\n",
    "print(X_train.toarray()[:10,:10])\n",
    "print('-' * 20)\n",
    "print(X_train_tfidf.toarray()[:10,:10])"
   ]
  },
  {
   "cell_type": "code",
   "execution_count": 26,
   "metadata": {},
   "outputs": [
    {
     "name": "stdout",
     "output_type": "stream",
     "text": [
      "(3150, 16466)\n",
      "--------------------\n",
      "[[0 0 0 0 0 0 0 0 0 0]\n",
      " [0 0 0 0 0 0 0 0 0 0]\n",
      " [0 0 0 0 0 0 0 0 0 0]\n",
      " [0 0 0 0 0 0 0 0 0 0]\n",
      " [0 0 0 0 0 0 0 0 0 0]\n",
      " [0 0 0 0 0 0 0 0 0 0]\n",
      " [0 0 0 0 0 0 0 0 0 0]\n",
      " [0 0 0 0 0 0 0 0 0 0]\n",
      " [0 0 0 0 0 0 0 0 0 0]\n",
      " [0 0 0 0 0 0 0 0 0 0]]\n",
      "--------------------\n",
      "[[0. 0. 0. 0. 0. 0. 0. 0. 0. 0.]\n",
      " [0. 0. 0. 0. 0. 0. 0. 0. 0. 0.]\n",
      " [0. 0. 0. 0. 0. 0. 0. 0. 0. 0.]\n",
      " [0. 0. 0. 0. 0. 0. 0. 0. 0. 0.]\n",
      " [0. 0. 0. 0. 0. 0. 0. 0. 0. 0.]\n",
      " [0. 0. 0. 0. 0. 0. 0. 0. 0. 0.]\n",
      " [0. 0. 0. 0. 0. 0. 0. 0. 0. 0.]\n",
      " [0. 0. 0. 0. 0. 0. 0. 0. 0. 0.]\n",
      " [0. 0. 0. 0. 0. 0. 0. 0. 0. 0.]\n",
      " [0. 0. 0. 0. 0. 0. 0. 0. 0. 0.]]\n"
     ]
    }
   ],
   "source": [
    "# TF-IDF matrices of the test subsets\n",
    "X_test_tfidf = tfidf.transform(X_test)\n",
    "print(X_test_tfidf.shape)\n",
    "print('-' * 20)\n",
    "print(X_test.toarray()[:10,:10])\n",
    "print('-' * 20)\n",
    "print(X_test_tfidf.toarray()[:10,:10])"
   ]
  },
  {
   "cell_type": "markdown",
   "metadata": {},
   "source": [
    "## Question 3:\n",
    "Reduce the dimensionality of the data using the methods above\n",
    "- Apply LSI to the TF-IDF matrix corresponding to the 8 categories with k = 50; so each document is mapped to a 50-dimensional vector.\n",
    "- Also reduce dimnsionality through NMF (k = 50) and compare with LSI: \n",
    "<br>Which one is larger, the $ \\mid\\mid X-WH\\mid\\mid_F^2 $ in NMF or the $\\mid\\mid X-U_k\\sum_kV_k^T\\mid\\mid_F^2$ in LSI? Why is the case?"
   ]
  },
  {
   "cell_type": "code",
   "execution_count": 14,
   "metadata": {},
   "outputs": [
    {
     "name": "stdout",
     "output_type": "stream",
     "text": [
      "(4732, 50)\n",
      "[[ 0.13166112  0.00335123 -0.02195652 ... -0.02213765  0.035859\n",
      "  -0.00116284]\n",
      " [ 0.17056195  0.05670839 -0.00256551 ...  0.03959442 -0.02626286\n",
      "  -0.01964574]\n",
      " [ 0.10949843 -0.01231561  0.06019437 ... -0.00197308 -0.01675831\n",
      "  -0.0034273 ]\n",
      " ...\n",
      " [ 0.19723862  0.13801917 -0.00869225 ...  0.0155698  -0.00703703\n",
      "   0.02047146]\n",
      " [ 0.12222647 -0.10008228  0.01775329 ... -0.05975422  0.00747294\n",
      "   0.02738025]\n",
      " [ 0.18338687  0.10951299 -0.02522662 ...  0.00525198 -0.01247589\n",
      "  -0.00569698]]\n"
     ]
    }
   ],
   "source": [
    "# LSI\n",
    "from sklearn.decomposition import TruncatedSVD\n",
    "\n",
    "svd = TruncatedSVD(n_components = 50, random_state = 0)\n",
    "X_train_lsi = svd.fit_transform(X_train_tfidf)\n",
    "X_test_lsi = svd.transform(X_test_tfidf)\n",
    "\n",
    "# show time\n",
    "print(X_train_lsi.shape)\n",
    "print(X_train_lsi)"
   ]
  },
  {
   "cell_type": "code",
   "execution_count": 39,
   "metadata": {},
   "outputs": [
    {
     "name": "stdout",
     "output_type": "stream",
     "text": [
      "(4732, 50)\n",
      "-------------------- NMF --------------------\n",
      "[[0.01959722 0.09155417 0.         ... 0.         0.         0.00032074]\n",
      " [0.03200949 0.12364548 0.         ... 0.         0.         0.        ]\n",
      " [0.00089783 0.00445255 0.00036187 ... 0.         0.         0.        ]\n",
      " ...\n",
      " [0.02558241 0.         0.         ... 0.         0.         0.        ]\n",
      " [0.         0.         0.         ... 0.         0.01372043 0.        ]\n",
      " [0.01477539 0.05642948 0.         ... 0.00258744 0.         0.08569182]]\n",
      "-------------------- NMF --------------------\n",
      "(50, 13481)\n"
     ]
    }
   ],
   "source": [
    "# NMF\n",
    "from sklearn.decomposition import NMF\n",
    "\n",
    "nmf = NMF(n_components=50, init='random',random_state=0)\n",
    "W_train = nmf.fit_transform(X_train_tfidf)\n",
    "W_test = nmf.transform(X_test_tfidf)\n",
    "\n",
    "H = nmf.components_\n",
    "\n",
    "# show time\n",
    "print(W_train.shape)\n",
    "print('-' * 20, 'NMF', '-'*20)\n",
    "print(W_train)\n",
    "print('-' * 20, 'NMF', '-'*20)\n",
    "print(H.shape)"
   ]
  },
  {
   "cell_type": "code",
   "execution_count": 24,
   "metadata": {},
   "outputs": [
    {
     "name": "stdout",
     "output_type": "stream",
     "text": [
      "64.19541182867786\n",
      "64.19541182867785\n"
     ]
    }
   ],
   "source": [
    "# Loss of nmf\n",
    "\n",
    "import numpy as np\n",
    "\n",
    "err_nmf = nmf.reconstruction_err_\n",
    "err = np.sum(np.array(X_train_tfidf-W_train.dot(H))**2)\n",
    "err = err**0.5\n",
    "\n",
    "print(err_nmf)\n",
    "print(err)"
   ]
  },
  {
   "cell_type": "code",
   "execution_count": 40,
   "metadata": {},
   "outputs": [
    {
     "name": "stdout",
     "output_type": "stream",
     "text": [
      "(50, 13481)\n",
      "[[ 1.00000000e+00 -1.21430643e-16  2.63677968e-16 ...  0.00000000e+00\n",
      "  -6.93889390e-18 -1.04083409e-17]\n",
      " [-1.21430643e-16  1.00000000e+00  3.81639165e-17 ...  3.04660810e-17\n",
      "   1.73472348e-17 -3.29597460e-17]\n",
      " [ 2.63677968e-16  3.81639165e-17  1.00000000e+00 ...  3.98986399e-17\n",
      "   1.59594560e-16  6.93889390e-18]\n",
      " ...\n",
      " [ 0.00000000e+00  3.04660810e-17  3.98986399e-17 ...  1.00000000e+00\n",
      "  -4.85722573e-17  1.90819582e-17]\n",
      " [-6.93889390e-18  1.73472348e-17  1.59594560e-16 ... -4.85722573e-17\n",
      "   1.00000000e+00  2.15105711e-16]\n",
      " [-1.04083409e-17 -3.29597460e-17  6.93889390e-18 ...  1.90819582e-17\n",
      "   2.15105711e-16  1.00000000e+00]]\n",
      "53.05692651445144\n"
     ]
    }
   ],
   "source": [
    "# Check attributes of the svd function\n",
    "\n",
    "check = svd.components_.dot(np.transpose(svd.components_))\n",
    "print(svd.components_.shape)\n",
    "print(check)\n",
    "\n",
    "err_lsi_test = np.sum(np.array(X_test_tfidf-X_test_lsi.dot(svd.components_))**2)\n",
    "err_lsi_test = err_lsi_test**0.5\n",
    "\n",
    "print(err_lsi_test)"
   ]
  },
  {
   "cell_type": "code",
   "execution_count": 41,
   "metadata": {},
   "outputs": [
    {
     "name": "stdout",
     "output_type": "stream",
     "text": [
      "The loss of LSI method is:  63.93259012031856\n",
      "The loss of NMF method is:  64.19541182867786\n",
      "So the loss of NMF is larger!\n"
     ]
    }
   ],
   "source": [
    "# Loss of lsi\n",
    "\n",
    "err_lsi = np.sum(np.array(X_train_tfidf-X_train_lsi.dot(svd.components_))**2)\n",
    "err_lsi = err_lsi**0.5\n",
    "print('The loss of LSI method is: ',err_lsi)\n",
    "print('The loss of NMF method is: ',err_nmf)\n",
    "\n",
    "if err_lsi > err_nmf:\n",
    "    print('So the loss of LSI is larger!')\n",
    "elif err_lsi < err_nmf:\n",
    "    print('So the loss of NMF is larger!')\n",
    "else:\n",
    "    print('Incredible!!! They are equal!')"
   ]
  },
  {
   "cell_type": "markdown",
   "metadata": {},
   "source": [
    "## Question 4:\n",
    "Hard margin and soft margin linear SVMs:\n",
    "- Train two linear SVMs and compare:\n",
    "    * Train one SVM with $\\gamma = 1000$ (hard margin), another with $\\gamma = 0.0001$ (soft nargin).\n",
    "    * Plot the ROC curve, report the **confusion matrix** and calculate the **accuracy, recall, precision** and **F-1 score** of both SVM classifier. Which one performs better?\n",
    "    * What happens for the soft margin SVM? Why is the case?\n",
    "        - Does the DOC curve of the soft margin SVM look good? Does this conflict with other metrics?\n",
    "- Use cross-validation to choose $\\gamma$ (use average validation accuuracy to compare):\n",
    "<br>Using a 5-fold cross-validation, find the best value of the parameter $\\gamma$ in the range $\\lbrace10^k\\mid-3\\leq k\\leq3, k\\in\\mathbb Z\\rbrace$. Again, plot the ROC curve and report the confusion matrix and calculate the **accuracy, recall precision** and **F-1 score** of this best SVM."
   ]
  },
  {
   "cell_type": "markdown",
   "metadata": {},
   "source": [
    "### Train SVMs and compare"
   ]
  },
  {
   "cell_type": "code",
   "execution_count": 77,
   "metadata": {},
   "outputs": [
    {
     "name": "stdout",
     "output_type": "stream",
     "text": [
      "-------------------- train_dataset --------------------\n",
      "4732\n",
      "[0 1]\n",
      "-------------------- test_dataset --------------------\n",
      "3150\n",
      "[0 1]\n"
     ]
    }
   ],
   "source": [
    "# data preparation and regroup\n",
    "\n",
    "# number and class name into dict\n",
    "#num = np.unique(train_dataset.target)\n",
    "#name = train_dataset.target_names\n",
    "#name_dic = dict(zip(name,num))\n",
    "#print(name_dic)\n",
    "\n",
    "# divide into groups\n",
    "#grp1 = (name_dic.get('comp.graphics'), name_dic.get('rec.autos'))\n",
    "#grp2 = (name_dic.get('comp.os.ms-windows.misc'), name_dic.get('rec.motorcycles'))\n",
    "#grp3 = (name_dic.get('comp.sys.ibm.pc.hardware'), name_dic.get('rec.sport.baseball'))\n",
    "#grp4 = (name_dic.get('comp.sys.mac.hardware'), name_dic.get('rec.sport.hockey'))\n",
    "\n",
    "# regroup\n",
    "train_label = []\n",
    "new_name = ['Computer Technology','Recreational Activity']\n",
    "test_label = []\n",
    "docs = len(X_train_lsi)\n",
    "\n",
    "for label in train_dataset.target:\n",
    "    name = train_dataset.target_names[label]\n",
    "    if name.startswith('comp'):\n",
    "        train_label.append(0)\n",
    "    elif name.startswith('rec'):\n",
    "        train_label.append(1)\n",
    "    else:\n",
    "        print('Wrong type!')\n",
    "        \n",
    "for label in test_dataset.target:\n",
    "    name = test_dataset.target_names[label]\n",
    "    if name.startswith('comp'):\n",
    "        test_label.append(0)\n",
    "    elif name.startswith('rec'):\n",
    "        test_label.append(1)\n",
    "    else:\n",
    "        print('Wrong type!')\n",
    "        \n",
    "# check\n",
    "print('-'*20,'train_dataset','-'*20)\n",
    "print(len(train_label))\n",
    "print(np.unique(train_label))\n",
    "print('-'*20,'test_dataset','-'*20)\n",
    "print(len(test_label))\n",
    "print(np.unique(test_label))"
   ]
  },
  {
   "cell_type": "code",
   "execution_count": 214,
   "metadata": {},
   "outputs": [],
   "source": [
    "# train linear SVMs\n",
    "from sklearn.svm import LinearSVC\n",
    "\n",
    "svm_hard = LinearSVC(loss='hinge', C=1000).fit(X_train_lsi,train_label)\n",
    "svm_soft = LinearSVC(loss='hinge', C=0.0001).fit(X_train_lsi,train_label)"
   ]
  },
  {
   "cell_type": "code",
   "execution_count": 101,
   "metadata": {},
   "outputs": [
    {
     "data": {
      "image/png": "[encoded data removed]",
      "text/plain": [
       "<matplotlib.figure.Figure at 0x23d9472f240>"
      ]
     },
     "metadata": {},
     "output_type": "display_data"
    }
   ],
   "source": [
    "# define plot drawing\n",
    "from sklearn import metrics\n",
    "import matplotlib.pyplot as plt\n",
    "%matplotlib inline\n",
    "\n",
    "def plot_roc(fpr, tpr):\n",
    "    fig, ax = plt.subplots()\n",
    "\n",
    "    roc_auc = metrics.auc(fpr,tpr)\n",
    "\n",
    "    ax.plot(fpr, tpr, linewidth=2, label= 'area under curve = %0.4f' % roc_auc)\n",
    "\n",
    "    ax.grid(color='0.7', linestyle='--', linewidth=1)\n",
    "\n",
    "    ax.set_xlim([-0.1, 1.1])\n",
    "    ax.set_ylim([0.0, 1.05])\n",
    "    ax.set_xlabel('False Positive Rate',fontsize=15)\n",
    "    ax.set_ylabel('True Positive Rate',fontsize=15)\n",
    "\n",
    "    ax.legend(loc=\"lower right\")\n",
    "\n",
    "    for label in ax.get_xticklabels()+ax.get_yticklabels():\n",
    "        label.set_fontsize(15)\n",
    "        \n",
    "# prepare plot for svm_hard\n",
    "\n",
    "score_hard = svm_hard.decision_function(X_test_lsi)\n",
    "#print(len(score_hard))\n",
    "fpr_hard,tpr_hard,_ = metrics.roc_curve(test_label, score_hard, pos_label=1)\n",
    "\n",
    "# draw the ROC for svm_hard\n",
    "\n",
    "plot_roc(fpr_hard, tpr_hard)"
   ]
  },
  {
   "cell_type": "code",
   "execution_count": 100,
   "metadata": {},
   "outputs": [
    {
     "data": {
      "image/png": "[encoded data removed]",
      "text/plain": [
       "<matplotlib.figure.Figure at 0x23d946e6470>"
      ]
     },
     "metadata": {},
     "output_type": "display_data"
    }
   ],
   "source": [
    "# prepare plot for svm_soft\n",
    "\n",
    "score_soft = svm_soft.decision_function(X_test_lsi)\n",
    "fpr_soft, tpr_soft, _ = metrics.roc_curve(test_label, score_soft, pos_label=1)\n",
    "\n",
    "# draw the ROC for svm_soft\n",
    "\n",
    "plot_roc(fpr_soft, tpr_soft)"
   ]
  },
  {
   "cell_type": "code",
   "execution_count": 105,
   "metadata": {},
   "outputs": [
    {
     "data": {
      "image/png": "[encoded data removed]",
      "text/plain": [
       "<matplotlib.figure.Figure at 0x23d949ae278>"
      ]
     },
     "metadata": {},
     "output_type": "display_data"
    }
   ],
   "source": [
    "fig, ax = plt.subplots()\n",
    "\n",
    "line_hard = ax.plot(fpr_hard, tpr_hard, linewidth=2)\n",
    "line_soft = ax.plot(fpr_soft, tpr_soft, linewidth=2)\n",
    "\n",
    "ax.grid(color='0.7', linestyle='--', linewidth=1)\n",
    "\n",
    "ax.set_xlim([-0.1, 1.1])\n",
    "ax.set_ylim([0.0, 1.05])\n",
    "ax.set_xlabel('False Positive Rate',fontsize=15)\n",
    "ax.set_ylabel('True Positive Rate',fontsize=15)\n",
    "\n",
    "ax.legend(('Hard SVM','Soft SVM'),loc=\"lower right\")\n",
    "plt.title('ROC curve of SVM with C=1000(hard) and C=0.0001(soft)')\n",
    "\n",
    "for label in ax.get_xticklabels()+ax.get_yticklabels():\n",
    "    label.set_fontsize(15)"
   ]
  },
  {
   "cell_type": "code",
   "execution_count": 288,
   "metadata": {},
   "outputs": [
    {
     "name": "stdout",
     "output_type": "stream",
     "text": [
      "-------------------- Confusion Matrix of hard SVM(C=1000) --------------------\n",
      "[[1493   67]\n",
      " [  68 1522]]\n",
      "-------------------- Other Evaluation of hard SVM(C=1000) --------------------\n",
      "Accuracy: 0.9571428571428572\n",
      "Recall: 0.9572327044025157\n",
      "Precision: 0.9578351164254248\n",
      "F-1 Score: 0.9575338156653036\n",
      "\n",
      "-------------------- Confusion Matrix of soft SVM(C=0.0001) --------------------\n",
      "[[  17 1543]\n",
      " [   0 1590]]\n",
      "-------------------- Other Evaluation of soft SVM(C=0.0001) --------------------\n",
      "Accuracy: 0.5101587301587301\n",
      "Recall: 1.0\n",
      "Precision: 0.5075007979572295\n",
      "F-1 Score: 0.6733008680923142\n",
      "\n",
      "-------------------- Notes of Index --------------------\n",
      "labels are:\n",
      "Value of 0 -> Computer Technology\n",
      "Value of 1 -> Recreational Activity\n"
     ]
    }
   ],
   "source": [
    "# Confusion Matrix & other parameters\n",
    "def evaluate(classifier, clf_name, testSet, label):\n",
    "    y_pred = classifier.predict(testSet)\n",
    "    CM = metrics.confusion_matrix(label,y_pred)\n",
    "    \n",
    "    print('-'*20, 'Confusion Matrix of',clf_name,'-'*20)\n",
    "    print(CM)\n",
    "    \n",
    "    accuracy = metrics.accuracy_score(label, y_pred)\n",
    "    recall = metrics.recall_score(label, y_pred)\n",
    "    precision = metrics.precision_score(label, y_pred)\n",
    "    Fscore = metrics.f1_score(label, y_pred)\n",
    "    \n",
    "    print('-'*20, 'Other Evaluation of',clf_name,'-'*20)\n",
    "    print('Accuracy:',accuracy)\n",
    "    print('Recall:',recall)\n",
    "    print('Precision:',precision)\n",
    "    print('F-1 Score:',Fscore)\n",
    "\n",
    "    return CM,accuracy,recall,precision,Fscore\n",
    "\n",
    "CM_hard,accurarcy_hard,recall_hard,precision_hard,Fscore_hard = evaluate(\n",
    "    svm_hard,'hard SVM(C=1000)',X_test_lsi,test_label)\n",
    "print()\n",
    "evaluate(svm_soft,'soft SVM(C=0.0001)',X_test_lsi,test_label)\n",
    "\n",
    "print()\n",
    "print('-'*20,'Notes of Index','-'*20)\n",
    "print('labels are:')\n",
    "print('Value of 0 ->',new_name[0])\n",
    "print('Value of 1 ->',new_name[1])"
   ]
  },
  {
   "cell_type": "markdown",
   "metadata": {},
   "source": [
    "### Use cross-validation to choose $\\gamma$"
   ]
  },
  {
   "cell_type": "code",
   "execution_count": 197,
   "metadata": {},
   "outputs": [
    {
     "name": "stderr",
     "output_type": "stream",
     "text": [
      "D:\\Installation\\Anaconda3\\lib\\site-packages\\sklearn\\metrics\\classification.py:1135: UndefinedMetricWarning: F-score is ill-defined and being set to 0.0 in labels with no predicted samples.\n",
      "  'precision', 'predicted', average, warn_for)\n",
      "D:\\Installation\\Anaconda3\\lib\\site-packages\\sklearn\\metrics\\classification.py:1135: UndefinedMetricWarning: F-score is ill-defined and being set to 0.0 in labels with no predicted samples.\n",
      "  'precision', 'predicted', average, warn_for)\n",
      "D:\\Installation\\Anaconda3\\lib\\site-packages\\sklearn\\metrics\\classification.py:1135: UndefinedMetricWarning: F-score is ill-defined and being set to 0.0 in labels with no predicted samples.\n",
      "  'precision', 'predicted', average, warn_for)\n",
      "D:\\Installation\\Anaconda3\\lib\\site-packages\\sklearn\\metrics\\classification.py:1135: UndefinedMetricWarning: F-score is ill-defined and being set to 0.0 in labels with no predicted samples.\n",
      "  'precision', 'predicted', average, warn_for)\n",
      "D:\\Installation\\Anaconda3\\lib\\site-packages\\sklearn\\metrics\\classification.py:1135: UndefinedMetricWarning: F-score is ill-defined and being set to 0.0 in labels with no predicted samples.\n",
      "  'precision', 'predicted', average, warn_for)\n"
     ]
    },
    {
     "name": "stdout",
     "output_type": "stream",
     "text": [
      "-------------------- C = 0.001 --------------------\n",
      "[0.3330202  0.32955619 0.33395872 0.76019494 0.34141073]\n",
      "0.4196281566801231\n",
      "-------------------- C = 0.01 --------------------\n",
      "[0.3330202  0.32955619 0.33552588 0.76019494 0.34141073]\n",
      "0.41994158703893525\n",
      "-------------------- C = 0.1 --------------------\n",
      "[0.95774438 0.95351965 0.95422533 0.95069239 0.94922769]\n",
      "0.9530818885844647\n",
      "-------------------- C = 1 --------------------\n",
      "[0.96126205 0.95985675 0.96197153 0.96054577 0.96047274]\n",
      "0.9608217671167585\n",
      "-------------------- C = 10 --------------------\n",
      "[0.96690008 0.96760152 0.96267604 0.96477692 0.96682307]\n",
      "0.9657555268223899\n",
      "-------------------- C = 100 --------------------\n",
      "[0.96971757 0.96900665 0.96408306 0.96900203 0.9668137 ]\n",
      "0.9677246036422045\n",
      "-------------------- C = 1000 --------------------\n",
      "[0.96195251 0.96760403 0.9612556  0.961967   0.96684022]\n",
      "0.9639238703152009\n",
      "-------------------- Result --------------------\n",
      "The best classifier is when C = 100\n",
      "Average F-1 Score is: 0.9677246036422045\n"
     ]
    }
   ],
   "source": [
    "from sklearn.model_selection import cross_val_score\n",
    "from sklearn.model_selection import ShuffleSplit\n",
    "\n",
    "def cross_validate(classifier, train, label):\n",
    "    avg_score = []\n",
    "\n",
    "    for para in range(-3,4):\n",
    "        classifier.set_params(C=10**para).fit(train,label)\n",
    "        cv = ShuffleSplit(n_splits=5, test_size=0.3, random_state=0)\n",
    "        scores = cross_val_score(classifier,train,label,cv=cv,scoring='f1_macro')\n",
    "    \n",
    "        print('-'*20,'C =',10**para,'-'*20)\n",
    "        print(scores)\n",
    "        print(np.average(scores))\n",
    "        avg_score.append(np.average(scores))\n",
    "\n",
    "    max_score = np.max(avg_score)\n",
    "    index = avg_score.index(max_score)\n",
    "    c_idx = [x for x in range(-3,4)][index]\n",
    "    print('-'*20,'Result','-'*20)\n",
    "    print('The best classifier is when C =',10**c_idx)\n",
    "    print('Average F-1 Score is:',max_score)\n",
    "    \n",
    "    return classifier.set_params(C=10**c_idx).fit(train,label)\n",
    "\n",
    "svm = cross_validate(LinearSVC(loss='hinge'),X_train_lsi,train_label)"
   ]
  },
  {
   "cell_type": "markdown",
   "metadata": {},
   "source": [
    "**$\\therefore$ the best $\\gamma$ is 100**"
   ]
  },
  {
   "cell_type": "code",
   "execution_count": 198,
   "metadata": {},
   "outputs": [
    {
     "name": "stdout",
     "output_type": "stream",
     "text": [
      "LinearSVC(C=100, class_weight=None, dual=True, fit_intercept=True,\n",
      "     intercept_scaling=1, loss='hinge', max_iter=1000, multi_class='ovr',\n",
      "     penalty='l2', random_state=None, tol=0.0001, verbose=0)\n"
     ]
    },
    {
     "data": {
      "text/plain": [
       "Text(0.5,1,'ROC Curve of the best SVM')"
      ]
     },
     "execution_count": 198,
     "metadata": {},
     "output_type": "execute_result"
    },
    {
     "data": {
      "image/png": "[encoded data removed]",
      "text/plain": [
       "<matplotlib.figure.Figure at 0x23d91259828>"
      ]
     },
     "metadata": {},
     "output_type": "display_data"
    }
   ],
   "source": [
    "# ROC curve of the best\n",
    "\n",
    "print(svm)\n",
    "\n",
    "score = svm.decision_function(X_test_lsi)\n",
    "fpr, tpr, _ = metrics.roc_curve(test_label, score, pos_label=1)\n",
    "\n",
    "plot_roc(fpr, tpr)\n",
    "plt.title('ROC Curve of the best SVM')"
   ]
  },
  {
   "cell_type": "code",
   "execution_count": 289,
   "metadata": {},
   "outputs": [
    {
     "name": "stdout",
     "output_type": "stream",
     "text": [
      "-------------------- Confusion Matrix of best SVM(C=100) --------------------\n",
      "[[1478   82]\n",
      " [  50 1540]]\n",
      "-------------------- Other Evaluation of best SVM(C=100) --------------------\n",
      "Accuracy: 0.9580952380952381\n",
      "Recall: 0.9685534591194969\n",
      "Precision: 0.9494451294697904\n",
      "F-1 Score: 0.9589041095890412\n"
     ]
    }
   ],
   "source": [
    "# Confusion Matrix of the best SVM and other parameters\n",
    "CM,accuracy,recall,precision,Fscore = evaluate(\n",
    "    svm,'best SVM(C=100)',X_test_lsi,test_label)"
   ]
  },
  {
   "cell_type": "code",
   "execution_count": 290,
   "metadata": {},
   "outputs": [
    {
     "name": "stdout",
     "output_type": "stream",
     "text": [
      "-------------------- Other Evaluation of Best SVM(C=100) --------------------\n",
      "Accuracy: 0.9580952380952381\n",
      "Recall: 0.9685534591194969\n",
      "Precision: 0.9494451294697904\n",
      "F-1 Score: 0.9589041095890412\n",
      "-------------------- Other Evaluation of Hard SVM(C=1000) --------------------\n",
      "Accuracy: 0.9571428571428572\n",
      "Recall: 0.9572327044025157\n",
      "Precision: 0.9578351164254248\n",
      "F-1 Score: 0.9575338156653036\n"
     ]
    }
   ],
   "source": [
    "# compare with hard svm \n",
    "\n",
    "print('-'*20, 'Other Evaluation of Best SVM(C=100)','-'*20)\n",
    "print('Accuracy:',accuracy)\n",
    "print('Recall:',recall)\n",
    "print('Precision:',precision)\n",
    "print('F-1 Score:',Fscore)\n",
    "\n",
    "print('-'*20, 'Other Evaluation of Hard SVM(C=1000)','-'*20)\n",
    "print('Accuracy:',accuracy_hard)\n",
    "print('Recall:',recall_hard)\n",
    "print('Precision:',precision_hard)\n",
    "print('F-1 Score:',Fscore_hard)"
   ]
  },
  {
   "cell_type": "markdown",
   "metadata": {},
   "source": [
    "## Question 5:\n",
    "Logistic classifier:\n",
    "- Train a logistic classifier without regularization (you may need to come up with some way to approximate this if you use sklearn.linear_model.LogisticRegression); plot the ROC curve and report the confusion matrix and calculate the **accuracy, recall precision** and **F-1 score** of this classifier.\n",
    "- Regularization:\n",
    "    * Using 5-fold cross-validation on the dimension-reduced-by-svd training data, find the best regularization strength in the range $\\lbrace10^k\\mid -3 \\leq k \\leq 3, k \\in \\mathbb Z\\rbrace$ for logistic regression with L1 regularization and logistic regression L2 regularization, respectively.\n",
    "    * Compare the performance (accuracy, precision, recall and F-1 score) of 3 logistic classifiers: w/o regularization, w/L1 regularization and w/L2 regularization (with the best parameters you found from the part above), using test data.\n",
    "    * How does the regularization parameter affect the test error? How are the learnt coefficients affected? Why might one be interested in each type of regularization?\n",
    "    * Both logistic regression and linear SVM are trying to classify data points using a linear decision boundary, then what's the difference between their ways to find this boundary?\n",
    "    <br>Why their performance differ?"
   ]
  },
  {
   "cell_type": "markdown",
   "metadata": {},
   "source": [
    "### Train a logistic classifier without regularization"
   ]
  },
  {
   "cell_type": "code",
   "execution_count": 291,
   "metadata": {},
   "outputs": [],
   "source": [
    "from sklearn.linear_model import LogisticRegression\n",
    "clf = LogisticRegression(penalty='l1',solver='saga',\n",
    "                          tol=1e-6, max_iter=int(1e6),\n",
    "                          warm_start=True,random_state=0,C=float(10**6))\n",
    "clf_nonReg = clf.fit(X_train_lsi, train_label)"
   ]
  },
  {
   "cell_type": "code",
   "execution_count": 292,
   "metadata": {},
   "outputs": [
    {
     "data": {
      "text/plain": [
       "Text(0.5,1,'ROC Curve of Logistic Regression without Regularization')"
      ]
     },
     "execution_count": 292,
     "metadata": {},
     "output_type": "execute_result"
    },
    {
     "data": {
      "image/png": "[encoded data removed]",
      "text/plain": [
       "<matplotlib.figure.Figure at 0x23d946f89e8>"
      ]
     },
     "metadata": {},
     "output_type": "display_data"
    }
   ],
   "source": [
    "# plot ROC curve\n",
    "score_nonReg = clf_nonReg.decision_function(X_test_lsi)\n",
    "fpr_nonReg, tpr_nonReg, _ = metrics.roc_curve(test_label, score_nonReg, pos_label=1)\n",
    "\n",
    "plot_roc(fpr_nonReg, tpr_nonReg)\n",
    "plt.title('ROC Curve of Logistic Regression without Regularization')"
   ]
  },
  {
   "cell_type": "code",
   "execution_count": 294,
   "metadata": {},
   "outputs": [
    {
     "name": "stdout",
     "output_type": "stream",
     "text": [
      "-------------------- Confusion Matrix of Logistic Regression without Regularization (train) --------------------\n",
      "[[2276   67]\n",
      " [  62 2327]]\n",
      "-------------------- Other Evaluation of Logistic Regression without Regularization (train) --------------------\n",
      "Accuracy: 0.9727387996618766\n",
      "Recall: 0.9740477187107577\n",
      "Precision: 0.9720133667502089\n",
      "F-1 Score: 0.9730294794062304\n",
      "-------------------- Confusion Matrix of Logistic Regression without Regularization (test) --------------------\n",
      "[[1478   82]\n",
      " [  54 1536]]\n",
      "-------------------- Other Evaluation of Logistic Regression without Regularization (test) --------------------\n",
      "Accuracy: 0.9568253968253968\n",
      "Recall: 0.9660377358490566\n",
      "Precision: 0.9493201483312732\n",
      "F-1 Score: 0.9576059850374065\n",
      "\n",
      "-------------------- Notes of Index --------------------\n",
      "labels are:\n",
      "Value of 0 -> Computer Technology\n",
      "Value of 1 -> Recreational Activity\n"
     ]
    }
   ],
   "source": [
    "# Confusion Matrix of the best SVM\n",
    "evaluate(clf_nonReg,'Logistic Regression without Regularization (train)',\n",
    "        X_train_lsi,train_label)\n",
    "evaluate(clf_nonReg,'Logistic Regression without Regularization (test)',\n",
    "        X_test_lsi,test_label)\n",
    "\n",
    "print()\n",
    "print('-'*20,'Notes of Index','-'*20)\n",
    "print('labels are:')\n",
    "print('Value of 0 ->',new_name[0])\n",
    "print('Value of 1 ->',new_name[1])"
   ]
  },
  {
   "cell_type": "markdown",
   "metadata": {},
   "source": [
    "### Logistic Regression with Regularization"
   ]
  },
  {
   "cell_type": "markdown",
   "metadata": {},
   "source": [
    "#### Using 5-fold cross-validation to optimize the regularization strength"
   ]
  },
  {
   "cell_type": "code",
   "execution_count": 225,
   "metadata": {},
   "outputs": [
    {
     "name": "stderr",
     "output_type": "stream",
     "text": [
      "D:\\Installation\\Anaconda3\\lib\\site-packages\\sklearn\\metrics\\classification.py:1135: UndefinedMetricWarning: F-score is ill-defined and being set to 0.0 in labels with no predicted samples.\n",
      "  'precision', 'predicted', average, warn_for)\n",
      "D:\\Installation\\Anaconda3\\lib\\site-packages\\sklearn\\metrics\\classification.py:1135: UndefinedMetricWarning: F-score is ill-defined and being set to 0.0 in labels with no predicted samples.\n",
      "  'precision', 'predicted', average, warn_for)\n",
      "D:\\Installation\\Anaconda3\\lib\\site-packages\\sklearn\\metrics\\classification.py:1135: UndefinedMetricWarning: F-score is ill-defined and being set to 0.0 in labels with no predicted samples.\n",
      "  'precision', 'predicted', average, warn_for)\n",
      "D:\\Installation\\Anaconda3\\lib\\site-packages\\sklearn\\metrics\\classification.py:1135: UndefinedMetricWarning: F-score is ill-defined and being set to 0.0 in labels with no predicted samples.\n",
      "  'precision', 'predicted', average, warn_for)\n",
      "D:\\Installation\\Anaconda3\\lib\\site-packages\\sklearn\\metrics\\classification.py:1135: UndefinedMetricWarning: F-score is ill-defined and being set to 0.0 in labels with no predicted samples.\n",
      "  'precision', 'predicted', average, warn_for)\n"
     ]
    },
    {
     "name": "stdout",
     "output_type": "stream",
     "text": [
      "-------------------- C = 0.001 --------------------\n",
      "[0.3330202  0.32955619 0.33395872 0.32733302 0.32089909]\n",
      "0.32895344308594004\n"
     ]
    },
    {
     "name": "stderr",
     "output_type": "stream",
     "text": [
      "D:\\Installation\\Anaconda3\\lib\\site-packages\\sklearn\\metrics\\classification.py:1135: UndefinedMetricWarning: F-score is ill-defined and being set to 0.0 in labels with no predicted samples.\n",
      "  'precision', 'predicted', average, warn_for)\n",
      "D:\\Installation\\Anaconda3\\lib\\site-packages\\sklearn\\metrics\\classification.py:1135: UndefinedMetricWarning: F-score is ill-defined and being set to 0.0 in labels with no predicted samples.\n",
      "  'precision', 'predicted', average, warn_for)\n",
      "D:\\Installation\\Anaconda3\\lib\\site-packages\\sklearn\\metrics\\classification.py:1135: UndefinedMetricWarning: F-score is ill-defined and being set to 0.0 in labels with no predicted samples.\n",
      "  'precision', 'predicted', average, warn_for)\n",
      "D:\\Installation\\Anaconda3\\lib\\site-packages\\sklearn\\metrics\\classification.py:1135: UndefinedMetricWarning: F-score is ill-defined and being set to 0.0 in labels with no predicted samples.\n",
      "  'precision', 'predicted', average, warn_for)\n",
      "D:\\Installation\\Anaconda3\\lib\\site-packages\\sklearn\\metrics\\classification.py:1135: UndefinedMetricWarning: F-score is ill-defined and being set to 0.0 in labels with no predicted samples.\n",
      "  'precision', 'predicted', average, warn_for)\n"
     ]
    },
    {
     "name": "stdout",
     "output_type": "stream",
     "text": [
      "-------------------- C = 0.01 --------------------\n",
      "[0.3330202  0.32955619 0.33270677 0.32733302 0.34532042]\n",
      "0.33358731819182214\n",
      "-------------------- C = 0.1 --------------------\n",
      "[0.94365482 0.93872993 0.93591292 0.94222418 0.93576382]\n",
      "0.9392571345788452\n",
      "-------------------- C = 1 --------------------\n",
      "[0.96549212 0.95985197 0.95633768 0.95843337 0.95836346]\n",
      "0.9596957196159284\n",
      "-------------------- C = 10 --------------------\n",
      "[0.96619477 0.96971289 0.96478622 0.96899631 0.96752214]\n",
      "0.9674424640052827\n",
      "-------------------- C = 100 --------------------\n",
      "[0.96478531 0.96971289 0.96337912 0.97251655 0.96611005]\n",
      "0.967300784588406\n",
      "-------------------- C = 1000 --------------------\n",
      "[0.96478531 0.97041667 0.96197062 0.97181287 0.96611005]\n",
      "0.9670191048115347\n",
      "-------------------- Result --------------------\n",
      "The best classifier is when C = 10\n",
      "Average F-1 Score is: 0.9674424640052827\n"
     ]
    }
   ],
   "source": [
    "# L1 regularization\n",
    "clf_L1 = cross_validate(LogisticRegression(penalty='l1',solver='saga',\n",
    "                          tol=1e-6, max_iter=int(1e6),\n",
    "                          warm_start=True,random_state=0),\n",
    "                        X_train_lsi,train_label)"
   ]
  },
  {
   "cell_type": "markdown",
   "metadata": {},
   "source": [
    "#### $\\therefore$ The best inverse of regularization strength for L1 is 10"
   ]
  },
  {
   "cell_type": "code",
   "execution_count": 226,
   "metadata": {},
   "outputs": [
    {
     "name": "stderr",
     "output_type": "stream",
     "text": [
      "D:\\Installation\\Anaconda3\\lib\\site-packages\\sklearn\\metrics\\classification.py:1135: UndefinedMetricWarning: F-score is ill-defined and being set to 0.0 in labels with no predicted samples.\n",
      "  'precision', 'predicted', average, warn_for)\n",
      "D:\\Installation\\Anaconda3\\lib\\site-packages\\sklearn\\metrics\\classification.py:1135: UndefinedMetricWarning: F-score is ill-defined and being set to 0.0 in labels with no predicted samples.\n",
      "  'precision', 'predicted', average, warn_for)\n",
      "D:\\Installation\\Anaconda3\\lib\\site-packages\\sklearn\\metrics\\classification.py:1135: UndefinedMetricWarning: F-score is ill-defined and being set to 0.0 in labels with no predicted samples.\n",
      "  'precision', 'predicted', average, warn_for)\n"
     ]
    },
    {
     "name": "stdout",
     "output_type": "stream",
     "text": [
      "-------------------- C = 0.001 --------------------\n",
      "[0.3330202  0.32955619 0.33395872 0.79496787 0.32534951]\n",
      "0.4233704976975793\n",
      "-------------------- C = 0.01 --------------------\n",
      "[0.88316838 0.8202951  0.90632796 0.94361723 0.92321564]\n",
      "0.8953248612511322\n",
      "-------------------- C = 0.1 --------------------\n",
      "[0.95633378 0.95352113 0.95140727 0.9485803  0.94924251]\n",
      "0.9518169987544933\n",
      "-------------------- C = 1 --------------------\n",
      "[0.9591529  0.95915096 0.9577464  0.95632105 0.95484349]\n",
      "0.9574429591300128\n",
      "-------------------- C = 10 --------------------\n",
      "[0.96478622 0.96619289 0.96197115 0.96195908 0.9639995 ]\n",
      "0.9637817686506833\n",
      "-------------------- C = 100 --------------------\n",
      "[0.96619477 0.97041778 0.96267589 0.96759117 0.9689386 ]\n",
      "0.967163642402055\n",
      "-------------------- C = 1000 --------------------\n",
      "[0.96478426 0.97041778 0.96408306 0.97110921 0.96682307]\n",
      "0.9674434779103833\n",
      "-------------------- Result --------------------\n",
      "The best classifier is when C = 1000\n",
      "Average F-1 Score is: 0.9674434779103833\n"
     ]
    }
   ],
   "source": [
    "# L2 regularization\n",
    "clf_L2 = cross_validate(LogisticRegression(penalty='l2',solver='saga',\n",
    "                          tol=1e-6, max_iter=int(1e6),\n",
    "                          warm_start=True,random_state=0),\n",
    "                        X_train_lsi,train_label)"
   ]
  },
  {
   "cell_type": "markdown",
   "metadata": {},
   "source": [
    "#### $\\therefore$ The best inverse of regularization strength for L2 is 1000"
   ]
  },
  {
   "cell_type": "code",
   "execution_count": 298,
   "metadata": {},
   "outputs": [
    {
     "name": "stdout",
     "output_type": "stream",
     "text": [
      "LogisticRegression(C=1000000.0, class_weight=None, dual=False,\n",
      "          fit_intercept=True, intercept_scaling=1, max_iter=1000000,\n",
      "          multi_class='ovr', n_jobs=1, penalty='l1', random_state=0,\n",
      "          solver='saga', tol=1e-06, verbose=0, warm_start=True)\n"
     ]
    }
   ],
   "source": [
    "print(clf_nonReg)"
   ]
  },
  {
   "cell_type": "code",
   "execution_count": 296,
   "metadata": {},
   "outputs": [
    {
     "data": {
      "text/plain": [
       "LogisticRegression(C=10, class_weight=None, dual=False, fit_intercept=True,\n",
       "          intercept_scaling=1, max_iter=1000000, multi_class='ovr',\n",
       "          n_jobs=1, penalty='l1', random_state=0, solver='saga', tol=1e-06,\n",
       "          verbose=0, warm_start=True)"
      ]
     },
     "execution_count": 296,
     "metadata": {},
     "output_type": "execute_result"
    }
   ],
   "source": [
    "clf_L1"
   ]
  },
  {
   "cell_type": "code",
   "execution_count": 297,
   "metadata": {},
   "outputs": [
    {
     "data": {
      "text/plain": [
       "LogisticRegression(C=1000, class_weight=None, dual=False, fit_intercept=True,\n",
       "          intercept_scaling=1, max_iter=1000000, multi_class='ovr',\n",
       "          n_jobs=1, penalty='l2', random_state=0, solver='saga', tol=1e-06,\n",
       "          verbose=0, warm_start=True)"
      ]
     },
     "execution_count": 297,
     "metadata": {},
     "output_type": "execute_result"
    }
   ],
   "source": [
    "clf_L2"
   ]
  },
  {
   "cell_type": "markdown",
   "metadata": {},
   "source": [
    "#### Compare 3 classifiers"
   ]
  },
  {
   "cell_type": "code",
   "execution_count": 247,
   "metadata": {
    "scrolled": true
   },
   "outputs": [
    {
     "name": "stdout",
     "output_type": "stream",
     "text": [
      "-------------------- Logistic Regression with w/o regularization --------------------\n",
      "Accuracy: 0.9568253968253968\n",
      "Recall: 0.9660377358490566\n",
      "Precision: 0.9493201483312732\n",
      "F-1 Score: 0.9576059850374065\n",
      "-------------------- Logistic Regression with w/L1 regularization --------------------\n",
      "Accuracy: 0.9561904761904761\n",
      "Recall: 0.9666666666666667\n",
      "Precision: 0.9475955610357584\n",
      "F-1 Score: 0.9570361145703612\n",
      "-------------------- Logistic Regression with w/L2 regularization --------------------\n",
      "Accuracy: 0.9568253968253968\n",
      "Recall: 0.9666666666666667\n",
      "Precision: 0.9487654320987654\n",
      "F-1 Score: 0.957632398753894\n"
     ]
    }
   ],
   "source": [
    "# For test data, compare their performance\n",
    "\n",
    "y_pred_L1 = clf_L1.predict(X_test_lsi)\n",
    "y_pred_L2 = clf_L2.predict(X_test_lsi)\n",
    "\n",
    "accuracy_L1 = metrics.accuracy_score(test_label, y_pred_L1)\n",
    "accuracy_L2 = metrics.accuracy_score(test_label, y_pred_L2)\n",
    "\n",
    "recall_L1 = metrics.recall_score(test_label, y_pred_L1)\n",
    "recall_L2 = metrics.recall_score(test_label, y_pred_L2)\n",
    "\n",
    "precision_L1 = metrics.precision_score(test_label, y_pred_L1)\n",
    "precision_L2 = metrics.precision_score(test_label, y_pred_L2)\n",
    "\n",
    "Fscore_L1 = metrics.f1_score(test_label, y_pred_L1)\n",
    "Fscore_L2 = metrics.f1_score(test_label, y_pred_L2)\n",
    "\n",
    "# show time\n",
    "\n",
    "print('-'*20, 'Logistic Regression with w/o regularization','-'*20)\n",
    "print('Accuracy:',accuracy_nonReg)\n",
    "print('Recall:',recall_nonReg)\n",
    "print('Precision:',precision_nonReg)\n",
    "print('F-1 Score:',Fscore_nonReg)\n",
    "\n",
    "print('-'*20, 'Logistic Regression with w/L1 regularization','-'*20)\n",
    "print('Accuracy:',accuracy_L1)\n",
    "print('Recall:',recall_L1)\n",
    "print('Precision:',precision_L1)\n",
    "print('F-1 Score:',Fscore_L1)\n",
    "\n",
    "print('-'*20, 'Logistic Regression with w/L2 regularization','-'*20)\n",
    "print('Accuracy:',accuracy_L2)\n",
    "print('Recall:',recall_L2)\n",
    "print('Precision:',precision_L2)\n",
    "print('F-1 Score:',Fscore_L2)"
   ]
  },
  {
   "cell_type": "code",
   "execution_count": 248,
   "metadata": {},
   "outputs": [
    {
     "name": "stdout",
     "output_type": "stream",
     "text": [
      "-------------------- Confusion Matrix of w/o regularization --------------------\n",
      "[[1478   82]\n",
      " [  54 1536]]\n",
      "-------------------- Confusion Matrix of w/L1 regularization --------------------\n",
      "[[1475   85]\n",
      " [  53 1537]]\n",
      "-------------------- Confusion Matrix of w/L2 regularization --------------------\n",
      "[[1477   83]\n",
      " [  53 1537]]\n",
      "-------------------- Notes of Index --------------------\n",
      "labels are:\n",
      "Value of 0 -> Computer Technology\n",
      "Value of 1 -> Recreational Activity\n"
     ]
    }
   ],
   "source": [
    "# Confusion Matrix \n",
    "CM_L1 = metrics.confusion_matrix(test_label, y_pred_L1)\n",
    "CM_L2 = metrics.confusion_matrix(test_label, y_pred_L2)\n",
    "\n",
    "# show time\n",
    "print('-'*20, 'Confusion Matrix of w/o regularization','-'*20)\n",
    "print(CM_nonReg)\n",
    "print('-'*20, 'Confusion Matrix of w/L1 regularization','-'*20)\n",
    "print(CM_L1)\n",
    "print('-'*20, 'Confusion Matrix of w/L2 regularization','-'*20)\n",
    "print(CM_L2)\n",
    "print('-'*20, 'Notes of Index','-'*20)\n",
    "print('labels are:')\n",
    "print('Value of 0 ->',new_name[0])\n",
    "print('Value of 1 ->',new_name[1])"
   ]
  },
  {
   "cell_type": "code",
   "execution_count": 253,
   "metadata": {},
   "outputs": [
    {
     "name": "stdout",
     "output_type": "stream",
     "text": [
      "-------------------- Coefficients of w/o regularization --------------------\n",
      "[[-1.35258799e+01 -1.34311292e+02  3.19640271e+01 -2.41229453e+01\n",
      "   7.47279950e+01 -5.48547628e-02  3.27404951e+01  3.09942971e+00\n",
      "  -7.91834354e+00  9.88295307e-01  1.13905853e+01 -1.58964773e+01\n",
      "  -3.57281611e+00 -5.36968055e+00  1.36672346e+01 -5.22515012e+00\n",
      "   2.59906399e+00  2.20090806e+01 -4.74922377e+00 -7.22015896e+00\n",
      "  -1.27752475e+01 -2.31527772e+01  9.31929229e+00 -3.93973769e+00\n",
      "   1.89412721e+00 -4.24151496e+00  1.70783191e+01  5.07081260e+00\n",
      "  -1.80745682e+01 -5.99363532e+00  2.63310381e+01 -2.15088193e+01\n",
      "   2.07653587e+00  3.68184528e+00 -1.83705628e+00  3.85287132e-01\n",
      "   5.56535439e+00  8.97712267e+00 -8.73202328e+00  4.94363754e+00\n",
      "  -1.33551705e+01 -8.07479823e+00  2.18063122e+00 -1.10284203e+00\n",
      "   7.24765209e+00  1.03902144e+01 -1.01504255e+01  2.67553197e+00\n",
      "  -6.42781706e+00 -7.91975101e-01]]\n",
      "-------------------- Coefficients of w/L1 regularization --------------------\n",
      "[[-1.04227043e+01 -1.16708596e+02  2.71382096e+01 -2.00925019e+01\n",
      "   6.28135601e+01  0.00000000e+00  2.57803320e+01  3.23320854e+00\n",
      "  -6.40342817e+00  0.00000000e+00  1.04730125e+01 -1.35360953e+01\n",
      "  -5.05186656e+00 -6.21609270e+00  7.67431278e+00 -3.14821701e+00\n",
      "   1.48666470e+00  1.89170423e+01 -2.34081836e+00 -6.91865202e+00\n",
      "  -6.79357535e+00 -1.54017572e+01  7.70855284e+00 -4.33186569e+00\n",
      "   5.44032254e-01 -2.72204278e+00  1.37816970e+01  2.64899443e+00\n",
      "  -1.47586142e+01 -5.45571852e+00  2.11571199e+01 -1.79872381e+01\n",
      "   1.08836410e+00  1.92804759e+00  0.00000000e+00  0.00000000e+00\n",
      "   3.14899349e+00  6.58221924e+00 -7.22929049e+00  3.79384736e+00\n",
      "  -1.10938197e+01 -5.55865697e+00  7.04122438e-01 -3.82445580e-01\n",
      "   5.10093278e+00  7.46445518e+00 -8.41201978e+00  1.01853372e-01\n",
      "  -4.69920677e+00  0.00000000e+00]]\n",
      "-------------------- Coefficients of w/L2 regularization --------------------\n",
      "[[ -11.86896398 -123.90265834   30.51001571  -20.3988706    69.87074144\n",
      "     0.53681094   29.4588258     3.16146991   -6.9606614    -0.54463844\n",
      "    10.46044942  -14.67893006   -4.50878446   -6.08730987   12.50500129\n",
      "    -4.69920498    2.77545734   20.49127243   -4.23896716   -7.00458599\n",
      "   -11.19946336  -20.39289735    8.86221538   -4.47400808    1.58632936\n",
      "    -3.37822833   15.67303825    4.4487271   -16.59359141   -5.75810783\n",
      "    24.14548842  -19.68301083    2.01007411    3.42111387   -1.39486742\n",
      "     0.21877673    5.22768678    8.14489279   -7.833981      4.66656606\n",
      "   -12.64152317   -7.46945137    1.90462721   -0.89896232    6.43864104\n",
      "     9.4045832    -9.69715273    2.20994719   -6.14179073   -0.62784901]]\n"
     ]
    }
   ],
   "source": [
    "# Learnt coefficients\n",
    "print('-'*20, 'Coefficients of w/o regularization','-'*20)\n",
    "print(clf_nonReg.coef_)\n",
    "print('-'*20, 'Coefficients of w/L1 regularization','-'*20)\n",
    "print(clf_L1.coef_)\n",
    "print('-'*20, 'Coefficients of w/L2 regularization','-'*20)\n",
    "print(clf_L2.coef_)"
   ]
  },
  {
   "cell_type": "markdown",
   "metadata": {},
   "source": [
    "## Question 6:\n",
    "Naive  Bayes classifier: Train a GaussianNB classifier; plot the ROC curve and report the confusion matrix and calculate the **accuracy, recall, precision** and **F-1 score** of this classifier."
   ]
  },
  {
   "cell_type": "code",
   "execution_count": 299,
   "metadata": {},
   "outputs": [],
   "source": [
    "from sklearn.naive_bayes import GaussianNB\n",
    "bayes = GaussianNB().fit(X_train_lsi, train_label)"
   ]
  },
  {
   "cell_type": "code",
   "execution_count": 300,
   "metadata": {},
   "outputs": [
    {
     "data": {
      "text/plain": [
       "Text(0.5,1,'ROC Curve of GaussianNB (test set)')"
      ]
     },
     "execution_count": 300,
     "metadata": {},
     "output_type": "execute_result"
    },
    {
     "data": {
      "image/png": "[encoded data removed]",
      "text/plain": [
       "<matplotlib.figure.Figure at 0x23d94735908>"
      ]
     },
     "metadata": {},
     "output_type": "display_data"
    }
   ],
   "source": [
    "# ROC curve for test set\n",
    "score_bayes = bayes.predict_proba(X_test_lsi)[:,1]\n",
    "fpr_bayes, tpr_bayes, _ = metrics.roc_curve(test_label, score_bayes, pos_label=1)\n",
    "\n",
    "plot_roc(fpr_bayes, tpr_bayes)\n",
    "plt.title('ROC Curve of GaussianNB (test set)')"
   ]
  },
  {
   "cell_type": "code",
   "execution_count": 301,
   "metadata": {},
   "outputs": [
    {
     "data": {
      "text/plain": [
       "Text(0.5,1,'ROC Curve of GaussianNB (train set)')"
      ]
     },
     "execution_count": 301,
     "metadata": {},
     "output_type": "execute_result"
    },
    {
     "data": {
      "image/png": "[encoded data removed]",
      "text/plain": [
       "<matplotlib.figure.Figure at 0x23d946f0940>"
      ]
     },
     "metadata": {},
     "output_type": "display_data"
    }
   ],
   "source": [
    "# ROC curve for train set\n",
    "score_train_bayes = bayes.predict_proba(X_train_lsi)[:,1]\n",
    "fpr_train_bayes, tpr_train_bayes, _ = metrics.roc_curve(train_label, score_train_bayes, pos_label=1)\n",
    "\n",
    "plot_roc(fpr_train_bayes, tpr_train_bayes)\n",
    "plt.title('ROC Curve of GaussianNB (train set)')"
   ]
  },
  {
   "cell_type": "code",
   "execution_count": 303,
   "metadata": {},
   "outputs": [
    {
     "name": "stdout",
     "output_type": "stream",
     "text": [
      "-------------------- Confusion Matrix of GaussianNB (train set) --------------------\n",
      "[[2114  229]\n",
      " [ 393 1996]]\n",
      "-------------------- Other Evaluation of GaussianNB (train set) --------------------\n",
      "Accuracy: 0.8685545224006762\n",
      "Recall: 0.8354960234407702\n",
      "Precision: 0.8970786516853932\n",
      "F-1 Score: 0.8651928912006935\n",
      "\n",
      "-------------------- Confusion Matrix of GaussianNB (test set) --------------------\n",
      "[[1419  141]\n",
      " [ 332 1258]]\n",
      "-------------------- Other Evaluation of GaussianNB (test set) --------------------\n",
      "Accuracy: 0.8498412698412698\n",
      "Recall: 0.7911949685534592\n",
      "Precision: 0.8992137240886348\n",
      "F-1 Score: 0.8417530946804951\n"
     ]
    }
   ],
   "source": [
    "# Evaluation\n",
    "evaluate(bayes,'GaussianNB (train set)',X_train_lsi,train_label)\n",
    "\n",
    "print()\n",
    "\n",
    "_ = evaluate(bayes,'GaussianNB (test set)',X_test_lsi,test_label)"
   ]
  },
  {
   "cell_type": "markdown",
   "metadata": {},
   "source": [
    "## Question 7:\n",
    "Grid search of parameters:\n",
    "- Construct a Pipeline that performs feature extraction,, dimensionality reduction and classification;\n",
    "- Do grid search with 5-fold cross-validation to compare the following (use test accuracy as the score to compare);\n",
    "- What is the best combination?"
   ]
  },
  {
   "cell_type": "code",
   "execution_count": null,
   "metadata": {},
   "outputs": [],
   "source": [
    "# prepare for pipeline\n",
    "\n",
    "from sklearn.pipeline import Pipeline\n",
    "from nltk import pos_tag,word_tokenize\n",
    "from nltk.stem.wordnet import WordNetLemmatizer\n",
    "from nltk.corpus import wordnet as wn\n",
    "\n",
    "\n",
    "def tag_trans(tag):\n",
    "    if tag.startswith('J'):\n",
    "        return wn.ADJ\n",
    "    elif tag.startswith('V'):\n",
    "        return wn.VERB\n",
    "    elif tag.startswith('N'):\n",
    "        return wn.NOUN\n",
    "    elif tag.startswith('R'):\n",
    "        return wn.ADV\n",
    "    else:\n",
    "        return 'n'\n",
    "\n",
    "class IntelliTokenizer(object):\n",
    "    def __init__(self):\n",
    "        self.wnl = WordNetLemmatizer()\n",
    "        \n",
    "    def __call__(self, doc):\n",
    "        self.new_wordlist = []\n",
    "        self.old_wordlist = [self.wnl.lemmatize(t) for t in word_tokenize(doc)]\n",
    "        \n",
    "        for word in self.old_wordlist:\n",
    "            tag = pos_tag(word_tokenize(word))[0][1]\n",
    "            pos = tag_trans(tag)\n",
    "            new_word = self.wnl.lemmatize(word,pos)\n",
    "            self.new_wordlist.append(new_word)\n",
    "  \n",
    "        return self.new_wordlist\n",
    "\n",
    "vec = CountVectorizer(min_df=3,\n",
    "                token_pattern=r'(?u)\\b[a-zA-Z]{2,}\\b',\n",
    "                stop_words='english',\n",
    "                tokenizer=IntelliTokenizer())     \n",
    "\n",
    "X_train = vec.fit_transform(train_dataset.data)\n",
    "print(X_train.shape)\n",
    "print('-' * 20)\n",
    "print(len(vec.get_feature_names()))\n",
    "print('-' * 20)\n",
    "print(vec.get_feature_names())"
   ]
  },
  {
   "cell_type": "code",
   "execution_count": null,
   "metadata": {},
   "outputs": [],
   "source": []
  }
 ],
 "metadata": {
  "kernelspec": {
   "display_name": "Python 3",
   "language": "python",
   "name": "python3"
  },
  "language_info": {
   "codemirror_mode": {
    "name": "ipython",
    "version": 3
   },
   "file_extension": ".py",
   "mimetype": "text/x-python",
   "name": "python",
   "nbconvert_exporter": "python",
   "pygments_lexer": "ipython3",
   "version": "3.7.1"
  }
 },
 "nbformat": 4,
 "nbformat_minor": 2
}
