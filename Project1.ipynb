{
 "cells": [
  {
   "cell_type": "markdown",
   "metadata": {},
   "source": [
    "## Check the data"
   ]
  },
  {
   "cell_type": "code",
   "execution_count": 16,
   "metadata": {},
   "outputs": [],
   "source": [
    "from sklearn.datasets import fetch_20newsgroups\n",
    "# Refer to the offcial document of scikit-learn for detailed usages:\n",
    "# http://scikit-learn.org/stable/modules/generated/sklearn.datasets.fetch_20newsgroups.html\n",
    "twenty_train = fetch_20newsgroups(subset='train', # choose which subset of the dataset to use; can be 'train', 'test', 'all'\n",
    "                                  shuffle=True,\n",
    "                                  random_state=42, # set the seed of random number generator when shuffling to make the outcome repeatable across different runs\n",
    "#                                   remove=['headers'],\n",
    "                                 )\n",
    "twenty_test = fetch_20newsgroups(subset='test', shuffle=True, random_state=42)"
   ]
  },
  {
   "cell_type": "code",
   "execution_count": 18,
   "metadata": {
    "scrolled": true
   },
   "outputs": [
    {
     "name": "stdout",
     "output_type": "stream",
     "text": [
      "<class 'sklearn.utils.Bunch'>\n",
      "dict_keys(['data', 'filenames', 'target_names', 'target', 'DESCR', 'description'])\n"
     ]
    }
   ],
   "source": [
    "print(type(twenty_train))\n",
    "print(twenty_train.keys())"
   ]
  },
  {
   "cell_type": "code",
   "execution_count": 19,
   "metadata": {},
   "outputs": [
    {
     "data": {
      "text/plain": [
       "array(['C:\\\\Users\\\\yxpegasus\\\\scikit_learn_data\\\\20news_home\\\\20news-bydate-train\\\\rec.autos\\\\102994',\n",
       "       'C:\\\\Users\\\\yxpegasus\\\\scikit_learn_data\\\\20news_home\\\\20news-bydate-train\\\\comp.sys.mac.hardware\\\\51861',\n",
       "       'C:\\\\Users\\\\yxpegasus\\\\scikit_learn_data\\\\20news_home\\\\20news-bydate-train\\\\comp.sys.mac.hardware\\\\51879',\n",
       "       ...,\n",
       "       'C:\\\\Users\\\\yxpegasus\\\\scikit_learn_data\\\\20news_home\\\\20news-bydate-train\\\\comp.sys.ibm.pc.hardware\\\\60695',\n",
       "       'C:\\\\Users\\\\yxpegasus\\\\scikit_learn_data\\\\20news_home\\\\20news-bydate-train\\\\comp.graphics\\\\38319',\n",
       "       'C:\\\\Users\\\\yxpegasus\\\\scikit_learn_data\\\\20news_home\\\\20news-bydate-train\\\\rec.motorcycles\\\\104440'],\n",
       "      dtype='<U99')"
      ]
     },
     "execution_count": 19,
     "metadata": {},
     "output_type": "execute_result"
    }
   ],
   "source": [
    "twenty_train.filenames"
   ]
  },
  {
   "cell_type": "code",
   "execution_count": 29,
   "metadata": {},
   "outputs": [
    {
     "data": {
      "text/plain": [
       "array([7, 4, 4, ..., 3, 1, 8])"
      ]
     },
     "execution_count": 29,
     "metadata": {},
     "output_type": "execute_result"
    }
   ],
   "source": [
    "twenty_train.target"
   ]
  },
  {
   "cell_type": "code",
   "execution_count": 23,
   "metadata": {},
   "outputs": [
    {
     "data": {
      "text/plain": [
       "['alt.atheism',\n",
       " 'comp.graphics',\n",
       " 'comp.os.ms-windows.misc',\n",
       " 'comp.sys.ibm.pc.hardware',\n",
       " 'comp.sys.mac.hardware',\n",
       " 'comp.windows.x',\n",
       " 'misc.forsale',\n",
       " 'rec.autos',\n",
       " 'rec.motorcycles',\n",
       " 'rec.sport.baseball',\n",
       " 'rec.sport.hockey',\n",
       " 'sci.crypt',\n",
       " 'sci.electronics',\n",
       " 'sci.med',\n",
       " 'sci.space',\n",
       " 'soc.religion.christian',\n",
       " 'talk.politics.guns',\n",
       " 'talk.politics.mideast',\n",
       " 'talk.politics.misc',\n",
       " 'talk.religion.misc']"
      ]
     },
     "execution_count": 23,
     "metadata": {},
     "output_type": "execute_result"
    }
   ],
   "source": [
    "twenty_train.target_names"
   ]
  },
  {
   "cell_type": "code",
   "execution_count": 24,
   "metadata": {},
   "outputs": [
    {
     "data": {
      "text/plain": [
       "20"
      ]
     },
     "execution_count": 24,
     "metadata": {},
     "output_type": "execute_result"
    }
   ],
   "source": [
    "len(twenty_train.target_names)"
   ]
  },
  {
   "cell_type": "code",
   "execution_count": 28,
   "metadata": {},
   "outputs": [
    {
     "data": {
      "text/plain": [
       "array([ 0,  1,  2,  3,  4,  5,  6,  7,  8,  9, 10, 11, 12, 13, 14, 15, 16,\n",
       "       17, 18, 19])"
      ]
     },
     "execution_count": 28,
     "metadata": {},
     "output_type": "execute_result"
    }
   ],
   "source": [
    "# `twenty_train.target` only contains 0 and 1\n",
    "import numpy as np\n",
    "np.unique(twenty_train.target)"
   ]
  },
  {
   "cell_type": "code",
   "execution_count": 40,
   "metadata": {},
   "outputs": [
    {
     "name": "stdout",
     "output_type": "stream",
     "text": [
      "the 20 newsgroups by date dataset\n",
      "4\n",
      "From: guykuo@carson.u.washington.edu (Guy Kuo)\n",
      "Subject: SI Clock Poll - Final Call\n",
      "Summary: Final call for SI clock reports\n",
      "Keywords: SI,acceleration,clock,upgrade\n",
      "Article-I.D.: shelley.1qvfo9INNc3s\n",
      "Organization: University of Washington\n",
      "Lines: 11\n",
      "NNTP-Posting-Host: carson.u.washington.edu\n",
      "\n",
      "A fair number of brave souls who upgraded their SI clock oscillator have\n",
      "shared their experiences for this poll. Please send a brief message detailing\n",
      "your experiences with the procedure. Top speed attained, CPU rated speed,\n",
      "add on cards and adapters, heat sinks, hour of usage per day, floppy disk\n",
      "functionality with 800 and 1.4 m floppies are especially requested.\n",
      "\n",
      "I will be summarizing in the next two days, so please add to the network\n",
      "knowledge base if you have done the clock upgrade and haven't answered this\n",
      "poll. Thanks.\n",
      "\n",
      "Guy Kuo <guykuo@u.washington.edu>\n",
      "\n"
     ]
    }
   ],
   "source": [
    "print(twenty_train.description)\n",
    "print(twenty_train.target[1])\n",
    "print(twenty_train.data[1])"
   ]
  },
  {
   "cell_type": "code",
   "execution_count": 35,
   "metadata": {},
   "outputs": [
    {
     "name": "stdout",
     "output_type": "stream",
     "text": [
      "rec.autos\n"
     ]
    }
   ],
   "source": [
    "# The first document belongs to the category 'comp.sys.mac.hardware'\n",
    "print(twenty_train.target_names[twenty_train.target[0]])"
   ]
  },
  {
   "cell_type": "code",
   "execution_count": 39,
   "metadata": {},
   "outputs": [
    {
     "name": "stdout",
     "output_type": "stream",
     "text": [
      "11314\n",
      "11314\n"
     ]
    }
   ],
   "source": [
    "print(len(twenty_train.data))\n",
    "print(len(twenty_train.target))"
   ]
  },
  {
   "cell_type": "markdown",
   "metadata": {},
   "source": [
    "## Question 1:\n",
    "To get started, plot a histogram of the number of training documents for each\n",
    "of the 20 categories to check if they are evenly distributed."
   ]
  },
  {
   "cell_type": "code",
   "execution_count": 42,
   "metadata": {},
   "outputs": [
    {
     "data": {
      "text/plain": [
       "11314"
      ]
     },
     "execution_count": 42,
     "metadata": {},
     "output_type": "execute_result"
    }
   ],
   "source": [
    "len(twenty_train.target==1)"
   ]
  },
  {
   "cell_type": "code",
   "execution_count": 46,
   "metadata": {},
   "outputs": [
    {
     "name": "stdout",
     "output_type": "stream",
     "text": [
      "[480, 584, 591, 590, 578, 593, 585, 594, 598, 597, 600, 595, 591, 594, 593, 599, 546, 564, 465, 377]\n"
     ]
    }
   ],
   "source": [
    "num = [0]*20\n",
    "lenth = len(twenty_train.target)\n",
    "for i in range(0,lenth):\n",
    "    num[twenty_train.target[i]]+=1\n",
    "print(num)"
   ]
  },
  {
   "cell_type": "code",
   "execution_count": 73,
   "metadata": {},
   "outputs": [
    {
     "data": {
      "image/png": "[encoded data removed]",
      "text/plain": [
       "<matplotlib.figure.Figure at 0x1b40e802b38>"
      ]
     },
     "metadata": {},
     "output_type": "display_data"
    }
   ],
   "source": [
    "from matplotlib import pyplot as plt\n",
    "t = range(0,20)\n",
    "plt.bar(t,num,0.5)\n",
    "plt.xticks(t,t)\n",
    "plt.title(\"Distribution of documents\")\n",
    "plt.xlabel(\"Category ID\")\n",
    "plt.ylabel(\"Number of documents in the group\")\n",
    "plt.show()"
   ]
  },
  {
   "cell_type": "markdown",
   "metadata": {},
   "source": [
    "## Question 2: \n",
    "Use the following specs to extract features from the textual data:\n",
    "- Use the “english” stopwords of the CountVectorizer\n",
    "- Exclude terms that are numbers (e.g. “123”, “-45”, “6.7” etc.) \n",
    "- Perform lemmatization with nltk.stem.wordnet.WordNetLemmatizer and pos_tag \n",
    "- Use min_df=3 \n",
    "\n",
    "Report the shape of the TF-IDF matrices of the train and test subsets respectively"
   ]
  },
  {
   "cell_type": "code",
   "execution_count": 1,
   "metadata": {},
   "outputs": [],
   "source": [
    "from sklearn.datasets import fetch_20newsgroups\n",
    "categories = ['comp.graphics', 'comp.os.ms-windows.misc',\n",
    "'comp.sys.ibm.pc.hardware', 'comp.sys.mac.hardware',\n",
    "'rec.autos', 'rec.motorcycles',\n",
    "'rec.sport.baseball', 'rec.sport.hockey']\n",
    "train_dataset = fetch_20newsgroups(subset = 'train', categories = categories, shuffle = True, random_state = None)\n",
    "test_dataset = fetch_20newsgroups(subset = 'test', categories = categories, shuffle = True, random_state = None)"
   ]
  },
  {
   "cell_type": "code",
   "execution_count": 2,
   "metadata": {},
   "outputs": [
    {
     "name": "stdout",
     "output_type": "stream",
     "text": [
      "[0 1 2 3 4 5 6 7]\n",
      "['comp.graphics', 'comp.os.ms-windows.misc', 'comp.sys.ibm.pc.hardware', 'comp.sys.mac.hardware', 'rec.autos', 'rec.motorcycles', 'rec.sport.baseball', 'rec.sport.hockey']\n",
      "4732\n",
      "3150\n",
      "<class 'numpy.ndarray'>\n"
     ]
    }
   ],
   "source": [
    "import numpy as np\n",
    "print(np.unique(train_dataset.target))\n",
    "print(train_dataset.target_names)\n",
    "print(len(train_dataset.target))\n",
    "print(len(test_dataset.target))\n",
    "print(type(train_dataset.target))"
   ]
  },
  {
   "cell_type": "code",
   "execution_count": 3,
   "metadata": {},
   "outputs": [
    {
     "data": {
      "text/plain": [
       "CountVectorizer(analyzer='word', binary=False, decode_error='strict',\n",
       "        dtype=<class 'numpy.int64'>, encoding='utf-8', input='content',\n",
       "        lowercase=True, max_df=1.0, max_features=None, min_df=3,\n",
       "        ngram_range=(1, 1), preprocessor=None, stop_words='english',\n",
       "        strip_accents=None, token_pattern='(?u)\\\\b[a-zA-Z]{2,}\\\\b',\n",
       "        tokenizer=None, vocabulary=None)"
      ]
     },
     "execution_count": 3,
     "metadata": {},
     "output_type": "execute_result"
    }
   ],
   "source": [
    "from sklearn.feature_extraction.text import CountVectorizer\n",
    "\n",
    "vectorizer = CountVectorizer(min_df=3,token_pattern=r'(?u)\\b[a-zA-Z]{2,}\\b',stop_words='english') \n",
    "# ngram is n words together to be concidered as a phrase\n",
    "# max_df = 1.0 means if the context only consists of the same word, then it will be eliminated.\n",
    "# min_df = 3 (int) means if the context contains the word repeats less than 3 times, then it will be ignored.\n",
    "vectorizer"
   ]
  },
  {
   "cell_type": "code",
   "execution_count": 6,
   "metadata": {},
   "outputs": [
    {
     "name": "stdout",
     "output_type": "stream",
     "text": [
      "(4732, 16317)\n",
      "--------------------\n",
      "16317\n",
      "--------------------\n",
      "['aa', 'aaa', 'aamir', 'aardvark', 'aargh', 'aarghhhh', 'aarhus', 'aaron', 'aau', 'ab', 'abad', 'abandon', 'abate', 'abbot', 'abbott', 'abbreviation', 'abc', 'abd', 'abel', 'aber', 'aberystwyth', 'abiding', 'abilities', 'ability', 'able', 'abo', 'abominations', 'abort', 'abott', 'abs', 'absence', 'absent', 'absolute', 'absolutely', 'abstact', 'abstract', 'abstracts', 'absurd', 'absurdity', 'absurdum', 'abuse', 'abused', 'ac', 'acad', 'academic', 'academy', 'acadiau', 'acbl', 'acc', 'accel', 'accelerate', 'accelerated', 'accelerating', 'acceleration', 'accelerator', 'accelerators', 'accelleration', 'accellerator', 'accented', 'accept', 'acceptable', 'acceptance', 'accepted', 'accepts', 'access', 'accessed', 'accesses', 'accessible', 'accessing', 'accessories', 'accessory', 'accident', 'accidental', 'accidentally', 'accidents', 'acclimated', 'accommodate', 'accomodate', 'accompanied', 'accomplish', 'accomplished', 'accomplishments', 'accord', 'according', 'account', 'accounted', 'accounting', 'accounts', 'accucolor', 'accummulate', 'accumulate', 'accuracy', 'accurate', 'accurately', 'accuse', 'accused', 'acd', 'ace', 'achieve', 'achieved']\n"
     ]
    }
   ],
   "source": [
    " X_train = vectorizer.fit_transform(train_dataset.data)\n",
    "print(X_train.shape)\n",
    "print('-' * 20)\n",
    "print(len(vectorizer.get_feature_names()))\n",
    "print('-' * 20)\n",
    "print(vectorizer.get_feature_names()[:100]) # not lemmatized"
   ]
  },
  {
   "cell_type": "code",
   "execution_count": 5,
   "metadata": {},
   "outputs": [
    {
     "name": "stdout",
     "output_type": "stream",
     "text": [
      "16317\n",
      "--------------------\n",
      "CountVectorizer(analyzer='word', binary=False, decode_error='strict',\n",
      "        dtype=<class 'numpy.int64'>, encoding='utf-8', input='content',\n",
      "        lowercase=True, max_df=1.0, max_features=None, min_df=1,\n",
      "        ngram_range=(1, 1), preprocessor=None, stop_words=None,\n",
      "        strip_accents=None, token_pattern='(?u)\\\\b\\\\w\\\\w+\\\\b',\n",
      "        tokenizer=None, vocabulary=None)\n",
      "--------------------\n",
      "(4732, 13481)\n",
      "--------------------\n",
      "13481\n",
      "--------------------\n",
      "['aa', 'aaa', 'aamir', 'aardvark', 'aargh', 'aarghhhh', 'aarhus', 'aaron', 'aau', 'ab', 'abad', 'abandon', 'abate', 'abbot', 'abbott', 'abbreviation', 'abc', 'abd', 'abel', 'aber', 'aberystwyth', 'abide', 'ability', 'able', 'abo', 'abomination', 'abort', 'abott', 'absence', 'absent', 'absolute', 'absolutely', 'abstact', 'abstract', 'absurd', 'absurdity', 'absurdum', 'abuse', 'ac', 'acad', 'academic', 'academy', 'acadiau', 'acbl', 'acc', 'accel', 'accelerate', 'acceleration', 'accelerator', 'accelleration']\n"
     ]
    }
   ],
   "source": [
    "# Lemmatization\n",
    "from nltk import pos_tag,word_tokenize\n",
    "from nltk.stem.wordnet import WordNetLemmatizer\n",
    "from nltk.corpus import wordnet as wn\n",
    "\n",
    "wnl = WordNetLemmatizer()\n",
    "X_train = vectorizer.fit_transform(train_dataset.data)\n",
    "\n",
    "# why 'ran' is considered to be NOUN in pos_tag?\n",
    "\n",
    "# Here 2nd para of lemmatize doesn't support pos_tag. it should be transfered to wordnet.NOUN or ... to fit in\n",
    "\n",
    "# Define a tag_trans to fit in pos in wnl.lemmatize(_,pos=_)\n",
    "\n",
    "#The function is from Author: \n",
    "#Author：但盼风雨来_jc\n",
    "#Link：https://www.jianshu.com/p/79255fe0c5b5\n",
    "#Resource：简书\n",
    "#简书著作权归作者所有，任何形式的转载都请联系作者获得授权并注明出处。\n",
    "\n",
    "def tag_trans(tag):\n",
    "    if tag.startswith('J'):\n",
    "        return wn.ADJ\n",
    "    elif tag.startswith('V'):\n",
    "        return wn.VERB\n",
    "    elif tag.startswith('N'):\n",
    "        return wn.NOUN\n",
    "    elif tag.startswith('R'):\n",
    "        return wn.ADV\n",
    "    else:\n",
    "        return 'n'\n",
    "\n",
    "org_wordlist = vectorizer.get_feature_names()\n",
    "#org_wordlist = ['I','loves','bunnies','her','she','running','ran']*3  #testset\n",
    "new_wordlist = []\n",
    "for word in org_wordlist:\n",
    "    tag = pos_tag(word_tokenize(word))[0][1]\n",
    "    pos = tag_trans(tag)\n",
    "    new_word = wnl.lemmatize(word,pos)\n",
    "    new_wordlist.append(new_word)\n",
    "\n",
    "#a=tag_trans(pos_tag(word_tokenize('aaa'))[0][1])\n",
    "#print(a)\n",
    "#print(wnl.lemmatize('aaa',pos=a))\n",
    "    \n",
    "print(len(new_wordlist))\n",
    "#print(new_wordlist)\n",
    "print('-' * 20)\n",
    "\n",
    "vec = CountVectorizer() # new vectorizer \n",
    "print(vec)\n",
    "print('-' * 20)\n",
    "base = vec.fit_transform(new_wordlist)\n",
    "X_train = vec.transform(train_dataset.data)\n",
    "print(X_train.shape)\n",
    "print('-' * 20)\n",
    "print(len(vec.get_feature_names()))\n",
    "print('-' * 20)\n",
    "print(vec.get_feature_names()[:50])"
   ]
  },
  {
   "cell_type": "code",
   "execution_count": 7,
   "metadata": {},
   "outputs": [
    {
     "name": "stdout",
     "output_type": "stream",
     "text": [
      "CountVectorizer(analyzer=<function stem_rmv_punc at 0x000001AB8CA19840>,\n",
      "        binary=False, decode_error='strict', dtype=<class 'numpy.int64'>,\n",
      "        encoding='utf-8', input='content', lowercase=True, max_df=1.0,\n",
      "        max_features=None, min_df=3, ngram_range=(1, 1), preprocessor=None,\n",
      "        stop_words='english', strip_accents=None,\n",
      "        token_pattern='(?u)\\\\b\\\\w\\\\w+\\\\b', tokenizer=None, vocabulary=None)\n",
      "--------------------\n",
      "(4732, 16319)\n",
      "--------------------\n",
      "16319\n",
      "--------------------\n",
      "['0005111312na1em', '0010580b', '002251w', '0096b0f0', '00bjgood', '00mbstultz', '00pm', '02uv', '03hz', '03k', '05apr93', '05l', '06eh', '06paul', '0_', '0___', '0a', '0b', '0b14', '0c', '0d', '0d2', '0df', '0e', '0ek', '0f', '0g', '0g8', '0h', '0hd', '0i', '0iv', '0ivbudk', '0j', '0k', '0l', '0m', '0m75u', '0m8b', '0mk', '0n', '0o', '0p', '0q', '0qax', '0qq', '0r', '0sl', '0t', '0tbxn', '0tbxom', '0tq', '0tq6', '0u', '0v', '0va', '0w', '0x', '0x100', '0y', '0z', '1000cc', '100k', '100mph', '101e', '1024x768', '1024x768x16', '1024x768x256', '1024x768x65536', '106ps', '10h', '10k', '10mb', '10min', '10pm', '10th', '10w', '10w40', '115a', '11h', '11k', '11th', '1200cc', '120km', '120mb', '120mph', '125mb', '1280x1024', '128k', '12a', '12cyl', '12k', '12mb', '12ms', '12v', '1304s', '130mph', '132mb', '13h', '13k']\n"
     ]
    }
   ],
   "source": [
    "# Lemmatization\n",
    "from nltk import pos_tag,word_tokenize\n",
    "from nltk.stem.wordnet import WordNetLemmatizer\n",
    "from nltk.corpus import wordnet as wn\n",
    "from sklearn.feature_extraction.text import ENGLISH_STOP_WORDS\n",
    "import numpy as np\n",
    "np.random.seed(42)\n",
    "import random\n",
    "random.seed(42)\n",
    "\n",
    "wnl = WordNetLemmatizer()\n",
    "\n",
    "stop_words = ENGLISH_STOP_WORDS\n",
    "\n",
    "def penn2morphy(penntag):\n",
    "    \"\"\" Converts Penn Treebank tags to WordNet. \"\"\"\n",
    "    morphy_tag = {'NN':'n', 'JJ':'a',\n",
    "                  'VB':'v', 'RB':'r'}\n",
    "    try:\n",
    "        return morphy_tag[penntag[:2]]\n",
    "    except:\n",
    "        return 'n'\n",
    "\n",
    "def lemmatize_sent_demo(text):\n",
    "    # Text input is string, returns array of lowercased strings(words).\n",
    "    return [wnl.lemmatize(word.lower(), pos=penn2morphy(tag)) \n",
    "            for word, tag in pos_tag(nltk.word_tokenize(text))]\n",
    "def lemmatize_sent(list_word):\n",
    "    # Text input is string, returns array of lowercased strings(words).\n",
    "    return [wnl.lemmatize(word.lower(), pos=penn2morphy(tag)) \n",
    "            for word, tag in pos_tag(list_word)]\n",
    "\n",
    "def stemmed_words(doc):\n",
    "    return (stemmer.stem(w) for w in analyzer(doc))\n",
    "\n",
    "def stem_rmv_punc(doc):\n",
    "    return (word for word in lemmatize_sent(analyzer(doc)) if word not in stop_words and not word.isdigit())\n",
    "\n",
    "analyzer = CountVectorizer().build_analyzer()\n",
    "vec = CountVectorizer(min_df=3, analyzer=stem_rmv_punc, stop_words = 'english') # new vectorizer \n",
    "print(vec)\n",
    "print('-' * 20)\n",
    "X_train = vec.fit_transform(train_dataset.data)\n",
    "print(X_train.shape)\n",
    "print('-' * 20)\n",
    "print(len(vec.get_feature_names()))\n",
    "print('-' * 20)\n",
    "print(vec.get_feature_names()[:100])"
   ]
  },
  {
   "cell_type": "code",
   "execution_count": 8,
   "metadata": {},
   "outputs": [
    {
     "name": "stdout",
     "output_type": "stream",
     "text": [
      "(3150, 16319)\n",
      "  (0, 1338)\t1\n",
      "  (0, 1839)\t1\n",
      "  (0, 1847)\t1\n",
      "  (0, 2659)\t1\n",
      "  (0, 2753)\t1\n",
      "  (0, 2957)\t3\n",
      "  (0, 3063)\t1\n",
      "  (0, 3161)\t1\n",
      "  (0, 3246)\t1\n",
      "  (0, 3412)\t1\n",
      "  (0, 3541)\t1\n",
      "  (0, 3592)\t1\n",
      "  (0, 3717)\t1\n",
      "  (0, 4537)\t6\n",
      "  (0, 4549)\t1\n",
      "  (0, 4628)\t1\n",
      "  (0, 4788)\t1\n",
      "  (0, 4849)\t1\n",
      "  (0, 5067)\t1\n",
      "  (0, 5425)\t1\n",
      "  (0, 5623)\t1\n",
      "  (0, 5639)\t1\n",
      "  (0, 5953)\t1\n",
      "  (0, 6003)\t2\n",
      "  (0, 6412)\t1\n",
      "  :\t:\n",
      "  (3149, 14149)\t1\n",
      "  (3149, 14279)\t1\n",
      "  (3149, 14295)\t1\n",
      "  (3149, 14374)\t1\n",
      "  (3149, 14400)\t1\n",
      "  (3149, 14723)\t1\n",
      "  (3149, 14804)\t2\n",
      "  (3149, 14844)\t1\n",
      "  (3149, 14976)\t1\n",
      "  (3149, 14981)\t1\n",
      "  (3149, 14988)\t1\n",
      "  (3149, 15069)\t1\n",
      "  (3149, 15114)\t2\n",
      "  (3149, 15206)\t1\n",
      "  (3149, 15218)\t1\n",
      "  (3149, 15238)\t1\n",
      "  (3149, 15402)\t1\n",
      "  (3149, 15407)\t1\n",
      "  (3149, 15578)\t1\n",
      "  (3149, 15689)\t2\n",
      "  (3149, 15690)\t2\n",
      "  (3149, 15691)\t2\n",
      "  (3149, 15912)\t2\n",
      "  (3149, 15919)\t2\n",
      "  (3149, 16112)\t1\n"
     ]
    }
   ],
   "source": [
    "# test data\n",
    "X_test = vec.transform(test_dataset.data)\n",
    "print(X_test.shape)\n",
    "print(X_test)"
   ]
  },
  {
   "cell_type": "code",
   "execution_count": 9,
   "metadata": {},
   "outputs": [
    {
     "name": "stdout",
     "output_type": "stream",
     "text": [
      "TfidfTransformer(norm='l2', smooth_idf=True, sublinear_tf=False, use_idf=True)\n",
      "--------------------\n",
      "(4732, 16319)\n",
      "--------------------\n",
      "[[0 0 0 ... 0 0 0]\n",
      " [0 0 0 ... 0 0 0]\n",
      " [0 0 0 ... 0 0 0]\n",
      " ...\n",
      " [0 0 0 ... 0 0 0]\n",
      " [0 0 0 ... 0 0 0]\n",
      " [0 0 0 ... 0 0 0]]\n",
      "--------------------\n",
      "[[0. 0. 0. ... 0. 0. 0.]\n",
      " [0. 0. 0. ... 0. 0. 0.]\n",
      " [0. 0. 0. ... 0. 0. 0.]\n",
      " ...\n",
      " [0. 0. 0. ... 0. 0. 0.]\n",
      " [0. 0. 0. ... 0. 0. 0.]\n",
      " [0. 0. 0. ... 0. 0. 0.]]\n"
     ]
    }
   ],
   "source": [
    "# TF-IDF matrices of the train subsets\n",
    "from sklearn.feature_extraction.text import TfidfTransformer\n",
    "tfidf = TfidfTransformer()\n",
    "\n",
    "print(tfidf)\n",
    "print('-' * 20)\n",
    "\n",
    "X_train_tfidf = tfidf.fit_transform(X_train)\n",
    "print(X_train_tfidf.shape)\n",
    "print('-' * 20)\n",
    "print(X_train.toarray()[:-30,:-30])\n",
    "print('-' * 20)\n",
    "print(X_train_tfidf.toarray()[:-30,:-30])"
   ]
  },
  {
   "cell_type": "code",
   "execution_count": 10,
   "metadata": {},
   "outputs": [
    {
     "name": "stdout",
     "output_type": "stream",
     "text": [
      "(3150, 16319)\n",
      "--------------------\n",
      "[[0 0 0 0 0 0 0 0 0 0 0 0 0 0 0 0 0 0 0 0 0 0 0 0 0 0 0 0 0 0]\n",
      " [0 0 0 0 0 0 0 0 0 0 0 0 0 0 0 0 0 0 0 0 0 0 0 0 0 0 0 0 0 0]\n",
      " [0 0 0 0 0 0 0 0 0 0 0 0 0 0 0 0 0 0 0 0 0 0 0 0 0 0 0 0 0 0]\n",
      " [0 0 0 0 0 0 0 0 0 0 0 0 0 0 0 0 0 0 0 0 0 0 0 0 0 0 0 0 0 0]\n",
      " [0 0 0 0 0 0 0 0 0 0 0 0 0 0 0 0 0 0 0 0 0 0 0 0 0 0 0 0 0 0]\n",
      " [0 0 0 0 0 0 0 0 0 0 0 0 0 0 0 0 0 0 0 0 0 0 0 0 0 0 0 0 0 0]\n",
      " [0 0 0 0 0 0 0 0 0 0 0 0 0 0 0 0 0 0 0 0 0 0 0 0 0 0 0 0 0 0]\n",
      " [0 0 0 0 0 0 0 0 0 0 0 0 0 0 0 0 0 0 0 0 0 0 0 0 0 0 0 0 0 0]\n",
      " [0 0 0 0 0 0 0 0 0 0 0 0 0 0 0 0 0 0 0 0 0 0 0 0 0 0 0 0 0 0]\n",
      " [0 0 0 0 0 0 0 0 0 0 0 0 0 0 0 0 0 0 0 0 0 0 0 0 0 0 0 0 0 0]\n",
      " [0 0 0 0 0 0 0 0 0 0 0 0 0 0 0 0 0 0 0 0 0 0 0 0 0 0 0 0 0 0]\n",
      " [0 0 0 0 0 0 0 0 0 0 0 0 0 0 0 0 0 0 0 0 0 0 0 0 0 0 0 0 0 0]\n",
      " [0 0 0 0 0 0 0 0 0 0 0 0 0 0 0 0 0 0 0 0 0 0 0 0 0 0 0 0 0 0]\n",
      " [0 0 0 0 0 0 0 0 0 0 0 0 0 0 0 0 0 0 0 0 0 0 0 0 0 0 0 0 0 0]\n",
      " [0 0 0 0 0 0 0 0 0 0 0 0 0 0 0 0 0 0 0 0 0 0 0 0 0 0 0 0 0 0]\n",
      " [0 0 0 0 0 0 0 0 0 0 0 0 0 0 0 0 0 0 0 0 0 0 0 0 0 0 0 0 0 0]\n",
      " [0 0 0 0 0 0 0 0 0 0 0 0 0 0 0 0 0 0 0 0 0 0 0 0 0 0 0 0 0 0]\n",
      " [0 0 0 0 0 0 0 0 0 0 0 0 0 0 0 0 0 0 0 0 0 0 0 0 0 0 0 0 0 0]\n",
      " [0 0 0 0 0 0 0 0 0 0 0 0 0 0 0 0 0 0 0 0 0 0 0 0 0 0 0 0 0 0]\n",
      " [0 0 0 0 0 0 0 0 0 0 0 0 0 0 0 0 0 0 0 0 0 0 0 0 0 0 0 0 0 0]\n",
      " [0 0 0 0 0 0 0 0 0 0 0 0 0 0 0 0 0 0 0 0 0 0 0 0 0 0 0 0 0 0]\n",
      " [0 0 0 0 0 0 0 0 0 0 0 0 0 0 0 0 0 0 0 0 0 0 0 0 0 0 0 0 0 0]\n",
      " [0 0 0 0 0 0 0 0 0 0 0 0 0 0 0 0 0 0 0 0 0 0 0 0 0 0 0 0 0 0]\n",
      " [0 0 0 0 0 0 0 0 0 0 0 0 0 0 0 0 0 0 0 0 0 0 0 0 0 0 0 0 0 0]\n",
      " [0 0 0 0 0 0 0 0 0 0 0 0 0 0 0 0 0 0 0 0 0 0 0 0 0 0 0 0 0 0]\n",
      " [0 0 0 0 0 0 0 0 0 0 0 0 0 0 0 0 0 0 0 0 0 0 0 0 0 0 0 0 0 0]\n",
      " [0 0 0 0 0 0 0 0 0 0 0 0 0 0 0 0 0 0 0 0 0 0 0 0 0 0 0 0 0 0]\n",
      " [0 0 0 0 0 0 0 0 0 0 0 0 0 0 0 0 0 0 0 0 0 0 0 0 0 0 0 0 0 0]\n",
      " [0 0 0 0 0 0 0 0 0 0 0 0 0 0 0 0 0 0 0 0 0 0 0 0 0 0 0 0 0 0]\n",
      " [0 0 0 0 0 0 0 0 0 0 0 0 0 0 0 0 0 0 0 0 0 0 0 0 0 0 0 0 0 0]]\n",
      "--------------------\n",
      "[[0. 0. 0. 0. 0. 0. 0. 0. 0. 0. 0. 0. 0. 0. 0. 0. 0. 0. 0. 0. 0. 0. 0. 0.\n",
      "  0. 0. 0. 0. 0. 0.]\n",
      " [0. 0. 0. 0. 0. 0. 0. 0. 0. 0. 0. 0. 0. 0. 0. 0. 0. 0. 0. 0. 0. 0. 0. 0.\n",
      "  0. 0. 0. 0. 0. 0.]\n",
      " [0. 0. 0. 0. 0. 0. 0. 0. 0. 0. 0. 0. 0. 0. 0. 0. 0. 0. 0. 0. 0. 0. 0. 0.\n",
      "  0. 0. 0. 0. 0. 0.]\n",
      " [0. 0. 0. 0. 0. 0. 0. 0. 0. 0. 0. 0. 0. 0. 0. 0. 0. 0. 0. 0. 0. 0. 0. 0.\n",
      "  0. 0. 0. 0. 0. 0.]\n",
      " [0. 0. 0. 0. 0. 0. 0. 0. 0. 0. 0. 0. 0. 0. 0. 0. 0. 0. 0. 0. 0. 0. 0. 0.\n",
      "  0. 0. 0. 0. 0. 0.]\n",
      " [0. 0. 0. 0. 0. 0. 0. 0. 0. 0. 0. 0. 0. 0. 0. 0. 0. 0. 0. 0. 0. 0. 0. 0.\n",
      "  0. 0. 0. 0. 0. 0.]\n",
      " [0. 0. 0. 0. 0. 0. 0. 0. 0. 0. 0. 0. 0. 0. 0. 0. 0. 0. 0. 0. 0. 0. 0. 0.\n",
      "  0. 0. 0. 0. 0. 0.]\n",
      " [0. 0. 0. 0. 0. 0. 0. 0. 0. 0. 0. 0. 0. 0. 0. 0. 0. 0. 0. 0. 0. 0. 0. 0.\n",
      "  0. 0. 0. 0. 0. 0.]\n",
      " [0. 0. 0. 0. 0. 0. 0. 0. 0. 0. 0. 0. 0. 0. 0. 0. 0. 0. 0. 0. 0. 0. 0. 0.\n",
      "  0. 0. 0. 0. 0. 0.]\n",
      " [0. 0. 0. 0. 0. 0. 0. 0. 0. 0. 0. 0. 0. 0. 0. 0. 0. 0. 0. 0. 0. 0. 0. 0.\n",
      "  0. 0. 0. 0. 0. 0.]\n",
      " [0. 0. 0. 0. 0. 0. 0. 0. 0. 0. 0. 0. 0. 0. 0. 0. 0. 0. 0. 0. 0. 0. 0. 0.\n",
      "  0. 0. 0. 0. 0. 0.]\n",
      " [0. 0. 0. 0. 0. 0. 0. 0. 0. 0. 0. 0. 0. 0. 0. 0. 0. 0. 0. 0. 0. 0. 0. 0.\n",
      "  0. 0. 0. 0. 0. 0.]\n",
      " [0. 0. 0. 0. 0. 0. 0. 0. 0. 0. 0. 0. 0. 0. 0. 0. 0. 0. 0. 0. 0. 0. 0. 0.\n",
      "  0. 0. 0. 0. 0. 0.]\n",
      " [0. 0. 0. 0. 0. 0. 0. 0. 0. 0. 0. 0. 0. 0. 0. 0. 0. 0. 0. 0. 0. 0. 0. 0.\n",
      "  0. 0. 0. 0. 0. 0.]\n",
      " [0. 0. 0. 0. 0. 0. 0. 0. 0. 0. 0. 0. 0. 0. 0. 0. 0. 0. 0. 0. 0. 0. 0. 0.\n",
      "  0. 0. 0. 0. 0. 0.]\n",
      " [0. 0. 0. 0. 0. 0. 0. 0. 0. 0. 0. 0. 0. 0. 0. 0. 0. 0. 0. 0. 0. 0. 0. 0.\n",
      "  0. 0. 0. 0. 0. 0.]\n",
      " [0. 0. 0. 0. 0. 0. 0. 0. 0. 0. 0. 0. 0. 0. 0. 0. 0. 0. 0. 0. 0. 0. 0. 0.\n",
      "  0. 0. 0. 0. 0. 0.]\n",
      " [0. 0. 0. 0. 0. 0. 0. 0. 0. 0. 0. 0. 0. 0. 0. 0. 0. 0. 0. 0. 0. 0. 0. 0.\n",
      "  0. 0. 0. 0. 0. 0.]\n",
      " [0. 0. 0. 0. 0. 0. 0. 0. 0. 0. 0. 0. 0. 0. 0. 0. 0. 0. 0. 0. 0. 0. 0. 0.\n",
      "  0. 0. 0. 0. 0. 0.]\n",
      " [0. 0. 0. 0. 0. 0. 0. 0. 0. 0. 0. 0. 0. 0. 0. 0. 0. 0. 0. 0. 0. 0. 0. 0.\n",
      "  0. 0. 0. 0. 0. 0.]\n",
      " [0. 0. 0. 0. 0. 0. 0. 0. 0. 0. 0. 0. 0. 0. 0. 0. 0. 0. 0. 0. 0. 0. 0. 0.\n",
      "  0. 0. 0. 0. 0. 0.]\n",
      " [0. 0. 0. 0. 0. 0. 0. 0. 0. 0. 0. 0. 0. 0. 0. 0. 0. 0. 0. 0. 0. 0. 0. 0.\n",
      "  0. 0. 0. 0. 0. 0.]\n",
      " [0. 0. 0. 0. 0. 0. 0. 0. 0. 0. 0. 0. 0. 0. 0. 0. 0. 0. 0. 0. 0. 0. 0. 0.\n",
      "  0. 0. 0. 0. 0. 0.]\n",
      " [0. 0. 0. 0. 0. 0. 0. 0. 0. 0. 0. 0. 0. 0. 0. 0. 0. 0. 0. 0. 0. 0. 0. 0.\n",
      "  0. 0. 0. 0. 0. 0.]\n",
      " [0. 0. 0. 0. 0. 0. 0. 0. 0. 0. 0. 0. 0. 0. 0. 0. 0. 0. 0. 0. 0. 0. 0. 0.\n",
      "  0. 0. 0. 0. 0. 0.]\n",
      " [0. 0. 0. 0. 0. 0. 0. 0. 0. 0. 0. 0. 0. 0. 0. 0. 0. 0. 0. 0. 0. 0. 0. 0.\n",
      "  0. 0. 0. 0. 0. 0.]\n",
      " [0. 0. 0. 0. 0. 0. 0. 0. 0. 0. 0. 0. 0. 0. 0. 0. 0. 0. 0. 0. 0. 0. 0. 0.\n",
      "  0. 0. 0. 0. 0. 0.]\n",
      " [0. 0. 0. 0. 0. 0. 0. 0. 0. 0. 0. 0. 0. 0. 0. 0. 0. 0. 0. 0. 0. 0. 0. 0.\n",
      "  0. 0. 0. 0. 0. 0.]\n",
      " [0. 0. 0. 0. 0. 0. 0. 0. 0. 0. 0. 0. 0. 0. 0. 0. 0. 0. 0. 0. 0. 0. 0. 0.\n",
      "  0. 0. 0. 0. 0. 0.]\n",
      " [0. 0. 0. 0. 0. 0. 0. 0. 0. 0. 0. 0. 0. 0. 0. 0. 0. 0. 0. 0. 0. 0. 0. 0.\n",
      "  0. 0. 0. 0. 0. 0.]]\n"
     ]
    }
   ],
   "source": [
    "# TF-IDF matrices of the test subsets\n",
    "X_test_tfidf = tfidf.transform(X_test)\n",
    "print(X_test_tfidf.shape)\n",
    "print('-' * 20)\n",
    "print(X_test.toarray()[:30,:30])\n",
    "print('-' * 20)\n",
    "print(X_test_tfidf.toarray()[:30,:30])"
   ]
  },
  {
   "cell_type": "markdown",
   "metadata": {},
   "source": [
    "## Question 3:\n",
    "Reduce the dimensionality of the data using the methods above\n",
    "- Apply LSI to the TF-IDF matrix corresponding to the 8 categories with k = 50; so each document is mapped to a 50-dimensional vector.\n",
    "- Also reduce dimnsionality through NMF (k = 50) and compare with LSI: \n",
    "<br>Which one is larger, the $ \\mid\\mid X-WH\\mid\\mid_F^2 $ in NMF or the $\\mid\\mid X-U_k\\sum_kV_k^T\\mid\\mid_F^2$ in LSI? Why is the case?"
   ]
  },
  {
   "cell_type": "code",
   "execution_count": 11,
   "metadata": {},
   "outputs": [
    {
     "name": "stdout",
     "output_type": "stream",
     "text": [
      "(4732, 50)\n",
      "[[ 0.08566018  0.01565251 -0.03146679 ... -0.09125858 -0.01949637\n",
      "  -0.05002998]\n",
      " [ 0.14596328  0.06582852 -0.00074768 ... -0.00725673 -0.0110021\n",
      "  -0.00051392]\n",
      " [ 0.14036966  0.14703628  0.05432846 ... -0.00925518  0.00172885\n",
      "   0.02025104]\n",
      " ...\n",
      " [ 0.17376715  0.03050576 -0.04710684 ... -0.00928508  0.00937696\n",
      "   0.01962835]\n",
      " [ 0.14753053 -0.01579022  0.04149917 ... -0.0212894  -0.04255583\n",
      "   0.02813591]\n",
      " [ 0.13329487 -0.0778446   0.06163992 ... -0.04315822  0.03418935\n",
      "   0.00551171]]\n"
     ]
    }
   ],
   "source": [
    "# LSI\n",
    "from sklearn.decomposition import TruncatedSVD\n",
    "\n",
    "svd = TruncatedSVD(n_components = 50, random_state = 42)\n",
    "X_train_lsi = svd.fit_transform(X_train_tfidf)\n",
    "X_test_lsi = svd.transform(X_test_tfidf)\n",
    "\n",
    "# show time\n",
    "print(X_train_lsi.shape)\n",
    "print(X_train_lsi)"
   ]
  },
  {
   "cell_type": "code",
   "execution_count": 12,
   "metadata": {},
   "outputs": [
    {
     "name": "stdout",
     "output_type": "stream",
     "text": [
      "(4732, 50)\n",
      "-------------------- NMF --------------------\n",
      "[[0.00650881 0.0003255  0.         ... 0.00037083 0.         0.        ]\n",
      " [0.         0.04725414 0.         ... 0.         0.02097668 0.00286737]\n",
      " [0.02282878 0.08105668 0.         ... 0.         0.         0.        ]\n",
      " ...\n",
      " [0.00983156 0.01821709 0.0009841  ... 0.00125574 0.00829446 0.        ]\n",
      " [0.00944433 0.00956865 0.         ... 0.         0.         0.00109866]\n",
      " [0.         0.         0.         ... 0.         0.         0.00727852]]\n",
      "-------------------- NMF --------------------\n",
      "(50, 16319)\n"
     ]
    }
   ],
   "source": [
    "# NMF\n",
    "from sklearn.decomposition import NMF\n",
    "\n",
    "nmf = NMF(n_components=50, init='random',random_state=42)\n",
    "W_train = nmf.fit_transform(X_train_tfidf)\n",
    "W_test = nmf.transform(X_test_tfidf)\n",
    "\n",
    "H = nmf.components_\n",
    "\n",
    "# show time\n",
    "print(W_train.shape)\n",
    "print('-' * 20, 'NMF', '-'*20)\n",
    "print(W_train)\n",
    "print('-' * 20, 'NMF', '-'*20)\n",
    "print(H.shape)"
   ]
  },
  {
   "cell_type": "code",
   "execution_count": 13,
   "metadata": {},
   "outputs": [
    {
     "name": "stdout",
     "output_type": "stream",
     "text": [
      "64.36293306487207\n",
      "64.3629330648721\n"
     ]
    }
   ],
   "source": [
    "# Loss of nmf\n",
    "\n",
    "import numpy as np\n",
    "\n",
    "err_nmf = nmf.reconstruction_err_\n",
    "err = np.sum(np.array(X_train_tfidf-W_train.dot(H))**2)\n",
    "err = err**0.5\n",
    "\n",
    "print(err_nmf)\n",
    "print(err)"
   ]
  },
  {
   "cell_type": "code",
   "execution_count": 14,
   "metadata": {},
   "outputs": [
    {
     "name": "stdout",
     "output_type": "stream",
     "text": [
      "(50, 16319)\n",
      "[[ 1.00000000e+00  1.04083409e-17 -2.08166817e-16 ...  1.12757026e-17\n",
      "  -1.21430643e-17  2.42861287e-17]\n",
      " [ 1.04083409e-17  1.00000000e+00 -1.12757026e-16 ...  4.51028104e-17\n",
      "  -8.67361738e-18 -3.81639165e-17]\n",
      " [-2.08166817e-16 -1.12757026e-16  1.00000000e+00 ... -1.73472348e-17\n",
      "   0.00000000e+00  1.99493200e-17]\n",
      " ...\n",
      " [ 1.12757026e-17  4.51028104e-17 -1.73472348e-17 ...  1.00000000e+00\n",
      "   4.36499795e-16 -3.07046055e-16]\n",
      " [-1.21430643e-17 -8.67361738e-18  0.00000000e+00 ...  4.36499795e-16\n",
      "   1.00000000e+00  8.67361738e-19]\n",
      " [ 2.42861287e-17 -3.81639165e-17  1.99493200e-17 ... -3.07046055e-16\n",
      "   8.67361738e-19  1.00000000e+00]]\n",
      "53.243781515937854\n"
     ]
    }
   ],
   "source": [
    "# Check attributes of the svd function\n",
    "\n",
    "check = svd.components_.dot(np.transpose(svd.components_))\n",
    "print(svd.components_.shape)\n",
    "print(check)\n",
    "\n",
    "err_lsi_test = np.sum(np.array(X_test_tfidf-X_test_lsi.dot(svd.components_))**2)\n",
    "err_lsi_test = err_lsi_test**0.5\n",
    "\n",
    "print(err_lsi_test)"
   ]
  },
  {
   "cell_type": "code",
   "execution_count": 15,
   "metadata": {},
   "outputs": [
    {
     "name": "stdout",
     "output_type": "stream",
     "text": [
      "The loss of LSI method is:  64.08076551694145\n",
      "The loss of NMF method is:  64.36293306487207\n",
      "So the loss of NMF is larger!\n"
     ]
    }
   ],
   "source": [
    "# Loss of lsi\n",
    "\n",
    "err_lsi = np.sum(np.array(X_train_tfidf-X_train_lsi.dot(svd.components_))**2)\n",
    "err_lsi = err_lsi**0.5\n",
    "print('The loss of LSI method is: ',err_lsi)\n",
    "print('The loss of NMF method is: ',err_nmf)\n",
    "\n",
    "if err_lsi > err_nmf:\n",
    "    print('So the loss of LSI is larger!')\n",
    "elif err_lsi < err_nmf:\n",
    "    print('So the loss of NMF is larger!')\n",
    "else:\n",
    "    print('Incredible!!! They are equal!')"
   ]
  },
  {
   "cell_type": "markdown",
   "metadata": {},
   "source": [
    "## Question 4:\n",
    "Hard margin and soft margin linear SVMs:\n",
    "- Train two linear SVMs and compare:\n",
    "    * Train one SVM with $\\gamma = 1000$ (hard margin), another with $\\gamma = 0.0001$ (soft nargin).\n",
    "    * Plot the ROC curve, report the **confusion matrix** and calculate the **accuracy, recall, precision** and **F-1 score** of both SVM classifier. Which one performs better?\n",
    "    * What happens for the soft margin SVM? Why is the case?\n",
    "        - Does the DOC curve of the soft margin SVM look good? Does this conflict with other metrics?\n",
    "- Use cross-validation to choose $\\gamma$ (use average validation accuuracy to compare):\n",
    "<br>Using a 5-fold cross-validation, find the best value of the parameter $\\gamma$ in the range $\\lbrace10^k\\mid-3\\leq k\\leq3, k\\in\\mathbb Z\\rbrace$. Again, plot the ROC curve and report the confusion matrix and calculate the **accuracy, recall precision** and **F-1 score** of this best SVM."
   ]
  },
  {
   "cell_type": "markdown",
   "metadata": {},
   "source": [
    "### Train SVMs and compare"
   ]
  },
  {
   "cell_type": "code",
   "execution_count": 16,
   "metadata": {},
   "outputs": [
    {
     "name": "stdout",
     "output_type": "stream",
     "text": [
      "-------------------- train_dataset --------------------\n",
      "4732\n",
      "[0 1]\n",
      "-------------------- test_dataset --------------------\n",
      "3150\n",
      "[0 1]\n"
     ]
    }
   ],
   "source": [
    "# data preparation and regroup\n",
    "\n",
    "# number and class name into dict\n",
    "#num = np.unique(train_dataset.target)\n",
    "#name = train_dataset.target_names\n",
    "#name_dic = dict(zip(name,num))\n",
    "#print(name_dic)\n",
    "\n",
    "# divide into groups\n",
    "#grp1 = (name_dic.get('comp.graphics'), name_dic.get('rec.autos'))\n",
    "#grp2 = (name_dic.get('comp.os.ms-windows.misc'), name_dic.get('rec.motorcycles'))\n",
    "#grp3 = (name_dic.get('comp.sys.ibm.pc.hardware'), name_dic.get('rec.sport.baseball'))\n",
    "#grp4 = (name_dic.get('comp.sys.mac.hardware'), name_dic.get('rec.sport.hockey'))\n",
    "\n",
    "# regroup\n",
    "def get_labels(train_dataset):\n",
    "    labels = []\n",
    "    new_name = ['Computer Technology','Recreational Activity']\n",
    "\n",
    "    for label in train_dataset.target:\n",
    "        name = train_dataset.target_names[label]\n",
    "        if name.startswith('comp'):\n",
    "            labels.append(0)\n",
    "        elif name.startswith('rec'):\n",
    "            labels.append(1)\n",
    "        else:\n",
    "            print('Wrong type!')\n",
    "    \n",
    "    return labels, new_name\n",
    "\n",
    "train_label,new_name = get_labels(train_dataset)\n",
    "test_label, _ = get_labels(test_dataset)\n",
    "\n",
    "# check\n",
    "print('-'*20,'train_dataset','-'*20)\n",
    "print(len(train_label))\n",
    "print(np.unique(train_label))\n",
    "print('-'*20,'test_dataset','-'*20)\n",
    "print(len(test_label))\n",
    "print(np.unique(test_label))"
   ]
  },
  {
   "cell_type": "code",
   "execution_count": 17,
   "metadata": {},
   "outputs": [],
   "source": [
    "# train linear SVMs\n",
    "from sklearn.svm import LinearSVC\n",
    "\n",
    "svm_hard = LinearSVC(loss='hinge', C=1000).fit(X_train_lsi,train_label)\n",
    "svm_soft = LinearSVC(loss='hinge', C=0.0001).fit(X_train_lsi,train_label)"
   ]
  },
  {
   "cell_type": "code",
   "execution_count": 18,
   "metadata": {},
   "outputs": [
    {
     "data": {
      "image/png": "[encoded data removed]",
      "text/plain": [
       "<matplotlib.figure.Figure at 0x1e3a088cd30>"
      ]
     },
     "metadata": {},
     "output_type": "display_data"
    }
   ],
   "source": [
    "# define plot drawing\n",
    "from sklearn import metrics\n",
    "import matplotlib.pyplot as plt\n",
    "%matplotlib inline\n",
    "\n",
    "def plot_roc(fpr, tpr):\n",
    "    fig, ax = plt.subplots()\n",
    "\n",
    "    roc_auc = metrics.auc(fpr,tpr)\n",
    "\n",
    "    ax.plot(fpr, tpr, linewidth=2,label= 'area under curve = %0.4f' % roc_auc)\n",
    "\n",
    "    ax.grid(color='0.7', linestyle='--', linewidth=1)\n",
    "\n",
    "    ax.set_xlim([-0.1, 1.1])\n",
    "    ax.set_ylim([0.0, 1.05])\n",
    "    ax.set_xlabel('False Positive Rate',fontsize=15)\n",
    "    ax.set_ylabel('True Positive Rate',fontsize=15)\n",
    "\n",
    "    ax.legend(loc=\"lower right\")\n",
    "\n",
    "    for label in ax.get_xticklabels()+ax.get_yticklabels():\n",
    "        label.set_fontsize(15)\n",
    "        \n",
    "# prepare plot for svm_hard\n",
    "\n",
    "score_hard = svm_hard.decision_function(X_test_lsi)\n",
    "#print(len(score_hard))\n",
    "fpr_hard,tpr_hard,_ = metrics.roc_curve(test_label, score_hard, pos_label=1)\n",
    "\n",
    "# draw the ROC for svm_hard\n",
    "\n",
    "plot_roc(fpr_hard, tpr_hard)"
   ]
  },
  {
   "cell_type": "code",
   "execution_count": 19,
   "metadata": {},
   "outputs": [
    {
     "data": {
      "image/png": "[encoded data removed]",
      "text/plain": [
       "<matplotlib.figure.Figure at 0x240a34c1a20>"
      ]
     },
     "metadata": {},
     "output_type": "display_data"
    }
   ],
   "source": [
    "# prepare plot for svm_soft\n",
    "\n",
    "score_soft = svm_soft.decision_function(X_test_lsi)\n",
    "fpr_soft, tpr_soft, _ = metrics.roc_curve(test_label, score_soft, pos_label=1)\n",
    "\n",
    "# draw the ROC for svm_soft\n",
    "\n",
    "plot_roc(fpr_soft, tpr_soft)"
   ]
  },
  {
   "cell_type": "code",
   "execution_count": 22,
   "metadata": {},
   "outputs": [
    {
     "data": {
      "image/png": "[encoded data removed]",
      "text/plain": [
       "<matplotlib.figure.Figure at 0x240a36f65f8>"
      ]
     },
     "metadata": {},
     "output_type": "display_data"
    }
   ],
   "source": [
    "fig, ax = plt.subplots()\n",
    "\n",
    "line_hard = ax.plot(fpr_hard, tpr_hard, linewidth=2)\n",
    "line_soft = ax.plot(fpr_soft, tpr_soft, linewidth=2)\n",
    "\n",
    "ax.grid(color='0.7', linestyle='--', linewidth=1)\n",
    "\n",
    "ax.set_xlim([-0.1, 1.1])\n",
    "ax.set_ylim([0.0, 1.05])\n",
    "ax.set_xlabel('False Positive Rate',fontsize=15)\n",
    "ax.set_ylabel('True Positive Rate',fontsize=15)\n",
    "\n",
    "ax.legend(('Hard SVM','Soft SVM'),loc=\"lower right\")\n",
    "plt.title('ROC curve of SVM with C=1000(hard) and C=0.0001(soft)')\n",
    "\n",
    "for label in ax.get_xticklabels()+ax.get_yticklabels():\n",
    "    label.set_fontsize(15)"
   ]
  },
  {
   "cell_type": "code",
   "execution_count": 19,
   "metadata": {},
   "outputs": [
    {
     "name": "stdout",
     "output_type": "stream",
     "text": [
      "-------------------- Confusion Matrix of hard SVM(C=1000) --------------------\n",
      "[[1513   47]\n",
      " [  41 1549]]\n",
      "-------------------- Other Evaluation of hard SVM(C=1000) --------------------\n",
      "Accuracy: 0.9720634920634921\n",
      "Recall: 0.9742138364779874\n",
      "Precision: 0.9705513784461153\n",
      "F-1 Score: 0.9723791588198367\n",
      "\n",
      "-------------------- Confusion Matrix of soft SVM(C=0.0001) --------------------\n",
      "[[  71 1489]\n",
      " [   0 1590]]\n",
      "-------------------- Other Evaluation of soft SVM(C=0.0001) --------------------\n",
      "Accuracy: 0.5273015873015873\n",
      "Recall: 1.0\n",
      "Precision: 0.5164014290354011\n",
      "F-1 Score: 0.681088027414864\n",
      "\n",
      "-------------------- Notes of Index --------------------\n",
      "labels are:\n",
      "Value of 0 -> Computer Technology\n",
      "Value of 1 -> Recreational Activity\n"
     ]
    }
   ],
   "source": [
    "# Confusion Matrix & other parameters\n",
    "def evaluate(classifier, clf_name, testSet, label,average=''):\n",
    "    y_pred = classifier.predict(testSet)\n",
    "    CM = metrics.confusion_matrix(label,y_pred)\n",
    "    \n",
    "    print('-'*20, 'Confusion Matrix of',clf_name,'-'*20)\n",
    "    print(CM)\n",
    "    \n",
    "    accuracy = metrics.accuracy_score(label, y_pred)\n",
    "    if average == '':\n",
    "        recall = metrics.recall_score(label, y_pred)\n",
    "        precision = metrics.precision_score(label, y_pred)\n",
    "        Fscore = metrics.f1_score(label, y_pred)\n",
    "    else:\n",
    "        recall = metrics.recall_score(label,y_pred,average=average)\n",
    "        precision = metrics.precision_score(label, y_pred,average=average)\n",
    "        Fscore = metrics.f1_score(label, y_pred,average=average)\n",
    "    \n",
    "    print('-'*20, 'Other Evaluation of',clf_name,'-'*20)\n",
    "    print('Accuracy:',accuracy)\n",
    "    print('Recall:',recall)\n",
    "    print('Precision:',precision)\n",
    "    print('F-1 Score:',Fscore)\n",
    "\n",
    "    return CM,accuracy,recall,precision,Fscore\n",
    "\n",
    "CM_hard,accuracy_hard,recall_hard,precision_hard,Fscore_hard = evaluate(\n",
    "    svm_hard,'hard SVM(C=1000)',X_test_lsi,test_label)\n",
    "print()\n",
    "evaluate(svm_soft,'soft SVM(C=0.0001)',X_test_lsi,test_label)\n",
    "\n",
    "print()\n",
    "print('-'*20,'Notes of Index','-'*20)\n",
    "print('labels are:')\n",
    "print('Value of 0 ->',new_name[0])\n",
    "print('Value of 1 ->',new_name[1])"
   ]
  },
  {
   "cell_type": "markdown",
   "metadata": {},
   "source": [
    "### Use cross-validation to choose $\\gamma$"
   ]
  },
  {
   "cell_type": "code",
   "execution_count": 21,
   "metadata": {},
   "outputs": [
    {
     "name": "stdout",
     "output_type": "stream",
     "text": [
      "-------------------- C = 0.001 --------------------\n",
      "[0.73450704 0.82042254 0.96690141 0.5028169  0.93450704]\n",
      "0.7918309859154931\n",
      "-------------------- C = 0.01 --------------------\n",
      "[0.73450704 0.82042254 0.96690141 0.5028169  0.93450704]\n",
      "0.7918309859154931\n",
      "-------------------- C = 0.1 --------------------\n",
      "[0.96690141 0.96901408 0.96197183 0.97112676 0.97183099]\n",
      "0.9681690140845071\n",
      "-------------------- C = 1 --------------------\n",
      "[0.96830986 0.97183099 0.96267606 0.97323944 0.97323944]\n",
      "0.9698591549295775\n",
      "-------------------- C = 10 --------------------\n",
      "[0.97323944 0.97394366 0.96830986 0.97957746 0.97746479]\n",
      "0.974507042253521\n",
      "-------------------- C = 100 --------------------\n",
      "[0.97464789 0.96971831 0.96901408 0.97746479 0.97816901]\n",
      "0.9738028169014085\n",
      "-------------------- C = 1000 --------------------\n",
      "[0.9556338  0.96901408 0.96338028 0.97464789 0.96830986]\n",
      "0.9661971830985916\n",
      "-------------------- Result --------------------\n",
      "The best classifier is when C = 10\n",
      "Average F-1 Score is: 0.974507042253521\n"
     ]
    }
   ],
   "source": [
    "from sklearn.model_selection import cross_val_score\n",
    "from sklearn.model_selection import ShuffleSplit\n",
    "\n",
    "def cross_validate(classifier, train, label):\n",
    "    avg_score = []\n",
    "\n",
    "    for para in range(-3,4):\n",
    "        classifier.set_params(C=10**para).fit(train,label)\n",
    "        cv = ShuffleSplit(n_splits=5, test_size=0.3, random_state=42)\n",
    "        scores = cross_val_score(classifier,train,label,cv=cv,scoring='accuracy')\n",
    "    \n",
    "        print('-'*20,'C =',10**para,'-'*20)\n",
    "        print(scores)\n",
    "        print(np.average(scores))\n",
    "        avg_score.append(np.average(scores))\n",
    "\n",
    "    max_score = np.max(avg_score)\n",
    "    index = avg_score.index(max_score)\n",
    "    c_idx = [x for x in range(-3,4)][index]\n",
    "    print('-'*20,'Result','-'*20)\n",
    "    print('The best classifier is when C =',10**c_idx)\n",
    "    print('Average F-1 Score is:',max_score)\n",
    "    \n",
    "    return classifier.set_params(C=10**c_idx).fit(train,label)\n",
    "\n",
    "svm = cross_validate(LinearSVC(loss='hinge'),X_train_lsi,train_label)"
   ]
  },
  {
   "cell_type": "markdown",
   "metadata": {},
   "source": [
    "**$\\therefore$ the best $\\gamma$ is 10**"
   ]
  },
  {
   "cell_type": "code",
   "execution_count": 22,
   "metadata": {},
   "outputs": [
    {
     "name": "stdout",
     "output_type": "stream",
     "text": [
      "LinearSVC(C=10, class_weight=None, dual=True, fit_intercept=True,\n",
      "     intercept_scaling=1, loss='hinge', max_iter=1000, multi_class='ovr',\n",
      "     penalty='l2', random_state=None, tol=0.0001, verbose=0)\n"
     ]
    },
    {
     "data": {
      "text/plain": [
       "Text(0.5,1,'ROC Curve of the best SVM')"
      ]
     },
     "execution_count": 22,
     "metadata": {},
     "output_type": "execute_result"
    },
    {
     "data": {
      "image/png": "[encoded data removed]",
      "text/plain": [
       "<matplotlib.figure.Figure at 0x1e3a4f29b00>"
      ]
     },
     "metadata": {},
     "output_type": "display_data"
    }
   ],
   "source": [
    "# ROC curve of the best\n",
    "\n",
    "print(svm)\n",
    "\n",
    "score = svm.decision_function(X_test_lsi)\n",
    "fpr, tpr, _ = metrics.roc_curve(test_label, score, pos_label=1)\n",
    "\n",
    "plot_roc(fpr, tpr)\n",
    "plt.title('ROC Curve of the best SVM')"
   ]
  },
  {
   "cell_type": "code",
   "execution_count": 23,
   "metadata": {},
   "outputs": [
    {
     "name": "stdout",
     "output_type": "stream",
     "text": [
      "-------------------- Confusion Matrix of best SVM(C=10) --------------------\n",
      "[[1505   55]\n",
      " [  27 1563]]\n",
      "-------------------- Other Evaluation of best SVM(C=10) --------------------\n",
      "Accuracy: 0.9739682539682539\n",
      "Recall: 0.9830188679245283\n",
      "Precision: 0.9660074165636588\n",
      "F-1 Score: 0.9744389027431422\n"
     ]
    }
   ],
   "source": [
    "# Confusion Matrix of the best SVM and other parameters\n",
    "CM,accuracy,recall,precision,Fscore = evaluate(\n",
    "    svm,'best SVM(C=10)',X_test_lsi,test_label)"
   ]
  },
  {
   "cell_type": "code",
   "execution_count": 25,
   "metadata": {},
   "outputs": [
    {
     "name": "stdout",
     "output_type": "stream",
     "text": [
      "-------------------- Other Evaluation of Best SVM(C=10) --------------------\n",
      "Accuracy: 0.9739682539682539\n",
      "Recall: 0.9830188679245283\n",
      "Precision: 0.9660074165636588\n",
      "F-1 Score: 0.9744389027431422\n",
      "-------------------- Other Evaluation of Hard SVM(C=1000) --------------------\n",
      "Accuracy: 0.9720634920634921\n",
      "Recall: 0.9742138364779874\n",
      "Precision: 0.9705513784461153\n",
      "F-1 Score: 0.9723791588198367\n"
     ]
    }
   ],
   "source": [
    "# compare with hard svm \n",
    "\n",
    "print('-'*20, 'Other Evaluation of Best SVM(C=10)','-'*20)\n",
    "print('Accuracy:',accuracy)\n",
    "print('Recall:',recall)\n",
    "print('Precision:',precision)\n",
    "print('F-1 Score:',Fscore)\n",
    "\n",
    "print('-'*20, 'Other Evaluation of Hard SVM(C=1000)','-'*20)\n",
    "print('Accuracy:',accuracy_hard)\n",
    "print('Recall:',recall_hard)\n",
    "print('Precision:',precision_hard)\n",
    "print('F-1 Score:',Fscore_hard)"
   ]
  },
  {
   "cell_type": "markdown",
   "metadata": {},
   "source": [
    "## Question 5:\n",
    "Logistic classifier:\n",
    "- Train a logistic classifier without regularization (you may need to come up with some way to approximate this if you use sklearn.linear_model.LogisticRegression); plot the ROC curve and report the confusion matrix and calculate the **accuracy, recall precision** and **F-1 score** of this classifier.\n",
    "- Regularization:\n",
    "    * Using 5-fold cross-validation on the dimension-reduced-by-svd training data, find the best regularization strength in the range $\\lbrace10^k\\mid -3 \\leq k \\leq 3, k \\in \\mathbb Z\\rbrace$ for logistic regression with L1 regularization and logistic regression L2 regularization, respectively.\n",
    "    * Compare the performance (accuracy, precision, recall and F-1 score) of 3 logistic classifiers: w/o regularization, w/L1 regularization and w/L2 regularization (with the best parameters you found from the part above), using test data.\n",
    "    * How does the regularization parameter affect the test error? How are the learnt coefficients affected? Why might one be interested in each type of regularization?\n",
    "    * Both logistic regression and linear SVM are trying to classify data points using a linear decision boundary, then what's the difference between their ways to find this boundary?\n",
    "    <br>Why their performance differ?"
   ]
  },
  {
   "cell_type": "markdown",
   "metadata": {},
   "source": [
    "### Train a logistic classifier without regularization"
   ]
  },
  {
   "cell_type": "code",
   "execution_count": 26,
   "metadata": {},
   "outputs": [],
   "source": [
    "from sklearn.linear_model import LogisticRegression\n",
    "clf = LogisticRegression(penalty='l1',solver='saga',\n",
    "                          tol=1e-6, max_iter=int(1e6),\n",
    "                          warm_start=True,random_state=42,C=float(10**6))\n",
    "clf_nonReg = clf.fit(X_train_lsi, train_label)"
   ]
  },
  {
   "cell_type": "code",
   "execution_count": 27,
   "metadata": {},
   "outputs": [
    {
     "data": {
      "text/plain": [
       "Text(0.5,1,'ROC Curve of Logistic Regression without Regularization')"
      ]
     },
     "execution_count": 27,
     "metadata": {},
     "output_type": "execute_result"
    },
    {
     "data": {
      "image/png": "[encoded data removed]",
      "text/plain": [
       "<matplotlib.figure.Figure at 0x1e3a4f577f0>"
      ]
     },
     "metadata": {},
     "output_type": "display_data"
    }
   ],
   "source": [
    "# plot ROC curve\n",
    "score_nonReg = clf_nonReg.decision_function(X_test_lsi)\n",
    "fpr_nonReg, tpr_nonReg, _ = metrics.roc_curve(test_label, score_nonReg, pos_label=1)\n",
    "\n",
    "plot_roc(fpr_nonReg, tpr_nonReg)\n",
    "plt.title('ROC Curve of Logistic Regression without Regularization')"
   ]
  },
  {
   "cell_type": "code",
   "execution_count": 28,
   "metadata": {},
   "outputs": [
    {
     "name": "stdout",
     "output_type": "stream",
     "text": [
      "-------------------- Confusion Matrix of Logistic Regression without Regularization (train) --------------------\n",
      "[[2294   49]\n",
      " [  51 2338]]\n",
      "-------------------- Other Evaluation of Logistic Regression without Regularization (train) --------------------\n",
      "Accuracy: 0.9788672865595942\n",
      "Recall: 0.9786521557136877\n",
      "Precision: 0.9794721407624634\n",
      "F-1 Score: 0.9790619765494137\n",
      "-------------------- Confusion Matrix of Logistic Regression without Regularization (test) --------------------\n",
      "[[1501   59]\n",
      " [  36 1554]]\n",
      "-------------------- Other Evaluation of Logistic Regression without Regularization (test) --------------------\n",
      "Accuracy: 0.9698412698412698\n",
      "Recall: 0.9773584905660377\n",
      "Precision: 0.9634221946683199\n",
      "F-1 Score: 0.9703403059631596\n",
      "\n",
      "-------------------- Notes of Index --------------------\n",
      "labels are:\n",
      "Value of 0 -> Computer Technology\n",
      "Value of 1 -> Recreational Activity\n"
     ]
    }
   ],
   "source": [
    "# Confusion Matrix of the best SVM\n",
    "evaluate(clf_nonReg,'Logistic Regression without Regularization (train)',\n",
    "        X_train_lsi,train_label)\n",
    "CM_nonReg,accuracy_nonReg,recall_nonReg,precision_nonReg,Fscore_nonReg = evaluate(clf_nonReg,'Logistic Regression without Regularization (test)',\n",
    "        X_test_lsi,test_label)\n",
    "\n",
    "print()\n",
    "print('-'*20,'Notes of Index','-'*20)\n",
    "print('labels are:')\n",
    "print('Value of 0 ->',new_name[0])\n",
    "print('Value of 1 ->',new_name[1])"
   ]
  },
  {
   "cell_type": "markdown",
   "metadata": {},
   "source": [
    "### Logistic Regression with Regularization"
   ]
  },
  {
   "cell_type": "markdown",
   "metadata": {},
   "source": [
    "#### Using 5-fold cross-validation to optimize the regularization strength"
   ]
  },
  {
   "cell_type": "code",
   "execution_count": 29,
   "metadata": {},
   "outputs": [
    {
     "name": "stdout",
     "output_type": "stream",
     "text": [
      "-------------------- C = 0.001 --------------------\n",
      "[0.51126761 0.51267606 0.51690141 0.50140845 0.51478873]\n",
      "0.5114084507042254\n",
      "-------------------- C = 0.01 --------------------\n",
      "[0.51126761 0.48732394 0.48309859 0.50140845 0.48521127]\n",
      "0.4936619718309859\n",
      "-------------------- C = 0.1 --------------------\n",
      "[0.95915493 0.96408451 0.95422535 0.96056338 0.96690141]\n",
      "0.9609859154929576\n",
      "-------------------- C = 1 --------------------\n",
      "[0.96619718 0.97042254 0.96338028 0.96830986 0.97042254]\n",
      "0.9677464788732395\n",
      "-------------------- C = 10 --------------------\n",
      "[0.97253521 0.97535211 0.96971831 0.97746479 0.97464789]\n",
      "0.973943661971831\n",
      "-------------------- C = 100 --------------------\n",
      "[0.97323944 0.97253521 0.96760563 0.97746479 0.97464789]\n",
      "0.9730985915492958\n",
      "-------------------- C = 1000 --------------------\n",
      "[0.97394366 0.97253521 0.96760563 0.97676056 0.97464789]\n",
      "0.9730985915492958\n",
      "-------------------- Result --------------------\n",
      "The best classifier is when C = 10\n",
      "Average F-1 Score is: 0.973943661971831\n"
     ]
    }
   ],
   "source": [
    "# L1 regularization\n",
    "clf_L1 = cross_validate(LogisticRegression(penalty='l1',solver='saga',\n",
    "                          tol=1e-6, max_iter=int(1e6),\n",
    "                          warm_start=True,random_state=42),\n",
    "                        X_train_lsi,train_label)"
   ]
  },
  {
   "cell_type": "markdown",
   "metadata": {},
   "source": [
    "#### $\\therefore$ The best inverse of regularization strength for L1 is 10"
   ]
  },
  {
   "cell_type": "code",
   "execution_count": 30,
   "metadata": {},
   "outputs": [
    {
     "name": "stdout",
     "output_type": "stream",
     "text": [
      "-------------------- C = 0.001 --------------------\n",
      "[0.68169014 0.76690141 0.96549296 0.50211268 0.92183099]\n",
      "0.7676056338028168\n",
      "-------------------- C = 0.01 --------------------\n",
      "[0.95704225 0.96408451 0.96549296 0.91197183 0.96760563]\n",
      "0.9532394366197183\n",
      "-------------------- C = 0.1 --------------------\n",
      "[0.96690141 0.97183099 0.96478873 0.96901408 0.97112676]\n",
      "0.9687323943661973\n",
      "-------------------- C = 1 --------------------\n",
      "[0.96830986 0.97183099 0.96478873 0.97323944 0.97323944]\n",
      "0.9702816901408452\n",
      "-------------------- C = 10 --------------------\n",
      "[0.97112676 0.97253521 0.96760563 0.97605634 0.97605634]\n",
      "0.9726760563380281\n",
      "-------------------- C = 100 --------------------\n",
      "[0.97253521 0.97394366 0.96901408 0.97676056 0.97676056]\n",
      "0.9738028169014085\n",
      "-------------------- C = 1000 --------------------\n",
      "[0.97323944 0.97253521 0.96830986 0.97746479 0.97464789]\n",
      "0.9732394366197183\n",
      "-------------------- Result --------------------\n",
      "The best classifier is when C = 100\n",
      "Average F-1 Score is: 0.9738028169014085\n"
     ]
    }
   ],
   "source": [
    "# L2 regularization\n",
    "clf_L2 = cross_validate(LogisticRegression(penalty='l2',solver='saga',\n",
    "                          tol=1e-6, max_iter=int(1e6),\n",
    "                          warm_start=True,random_state=42),\n",
    "                        X_train_lsi,train_label)"
   ]
  },
  {
   "cell_type": "markdown",
   "metadata": {},
   "source": [
    "#### $\\therefore$ The best inverse of regularization strength for L2 is 100"
   ]
  },
  {
   "cell_type": "code",
   "execution_count": 34,
   "metadata": {},
   "outputs": [
    {
     "name": "stdout",
     "output_type": "stream",
     "text": [
      "LogisticRegression(C=1000000.0, class_weight=None, dual=False,\n",
      "          fit_intercept=True, intercept_scaling=1, max_iter=1000000,\n",
      "          multi_class='ovr', n_jobs=1, penalty='l1', random_state=42,\n",
      "          solver='saga', tol=1e-06, verbose=0, warm_start=True)\n"
     ]
    }
   ],
   "source": [
    "print(clf_nonReg)"
   ]
  },
  {
   "cell_type": "code",
   "execution_count": 35,
   "metadata": {},
   "outputs": [
    {
     "data": {
      "text/plain": [
       "LogisticRegression(C=10, class_weight=None, dual=False, fit_intercept=True,\n",
       "          intercept_scaling=1, max_iter=1000000, multi_class='ovr',\n",
       "          n_jobs=1, penalty='l1', random_state=42, solver='saga',\n",
       "          tol=1e-06, verbose=0, warm_start=True)"
      ]
     },
     "execution_count": 35,
     "metadata": {},
     "output_type": "execute_result"
    }
   ],
   "source": [
    "clf_L1"
   ]
  },
  {
   "cell_type": "code",
   "execution_count": 36,
   "metadata": {},
   "outputs": [
    {
     "data": {
      "text/plain": [
       "LogisticRegression(C=100, class_weight=None, dual=False, fit_intercept=True,\n",
       "          intercept_scaling=1, max_iter=1000000, multi_class='ovr',\n",
       "          n_jobs=1, penalty='l2', random_state=42, solver='saga',\n",
       "          tol=1e-06, verbose=0, warm_start=True)"
      ]
     },
     "execution_count": 36,
     "metadata": {},
     "output_type": "execute_result"
    }
   ],
   "source": [
    "clf_L2"
   ]
  },
  {
   "cell_type": "markdown",
   "metadata": {},
   "source": [
    "#### Compare 3 classifiers"
   ]
  },
  {
   "cell_type": "code",
   "execution_count": 37,
   "metadata": {
    "scrolled": true
   },
   "outputs": [
    {
     "name": "stdout",
     "output_type": "stream",
     "text": [
      "-------------------- Logistic Regression with w/o regularization --------------------\n",
      "Accuracy: 0.9695238095238096\n",
      "Recall: 0.9779874213836478\n",
      "Precision: 0.9622524752475248\n",
      "F-1 Score: 0.9700561447286339\n",
      "-------------------- Logistic Regression with w/L1 regularization --------------------\n",
      "Accuracy: 0.9711111111111111\n",
      "Recall: 0.9786163522012579\n",
      "Precision: 0.9646621202727836\n",
      "F-1 Score: 0.9715891351857634\n",
      "-------------------- Logistic Regression with w/L2 regularization --------------------\n",
      "Accuracy: 0.9717460317460317\n",
      "Recall: 0.9792452830188679\n",
      "Precision: 0.9652820830750155\n",
      "F-1 Score: 0.9722135497970652\n"
     ]
    }
   ],
   "source": [
    "# For test data, compare their performance\n",
    "\n",
    "y_pred_L1 = clf_L1.predict(X_test_lsi)\n",
    "y_pred_L2 = clf_L2.predict(X_test_lsi)\n",
    "\n",
    "accuracy_L1 = metrics.accuracy_score(test_label, y_pred_L1)\n",
    "accuracy_L2 = metrics.accuracy_score(test_label, y_pred_L2)\n",
    "\n",
    "recall_L1 = metrics.recall_score(test_label, y_pred_L1)\n",
    "recall_L2 = metrics.recall_score(test_label, y_pred_L2)\n",
    "\n",
    "precision_L1 = metrics.precision_score(test_label, y_pred_L1)\n",
    "precision_L2 = metrics.precision_score(test_label, y_pred_L2)\n",
    "\n",
    "Fscore_L1 = metrics.f1_score(test_label, y_pred_L1)\n",
    "Fscore_L2 = metrics.f1_score(test_label, y_pred_L2)\n",
    "\n",
    "# show time\n",
    "\n",
    "print('-'*20, 'Logistic Regression with w/o regularization','-'*20)\n",
    "print('Accuracy:',accuracy_nonReg)\n",
    "print('Recall:',recall_nonReg)\n",
    "print('Precision:',precision_nonReg)\n",
    "print('F-1 Score:',Fscore_nonReg)\n",
    "\n",
    "print('-'*20, 'Logistic Regression with w/L1 regularization','-'*20)\n",
    "print('Accuracy:',accuracy_L1)\n",
    "print('Recall:',recall_L1)\n",
    "print('Precision:',precision_L1)\n",
    "print('F-1 Score:',Fscore_L1)\n",
    "\n",
    "print('-'*20, 'Logistic Regression with w/L2 regularization','-'*20)\n",
    "print('Accuracy:',accuracy_L2)\n",
    "print('Recall:',recall_L2)\n",
    "print('Precision:',precision_L2)\n",
    "print('F-1 Score:',Fscore_L2)"
   ]
  },
  {
   "cell_type": "code",
   "execution_count": 38,
   "metadata": {},
   "outputs": [
    {
     "name": "stdout",
     "output_type": "stream",
     "text": [
      "-------------------- Confusion Matrix of w/o regularization --------------------\n",
      "[[1499   61]\n",
      " [  35 1555]]\n",
      "-------------------- Confusion Matrix of w/L1 regularization --------------------\n",
      "[[1503   57]\n",
      " [  34 1556]]\n",
      "-------------------- Confusion Matrix of w/L2 regularization --------------------\n",
      "[[1504   56]\n",
      " [  33 1557]]\n",
      "-------------------- Notes of Index --------------------\n",
      "labels are:\n",
      "Value of 0 -> Computer Technology\n",
      "Value of 1 -> Recreational Activity\n"
     ]
    }
   ],
   "source": [
    "# Confusion Matrix \n",
    "CM_L1 = metrics.confusion_matrix(test_label, y_pred_L1)\n",
    "CM_L2 = metrics.confusion_matrix(test_label, y_pred_L2)\n",
    "\n",
    "# show time\n",
    "print('-'*20, 'Confusion Matrix of w/o regularization','-'*20)\n",
    "print(CM_nonReg)\n",
    "print('-'*20, 'Confusion Matrix of w/L1 regularization','-'*20)\n",
    "print(CM_L1)\n",
    "print('-'*20, 'Confusion Matrix of w/L2 regularization','-'*20)\n",
    "print(CM_L2)\n",
    "print('-'*20, 'Notes of Index','-'*20)\n",
    "print('labels are:')\n",
    "print('Value of 0 ->',new_name[0])\n",
    "print('Value of 1 ->',new_name[1])"
   ]
  },
  {
   "cell_type": "code",
   "execution_count": 39,
   "metadata": {},
   "outputs": [
    {
     "name": "stdout",
     "output_type": "stream",
     "text": [
      "-------------------- Coefficients of w/o regularization --------------------\n",
      "[[ -3.41249772 122.95955883 -25.48510503  89.71552082  12.26838149\n",
      "  -18.04283144   2.37552088  -0.38425505  21.89194245  17.84706681\n",
      "   36.63524855  -6.39312085  -7.40908104  11.25494869  17.22127955\n",
      "    9.13612144 -11.29108304  12.64109112   6.83591578   3.84286297\n",
      "  -10.19692905  -0.84021958   0.64302053  -4.70838008   6.91748339\n",
      "    3.58088291  -1.07386433  -9.09725222  -0.19828862 -21.03066295\n",
      "   14.63596956   6.2616843    8.52894136   7.38354453   8.75465616\n",
      "   -7.15049612  -2.58739578 -15.91167507  -1.28534496  -1.41100942\n",
      "    1.75246217   9.26897904  16.55964691   3.07675568 -12.23710782\n",
      "   -2.16010882  -2.97644341   1.62240136  -1.87960406  -3.08343359]]\n",
      "-------------------- Coefficients of w/L1 regularization --------------------\n",
      "[[ -2.57684755 106.91483907 -19.73500372  73.57300305  10.19711407\n",
      "  -12.64753306   0.           0.          16.63359326  14.85384124\n",
      "   28.89656719  -4.42354853  -5.52591989   6.83827375  13.56524276\n",
      "    2.96896829  -7.40254905   9.24603012   4.91090004   2.84672396\n",
      "   -6.53796461   0.          -0.20203689  -1.323505     6.15686032\n",
      "    2.84952755  -0.30048117  -6.01743401  -1.29620267 -16.61633166\n",
      "   12.23017653   3.76429769   5.3742991    5.58891599   5.34842075\n",
      "   -5.51569609   0.         -11.51474719   0.          -0.20062306\n",
      "    1.54791357   5.39116107  12.50978503   0.41250686  -9.00064533\n",
      "   -1.21822901  -0.96111403   0.          -0.1294032   -1.79872087]]\n",
      "-------------------- Coefficients of w/L2 regularization --------------------\n",
      "[[-1.47640012e+00  8.46061801e+01 -1.53448262e+01  5.76792989e+01\n",
      "   7.57574695e+00 -8.98763857e+00 -2.73385241e-02 -1.04152550e+00\n",
      "   1.41648073e+01  1.32689148e+01  2.42924995e+01 -5.02903529e+00\n",
      "  -6.17604747e+00  6.18907148e+00  9.71180737e+00  5.47896500e+00\n",
      "  -6.45193792e+00  9.06028145e+00  4.13611263e+00  3.25478828e+00\n",
      "  -4.63881192e+00 -1.70353869e+00 -1.07061660e+00 -3.07629350e+00\n",
      "   5.07481529e+00  2.91798317e+00 -4.30253830e+00 -4.88791120e+00\n",
      "  -2.07875986e+00 -1.29210187e+01  1.10224152e+01  2.67562841e+00\n",
      "   3.70086595e+00  3.30254011e+00  3.80831559e+00 -3.43866901e+00\n",
      "  -2.67148384e-01 -7.80070340e+00 -1.05445635e-02 -2.01153483e+00\n",
      "   1.45182298e+00  4.85866366e+00  9.17643675e+00  7.90772145e-01\n",
      "  -7.59188344e+00 -2.02875042e+00 -9.04409481e-01  7.03981252e-02\n",
      "  -4.78737341e-01 -3.05752727e+00]]\n"
     ]
    }
   ],
   "source": [
    "# Learnt coefficients\n",
    "print('-'*20, 'Coefficients of w/o regularization','-'*20)\n",
    "print(clf_nonReg.coef_)\n",
    "print('-'*20, 'Coefficients of w/L1 regularization','-'*20)\n",
    "print(clf_L1.coef_)\n",
    "print('-'*20, 'Coefficients of w/L2 regularization','-'*20)\n",
    "print(clf_L2.coef_)"
   ]
  },
  {
   "cell_type": "markdown",
   "metadata": {},
   "source": [
    "## Question 6:\n",
    "Naive  Bayes classifier: Train a GaussianNB classifier; plot the ROC curve and report the confusion matrix and calculate the **accuracy, recall, precision** and **F-1 score** of this classifier."
   ]
  },
  {
   "cell_type": "code",
   "execution_count": 31,
   "metadata": {},
   "outputs": [],
   "source": [
    "from sklearn.naive_bayes import GaussianNB\n",
    "bayes = GaussianNB().fit(X_train_lsi, train_label)"
   ]
  },
  {
   "cell_type": "code",
   "execution_count": 32,
   "metadata": {},
   "outputs": [
    {
     "data": {
      "text/plain": [
       "Text(0.5,1,'ROC Curve of GaussianNB (test set)')"
      ]
     },
     "execution_count": 32,
     "metadata": {},
     "output_type": "execute_result"
    },
    {
     "data": {
      "image/png": "[encoded data removed]",
      "text/plain": [
       "<matplotlib.figure.Figure at 0x1e3a5d1d940>"
      ]
     },
     "metadata": {},
     "output_type": "display_data"
    }
   ],
   "source": [
    "# ROC curve for test set\n",
    "score_bayes = bayes.predict_proba(X_test_lsi)[:,1]\n",
    "fpr_bayes, tpr_bayes, _ = metrics.roc_curve(test_label, score_bayes, pos_label=1)\n",
    "\n",
    "plot_roc(fpr_bayes, tpr_bayes)\n",
    "plt.title('ROC Curve of GaussianNB (test set)')"
   ]
  },
  {
   "cell_type": "code",
   "execution_count": 33,
   "metadata": {},
   "outputs": [
    {
     "data": {
      "text/plain": [
       "Text(0.5,1,'ROC Curve of GaussianNB (train set)')"
      ]
     },
     "execution_count": 33,
     "metadata": {},
     "output_type": "execute_result"
    },
    {
     "data": {
      "image/png": "[encoded data removed]",
      "text/plain": [
       "<matplotlib.figure.Figure at 0x1e3a4f24fd0>"
      ]
     },
     "metadata": {},
     "output_type": "display_data"
    }
   ],
   "source": [
    "# ROC curve for train set\n",
    "score_train_bayes = bayes.predict_proba(X_train_lsi)[:,1]\n",
    "fpr_train_bayes, tpr_train_bayes, _ = metrics.roc_curve(train_label, score_train_bayes, pos_label=1)\n",
    "\n",
    "plot_roc(fpr_train_bayes, tpr_train_bayes)\n",
    "plt.title('ROC Curve of GaussianNB (train set)')"
   ]
  },
  {
   "cell_type": "code",
   "execution_count": 34,
   "metadata": {},
   "outputs": [
    {
     "name": "stdout",
     "output_type": "stream",
     "text": [
      "-------------------- Confusion Matrix of GaussianNB (train set) --------------------\n",
      "[[2045  298]\n",
      " [  92 2297]]\n",
      "-------------------- Other Evaluation of GaussianNB (train set) --------------------\n",
      "Accuracy: 0.9175824175824175\n",
      "Recall: 0.961490163248221\n",
      "Precision: 0.8851637764932563\n",
      "F-1 Score: 0.9217495987158908\n",
      "\n",
      "-------------------- Confusion Matrix of GaussianNB (test set) --------------------\n",
      "[[1328  232]\n",
      " [  74 1516]]\n",
      "-------------------- Other Evaluation of GaussianNB (test set) --------------------\n",
      "Accuracy: 0.9028571428571428\n",
      "Recall: 0.9534591194968554\n",
      "Precision: 0.8672768878718535\n",
      "F-1 Score: 0.9083283403235471\n"
     ]
    }
   ],
   "source": [
    "# Evaluation\n",
    "evaluate(bayes,'GaussianNB (train set)',X_train_lsi,train_label)\n",
    "\n",
    "print()\n",
    "\n",
    "_ = evaluate(bayes,'GaussianNB (test set)',X_test_lsi,test_label)"
   ]
  },
  {
   "cell_type": "markdown",
   "metadata": {},
   "source": [
    "## Question 7:\n",
    "Grid search of parameters:\n",
    "- Construct a Pipeline that performs feature extraction,, dimensionality reduction and classification;\n",
    "- Do grid search with 5-fold cross-validation to compare the following (use test accuracy as the score to compare);\n",
    "- What is the best combination?"
   ]
  },
  {
   "cell_type": "markdown",
   "metadata": {},
   "source": [
    "#### Pipeline"
   ]
  },
  {
   "cell_type": "code",
   "execution_count": 35,
   "metadata": {},
   "outputs": [
    {
     "name": "stdout",
     "output_type": "stream",
     "text": [
      "accuracy:0.8984126984126984\n"
     ]
    }
   ],
   "source": [
    "# prepare for pipeline\n",
    "from sklearn.pipeline import Pipeline\n",
    "np.random.seed(42)\n",
    "random.seed(42)\n",
    "\n",
    "pipeline = Pipeline([\n",
    "    ('vect',CountVectorizer(min_df=1,stop_words='english',analyzer=stem_rmv_punc)),\n",
    "    ('tfidf',TfidfTransformer()),\n",
    "    ('reduce_dim',TruncatedSVD(n_components = 50)),\n",
    "    ('clf',GaussianNB())\n",
    "])\n",
    "\n",
    "pipeline.fit(train_dataset.data, train_label)\n",
    "predict = pipeline.predict(test_dataset.data)\n",
    "print(\"accuracy:{}\".format(metrics.accuracy_score(test_label, predict)))"
   ]
  },
  {
   "cell_type": "markdown",
   "metadata": {},
   "source": [
    "##### Grid Search\n",
    "Compare Table:\n",
    "\n",
    "| Procedure | Options |\n",
    "| ------- | ----- | \n",
    "| Loading Data | remove \"headers\" and \"footers\" vs not | \n",
    "| Feature Extraction | min_df = 3 vs 5 <br> use lemmatization vs not |\n",
    "| Dimensionality Reduction | LSI vs NMF |\n",
    "| Classifier | SVM with the best $\\gamma$ <br> vs <br> Logistic Regression: L1 regularization <br> vs L2 regularization, <br> with the best regularization strength previously found <br> vs <br> GaussianNB |\n",
    "| Other options | Use default |"
   ]
  },
  {
   "cell_type": "code",
   "execution_count": null,
   "metadata": {},
   "outputs": [
    {
     "name": "stdout",
     "output_type": "stream",
     "text": [
      "Fitting 5 folds for each of 32 candidates, totalling 160 fits\n"
     ]
    },
    {
     "name": "stderr",
     "output_type": "stream",
     "text": [
      "[Parallel(n_jobs=3)]: Done   2 tasks      | elapsed:    6.8s\n",
      "[Parallel(n_jobs=3)]: Done   7 tasks      | elapsed:   15.9s\n"
     ]
    }
   ],
   "source": [
    "# remove headers and footers\n",
    "\n",
    "from sklearn.model_selection import GridSearchCV\n",
    "from sklearn.pipeline import Pipeline\n",
    "from sklearn.svm import LinearSVC\n",
    "from sklearn.decomposition import TruncatedSVD, NMF\n",
    "\n",
    "# used to cache results\n",
    "from tempfile import mkdtemp\n",
    "from shutil import rmtree\n",
    "from sklearn.externals.joblib import Memory\n",
    "# print(__doc__)\n",
    "cachedir = mkdtemp()\n",
    "memory = Memory(cachedir=cachedir, verbose=10)\n",
    "\n",
    "categories = ['comp.graphics', 'comp.os.ms-windows.misc',\n",
    "'comp.sys.ibm.pc.hardware', 'comp.sys.mac.hardware',\n",
    "'rec.autos', 'rec.motorcycles',\n",
    "'rec.sport.baseball', 'rec.sport.hockey']\n",
    "\n",
    "X_train_noheader = fetch_20newsgroups(subset = 'train', \n",
    "                                      categories = categories, \n",
    "                                      shuffle = True, \n",
    "                                      remove=('headers','footers'),\n",
    "                                      random_state = None)\n",
    "\n",
    "label_noheader,new_label = get_labels(X_train_noheader)\n",
    "\n",
    "pipeline = Pipeline([\n",
    "    ('vect',CountVectorizer(stop_words='english')),\n",
    "    ('tfidf',TfidfTransformer()),\n",
    "    ('reduce_dim',TruncatedSVD(n_components = 50)),\n",
    "    ('clf',GaussianNB())\n",
    "], memory = memory)\n",
    "\n",
    "param = [\n",
    "    {\n",
    "        'vect':[CountVectorizer(stop_words='english',min_df=3),\n",
    "                CountVectorizer(stop_words='english',min_df=5),\n",
    "                CountVectorizer(stop_words='english',min_df=3,analyzer=stem_rmv_punc),\n",
    "                CountVectorizer(stop_words='english',min_df=5,analyzer=stem_rmv_punc)\n",
    "               ],\n",
    "        'reduce_dim': [TruncatedSVD(n_components = 50), NMF(n_components = 50,init='random')],\n",
    "        'clf': [LinearSVC(loss='hinge',C=10),\n",
    "                LogisticRegression(penalty='l1',solver='saga',\n",
    "                          tol=1e-6, max_iter=int(1e6),\n",
    "                          warm_start=True,C=1000),\n",
    "                LogisticRegression(penalty='l2',solver='saga',\n",
    "                          tol=1e-6, max_iter=int(1e6),\n",
    "                          warm_start=True,C=100),\n",
    "                GaussianNB()]\n",
    "    }\n",
    "]\n",
    "\n",
    "gs = GridSearchCV(pipeline, param, cv=5, n_jobs=3,\n",
    "                              verbose=10, scoring='accuracy', \n",
    "                              return_train_score=True)\n",
    "gs.fit(X_train_noheader.data,label_noheader)\n",
    "rmtree(cachedir)"
   ]
  },
  {
   "cell_type": "code",
   "execution_count": null,
   "metadata": {},
   "outputs": [],
   "source": [
    "import pandas as pd\n",
    "\n",
    "pd.DataFrame(grid.cv_results_)"
   ]
  },
  {
   "cell_type": "code",
   "execution_count": null,
   "metadata": {},
   "outputs": [],
   "source": [
    "# do not remove headers and footers\n",
    "\n",
    "cachedir = mkdtemp()\n",
    "memory = Memory(cachedir=cachedir, verbose=10)\n",
    "\n",
    "X_train_header = fetch_20newsgroups(subset = 'train', \n",
    "                                      categories = categories, \n",
    "                                      shuffle = True, \n",
    "                                      remove=(),\n",
    "                                      random_state = None)\n",
    "\n",
    "label_header,new_label = get_labels(X_train_noheader)\n",
    "gs_header = GridSearchCV(pipeline,param,cv=5,n_jobs=3,\n",
    "                        verbose=1,scoring='accuracy',\n",
    "                        return_train_score=True)\n",
    "gs_header.fit(X_train_header.data,laber_header)\n",
    "rmtree(cachedir)"
   ]
  },
  {
   "cell_type": "markdown",
   "metadata": {},
   "source": [
    "## Question 8:\n",
    "In this part, we aim to learn classifiers on the documents belonging to the classes:\n",
    "\n",
    "<font color=LightCoral>[comp.sys.ibm.pc.hardware, comp.sys.mac.hardware,\n",
    "misc.forsale, soc.religion.christian]</font>\n",
    "\n",
    "Perform Naive Baayes classification and multiclass SVM classification (with both One VS One and One VS the rest methods described above) and report the **confusion matrix** and calculate the **accuracy, recall, precision** and **F-1 score** of your classifiers."
   ]
  },
  {
   "cell_type": "code",
   "execution_count": 46,
   "metadata": {},
   "outputs": [
    {
     "name": "stdout",
     "output_type": "stream",
     "text": [
      "2352\n",
      "1565\n",
      "-------------------- After preprocess --------------------\n",
      "(2352, 50)\n",
      "(1565, 50)\n"
     ]
    }
   ],
   "source": [
    "# prepare data\n",
    "from sklearn.datasets import fetch_20newsgroups\n",
    "categories8 = ['comp.sys.ibm.pc.hardware', 'comp.sys.mac.hardware',\n",
    "'misc.forsale', 'soc.religion.christian']\n",
    "\n",
    "train_ds = fetch_20newsgroups(subset = 'train', \n",
    "                                      categories = categories8, \n",
    "                                      shuffle = True, \n",
    "                                      random_state = None)\n",
    "test_ds = fetch_20newsgroups(subset = 'test', \n",
    "                                      categories = categories8, \n",
    "                                      shuffle = True, \n",
    "                                      random_state = None)\n",
    "\n",
    "# preprocess data\n",
    "\n",
    "# vect\n",
    "vec8 = CountVectorizer(min_df=3, analyzer=stem_rmv_punc, stop_words = 'english')\n",
    "train_vect = vec8.fit_transform(train_ds.data)\n",
    "test_vect = vec8.transform(test_ds.data)\n",
    "\n",
    "# tfidf\n",
    "from sklearn.feature_extraction.text import TfidfTransformer\n",
    "tfidf8 = TfidfTransformer()\n",
    "train_tfidf = tfidf8.fit_transform(train_vect)\n",
    "test_tfidf = tfidf8.transform(test_vect)\n",
    "\n",
    "# lsi\n",
    "from sklearn.decomposition import TruncatedSVD\n",
    "svd8 = TruncatedSVD(n_components = 50, random_state = 42)\n",
    "X_train8 = svd8.fit_transform(train_tfidf)\n",
    "X_test8 = svd8.transform(test_tfidf)\n",
    "\n",
    "# check\n",
    "print(len(train_ds.data))\n",
    "print(len(test_ds.data))\n",
    "print('-'*20,'After preprocess','-'*20)\n",
    "print(X_train8.shape)\n",
    "print(X_test8.shape)"
   ]
  },
  {
   "cell_type": "code",
   "execution_count": 48,
   "metadata": {},
   "outputs": [
    {
     "name": "stdout",
     "output_type": "stream",
     "text": [
      "[0 1 2 3]\n"
     ]
    }
   ],
   "source": [
    "print(np.unique(train_ds.target))"
   ]
  },
  {
   "cell_type": "markdown",
   "metadata": {},
   "source": [
    "#### Naive Bayes"
   ]
  },
  {
   "cell_type": "code",
   "execution_count": 56,
   "metadata": {},
   "outputs": [
    {
     "name": "stdout",
     "output_type": "stream",
     "text": [
      "-------------------- Confusion Matrix of GaussianNB of Naive Bayes --------------------\n",
      "[[235  40 113   4]\n",
      " [119 141 123   2]\n",
      " [ 50  39 298   3]\n",
      " [  0   1  14 383]]\n",
      "-------------------- Other Evaluation of GaussianNB of Naive Bayes --------------------\n",
      "Accuracy: 0.6753993610223642\n",
      "Recall: 0.6730344210109106\n",
      "Precision: 0.6851321637137685\n",
      "F-1 Score: 0.6652033763536334\n"
     ]
    }
   ],
   "source": [
    "from sklearn.naive_bayes import GaussianNB\n",
    "bayes8 = GaussianNB().fit(X_train8,train_ds.target)\n",
    "\n",
    "# evaluate\n",
    "_ = evaluate(bayes8,'GaussianNB of Naive Bayes',X_test8,test_ds.target,'macro')"
   ]
  },
  {
   "cell_type": "markdown",
   "metadata": {},
   "source": [
    "#### SVM (ovr)"
   ]
  },
  {
   "cell_type": "code",
   "execution_count": 59,
   "metadata": {},
   "outputs": [
    {
     "name": "stdout",
     "output_type": "stream",
     "text": [
      "-------------------- Confusion Matrix of LinearSVC (ovr) --------------------\n",
      "[[315  56  21   0]\n",
      " [ 35 327  21   2]\n",
      " [ 18  20 346   6]\n",
      " [  3   0   1 394]]\n",
      "-------------------- Other Evaluation of LinearSVC (ovr) --------------------\n",
      "Accuracy: 0.8830670926517572\n",
      "Recall: 0.8825128284613208\n",
      "Precision: 0.8825076631405865\n",
      "F-1 Score: 0.8822389172102387\n"
     ]
    }
   ],
   "source": [
    "from sklearn.svm import LinearSVC\n",
    "svm_ovr = LinearSVC(loss='hinge',C=100).fit(X_train8,train_ds.target)\n",
    "\n",
    "# evaluate\n",
    "_ = evaluate(svm_ovr,'LinearSVC (ovr)',X_test8,test_ds.target,'macro')"
   ]
  },
  {
   "cell_type": "markdown",
   "metadata": {},
   "source": [
    "#### SVM (ovo)"
   ]
  },
  {
   "cell_type": "code",
   "execution_count": 61,
   "metadata": {},
   "outputs": [
    {
     "name": "stdout",
     "output_type": "stream",
     "text": [
      "-------------------- Confusion Matrix of SVC (ovo) --------------------\n",
      "[[324  44  24   0]\n",
      " [ 36 325  24   0]\n",
      " [ 24  21 342   3]\n",
      " [  4   3   2 389]]\n",
      "-------------------- Other Evaluation of SVC (ovo) --------------------\n",
      "Accuracy: 0.8817891373801917\n",
      "Recall: 0.8812491169992964\n",
      "Precision: 0.8817048687343042\n",
      "F-1 Score: 0.8814338106657624\n"
     ]
    }
   ],
   "source": [
    "from sklearn.svm import SVC\n",
    "svm_ovo = SVC(C=100,kernel='linear',\n",
    "             decision_function_shape = 'ovo',\n",
    "             ).fit(X_train8,train_ds.target)\n",
    "\n",
    "# evaluate\n",
    "_ = evaluate(svm_ovo,'SVC (ovo)',X_test8,test_ds.target,'macro')"
   ]
  },
  {
   "cell_type": "code",
   "execution_count": null,
   "metadata": {},
   "outputs": [],
   "source": []
  }
 ],
 "metadata": {
  "kernelspec": {
   "display_name": "Python 3",
   "language": "python",
   "name": "python3"
  },
  "language_info": {
   "codemirror_mode": {
    "name": "ipython",
    "version": 3
   },
   "file_extension": ".py",
   "mimetype": "text/x-python",
   "name": "python",
   "nbconvert_exporter": "python",
   "pygments_lexer": "ipython3",
   "version": "3.6.4"
  }
 },
 "nbformat": 4,
 "nbformat_minor": 2
}
