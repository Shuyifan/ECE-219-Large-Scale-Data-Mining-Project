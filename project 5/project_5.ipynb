{
 "cells": [
  {
   "cell_type": "markdown",
   "metadata": {},
   "source": [
    "## Question 1"
   ]
  },
  {
   "cell_type": "markdown",
   "metadata": {},
   "source": [
    "#### Report the following statistics for each hashtag, i.e. each file"
   ]
  },
  {
   "cell_type": "markdown",
   "metadata": {},
   "source": [
    "Have a look at the data"
   ]
  },
  {
   "cell_type": "code",
   "execution_count": 1,
   "metadata": {},
   "outputs": [
    {
     "name": "stdout",
     "output_type": "stream",
     "text": [
      "firstpost_date\n",
      "title\n",
      "url\n",
      "tweet\n",
      "author\n",
      "original_author\n",
      "citation_date\n",
      "metrics\n",
      "highlight\n",
      "type\n",
      "citation_url\n",
      "----------------------------------------\n",
      "firstpost_date:\n",
      "1419804875\n",
      "----------------------------------------\n",
      "title:\n",
      "I &lt;3 our defense! #GoHawks http://t.co/U1pcXpEsR8\n",
      "----------------------------------------\n",
      "url:\n",
      "http://twitter.com/Mich_Fit/status/549327579782840320\n",
      "----------------------------------------\n",
      "tweet:\n",
      "{'contributors': None, 'truncated': False, 'text': 'I &lt;3 our defense! #GoHawks http://t.co/U1pcXpEsR8', 'in_reply_to_status_id': None, 'id': 549327579782840320, 'favorite_count': 1, 'source': '<a href=\"http://twitter.com\" rel=\"nofollow\">Twitter Web Client</a>', 'retweeted': False, 'coordinates': None, 'entities': {'symbols': [], 'media': [{'expanded_url': 'http://twitter.com/Mich_Fit/status/549327579782840320/photo/1', 'sizes': {'large': {'h': 511, 'resize': 'fit', 'w': 511}, 'small': {'h': 340, 'resize': 'fit', 'w': 340}, 'medium': {'h': 511, 'resize': 'fit', 'w': 511}, 'thumb': {'h': 150, 'resize': 'crop', 'w': 150}}, 'url': 'http://t.co/U1pcXpEsR8', 'media_url_https': 'https://pbs.twimg.com/media/B5-aheMIcAAqGtA.jpg', 'id_str': '549327579392798720', 'indices': [30, 52], 'media_url': 'http://pbs.twimg.com/media/B5-aheMIcAAqGtA.jpg', 'type': 'photo', 'id': 549327579392798720, 'display_url': 'pic.twitter.com/U1pcXpEsR8'}], 'hashtags': [{'indices': [21, 29], 'text': 'GoHawks'}], 'user_mentions': [], 'trends': [], 'urls': []}, 'in_reply_to_screen_name': None, 'in_reply_to_user_id': None, 'retweet_count': 2, 'id_str': '549327579782840320', 'favorited': False, 'user': {'follow_request_sent': None, 'profile_use_background_image': True, 'geo_enabled': True, 'description': 'Food, Fitness, Football                                    #EatClean #FitFam #GoHawks', 'verified': False, 'profile_image_url_https': 'https://pbs.twimg.com/profile_images/547474027204591617/kgP4YJMW_normal.jpeg', 'profile_sidebar_fill_color': 'DDEEF6', 'is_translator': False, 'id': 749230320, 'profile_text_color': '333333', 'followers_count': 2318, 'profile_sidebar_border_color': 'C0DEED', 'id_str': '749230320', 'default_profile_image': False, 'location': 'Ontario', 'utc_offset': None, 'statuses_count': 12477, 'profile_background_color': 'C0DEED', 'friends_count': 2025, 'profile_link_color': '0084B4', 'profile_image_url': 'http://pbs.twimg.com/profile_images/547474027204591617/kgP4YJMW_normal.jpeg', 'notifications': None, 'profile_background_image_url_https': 'https://abs.twimg.com/images/themes/theme1/bg.png', 'profile_banner_url': 'https://pbs.twimg.com/profile_banners/749230320/1413579075', 'profile_background_image_url': 'http://abs.twimg.com/images/themes/theme1/bg.png', 'name': 'Michelle', 'lang': 'en', 'profile_background_tile': False, 'favourites_count': 9490, 'screen_name': 'Mich_Fit', 'url': None, 'created_at': 'Fri Aug 10 12:00:57 +0000 2012', 'contributors_enabled': False, 'time_zone': None, 'protected': False, 'default_profile': True, 'following': None, 'listed_count': 32}, 'geo': None, 'in_reply_to_user_id_str': None, 'possibly_sensitive': False, 'lang': 'en', 'created_at': 'Sun Dec 28 22:14:35 +0000 2014', 'filter_level': 'low', 'in_reply_to_status_id_str': None, 'place': None, 'extended_entities': {'media': [{'expanded_url': 'http://twitter.com/Mich_Fit/status/549327579782840320/photo/1', 'sizes': {'large': {'h': 511, 'resize': 'fit', 'w': 511}, 'small': {'h': 340, 'resize': 'fit', 'w': 340}, 'medium': {'h': 511, 'resize': 'fit', 'w': 511}, 'thumb': {'h': 150, 'resize': 'crop', 'w': 150}}, 'url': 'http://t.co/U1pcXpEsR8', 'media_url_https': 'https://pbs.twimg.com/media/B5-aheMIcAAqGtA.jpg', 'id_str': '549327579392798720', 'indices': [30, 52], 'media_url': 'http://pbs.twimg.com/media/B5-aheMIcAAqGtA.jpg', 'type': 'photo', 'id': 549327579392798720, 'display_url': 'pic.twitter.com/U1pcXpEsR8'}]}}\n",
      "----------------------------------------\n",
      "author:\n",
      "{'author_img': 'http://pbs.twimg.com/profile_images/561716455155064833/XGrpP4Rl_normal.jpeg', 'name': 'RJ', 'url': 'http://twitter.com/rejinseattle', 'nick': 'rejinseattle', 'followers': 1752.0, 'image_url': 'http://pbs.twimg.com/profile_images/561716455155064833/XGrpP4Rl_normal.jpeg', 'type': 'twitter', 'description': 'Married to my best friend... You-make me laugh and occasionally think... I-will let you in on some of the crazy shit that consumes my thoughts...'}\n",
      "----------------------------------------\n",
      "original_author:\n",
      "{'author_img': 'http://pbs.twimg.com/profile_images/547474027204591617/kgP4YJMW_normal.jpeg', 'description': 'Food, Fitness, Football                                    #EatClean #FitFam #GoHawks', 'url': 'http://twitter.com/mich_fit', 'nick': 'mich_fit', 'followers': 2534.0, 'image_url': 'http://pbs.twimg.com/profile_images/547474027204591617/kgP4YJMW_normal.jpeg', 'type': 'twitter', 'influence_level': 0.0, 'name': 'Michelle'}\n",
      "----------------------------------------\n",
      "citation_date:\n",
      "1421518778\n",
      "----------------------------------------\n",
      "metrics:\n",
      "{'acceleration': 0, 'ranking_score': 4.7437034, 'citations': {'influential': 0, 'total': 5, 'data': [{'timestamp': 1421518739, 'citations': 1}], 'matching': 1, 'replies': 0}, 'peak': 1421518799, 'impressions': 1754, 'momentum': 1}\n",
      "----------------------------------------\n",
      "highlight:\n",
      "I &lt;3 our defense! #GoHawks http://t.co/U1pcXpEsR8\n",
      "----------------------------------------\n",
      "type:\n",
      "retweet:native\n",
      "----------------------------------------\n",
      "citation_url:\n",
      "http://twitter.com/REJinseattle/status/556516209261166593\n",
      "----------------------------------------\n"
     ]
    }
   ],
   "source": [
    "import json\n",
    "\n",
    "files = [\"ECE219_tweet_data/tweets_#gohawks.txt\",\n",
    "         \"ECE219_tweet_data/tweets_#gopatriots.txt\",\n",
    "         \"ECE219_tweet_data/tweets_#nfl.txt\",\n",
    "         \"ECE219_tweet_data/tweets_#patriots.txt\",\n",
    "         \"ECE219_tweet_data/tweets_#sb49.txt\",\n",
    "         \"ECE219_tweet_data/tweets_#superbowl.txt\"]\n",
    "\n",
    "with open(files[0], 'r') as file:\n",
    "    first_line = file.readline()\n",
    "    json_obj = json.loads(first_line)\n",
    "    for key in json_obj:\n",
    "        print(key)\n",
    "    print('-' * 40)\n",
    "    for key in json_obj:\n",
    "        print(key + ':')\n",
    "        print(json_obj[key])\n",
    "        print('-' * 40)"
   ]
  },
  {
   "cell_type": "code",
   "execution_count": 2,
   "metadata": {},
   "outputs": [],
   "source": [
    "max_times = {\"ECE219_tweet_data/tweets_#gohawks.txt\": 0,\n",
    "             \"ECE219_tweet_data/tweets_#gopatriots.txt\": 0,\n",
    "             \"ECE219_tweet_data/tweets_#nfl.txt\": 0,\n",
    "             \"ECE219_tweet_data/tweets_#patriots.txt\": 0,\n",
    "             \"ECE219_tweet_data/tweets_#sb49.txt\": 0,\n",
    "             \"ECE219_tweet_data/tweets_#superbowl.txt\": 0}\n",
    "\n",
    "min_times = {\"ECE219_tweet_data/tweets_#gohawks.txt\": 0,\n",
    "             \"ECE219_tweet_data/tweets_#gopatriots.txt\": 0,\n",
    "             \"ECE219_tweet_data/tweets_#nfl.txt\": 0,\n",
    "             \"ECE219_tweet_data/tweets_#patriots.txt\": 0,\n",
    "             \"ECE219_tweet_data/tweets_#sb49.txt\": 0,\n",
    "             \"ECE219_tweet_data/tweets_#superbowl.txt\": 0}"
   ]
  },
  {
   "cell_type": "code",
   "execution_count": 3,
   "metadata": {},
   "outputs": [],
   "source": [
    "# helper funtion to report statistics for one file\n",
    "# at the same time get max and min times for each file\n",
    "\n",
    "def report_statistics(filename):\n",
    "    with open(filename, 'r') as file:\n",
    "        lines = file.readlines()\n",
    "        max_time = 0\n",
    "        min_time = 2000000000\n",
    "        total_followers = 0\n",
    "        total_retweets = 0\n",
    "        for line in lines:\n",
    "            json_obj = json.loads(line)\n",
    "            if(json_obj['citation_date'] > max_time):\n",
    "                max_time = json_obj['citation_date']\n",
    "            if(json_obj['citation_date'] < min_time):\n",
    "                min_time = json_obj['citation_date']\n",
    "                \n",
    "            total_followers = total_followers + json_obj['author']['followers']\n",
    "            \n",
    "            total_retweets = total_retweets + json_obj['metrics']['citations']['total']\n",
    "                \n",
    "        avg_tweets_per_hour = len(lines) / (max_time - min_time) * 60 * 60\n",
    "        avg_followers_per_tweet = total_followers / len(lines)\n",
    "        avg_retweets_per_tweet = total_retweets / len(lines)\n",
    "        \n",
    "        max_times[filename] = max_time\n",
    "        min_times[filename] = min_time\n",
    "        \n",
    "    print('-' * 40)\n",
    "    print(filename)\n",
    "    print(\"Average number of tweets per hour:\")\n",
    "    print(avg_tweets_per_hour)\n",
    "    \n",
    "    print(\"Average number of followers per tweet:\")\n",
    "    print(avg_followers_per_tweet)\n",
    "    \n",
    "    print(\"Average number of retweets per tweet:\")\n",
    "    print(avg_retweets_per_tweet)"
   ]
  },
  {
   "cell_type": "markdown",
   "metadata": {},
   "source": [
    "##### • Average number of tweets per hour\n",
    "##### • Average number of followers of users posting the tweets per tweet\n",
    "##### • Average number of retweets per tweet"
   ]
  },
  {
   "cell_type": "code",
   "execution_count": 4,
   "metadata": {},
   "outputs": [
    {
     "name": "stdout",
     "output_type": "stream",
     "text": [
      "----------------------------------------\n",
      "ECE219_tweet_data/tweets_#gohawks.txt\n",
      "Average number of tweets per hour:\n",
      "292.48785062173687\n",
      "Average number of followers per tweet:\n",
      "2217.9237355281984\n",
      "Average number of retweets per tweet:\n",
      "2.0132093991319877\n",
      "----------------------------------------\n",
      "ECE219_tweet_data/tweets_#gopatriots.txt\n",
      "Average number of tweets per hour:\n",
      "40.954698006061946\n",
      "Average number of followers per tweet:\n",
      "1427.2526051635405\n",
      "Average number of retweets per tweet:\n",
      "1.4081919101697078\n",
      "----------------------------------------\n",
      "ECE219_tweet_data/tweets_#nfl.txt\n",
      "Average number of tweets per hour:\n",
      "397.0213901819841\n",
      "Average number of followers per tweet:\n",
      "4662.37544523693\n",
      "Average number of retweets per tweet:\n",
      "1.5344602655543254\n",
      "----------------------------------------\n",
      "ECE219_tweet_data/tweets_#patriots.txt\n",
      "Average number of tweets per hour:\n",
      "750.89426460689\n",
      "Average number of followers per tweet:\n",
      "3280.4635616550277\n",
      "Average number of retweets per tweet:\n",
      "1.7852871288476946\n",
      "----------------------------------------\n",
      "ECE219_tweet_data/tweets_#sb49.txt\n",
      "Average number of tweets per hour:\n",
      "1276.8570598680474\n",
      "Average number of followers per tweet:\n",
      "10374.160292019487\n",
      "Average number of retweets per tweet:\n",
      "2.52713444111402\n",
      "----------------------------------------\n",
      "ECE219_tweet_data/tweets_#superbowl.txt\n",
      "Average number of tweets per hour:\n",
      "2072.11840170408\n",
      "Average number of followers per tweet:\n",
      "8814.96799424623\n",
      "Average number of retweets per tweet:\n",
      "2.3911895819207736\n"
     ]
    }
   ],
   "source": [
    "for file in files:\n",
    "    report_statistics(file)"
   ]
  },
  {
   "cell_type": "markdown",
   "metadata": {},
   "source": [
    "## Question 2"
   ]
  },
  {
   "cell_type": "markdown",
   "metadata": {},
   "source": [
    "#### Plot \"number of tweets in hour\" over time for #SuperBowl and #NFL (a histogram with 1-hour bins)"
   ]
  },
  {
   "cell_type": "code",
   "execution_count": 5,
   "metadata": {},
   "outputs": [],
   "source": [
    "def get_num_in_hour(filename):\n",
    "    with open(filename, 'r') as file:\n",
    "        lines = file.readlines()\n",
    "        \n",
    "        max_time = max_times[filename]\n",
    "        min_time = min_times[filename]\n",
    "\n",
    "        total_hours = round((max_time - min_time) / (60 * 60)) + 1\n",
    "        X = range(total_hours)\n",
    "        Y = [0] * total_hours\n",
    "\n",
    "        for line in lines:\n",
    "            json_obj = json.loads(line)\n",
    "            index = round((json_obj['citation_date'] - min_time) / (60 * 60))\n",
    "            Y[index] = Y[index] + 1\n",
    "\n",
    "        return X, Y"
   ]
  },
  {
   "cell_type": "code",
   "execution_count": 6,
   "metadata": {},
   "outputs": [],
   "source": [
    "import matplotlib.pyplot as plt\n",
    "\n",
    "def plot_num_in_hour(X, Y, name):\n",
    "    plt.figure(figsize=(10,6))\n",
    "    plt.bar(X, Y, width=X[1]-X[0])\n",
    "    plt.xlabel('Hours over time')\n",
    "    plt.ylabel('Number of tweets')\n",
    "    plt.title('number of tweets in hours for ' + name)\n",
    "    plt.show()"
   ]
  },
  {
   "cell_type": "markdown",
   "metadata": {},
   "source": [
    "#SuperBowl"
   ]
  },
  {
   "cell_type": "code",
   "execution_count": 7,
   "metadata": {},
   "outputs": [],
   "source": [
    "SuperBowl_X, SuperBowl_Y = get_num_in_hour(files[5])"
   ]
  },
  {
   "cell_type": "code",
   "execution_count": 8,
   "metadata": {},
   "outputs": [
    {
     "data": {
      "image/png": "[encoded data removed]",
      "text/plain": [
       "<Figure size 720x432 with 1 Axes>"
      ]
     },
     "metadata": {
      "needs_background": "light"
     },
     "output_type": "display_data"
    }
   ],
   "source": [
    "plot_num_in_hour(SuperBowl_X, SuperBowl_Y, \"#SuperBowl\")"
   ]
  },
  {
   "cell_type": "markdown",
   "metadata": {},
   "source": [
    "#NFL"
   ]
  },
  {
   "cell_type": "code",
   "execution_count": 9,
   "metadata": {},
   "outputs": [],
   "source": [
    "NFL_X, NFL_Y = get_num_in_hour(files[2])"
   ]
  },
  {
   "cell_type": "code",
   "execution_count": 10,
   "metadata": {},
   "outputs": [
    {
     "data": {
      "image/png": "[encoded data removed]",
      "text/plain": [
       "<Figure size 720x432 with 1 Axes>"
      ]
     },
     "metadata": {
      "needs_background": "light"
     },
     "output_type": "display_data"
    }
   ],
   "source": [
    "plot_num_in_hour(NFL_X, NFL_Y, \"#NFL\")"
   ]
  },
  {
   "cell_type": "markdown",
   "metadata": {},
   "source": [
    "## Question 3"
   ]
  },
  {
   "cell_type": "markdown",
   "metadata": {},
   "source": [
    "#### For each hashtag, train a linear regression model. For each model, report the model's Mean Squared Error (MSE) and R-squared mesure. Also, analyze the significance of each feature using t-test and p-value."
   ]
  },
  {
   "cell_type": "code",
   "execution_count": 13,
   "metadata": {},
   "outputs": [],
   "source": [
    "import datetime\n",
    "import pytz\n",
    "import numpy as np\n",
    "\n",
    "pst_tz = pytz.timezone('America/Los_Angeles')\n",
    "\n",
    "def extract_feature(filename):\n",
    "    with open(filename, 'r') as file:\n",
    "        lines = file.readlines()\n",
    "        max_time = max_times[filename]\n",
    "        min_time = min_times[filename]\n",
    "        \n",
    "        total_hours = round((max_time - min_time) / (60 * 60)) + 1\n",
    "        \n",
    "        num_tweets = 0\n",
    "        num_retweets = 0\n",
    "        num_followers = 0\n",
    "        max_num_followers = 0\n",
    "        time_windows = []\n",
    "        \n",
    "        for hour in range(total_hours):\n",
    "            datetime_object_in_pst_timezone = datetime.datetime.fromtimestamp(min_time + hour * 60 * 60, pst_tz)\n",
    "            time_of_day = datetime_object_in_pst_timezone.hour\n",
    "            time_windows.append([num_tweets, num_retweets, num_followers, max_num_followers, time_of_day])\n",
    "            \n",
    "        for line in lines:\n",
    "            json_obj = json.loads(line)\n",
    "            index = round((json_obj['citation_date'] - min_time) / (60 * 60))\n",
    "            time_windows[index][0] = time_windows[index][0] + 1 # update num_tweets\n",
    "            time_windows[index][1] = time_windows[index][1] + json_obj['metrics']['citations']['total'] # update num_retweets\n",
    "            time_windows[index][2] = time_windows[index][2] + json_obj['author']['followers'] # update num_followers\n",
    "            time_windows[index][3] = max(time_windows[index][3], json_obj['author']['followers']) # update max_num_followers\n",
    "            \n",
    "        return np.array(time_windows)"
   ]
  },
  {
   "cell_type": "markdown",
   "metadata": {},
   "source": [
    "#gohawks"
   ]
  },
  {
   "cell_type": "code",
   "execution_count": 14,
   "metadata": {},
   "outputs": [],
   "source": [
    "time_windows_gohawks = extract_feature(files[0])\n",
    "\n",
    "gohawks_X = time_windows_gohawks[0:-1,:]\n",
    "gohawks_Y = time_windows_gohawks[1:,0]"
   ]
  },
  {
   "cell_type": "code",
   "execution_count": 18,
   "metadata": {},
   "outputs": [
    {
     "name": "stdout",
     "output_type": "stream",
     "text": [
      "                            OLS Regression Results                            \n",
      "==============================================================================\n",
      "Dep. Variable:                      y   R-squared:                       0.709\n",
      "Model:                            OLS   Adj. R-squared:                  0.707\n",
      "Method:                 Least Squares   F-statistic:                     279.5\n",
      "Date:                Tue, 12 Mar 2019   Prob (F-statistic):          4.57e-151\n",
      "Time:                        19:47:20   Log-Likelihood:                -4540.0\n",
      "No. Observations:                 578   AIC:                             9090.\n",
      "Df Residuals:                     573   BIC:                             9112.\n",
      "Df Model:                           5                                         \n",
      "Covariance Type:            nonrobust                                         \n",
      "==============================================================================\n",
      "                 coef    std err          t      P>|t|      [0.025      0.975]\n",
      "------------------------------------------------------------------------------\n",
      "x1             1.1645      0.119      9.748      0.000       0.930       1.399\n",
      "x2            -0.0810      0.033     -2.435      0.015      -0.146      -0.016\n",
      "x3            -0.0001   6.24e-05     -1.725      0.085      -0.000    1.49e-05\n",
      "x4          4.212e-05      0.000      0.348      0.728      -0.000       0.000\n",
      "x5             3.8362      2.141      1.792      0.074      -0.369       8.042\n",
      "==============================================================================\n",
      "Omnibus:                      632.026   Durbin-Watson:                   1.864\n",
      "Prob(Omnibus):                  0.000   Jarque-Bera (JB):           222979.332\n",
      "Skew:                           4.342   Prob(JB):                         0.00\n",
      "Kurtosis:                      98.829   Cond. No.                     2.02e+05\n",
      "==============================================================================\n",
      "\n",
      "Warnings:\n",
      "[1] Standard Errors assume that the covariance matrix of the errors is correctly specified.\n",
      "[2] The condition number is large, 2.02e+05. This might indicate that there are\n",
      "strong multicollinearity or other numerical problems.\n"
     ]
    }
   ],
   "source": [
    "from statsmodels.api import OLS\n",
    "\n",
    "lr_gohawks = OLS(gohawks_Y, gohawks_X).fit()\n",
    "\n",
    "print(lr_gohawks.summary())"
   ]
  },
  {
   "cell_type": "code",
   "execution_count": 19,
   "metadata": {},
   "outputs": [
    {
     "name": "stdout",
     "output_type": "stream",
     "text": [
      "MSE for #gohawks: 389086.61457122036\n"
     ]
    }
   ],
   "source": [
    "from statsmodels.api import tools\n",
    "gohawks_predict = lr_gohawks.predict(gohawks_X)\n",
    "gohawks_mse = tools.eval_measures.mse(gohawks_Y, gohawks_predict)\n",
    "\n",
    "print(\"MSE for #gohawks:\", gohawks_mse)"
   ]
  },
  {
   "cell_type": "markdown",
   "metadata": {},
   "source": [
    "#gopatriots"
   ]
  },
  {
   "cell_type": "code",
   "execution_count": 20,
   "metadata": {},
   "outputs": [],
   "source": [
    "time_windows_gopatriots = extract_feature(files[1])\n",
    "\n",
    "gopatriots_X = time_windows_gopatriots[0:-1,:]\n",
    "gopatriots_Y = time_windows_gopatriots[1:,0]"
   ]
  },
  {
   "cell_type": "code",
   "execution_count": 21,
   "metadata": {},
   "outputs": [
    {
     "name": "stdout",
     "output_type": "stream",
     "text": [
      "                            OLS Regression Results                            \n",
      "==============================================================================\n",
      "Dep. Variable:                      y   R-squared:                       0.454\n",
      "Model:                            OLS   Adj. R-squared:                  0.449\n",
      "Method:                 Least Squares   F-statistic:                     94.54\n",
      "Date:                Tue, 12 Mar 2019   Prob (F-statistic):           2.14e-72\n",
      "Time:                        20:03:12   Log-Likelihood:                -3905.5\n",
      "No. Observations:                 574   AIC:                             7821.\n",
      "Df Residuals:                     569   BIC:                             7843.\n",
      "Df Model:                           5                                         \n",
      "Covariance Type:            nonrobust                                         \n",
      "==============================================================================\n",
      "                 coef    std err          t      P>|t|      [0.025      0.975]\n",
      "------------------------------------------------------------------------------\n",
      "x1            -1.5580      0.298     -5.227      0.000      -2.143      -0.973\n",
      "x2             1.6997      0.245      6.948      0.000       1.219       2.180\n",
      "x3             0.0001      0.000      0.581      0.561      -0.000       0.001\n",
      "x4            -0.0004      0.000     -1.870      0.062      -0.001    1.92e-05\n",
      "x5             0.4805      0.706      0.680      0.497      -0.907       1.868\n",
      "==============================================================================\n",
      "Omnibus:                     1021.072   Durbin-Watson:                   2.438\n",
      "Prob(Omnibus):                  0.000   Jarque-Bera (JB):          1171508.631\n",
      "Skew:                          11.011   Prob(JB):                         0.00\n",
      "Kurtosis:                     223.223   Cond. No.                     3.11e+04\n",
      "==============================================================================\n",
      "\n",
      "Warnings:\n",
      "[1] Standard Errors assume that the covariance matrix of the errors is correctly specified.\n",
      "[2] The condition number is large, 3.11e+04. This might indicate that there are\n",
      "strong multicollinearity or other numerical problems.\n"
     ]
    }
   ],
   "source": [
    "lr_gopatriots = OLS(gopatriots_Y, gopatriots_X).fit()\n",
    "\n",
    "print(lr_gopatriots.summary())"
   ]
  },
  {
   "cell_type": "code",
   "execution_count": 22,
   "metadata": {},
   "outputs": [
    {
     "name": "stdout",
     "output_type": "stream",
     "text": [
      "MSE for #gopatriots: 47576.188942486355\n"
     ]
    }
   ],
   "source": [
    "gopatriots_predict = lr_gopatriots.predict(gopatriots_X)\n",
    "gopatriots_mse = tools.eval_measures.mse(gopatriots_Y, gopatriots_predict)\n",
    "\n",
    "print(\"MSE for #gopatriots:\", gopatriots_mse)"
   ]
  },
  {
   "cell_type": "markdown",
   "metadata": {},
   "source": [
    "#nfl"
   ]
  },
  {
   "cell_type": "code",
   "execution_count": 23,
   "metadata": {},
   "outputs": [],
   "source": [
    "time_windows_nfl = extract_feature(files[2])\n",
    "\n",
    "nfl_X = time_windows_nfl[0:-1,:]\n",
    "nfl_Y = time_windows_nfl[1:,0]"
   ]
  },
  {
   "cell_type": "code",
   "execution_count": 24,
   "metadata": {},
   "outputs": [
    {
     "name": "stdout",
     "output_type": "stream",
     "text": [
      "                            OLS Regression Results                            \n",
      "==============================================================================\n",
      "Dep. Variable:                      y   R-squared:                       0.730\n",
      "Model:                            OLS   Adj. R-squared:                  0.728\n",
      "Method:                 Least Squares   F-statistic:                     315.4\n",
      "Date:                Tue, 12 Mar 2019   Prob (F-statistic):          5.03e-163\n",
      "Time:                        20:06:04   Log-Likelihood:                -4428.3\n",
      "No. Observations:                 587   AIC:                             8867.\n",
      "Df Residuals:                     582   BIC:                             8889.\n",
      "Df Model:                           5                                         \n",
      "Covariance Type:            nonrobust                                         \n",
      "==============================================================================\n",
      "                 coef    std err          t      P>|t|      [0.025      0.975]\n",
      "------------------------------------------------------------------------------\n",
      "x1             0.4814      0.114      4.208      0.000       0.257       0.706\n",
      "x2            -0.2327      0.060     -3.878      0.000      -0.351      -0.115\n",
      "x3             0.0002   1.84e-05     10.041      0.000       0.000       0.000\n",
      "x4            -0.0002   2.92e-05     -7.865      0.000      -0.000      -0.000\n",
      "x5             8.6207      1.711      5.040      0.000       5.261      11.980\n",
      "==============================================================================\n",
      "Omnibus:                      549.091   Durbin-Watson:                   2.070\n",
      "Prob(Omnibus):                  0.000   Jarque-Bera (JB):           149763.175\n",
      "Skew:                           3.321   Prob(JB):                         0.00\n",
      "Kurtosis:                      80.968   Cond. No.                     3.90e+05\n",
      "==============================================================================\n",
      "\n",
      "Warnings:\n",
      "[1] Standard Errors assume that the covariance matrix of the errors is correctly specified.\n",
      "[2] The condition number is large, 3.9e+05. This might indicate that there are\n",
      "strong multicollinearity or other numerical problems.\n"
     ]
    }
   ],
   "source": [
    "lr_nfl = OLS(nfl_Y, nfl_X).fit()\n",
    "\n",
    "print(lr_nfl.summary())"
   ]
  },
  {
   "cell_type": "code",
   "execution_count": 25,
   "metadata": {},
   "outputs": [
    {
     "name": "stdout",
     "output_type": "stream",
     "text": [
      "MSE for #nfl: 209013.3222443561\n"
     ]
    }
   ],
   "source": [
    "nfl_predict = lr_nfl.predict(nfl_X)\n",
    "nfl_mse = tools.eval_measures.mse(nfl_Y, nfl_predict)\n",
    "\n",
    "print(\"MSE for #nfl:\", nfl_mse)"
   ]
  },
  {
   "cell_type": "markdown",
   "metadata": {},
   "source": [
    "#patriots"
   ]
  },
  {
   "cell_type": "code",
   "execution_count": 26,
   "metadata": {},
   "outputs": [],
   "source": [
    "time_windows_patriots = extract_feature(files[3])\n",
    "\n",
    "patriots_X = time_windows_patriots[0:-1,:]\n",
    "patriots_Y = time_windows_patriots[1:,0]"
   ]
  },
  {
   "cell_type": "code",
   "execution_count": 27,
   "metadata": {},
   "outputs": [
    {
     "name": "stdout",
     "output_type": "stream",
     "text": [
      "                            OLS Regression Results                            \n",
      "==============================================================================\n",
      "Dep. Variable:                      y   R-squared:                       0.667\n",
      "Model:                            OLS   Adj. R-squared:                  0.664\n",
      "Method:                 Least Squares   F-statistic:                     232.8\n",
      "Date:                Tue, 12 Mar 2019   Prob (F-statistic):          2.92e-136\n",
      "Time:                        20:10:34   Log-Likelihood:                -5386.3\n",
      "No. Observations:                 587   AIC:                         1.078e+04\n",
      "Df Residuals:                     582   BIC:                         1.080e+04\n",
      "Df Model:                           5                                         \n",
      "Covariance Type:            nonrobust                                         \n",
      "==============================================================================\n",
      "                 coef    std err          t      P>|t|      [0.025      0.975]\n",
      "------------------------------------------------------------------------------\n",
      "x1             1.0036      0.085     11.838      0.000       0.837       1.170\n",
      "x2            -0.0650      0.072     -0.905      0.366      -0.206       0.076\n",
      "x3         -7.396e-05   2.79e-05     -2.648      0.008      -0.000   -1.91e-05\n",
      "x4          8.715e-05   9.37e-05      0.930      0.353   -9.69e-05       0.000\n",
      "x5            14.0915      8.101      1.739      0.082      -1.820      30.003\n",
      "==============================================================================\n",
      "Omnibus:                      917.929   Durbin-Watson:                   2.080\n",
      "Prob(Omnibus):                  0.000   Jarque-Bera (JB):           498211.103\n",
      "Skew:                           8.677   Prob(JB):                         0.00\n",
      "Kurtosis:                     144.664   Cond. No.                     7.01e+05\n",
      "==============================================================================\n",
      "\n",
      "Warnings:\n",
      "[1] Standard Errors assume that the covariance matrix of the errors is correctly specified.\n",
      "[2] The condition number is large, 7.01e+05. This might indicate that there are\n",
      "strong multicollinearity or other numerical problems.\n"
     ]
    }
   ],
   "source": [
    "lr_patriots = OLS(patriots_Y, patriots_X).fit()\n",
    "\n",
    "print(lr_patriots.summary())"
   ]
  },
  {
   "cell_type": "code",
   "execution_count": 28,
   "metadata": {},
   "outputs": [
    {
     "name": "stdout",
     "output_type": "stream",
     "text": [
      "MSE for #patriots: 5466476.76932625\n"
     ]
    }
   ],
   "source": [
    "patriots_predict = lr_patriots.predict(patriots_X)\n",
    "patriots_mse = tools.eval_measures.mse(patriots_Y, patriots_predict)\n",
    "\n",
    "print(\"MSE for #patriots:\", patriots_mse)"
   ]
  },
  {
   "cell_type": "markdown",
   "metadata": {},
   "source": [
    "#sb49"
   ]
  },
  {
   "cell_type": "code",
   "execution_count": 29,
   "metadata": {},
   "outputs": [],
   "source": [
    "time_windows_sb49 = extract_feature(files[4])\n",
    "\n",
    "sb49_X = time_windows_sb49[0:-1,:]\n",
    "sb49_Y = time_windows_sb49[1:,0]"
   ]
  },
  {
   "cell_type": "code",
   "execution_count": 30,
   "metadata": {},
   "outputs": [
    {
     "name": "stdout",
     "output_type": "stream",
     "text": [
      "                            OLS Regression Results                            \n",
      "==============================================================================\n",
      "Dep. Variable:                      y   R-squared:                       0.805\n",
      "Model:                            OLS   Adj. R-squared:                  0.803\n",
      "Method:                 Least Squares   F-statistic:                     475.2\n",
      "Date:                Tue, 12 Mar 2019   Prob (F-statistic):          7.28e-202\n",
      "Time:                        20:15:48   Log-Likelihood:                -5662.4\n",
      "No. Observations:                 582   AIC:                         1.133e+04\n",
      "Df Residuals:                     577   BIC:                         1.136e+04\n",
      "Df Model:                           5                                         \n",
      "Covariance Type:            nonrobust                                         \n",
      "==============================================================================\n",
      "                 coef    std err          t      P>|t|      [0.025      0.975]\n",
      "------------------------------------------------------------------------------\n",
      "x1             1.0912      0.088     12.395      0.000       0.918       1.264\n",
      "x2            -0.1125      0.079     -1.433      0.152      -0.267       0.042\n",
      "x3          2.786e-06   1.24e-05      0.225      0.822   -2.15e-05    2.71e-05\n",
      "x4          6.725e-05   4.28e-05      1.570      0.117   -1.69e-05       0.000\n",
      "x5             0.5488     13.851      0.040      0.968     -26.655      27.753\n",
      "==============================================================================\n",
      "Omnibus:                     1184.527   Durbin-Watson:                   1.678\n",
      "Prob(Omnibus):                  0.000   Jarque-Bera (JB):          2245389.731\n",
      "Skew:                          14.729   Prob(JB):                         0.00\n",
      "Kurtosis:                     305.862   Cond. No.                     6.48e+06\n",
      "==============================================================================\n",
      "\n",
      "Warnings:\n",
      "[1] Standard Errors assume that the covariance matrix of the errors is correctly specified.\n",
      "[2] The condition number is large, 6.48e+06. This might indicate that there are\n",
      "strong multicollinearity or other numerical problems.\n"
     ]
    }
   ],
   "source": [
    "lr_sb49 = OLS(sb49_Y, sb49_X).fit()\n",
    "\n",
    "print(lr_sb49.summary())"
   ]
  },
  {
   "cell_type": "code",
   "execution_count": 31,
   "metadata": {},
   "outputs": [
    {
     "name": "stdout",
     "output_type": "stream",
     "text": [
      "MSE for #sb49: 16530174.167058893\n"
     ]
    }
   ],
   "source": [
    "sb49_predict = lr_sb49.predict(sb49_X)\n",
    "sb49_mse = tools.eval_measures.mse(sb49_Y, sb49_predict)\n",
    "\n",
    "print(\"MSE for #sb49:\", sb49_mse)"
   ]
  },
  {
   "cell_type": "markdown",
   "metadata": {},
   "source": [
    "#superbowl"
   ]
  },
  {
   "cell_type": "code",
   "execution_count": 32,
   "metadata": {},
   "outputs": [],
   "source": [
    "time_windows_superbowl = extract_feature(files[5])\n",
    "\n",
    "superbowl_X = time_windows_superbowl[0:-1,:]\n",
    "superbowl_Y = time_windows_superbowl[1:,0]"
   ]
  },
  {
   "cell_type": "code",
   "execution_count": 33,
   "metadata": {},
   "outputs": [
    {
     "name": "stdout",
     "output_type": "stream",
     "text": [
      "                            OLS Regression Results                            \n",
      "==============================================================================\n",
      "Dep. Variable:                      y   R-squared:                       0.781\n",
      "Model:                            OLS   Adj. R-squared:                  0.779\n",
      "Method:                 Least Squares   F-statistic:                     415.1\n",
      "Date:                Tue, 12 Mar 2019   Prob (F-statistic):          4.34e-189\n",
      "Time:                        20:23:59   Log-Likelihood:                -6069.3\n",
      "No. Observations:                 586   AIC:                         1.215e+04\n",
      "Df Residuals:                     581   BIC:                         1.217e+04\n",
      "Df Model:                           5                                         \n",
      "Covariance Type:            nonrobust                                         \n",
      "==============================================================================\n",
      "                 coef    std err          t      P>|t|      [0.025      0.975]\n",
      "------------------------------------------------------------------------------\n",
      "x1             2.5533      0.111     23.094      0.000       2.336       2.770\n",
      "x2            -0.3919      0.040     -9.735      0.000      -0.471      -0.313\n",
      "x3            -0.0001   2.29e-05     -5.899      0.000      -0.000      -9e-05\n",
      "x4             0.0009      0.000      6.476      0.000       0.001       0.001\n",
      "x5           -62.8524     28.245     -2.225      0.026    -118.328      -7.377\n",
      "==============================================================================\n",
      "Omnibus:                      352.078   Durbin-Watson:                   2.379\n",
      "Prob(Omnibus):                  0.000   Jarque-Bera (JB):           781423.704\n",
      "Skew:                           0.938   Prob(JB):                         0.00\n",
      "Kurtosis:                     181.886   Cond. No.                     9.53e+06\n",
      "==============================================================================\n",
      "\n",
      "Warnings:\n",
      "[1] Standard Errors assume that the covariance matrix of the errors is correctly specified.\n",
      "[2] The condition number is large, 9.53e+06. This might indicate that there are\n",
      "strong multicollinearity or other numerical problems.\n"
     ]
    }
   ],
   "source": [
    "lr_superbowl = OLS(superbowl_Y, superbowl_X).fit()\n",
    "\n",
    "print(lr_superbowl.summary())"
   ]
  },
  {
   "cell_type": "code",
   "execution_count": 34,
   "metadata": {},
   "outputs": [
    {
     "name": "stdout",
     "output_type": "stream",
     "text": [
      "MSE for #superbowl: 58037195.52955217\n"
     ]
    }
   ],
   "source": [
    "superbowl_predict = lr_superbowl.predict(superbowl_X)\n",
    "superbowl_mse = tools.eval_measures.mse(superbowl_Y, superbowl_predict)\n",
    "\n",
    "print(\"MSE for #superbowl:\", superbowl_mse)"
   ]
  },
  {
   "cell_type": "markdown",
   "metadata": {},
   "source": [
    "## Question 4"
   ]
  },
  {
   "cell_type": "markdown",
   "metadata": {},
   "source": [
    "#### Design a regression model using any features from the paper you find or other new features you may find useful for this problem. Fit your model on the data of each hashtag and report fitting MSE and significance of features."
   ]
  },
  {
   "cell_type": "markdown",
   "metadata": {},
   "source": [
    "##### New Features (with reference to paper)\n",
    "• Author Count  \n",
    "• Mentions Count  \n",
    "• Passivity   \n",
    "• Friends Count  \n",
    "• Ranking Score"
   ]
  },
  {
   "cell_type": "code",
   "execution_count": 42,
   "metadata": {},
   "outputs": [],
   "source": [
    "months = {'Jan': 1, 'Feb': 2, 'Mar': 3, 'Apr': 4, 'May': 5, 'Jun': 6,\n",
    "          'Jul': 7, 'Aug': 8, 'Sep': 9, 'Oct': 10, 'Nov': 11, 'Dec': 12}\n",
    "\n",
    "def get_account_days(tweet):\n",
    "    account_create_date = tweet['tweet']['user']['created_at'].split(' ')\n",
    "    post_date = tweet['tweet']['created_at'].split(' ')\n",
    "    datetime_account = datetime.datetime(int(account_create_date[5]),\n",
    "                                         months[account_create_date[1]],\n",
    "                                         int(account_create_date[2]))\n",
    "    datetime_post = datetime.datetime(int(post_date[5]),\n",
    "                                      months[post_date[1]],\n",
    "                                      int(post_date[2]))\n",
    "    return (datetime_post - datetime_account).days"
   ]
  },
  {
   "cell_type": "code",
   "execution_count": 59,
   "metadata": {},
   "outputs": [],
   "source": [
    "def extract_feature_v2(filename):\n",
    "    with open(filename, 'r') as file:\n",
    "        lines = file.readlines()\n",
    "        max_time = max_times[filename]\n",
    "        min_time = min_times[filename]\n",
    "        \n",
    "        total_hours = round((max_time - min_time) / (60 * 60)) + 1\n",
    "        \n",
    "        authors = []\n",
    "        unique_authors = 0\n",
    "        mentions = 0\n",
    "        passivity = 0.0\n",
    "        num_friends = 0\n",
    "        ranking_score = 0.0\n",
    "        time_windows = []\n",
    "        \n",
    "        for hour in range(total_hours):\n",
    "            authors.append(set())\n",
    "            time_windows.append([unique_authors, mentions, passivity, num_friends, ranking_score])\n",
    "            \n",
    "        for line in lines:\n",
    "            json_obj = json.loads(line)\n",
    "            index = round((json_obj['citation_date'] - min_time) / (60 * 60))\n",
    "            authors[index].add(json_obj['author']['name'])\n",
    "            time_windows[index][1] = time_windows[index][1] + len(json_obj['tweet']['entities']['user_mentions'])\n",
    "            \n",
    "            account_days = get_account_days(json_obj)\n",
    "            num_tweets = json_obj['tweet']['user']['followers_count']\n",
    "            time_windows[index][2] = time_windows[index][2] + (account_days / (1.0 + num_tweets))\n",
    "            \n",
    "            time_windows[index][3] = time_windows[index][3] + json_obj['tweet']['user']['friends_count']\n",
    "            time_windows[index][4] = time_windows[index][4] + json_obj['metrics']['ranking_score']\n",
    "            \n",
    "        for i in range(total_hours):\n",
    "            time_windows[i][0] = len(authors[i])\n",
    "            \n",
    "        return np.array(time_windows)"
   ]
  },
  {
   "cell_type": "markdown",
   "metadata": {},
   "source": [
    "#gohawks"
   ]
  },
  {
   "cell_type": "code",
   "execution_count": 60,
   "metadata": {},
   "outputs": [],
   "source": [
    "time_windows_gohawks_v2 = extract_feature_v2(files[0])\n",
    "\n",
    "gohawks_X_v2 = time_windows_gohawks_v2[0:-1,:]\n",
    "gohawks_Y_v2 = time_windows_gohawks_v2[1:,0]"
   ]
  },
  {
   "cell_type": "code",
   "execution_count": 61,
   "metadata": {},
   "outputs": [
    {
     "name": "stdout",
     "output_type": "stream",
     "text": [
      "                            OLS Regression Results                            \n",
      "==============================================================================\n",
      "Dep. Variable:                      y   R-squared:                       0.772\n",
      "Model:                            OLS   Adj. R-squared:                  0.770\n",
      "Method:                 Least Squares   F-statistic:                     388.4\n",
      "Date:                Tue, 12 Mar 2019   Prob (F-statistic):          2.20e-181\n",
      "Time:                        23:15:33   Log-Likelihood:                -4332.0\n",
      "No. Observations:                 578   AIC:                             8674.\n",
      "Df Residuals:                     573   BIC:                             8696.\n",
      "Df Model:                           5                                         \n",
      "Covariance Type:            nonrobust                                         \n",
      "==============================================================================\n",
      "                 coef    std err          t      P>|t|      [0.025      0.975]\n",
      "------------------------------------------------------------------------------\n",
      "x1            -0.5622      0.317     -1.776      0.076      -1.184       0.060\n",
      "x2             1.4359      0.226      6.353      0.000       0.992       1.880\n",
      "x3            -0.1032      0.013     -8.220      0.000      -0.128      -0.079\n",
      "x4             0.0009      0.000      6.096      0.000       0.001       0.001\n",
      "x5             0.2944      0.057      5.125      0.000       0.182       0.407\n",
      "==============================================================================\n",
      "Omnibus:                      853.312   Durbin-Watson:                   1.923\n",
      "Prob(Omnibus):                  0.000   Jarque-Bera (JB):           273511.692\n",
      "Skew:                           7.930   Prob(JB):                         0.00\n",
      "Kurtosis:                     108.382   Cond. No.                     1.67e+04\n",
      "==============================================================================\n",
      "\n",
      "Warnings:\n",
      "[1] Standard Errors assume that the covariance matrix of the errors is correctly specified.\n",
      "[2] The condition number is large, 1.67e+04. This might indicate that there are\n",
      "strong multicollinearity or other numerical problems.\n"
     ]
    }
   ],
   "source": [
    "lr_gohawks_v2 = OLS(gohawks_Y_v2, gohawks_X_v2).fit()\n",
    "\n",
    "print(lr_gohawks_v2.summary())"
   ]
  },
  {
   "cell_type": "code",
   "execution_count": 62,
   "metadata": {},
   "outputs": [
    {
     "name": "stdout",
     "output_type": "stream",
     "text": [
      "MSE for #gohawks: 189443.90866502284\n"
     ]
    }
   ],
   "source": [
    "gohawks_predict_v2 = lr_gohawks_v2.predict(gohawks_X_v2)\n",
    "gohawks_mse_v2 = tools.eval_measures.mse(gohawks_Y_v2, gohawks_predict_v2)\n",
    "\n",
    "print(\"MSE for #gohawks:\", gohawks_mse_v2)"
   ]
  },
  {
   "cell_type": "markdown",
   "metadata": {},
   "source": [
    "#gopatriots"
   ]
  },
  {
   "cell_type": "code",
   "execution_count": 63,
   "metadata": {},
   "outputs": [],
   "source": [
    "time_windows_gopatriots_v2 = extract_feature_v2(files[1])\n",
    "\n",
    "gopatriots_X_v2 = time_windows_gopatriots_v2[0:-1,:]\n",
    "gopatriots_Y_v2 = time_windows_gopatriots_v2[1:,0]"
   ]
  },
  {
   "cell_type": "code",
   "execution_count": 64,
   "metadata": {},
   "outputs": [
    {
     "name": "stdout",
     "output_type": "stream",
     "text": [
      "                            OLS Regression Results                            \n",
      "==============================================================================\n",
      "Dep. Variable:                      y   R-squared:                       0.681\n",
      "Model:                            OLS   Adj. R-squared:                  0.679\n",
      "Method:                 Least Squares   F-statistic:                     243.5\n",
      "Date:                Tue, 12 Mar 2019   Prob (F-statistic):          9.00e-139\n",
      "Time:                        23:15:59   Log-Likelihood:                -3653.6\n",
      "No. Observations:                 574   AIC:                             7317.\n",
      "Df Residuals:                     569   BIC:                             7339.\n",
      "Df Model:                           5                                         \n",
      "Covariance Type:            nonrobust                                         \n",
      "==============================================================================\n",
      "                 coef    std err          t      P>|t|      [0.025      0.975]\n",
      "------------------------------------------------------------------------------\n",
      "x1             6.7448      0.653     10.332      0.000       5.463       8.027\n",
      "x2             0.4649      0.572      0.813      0.417      -0.658       1.588\n",
      "x3             0.1898      0.029      6.557      0.000       0.133       0.247\n",
      "x4         -2.431e-06      0.000     -0.006      0.995      -0.001       0.001\n",
      "x5            -1.5876      0.138    -11.464      0.000      -1.860      -1.316\n",
      "==============================================================================\n",
      "Omnibus:                      942.949   Durbin-Watson:                   2.500\n",
      "Prob(Omnibus):                  0.000   Jarque-Bera (JB):           874278.005\n",
      "Skew:                           9.330   Prob(JB):                         0.00\n",
      "Kurtosis:                     193.281   Cond. No.                     2.42e+04\n",
      "==============================================================================\n",
      "\n",
      "Warnings:\n",
      "[1] Standard Errors assume that the covariance matrix of the errors is correctly specified.\n",
      "[2] The condition number is large, 2.42e+04. This might indicate that there are\n",
      "strong multicollinearity or other numerical problems.\n"
     ]
    }
   ],
   "source": [
    "lr_gopatriots_v2 = OLS(gopatriots_Y_v2, gopatriots_X_v2).fit()\n",
    "\n",
    "print(lr_gopatriots_v2.summary())"
   ]
  },
  {
   "cell_type": "code",
   "execution_count": 65,
   "metadata": {},
   "outputs": [
    {
     "name": "stdout",
     "output_type": "stream",
     "text": [
      "MSE for #gopatriots: 19777.756852996485\n"
     ]
    }
   ],
   "source": [
    "gopatriots_predict_v2 = lr_gopatriots_v2.predict(gopatriots_X_v2)\n",
    "gopatriots_mse_v2 = tools.eval_measures.mse(gopatriots_Y_v2, gopatriots_predict_v2)\n",
    "\n",
    "print(\"MSE for #gopatriots:\", gopatriots_mse_v2)"
   ]
  },
  {
   "cell_type": "markdown",
   "metadata": {},
   "source": [
    "#nfl"
   ]
  },
  {
   "cell_type": "code",
   "execution_count": 66,
   "metadata": {},
   "outputs": [],
   "source": [
    "time_windows_nfl_v2 = extract_feature_v2(files[2])\n",
    "\n",
    "nfl_X_v2 = time_windows_nfl_v2[0:-1,:]\n",
    "nfl_Y_v2 = time_windows_nfl_v2[1:,0]"
   ]
  },
  {
   "cell_type": "code",
   "execution_count": 67,
   "metadata": {},
   "outputs": [
    {
     "name": "stdout",
     "output_type": "stream",
     "text": [
      "                            OLS Regression Results                            \n",
      "==============================================================================\n",
      "Dep. Variable:                      y   R-squared:                       0.692\n",
      "Model:                            OLS   Adj. R-squared:                  0.690\n",
      "Method:                 Least Squares   F-statistic:                     261.8\n",
      "Date:                Tue, 12 Mar 2019   Prob (F-statistic):          2.60e-146\n",
      "Time:                        23:16:32   Log-Likelihood:                -4279.5\n",
      "No. Observations:                 587   AIC:                             8569.\n",
      "Df Residuals:                     582   BIC:                             8591.\n",
      "Df Model:                           5                                         \n",
      "Covariance Type:            nonrobust                                         \n",
      "==============================================================================\n",
      "                 coef    std err          t      P>|t|      [0.025      0.975]\n",
      "------------------------------------------------------------------------------\n",
      "x1             0.1784      0.251      0.712      0.477      -0.314       0.671\n",
      "x2             3.4175      0.414      8.257      0.000       2.605       4.230\n",
      "x3            -0.0182      0.009     -2.086      0.037      -0.035      -0.001\n",
      "x4          -2.95e-05      0.000     -0.255      0.799      -0.000       0.000\n",
      "x5            -0.0192      0.052     -0.368      0.713      -0.121       0.083\n",
      "==============================================================================\n",
      "Omnibus:                      680.932   Durbin-Watson:                   2.326\n",
      "Prob(Omnibus):                  0.000   Jarque-Bera (JB):           157689.712\n",
      "Skew:                           5.046   Prob(JB):                         0.00\n",
      "Kurtosis:                      82.658   Cond. No.                     2.69e+04\n",
      "==============================================================================\n",
      "\n",
      "Warnings:\n",
      "[1] Standard Errors assume that the covariance matrix of the errors is correctly specified.\n",
      "[2] The condition number is large, 2.69e+04. This might indicate that there are\n",
      "strong multicollinearity or other numerical problems.\n"
     ]
    }
   ],
   "source": [
    "lr_nfl_v2 = OLS(nfl_Y_v2, nfl_X_v2).fit()\n",
    "\n",
    "print(lr_nfl_v2.summary())"
   ]
  },
  {
   "cell_type": "code",
   "execution_count": 68,
   "metadata": {},
   "outputs": [
    {
     "name": "stdout",
     "output_type": "stream",
     "text": [
      "MSE for #nfl: 125882.01140723113\n"
     ]
    }
   ],
   "source": [
    "nfl_predict_v2 = lr_nfl_v2.predict(nfl_X_v2)\n",
    "nfl_mse_v2 = tools.eval_measures.mse(nfl_Y_v2, nfl_predict_v2)\n",
    "\n",
    "print(\"MSE for #nfl:\", nfl_mse_v2)"
   ]
  },
  {
   "cell_type": "markdown",
   "metadata": {},
   "source": [
    "#patriots"
   ]
  },
  {
   "cell_type": "code",
   "execution_count": 69,
   "metadata": {},
   "outputs": [],
   "source": [
    "time_windows_patriots_v2 = extract_feature_v2(files[3])\n",
    "\n",
    "patriots_X_v2 = time_windows_patriots_v2[0:-1,:]\n",
    "patriots_Y_v2 = time_windows_patriots_v2[1:,0]"
   ]
  },
  {
   "cell_type": "code",
   "execution_count": 70,
   "metadata": {},
   "outputs": [
    {
     "name": "stdout",
     "output_type": "stream",
     "text": [
      "                            OLS Regression Results                            \n",
      "==============================================================================\n",
      "Dep. Variable:                      y   R-squared:                       0.733\n",
      "Model:                            OLS   Adj. R-squared:                  0.730\n",
      "Method:                 Least Squares   F-statistic:                     318.8\n",
      "Date:                Tue, 12 Mar 2019   Prob (F-statistic):          5.18e-164\n",
      "Time:                        23:19:02   Log-Likelihood:                -5237.7\n",
      "No. Observations:                 587   AIC:                         1.049e+04\n",
      "Df Residuals:                     582   BIC:                         1.051e+04\n",
      "Df Model:                           5                                         \n",
      "Covariance Type:            nonrobust                                         \n",
      "==============================================================================\n",
      "                 coef    std err          t      P>|t|      [0.025      0.975]\n",
      "------------------------------------------------------------------------------\n",
      "x1            -2.2517      0.813     -2.770      0.006      -3.849      -0.655\n",
      "x2             0.9646      0.127      7.597      0.000       0.715       1.214\n",
      "x3            -0.0076      0.023     -0.323      0.747      -0.054       0.038\n",
      "x4             0.0015      0.000      6.222      0.000       0.001       0.002\n",
      "x5             0.1361      0.140      0.972      0.331      -0.139       0.411\n",
      "==============================================================================\n",
      "Omnibus:                     1035.224   Durbin-Watson:                   1.950\n",
      "Prob(Omnibus):                  0.000   Jarque-Bera (JB):           734578.460\n",
      "Skew:                          11.106   Prob(JB):                         0.00\n",
      "Kurtosis:                     174.873   Cond. No.                     2.95e+04\n",
      "==============================================================================\n",
      "\n",
      "Warnings:\n",
      "[1] Standard Errors assume that the covariance matrix of the errors is correctly specified.\n",
      "[2] The condition number is large, 2.95e+04. This might indicate that there are\n",
      "strong multicollinearity or other numerical problems.\n"
     ]
    }
   ],
   "source": [
    "lr_patriots_v2 = OLS(patriots_Y_v2, patriots_X_v2).fit()\n",
    "\n",
    "print(lr_patriots_v2.summary())"
   ]
  },
  {
   "cell_type": "code",
   "execution_count": 71,
   "metadata": {},
   "outputs": [
    {
     "name": "stdout",
     "output_type": "stream",
     "text": [
      "MSE for #patriots: 3294323.2070698887\n"
     ]
    }
   ],
   "source": [
    "patriots_predict_v2 = lr_patriots_v2.predict(patriots_X_v2)\n",
    "patriots_mse_v2 = tools.eval_measures.mse(patriots_Y_v2, patriots_predict_v2)\n",
    "\n",
    "print(\"MSE for #patriots:\", patriots_mse_v2)"
   ]
  },
  {
   "cell_type": "markdown",
   "metadata": {},
   "source": [
    "#sb49"
   ]
  },
  {
   "cell_type": "code",
   "execution_count": 72,
   "metadata": {},
   "outputs": [],
   "source": [
    "time_windows_sb49_v2 = extract_feature_v2(files[4])\n",
    "\n",
    "sb49_X_v2 = time_windows_sb49_v2[0:-1,:]\n",
    "sb49_Y_v2 = time_windows_sb49_v2[1:,0]"
   ]
  },
  {
   "cell_type": "code",
   "execution_count": 73,
   "metadata": {},
   "outputs": [
    {
     "name": "stdout",
     "output_type": "stream",
     "text": [
      "                            OLS Regression Results                            \n",
      "==============================================================================\n",
      "Dep. Variable:                      y   R-squared:                       0.870\n",
      "Model:                            OLS   Adj. R-squared:                  0.869\n",
      "Method:                 Least Squares   F-statistic:                     774.0\n",
      "Date:                Tue, 12 Mar 2019   Prob (F-statistic):          4.02e-253\n",
      "Time:                        23:23:44   Log-Likelihood:                -5399.4\n",
      "No. Observations:                 582   AIC:                         1.081e+04\n",
      "Df Residuals:                     577   BIC:                         1.083e+04\n",
      "Df Model:                           5                                         \n",
      "Covariance Type:            nonrobust                                         \n",
      "==============================================================================\n",
      "                 coef    std err          t      P>|t|      [0.025      0.975]\n",
      "------------------------------------------------------------------------------\n",
      "x1             2.4376      0.428      5.697      0.000       1.597       3.278\n",
      "x2             1.4817      0.134     11.073      0.000       1.219       1.745\n",
      "x3             0.0548      0.021      2.570      0.010       0.013       0.097\n",
      "x4             0.0051      0.000     15.714      0.000       0.004       0.006\n",
      "x5            -1.6150      0.096    -16.767      0.000      -1.804      -1.426\n",
      "==============================================================================\n",
      "Omnibus:                     1074.617   Durbin-Watson:                   1.639\n",
      "Prob(Omnibus):                  0.000   Jarque-Bera (JB):          1457471.562\n",
      "Skew:                          11.913   Prob(JB):                         0.00\n",
      "Kurtosis:                     246.996   Cond. No.                     2.49e+04\n",
      "==============================================================================\n",
      "\n",
      "Warnings:\n",
      "[1] Standard Errors assume that the covariance matrix of the errors is correctly specified.\n",
      "[2] The condition number is large, 2.49e+04. This might indicate that there are\n",
      "strong multicollinearity or other numerical problems.\n"
     ]
    }
   ],
   "source": [
    "lr_sb49_v2 = OLS(sb49_Y_v2, sb49_X_v2).fit()\n",
    "\n",
    "print(lr_sb49_v2.summary())"
   ]
  },
  {
   "cell_type": "code",
   "execution_count": 74,
   "metadata": {},
   "outputs": [
    {
     "name": "stdout",
     "output_type": "stream",
     "text": [
      "MSE for #sb49: 6694560.066255934\n"
     ]
    }
   ],
   "source": [
    "sb49_predict_v2 = lr_sb49_v2.predict(sb49_X_v2)\n",
    "sb49_mse_v2 = tools.eval_measures.mse(sb49_Y_v2, sb49_predict_v2)\n",
    "\n",
    "print(\"MSE for #sb49:\", sb49_mse_v2)"
   ]
  },
  {
   "cell_type": "markdown",
   "metadata": {},
   "source": [
    "#superbowl"
   ]
  },
  {
   "cell_type": "code",
   "execution_count": 75,
   "metadata": {},
   "outputs": [],
   "source": [
    "time_windows_superbowl_v2 = extract_feature_v2(files[5])\n",
    "\n",
    "superbowl_X_v2 = time_windows_superbowl_v2[0:-1,:]\n",
    "superbowl_Y_v2 = time_windows_superbowl_v2[1:,0]"
   ]
  },
  {
   "cell_type": "code",
   "execution_count": 76,
   "metadata": {},
   "outputs": [
    {
     "name": "stdout",
     "output_type": "stream",
     "text": [
      "                            OLS Regression Results                            \n",
      "==============================================================================\n",
      "Dep. Variable:                      y   R-squared:                       0.741\n",
      "Model:                            OLS   Adj. R-squared:                  0.739\n",
      "Method:                 Least Squares   F-statistic:                     332.4\n",
      "Date:                Tue, 12 Mar 2019   Prob (F-statistic):          8.87e-168\n",
      "Time:                        23:32:18   Log-Likelihood:                -5880.4\n",
      "No. Observations:                 586   AIC:                         1.177e+04\n",
      "Df Residuals:                     581   BIC:                         1.179e+04\n",
      "Df Model:                           5                                         \n",
      "Covariance Type:            nonrobust                                         \n",
      "==============================================================================\n",
      "                 coef    std err          t      P>|t|      [0.025      0.975]\n",
      "------------------------------------------------------------------------------\n",
      "x1            -0.2658      0.337     -0.789      0.431      -0.928       0.396\n",
      "x2             9.1772      0.825     11.123      0.000       7.557      10.798\n",
      "x3            -0.0874      0.025     -3.429      0.001      -0.137      -0.037\n",
      "x4            -0.0044      0.000    -10.626      0.000      -0.005      -0.004\n",
      "x5             0.8369      0.109      7.702      0.000       0.623       1.050\n",
      "==============================================================================\n",
      "Omnibus:                      777.366   Durbin-Watson:                   2.620\n",
      "Prob(Omnibus):                  0.000   Jarque-Bera (JB):           374252.465\n",
      "Skew:                           6.214   Prob(JB):                         0.00\n",
      "Kurtosis:                     126.180   Cond. No.                     6.38e+04\n",
      "==============================================================================\n",
      "\n",
      "Warnings:\n",
      "[1] Standard Errors assume that the covariance matrix of the errors is correctly specified.\n",
      "[2] The condition number is large, 6.38e+04. This might indicate that there are\n",
      "strong multicollinearity or other numerical problems.\n"
     ]
    }
   ],
   "source": [
    "lr_superbowl_v2 = OLS(superbowl_Y_v2, superbowl_X_v2).fit()\n",
    "\n",
    "print(lr_superbowl_v2.summary())"
   ]
  },
  {
   "cell_type": "code",
   "execution_count": 77,
   "metadata": {},
   "outputs": [
    {
     "name": "stdout",
     "output_type": "stream",
     "text": [
      "MSE for #superbowl: 30459584.157288235\n"
     ]
    }
   ],
   "source": [
    "superbowl_predict_v2 = lr_superbowl_v2.predict(superbowl_X_v2)\n",
    "superbowl_mse_v2 = tools.eval_measures.mse(superbowl_Y_v2, superbowl_predict_v2)\n",
    "\n",
    "print(\"MSE for #superbowl:\", superbowl_mse_v2)"
   ]
  },
  {
   "cell_type": "code",
   "execution_count": null,
   "metadata": {},
   "outputs": [],
   "source": []
  }
 ],
 "metadata": {
  "kernelspec": {
   "display_name": "Python 3",
   "language": "python",
   "name": "python3"
  },
  "language_info": {
   "codemirror_mode": {
    "name": "ipython",
    "version": 3
   },
   "file_extension": ".py",
   "mimetype": "text/x-python",
   "name": "python",
   "nbconvert_exporter": "python",
   "pygments_lexer": "ipython3",
   "version": "3.7.1"
  }
 },
 "nbformat": 4,
 "nbformat_minor": 2
}
