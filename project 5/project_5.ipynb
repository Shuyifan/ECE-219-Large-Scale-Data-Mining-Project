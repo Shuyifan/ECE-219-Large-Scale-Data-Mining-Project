{
 "cells": [
  {
   "cell_type": "markdown",
   "metadata": {},
   "source": [
    "## Question 1"
   ]
  },
  {
   "cell_type": "markdown",
   "metadata": {},
   "source": [
    "#### Report the following statistics for each hashtag, i.e. each file"
   ]
  },
  {
   "cell_type": "markdown",
   "metadata": {},
   "source": [
    "Have a look at the data"
   ]
  },
  {
   "cell_type": "code",
   "execution_count": 1,
   "metadata": {},
   "outputs": [
    {
     "name": "stdout",
     "output_type": "stream",
     "text": [
      "firstpost_date\n",
      "title\n",
      "url\n",
      "tweet\n",
      "author\n",
      "original_author\n",
      "citation_date\n",
      "metrics\n",
      "highlight\n",
      "type\n",
      "citation_url\n",
      "----------------------------------------\n",
      "firstpost_date:\n",
      "1419804875\n",
      "----------------------------------------\n",
      "title:\n",
      "I &lt;3 our defense! #GoHawks http://t.co/U1pcXpEsR8\n",
      "----------------------------------------\n",
      "url:\n",
      "http://twitter.com/Mich_Fit/status/549327579782840320\n",
      "----------------------------------------\n",
      "tweet:\n",
      "{'contributors': None, 'truncated': False, 'text': 'I &lt;3 our defense! #GoHawks http://t.co/U1pcXpEsR8', 'in_reply_to_status_id': None, 'id': 549327579782840320, 'favorite_count': 1, 'source': '<a href=\"http://twitter.com\" rel=\"nofollow\">Twitter Web Client</a>', 'retweeted': False, 'coordinates': None, 'entities': {'symbols': [], 'media': [{'expanded_url': 'http://twitter.com/Mich_Fit/status/549327579782840320/photo/1', 'sizes': {'large': {'h': 511, 'resize': 'fit', 'w': 511}, 'small': {'h': 340, 'resize': 'fit', 'w': 340}, 'medium': {'h': 511, 'resize': 'fit', 'w': 511}, 'thumb': {'h': 150, 'resize': 'crop', 'w': 150}}, 'url': 'http://t.co/U1pcXpEsR8', 'media_url_https': 'https://pbs.twimg.com/media/B5-aheMIcAAqGtA.jpg', 'id_str': '549327579392798720', 'indices': [30, 52], 'media_url': 'http://pbs.twimg.com/media/B5-aheMIcAAqGtA.jpg', 'type': 'photo', 'id': 549327579392798720, 'display_url': 'pic.twitter.com/U1pcXpEsR8'}], 'hashtags': [{'indices': [21, 29], 'text': 'GoHawks'}], 'user_mentions': [], 'trends': [], 'urls': []}, 'in_reply_to_screen_name': None, 'in_reply_to_user_id': None, 'retweet_count': 2, 'id_str': '549327579782840320', 'favorited': False, 'user': {'follow_request_sent': None, 'profile_use_background_image': True, 'geo_enabled': True, 'description': 'Food, Fitness, Football                                    #EatClean #FitFam #GoHawks', 'verified': False, 'profile_image_url_https': 'https://pbs.twimg.com/profile_images/547474027204591617/kgP4YJMW_normal.jpeg', 'profile_sidebar_fill_color': 'DDEEF6', 'is_translator': False, 'id': 749230320, 'profile_text_color': '333333', 'followers_count': 2318, 'profile_sidebar_border_color': 'C0DEED', 'id_str': '749230320', 'default_profile_image': False, 'location': 'Ontario', 'utc_offset': None, 'statuses_count': 12477, 'profile_background_color': 'C0DEED', 'friends_count': 2025, 'profile_link_color': '0084B4', 'profile_image_url': 'http://pbs.twimg.com/profile_images/547474027204591617/kgP4YJMW_normal.jpeg', 'notifications': None, 'profile_background_image_url_https': 'https://abs.twimg.com/images/themes/theme1/bg.png', 'profile_banner_url': 'https://pbs.twimg.com/profile_banners/749230320/1413579075', 'profile_background_image_url': 'http://abs.twimg.com/images/themes/theme1/bg.png', 'name': 'Michelle', 'lang': 'en', 'profile_background_tile': False, 'favourites_count': 9490, 'screen_name': 'Mich_Fit', 'url': None, 'created_at': 'Fri Aug 10 12:00:57 +0000 2012', 'contributors_enabled': False, 'time_zone': None, 'protected': False, 'default_profile': True, 'following': None, 'listed_count': 32}, 'geo': None, 'in_reply_to_user_id_str': None, 'possibly_sensitive': False, 'lang': 'en', 'created_at': 'Sun Dec 28 22:14:35 +0000 2014', 'filter_level': 'low', 'in_reply_to_status_id_str': None, 'place': None, 'extended_entities': {'media': [{'expanded_url': 'http://twitter.com/Mich_Fit/status/549327579782840320/photo/1', 'sizes': {'large': {'h': 511, 'resize': 'fit', 'w': 511}, 'small': {'h': 340, 'resize': 'fit', 'w': 340}, 'medium': {'h': 511, 'resize': 'fit', 'w': 511}, 'thumb': {'h': 150, 'resize': 'crop', 'w': 150}}, 'url': 'http://t.co/U1pcXpEsR8', 'media_url_https': 'https://pbs.twimg.com/media/B5-aheMIcAAqGtA.jpg', 'id_str': '549327579392798720', 'indices': [30, 52], 'media_url': 'http://pbs.twimg.com/media/B5-aheMIcAAqGtA.jpg', 'type': 'photo', 'id': 549327579392798720, 'display_url': 'pic.twitter.com/U1pcXpEsR8'}]}}\n",
      "----------------------------------------\n",
      "author:\n",
      "{'author_img': 'http://pbs.twimg.com/profile_images/561716455155064833/XGrpP4Rl_normal.jpeg', 'name': 'RJ', 'url': 'http://twitter.com/rejinseattle', 'nick': 'rejinseattle', 'followers': 1752.0, 'image_url': 'http://pbs.twimg.com/profile_images/561716455155064833/XGrpP4Rl_normal.jpeg', 'type': 'twitter', 'description': 'Married to my best friend... You-make me laugh and occasionally think... I-will let you in on some of the crazy shit that consumes my thoughts...'}\n",
      "----------------------------------------\n",
      "original_author:\n",
      "{'author_img': 'http://pbs.twimg.com/profile_images/547474027204591617/kgP4YJMW_normal.jpeg', 'description': 'Food, Fitness, Football                                    #EatClean #FitFam #GoHawks', 'url': 'http://twitter.com/mich_fit', 'nick': 'mich_fit', 'followers': 2534.0, 'image_url': 'http://pbs.twimg.com/profile_images/547474027204591617/kgP4YJMW_normal.jpeg', 'type': 'twitter', 'influence_level': 0.0, 'name': 'Michelle'}\n",
      "----------------------------------------\n",
      "citation_date:\n",
      "1421518778\n",
      "----------------------------------------\n",
      "metrics:\n",
      "{'acceleration': 0, 'ranking_score': 4.7437034, 'citations': {'influential': 0, 'total': 5, 'data': [{'timestamp': 1421518739, 'citations': 1}], 'matching': 1, 'replies': 0}, 'peak': 1421518799, 'impressions': 1754, 'momentum': 1}\n",
      "----------------------------------------\n",
      "highlight:\n",
      "I &lt;3 our defense! #GoHawks http://t.co/U1pcXpEsR8\n",
      "----------------------------------------\n",
      "type:\n",
      "retweet:native\n",
      "----------------------------------------\n",
      "citation_url:\n",
      "http://twitter.com/REJinseattle/status/556516209261166593\n",
      "----------------------------------------\n"
     ]
    }
   ],
   "source": [
    "import json\n",
    "\n",
    "files = [\"ECE219_tweet_data/tweets_#gohawks.txt\",\n",
    "         \"ECE219_tweet_data/tweets_#gopatriots.txt\",\n",
    "         \"ECE219_tweet_data/tweets_#nfl.txt\",\n",
    "         \"ECE219_tweet_data/tweets_#patriots.txt\",\n",
    "         \"ECE219_tweet_data/tweets_#sb49.txt\",\n",
    "         \"ECE219_tweet_data/tweets_#superbowl.txt\"]\n",
    "\n",
    "with open(files[0], 'r') as file:\n",
    "    first_line = file.readline()\n",
    "    json_obj = json.loads(first_line)\n",
    "    for key in json_obj:\n",
    "        print(key)\n",
    "    print('-' * 40)\n",
    "    for key in json_obj:\n",
    "        print(key + ':')\n",
    "        print(json_obj[key])\n",
    "        print('-' * 40)"
   ]
  },
  {
   "cell_type": "code",
   "execution_count": 2,
   "metadata": {},
   "outputs": [],
   "source": [
    "max_times = {\"ECE219_tweet_data/tweets_#gohawks.txt\": 0,\n",
    "             \"ECE219_tweet_data/tweets_#gopatriots.txt\": 0,\n",
    "             \"ECE219_tweet_data/tweets_#nfl.txt\": 0,\n",
    "             \"ECE219_tweet_data/tweets_#patriots.txt\": 0,\n",
    "             \"ECE219_tweet_data/tweets_#sb49.txt\": 0,\n",
    "             \"ECE219_tweet_data/tweets_#superbowl.txt\": 0}\n",
    "\n",
    "min_times = {\"ECE219_tweet_data/tweets_#gohawks.txt\": 0,\n",
    "             \"ECE219_tweet_data/tweets_#gopatriots.txt\": 0,\n",
    "             \"ECE219_tweet_data/tweets_#nfl.txt\": 0,\n",
    "             \"ECE219_tweet_data/tweets_#patriots.txt\": 0,\n",
    "             \"ECE219_tweet_data/tweets_#sb49.txt\": 0,\n",
    "             \"ECE219_tweet_data/tweets_#superbowl.txt\": 0}"
   ]
  },
  {
   "cell_type": "code",
   "execution_count": 3,
   "metadata": {},
   "outputs": [],
   "source": [
    "# helper funtion to report statistics for one file\n",
    "# at the same time get max and min times for each file\n",
    "\n",
    "def report_statistics(filename):\n",
    "    with open(filename, 'r') as file:\n",
    "        lines = file.readlines()\n",
    "        max_time = 0\n",
    "        min_time = 2000000000\n",
    "        total_followers = 0\n",
    "        total_retweets = 0\n",
    "        for line in lines:\n",
    "            json_obj = json.loads(line)\n",
    "            if(json_obj['citation_date'] > max_time):\n",
    "                max_time = json_obj['citation_date']\n",
    "            if(json_obj['citation_date'] < min_time):\n",
    "                min_time = json_obj['citation_date']\n",
    "                \n",
    "            total_followers = total_followers + json_obj['author']['followers']\n",
    "            \n",
    "            total_retweets = total_retweets + json_obj['metrics']['citations']['total']\n",
    "                \n",
    "        avg_tweets_per_hour = len(lines) / (max_time - min_time) * 60 * 60\n",
    "        avg_followers_per_tweet = total_followers / len(lines)\n",
    "        avg_retweets_per_tweet = total_retweets / len(lines)\n",
    "        \n",
    "        max_times[filename] = max_time\n",
    "        min_times[filename] = min_time\n",
    "        \n",
    "    print('-' * 40)\n",
    "    print(filename)\n",
    "    print(\"Average number of tweets per hour:\")\n",
    "    print(avg_tweets_per_hour)\n",
    "    \n",
    "    print(\"Average number of followers per tweet:\")\n",
    "    print(avg_followers_per_tweet)\n",
    "    \n",
    "    print(\"Average number of retweets per tweet:\")\n",
    "    print(avg_retweets_per_tweet)"
   ]
  },
  {
   "cell_type": "markdown",
   "metadata": {},
   "source": [
    "##### • Average number of tweets per hour\n",
    "##### • Average number of followers of users posting the tweets per tweet\n",
    "##### • Average number of retweets per tweet"
   ]
  },
  {
   "cell_type": "code",
   "execution_count": 4,
   "metadata": {},
   "outputs": [
    {
     "name": "stdout",
     "output_type": "stream",
     "text": [
      "----------------------------------------\n",
      "ECE219_tweet_data/tweets_#gohawks.txt\n",
      "Average number of tweets per hour:\n",
      "292.48785062173687\n",
      "Average number of followers per tweet:\n",
      "2217.9237355281984\n",
      "Average number of retweets per tweet:\n",
      "2.0132093991319877\n",
      "----------------------------------------\n",
      "ECE219_tweet_data/tweets_#gopatriots.txt\n",
      "Average number of tweets per hour:\n",
      "40.954698006061946\n",
      "Average number of followers per tweet:\n",
      "1427.2526051635405\n",
      "Average number of retweets per tweet:\n",
      "1.4081919101697078\n",
      "----------------------------------------\n",
      "ECE219_tweet_data/tweets_#nfl.txt\n",
      "Average number of tweets per hour:\n",
      "397.0213901819841\n",
      "Average number of followers per tweet:\n",
      "4662.37544523693\n",
      "Average number of retweets per tweet:\n",
      "1.5344602655543254\n",
      "----------------------------------------\n",
      "ECE219_tweet_data/tweets_#patriots.txt\n",
      "Average number of tweets per hour:\n",
      "750.89426460689\n",
      "Average number of followers per tweet:\n",
      "3280.4635616550277\n",
      "Average number of retweets per tweet:\n",
      "1.7852871288476946\n",
      "----------------------------------------\n",
      "ECE219_tweet_data/tweets_#sb49.txt\n",
      "Average number of tweets per hour:\n",
      "1276.8570598680474\n",
      "Average number of followers per tweet:\n",
      "10374.160292019487\n",
      "Average number of retweets per tweet:\n",
      "2.52713444111402\n",
      "----------------------------------------\n",
      "ECE219_tweet_data/tweets_#superbowl.txt\n",
      "Average number of tweets per hour:\n",
      "2072.11840170408\n",
      "Average number of followers per tweet:\n",
      "8814.96799424623\n",
      "Average number of retweets per tweet:\n",
      "2.3911895819207736\n"
     ]
    }
   ],
   "source": [
    "for file in files:\n",
    "    report_statistics(file)"
   ]
  },
  {
   "cell_type": "markdown",
   "metadata": {},
   "source": [
    "## Question 2"
   ]
  },
  {
   "cell_type": "markdown",
   "metadata": {},
   "source": [
    "#### Plot \"number of tweets in hour\" over time for #SuperBowl and #NFL (a histogram with 1-hour bins)"
   ]
  },
  {
   "cell_type": "code",
   "execution_count": 5,
   "metadata": {},
   "outputs": [],
   "source": [
    "def get_num_in_hour(filename):\n",
    "    with open(filename, 'r') as file:\n",
    "        lines = file.readlines()\n",
    "        \n",
    "        max_time = max_times[filename]\n",
    "        min_time = min_times[filename]\n",
    "\n",
    "        total_hours = round((max_time - min_time) / (60 * 60)) + 1\n",
    "        X = range(total_hours)\n",
    "        Y = [0] * total_hours\n",
    "\n",
    "        for line in lines:\n",
    "            json_obj = json.loads(line)\n",
    "            index = round((json_obj['citation_date'] - min_time) / (60 * 60))\n",
    "            Y[index] = Y[index] + 1\n",
    "\n",
    "        return X, Y"
   ]
  },
  {
   "cell_type": "code",
   "execution_count": 6,
   "metadata": {},
   "outputs": [],
   "source": [
    "import matplotlib.pyplot as plt\n",
    "\n",
    "def plot_num_in_hour(X, Y, name):\n",
    "    plt.figure(figsize=(10,6))\n",
    "    plt.bar(X, Y, width=X[1]-X[0])\n",
    "    plt.xlabel('Hours over time')\n",
    "    plt.ylabel('Number of tweets')\n",
    "    plt.title('number of tweets in hours for ' + name)\n",
    "    plt.show()"
   ]
  },
  {
   "cell_type": "markdown",
   "metadata": {},
   "source": [
    "#SuperBowl"
   ]
  },
  {
   "cell_type": "code",
   "execution_count": 7,
   "metadata": {},
   "outputs": [],
   "source": [
    "SuperBowl_X, SuperBowl_Y = get_num_in_hour(files[5])"
   ]
  },
  {
   "cell_type": "code",
   "execution_count": 8,
   "metadata": {},
   "outputs": [
    {
     "data": {
      "image/png": "[encoded data removed]",
      "text/plain": [
       "<Figure size 720x432 with 1 Axes>"
      ]
     },
     "metadata": {
      "needs_background": "light"
     },
     "output_type": "display_data"
    }
   ],
   "source": [
    "plot_num_in_hour(SuperBowl_X, SuperBowl_Y, \"#SuperBowl\")"
   ]
  },
  {
   "cell_type": "markdown",
   "metadata": {},
   "source": [
    "#NFL"
   ]
  },
  {
   "cell_type": "code",
   "execution_count": 9,
   "metadata": {},
   "outputs": [],
   "source": [
    "NFL_X, NFL_Y = get_num_in_hour(files[2])"
   ]
  },
  {
   "cell_type": "code",
   "execution_count": 10,
   "metadata": {},
   "outputs": [
    {
     "data": {
      "image/png": "[encoded data removed]",
      "text/plain": [
       "<Figure size 720x432 with 1 Axes>"
      ]
     },
     "metadata": {
      "needs_background": "light"
     },
     "output_type": "display_data"
    }
   ],
   "source": [
    "plot_num_in_hour(NFL_X, NFL_Y, \"#NFL\")"
   ]
  },
  {
   "cell_type": "markdown",
   "metadata": {},
   "source": [
    "## Question 3"
   ]
  },
  {
   "cell_type": "markdown",
   "metadata": {},
   "source": [
    "#### For each hashtag, train a linear regression model. For each model, report the model's Mean Squared Error (MSE) and R-squared mesure. Also, analyze the significance of each feature using t-test and p-value."
   ]
  },
  {
   "cell_type": "code",
   "execution_count": 13,
   "metadata": {},
   "outputs": [],
   "source": [
    "import datetime\n",
    "import pytz\n",
    "import numpy as np\n",
    "\n",
    "pst_tz = pytz.timezone('America/Los_Angeles')\n",
    "\n",
    "def extract_feature(filename):\n",
    "    with open(filename, 'r') as file:\n",
    "        lines = file.readlines()\n",
    "        max_time = max_times[filename]\n",
    "        min_time = min_times[filename]\n",
    "        \n",
    "        total_hours = round((max_time - min_time) / (60 * 60)) + 1\n",
    "        \n",
    "        num_tweets = 0\n",
    "        num_retweets = 0\n",
    "        num_followers = 0\n",
    "        max_num_followers = 0\n",
    "        time_windows = []\n",
    "        \n",
    "        for hour in range(total_hours):\n",
    "            datetime_object_in_pst_timezone = datetime.datetime.fromtimestamp(min_time + hour * 60 * 60, pst_tz)\n",
    "            time_of_day = datetime_object_in_pst_timezone.hour\n",
    "            time_windows.append([num_tweets, num_retweets, num_followers, max_num_followers, time_of_day])\n",
    "            \n",
    "        for line in lines:\n",
    "            json_obj = json.loads(line)\n",
    "            index = round((json_obj['citation_date'] - min_time) / (60 * 60))\n",
    "            time_windows[index][0] = time_windows[index][0] + 1 # update num_tweets\n",
    "            time_windows[index][1] = time_windows[index][1] + json_obj['metrics']['citations']['total'] # update num_retweets\n",
    "            time_windows[index][2] = time_windows[index][2] + json_obj['author']['followers'] # update num_followers\n",
    "            time_windows[index][3] = max(time_windows[index][3], json_obj['author']['followers']) # update max_num_followers\n",
    "            \n",
    "        return np.array(time_windows)"
   ]
  },
  {
   "cell_type": "markdown",
   "metadata": {},
   "source": [
    "#gohawks"
   ]
  },
  {
   "cell_type": "code",
   "execution_count": 14,
   "metadata": {},
   "outputs": [],
   "source": [
    "time_windows_gohawks = extract_feature(files[0])\n",
    "\n",
    "gohawks_X = time_windows_gohawks[0:-1,:]\n",
    "gohawks_Y = time_windows_gohawks[1:,0]"
   ]
  },
  {
   "cell_type": "code",
   "execution_count": 18,
   "metadata": {},
   "outputs": [
    {
     "name": "stdout",
     "output_type": "stream",
     "text": [
      "                            OLS Regression Results                            \n",
      "==============================================================================\n",
      "Dep. Variable:                      y   R-squared:                       0.709\n",
      "Model:                            OLS   Adj. R-squared:                  0.707\n",
      "Method:                 Least Squares   F-statistic:                     279.5\n",
      "Date:                Tue, 12 Mar 2019   Prob (F-statistic):          4.57e-151\n",
      "Time:                        19:47:20   Log-Likelihood:                -4540.0\n",
      "No. Observations:                 578   AIC:                             9090.\n",
      "Df Residuals:                     573   BIC:                             9112.\n",
      "Df Model:                           5                                         \n",
      "Covariance Type:            nonrobust                                         \n",
      "==============================================================================\n",
      "                 coef    std err          t      P>|t|      [0.025      0.975]\n",
      "------------------------------------------------------------------------------\n",
      "x1             1.1645      0.119      9.748      0.000       0.930       1.399\n",
      "x2            -0.0810      0.033     -2.435      0.015      -0.146      -0.016\n",
      "x3            -0.0001   6.24e-05     -1.725      0.085      -0.000    1.49e-05\n",
      "x4          4.212e-05      0.000      0.348      0.728      -0.000       0.000\n",
      "x5             3.8362      2.141      1.792      0.074      -0.369       8.042\n",
      "==============================================================================\n",
      "Omnibus:                      632.026   Durbin-Watson:                   1.864\n",
      "Prob(Omnibus):                  0.000   Jarque-Bera (JB):           222979.332\n",
      "Skew:                           4.342   Prob(JB):                         0.00\n",
      "Kurtosis:                      98.829   Cond. No.                     2.02e+05\n",
      "==============================================================================\n",
      "\n",
      "Warnings:\n",
      "[1] Standard Errors assume that the covariance matrix of the errors is correctly specified.\n",
      "[2] The condition number is large, 2.02e+05. This might indicate that there are\n",
      "strong multicollinearity or other numerical problems.\n"
     ]
    }
   ],
   "source": [
    "from statsmodels.api import OLS\n",
    "\n",
    "lr_gohawks = OLS(gohawks_Y, gohawks_X).fit()\n",
    "\n",
    "print(lr_gohawks.summary())"
   ]
  },
  {
   "cell_type": "code",
   "execution_count": 19,
   "metadata": {},
   "outputs": [
    {
     "name": "stdout",
     "output_type": "stream",
     "text": [
      "MSE for #gohawks: 389086.61457122036\n"
     ]
    }
   ],
   "source": [
    "from statsmodels.api import tools\n",
    "gohawks_predict = lr_gohawks.predict(gohawks_X)\n",
    "gohawks_mse = tools.eval_measures.mse(gohawks_Y, gohawks_predict)\n",
    "\n",
    "print(\"MSE for #gohawks:\", gohawks_mse)"
   ]
  },
  {
   "cell_type": "markdown",
   "metadata": {},
   "source": [
    "#gopatriots"
   ]
  },
  {
   "cell_type": "code",
   "execution_count": 20,
   "metadata": {},
   "outputs": [],
   "source": [
    "time_windows_gopatriots = extract_feature(files[1])\n",
    "\n",
    "gopatriots_X = time_windows_gopatriots[0:-1,:]\n",
    "gopatriots_Y = time_windows_gopatriots[1:,0]"
   ]
  },
  {
   "cell_type": "code",
   "execution_count": 21,
   "metadata": {},
   "outputs": [
    {
     "name": "stdout",
     "output_type": "stream",
     "text": [
      "                            OLS Regression Results                            \n",
      "==============================================================================\n",
      "Dep. Variable:                      y   R-squared:                       0.454\n",
      "Model:                            OLS   Adj. R-squared:                  0.449\n",
      "Method:                 Least Squares   F-statistic:                     94.54\n",
      "Date:                Tue, 12 Mar 2019   Prob (F-statistic):           2.14e-72\n",
      "Time:                        20:03:12   Log-Likelihood:                -3905.5\n",
      "No. Observations:                 574   AIC:                             7821.\n",
      "Df Residuals:                     569   BIC:                             7843.\n",
      "Df Model:                           5                                         \n",
      "Covariance Type:            nonrobust                                         \n",
      "==============================================================================\n",
      "                 coef    std err          t      P>|t|      [0.025      0.975]\n",
      "------------------------------------------------------------------------------\n",
      "x1            -1.5580      0.298     -5.227      0.000      -2.143      -0.973\n",
      "x2             1.6997      0.245      6.948      0.000       1.219       2.180\n",
      "x3             0.0001      0.000      0.581      0.561      -0.000       0.001\n",
      "x4            -0.0004      0.000     -1.870      0.062      -0.001    1.92e-05\n",
      "x5             0.4805      0.706      0.680      0.497      -0.907       1.868\n",
      "==============================================================================\n",
      "Omnibus:                     1021.072   Durbin-Watson:                   2.438\n",
      "Prob(Omnibus):                  0.000   Jarque-Bera (JB):          1171508.631\n",
      "Skew:                          11.011   Prob(JB):                         0.00\n",
      "Kurtosis:                     223.223   Cond. No.                     3.11e+04\n",
      "==============================================================================\n",
      "\n",
      "Warnings:\n",
      "[1] Standard Errors assume that the covariance matrix of the errors is correctly specified.\n",
      "[2] The condition number is large, 3.11e+04. This might indicate that there are\n",
      "strong multicollinearity or other numerical problems.\n"
     ]
    }
   ],
   "source": [
    "lr_gopatriots = OLS(gopatriots_Y, gopatriots_X).fit()\n",
    "\n",
    "print(lr_gopatriots.summary())"
   ]
  },
  {
   "cell_type": "code",
   "execution_count": 22,
   "metadata": {},
   "outputs": [
    {
     "name": "stdout",
     "output_type": "stream",
     "text": [
      "MSE for #gopatriots: 47576.188942486355\n"
     ]
    }
   ],
   "source": [
    "gopatriots_predict = lr_gopatriots.predict(gopatriots_X)\n",
    "gopatriots_mse = tools.eval_measures.mse(gopatriots_Y, gopatriots_predict)\n",
    "\n",
    "print(\"MSE for #gopatriots:\", gopatriots_mse)"
   ]
  },
  {
   "cell_type": "markdown",
   "metadata": {},
   "source": [
    "#nfl"
   ]
  },
  {
   "cell_type": "code",
   "execution_count": 23,
   "metadata": {},
   "outputs": [],
   "source": [
    "time_windows_nfl = extract_feature(files[2])\n",
    "\n",
    "nfl_X = time_windows_nfl[0:-1,:]\n",
    "nfl_Y = time_windows_nfl[1:,0]"
   ]
  },
  {
   "cell_type": "code",
   "execution_count": 24,
   "metadata": {},
   "outputs": [
    {
     "name": "stdout",
     "output_type": "stream",
     "text": [
      "                            OLS Regression Results                            \n",
      "==============================================================================\n",
      "Dep. Variable:                      y   R-squared:                       0.730\n",
      "Model:                            OLS   Adj. R-squared:                  0.728\n",
      "Method:                 Least Squares   F-statistic:                     315.4\n",
      "Date:                Tue, 12 Mar 2019   Prob (F-statistic):          5.03e-163\n",
      "Time:                        20:06:04   Log-Likelihood:                -4428.3\n",
      "No. Observations:                 587   AIC:                             8867.\n",
      "Df Residuals:                     582   BIC:                             8889.\n",
      "Df Model:                           5                                         \n",
      "Covariance Type:            nonrobust                                         \n",
      "==============================================================================\n",
      "                 coef    std err          t      P>|t|      [0.025      0.975]\n",
      "------------------------------------------------------------------------------\n",
      "x1             0.4814      0.114      4.208      0.000       0.257       0.706\n",
      "x2            -0.2327      0.060     -3.878      0.000      -0.351      -0.115\n",
      "x3             0.0002   1.84e-05     10.041      0.000       0.000       0.000\n",
      "x4            -0.0002   2.92e-05     -7.865      0.000      -0.000      -0.000\n",
      "x5             8.6207      1.711      5.040      0.000       5.261      11.980\n",
      "==============================================================================\n",
      "Omnibus:                      549.091   Durbin-Watson:                   2.070\n",
      "Prob(Omnibus):                  0.000   Jarque-Bera (JB):           149763.175\n",
      "Skew:                           3.321   Prob(JB):                         0.00\n",
      "Kurtosis:                      80.968   Cond. No.                     3.90e+05\n",
      "==============================================================================\n",
      "\n",
      "Warnings:\n",
      "[1] Standard Errors assume that the covariance matrix of the errors is correctly specified.\n",
      "[2] The condition number is large, 3.9e+05. This might indicate that there are\n",
      "strong multicollinearity or other numerical problems.\n"
     ]
    }
   ],
   "source": [
    "lr_nfl = OLS(nfl_Y, nfl_X).fit()\n",
    "\n",
    "print(lr_nfl.summary())"
   ]
  },
  {
   "cell_type": "code",
   "execution_count": 25,
   "metadata": {},
   "outputs": [
    {
     "name": "stdout",
     "output_type": "stream",
     "text": [
      "MSE for #nfl: 209013.3222443561\n"
     ]
    }
   ],
   "source": [
    "nfl_predict = lr_nfl.predict(nfl_X)\n",
    "nfl_mse = tools.eval_measures.mse(nfl_Y, nfl_predict)\n",
    "\n",
    "print(\"MSE for #nfl:\", nfl_mse)"
   ]
  },
  {
   "cell_type": "markdown",
   "metadata": {},
   "source": [
    "#patriots"
   ]
  },
  {
   "cell_type": "code",
   "execution_count": 26,
   "metadata": {},
   "outputs": [],
   "source": [
    "time_windows_patriots = extract_feature(files[3])\n",
    "\n",
    "patriots_X = time_windows_patriots[0:-1,:]\n",
    "patriots_Y = time_windows_patriots[1:,0]"
   ]
  },
  {
   "cell_type": "code",
   "execution_count": 27,
   "metadata": {},
   "outputs": [
    {
     "name": "stdout",
     "output_type": "stream",
     "text": [
      "                            OLS Regression Results                            \n",
      "==============================================================================\n",
      "Dep. Variable:                      y   R-squared:                       0.667\n",
      "Model:                            OLS   Adj. R-squared:                  0.664\n",
      "Method:                 Least Squares   F-statistic:                     232.8\n",
      "Date:                Tue, 12 Mar 2019   Prob (F-statistic):          2.92e-136\n",
      "Time:                        20:10:34   Log-Likelihood:                -5386.3\n",
      "No. Observations:                 587   AIC:                         1.078e+04\n",
      "Df Residuals:                     582   BIC:                         1.080e+04\n",
      "Df Model:                           5                                         \n",
      "Covariance Type:            nonrobust                                         \n",
      "==============================================================================\n",
      "                 coef    std err          t      P>|t|      [0.025      0.975]\n",
      "------------------------------------------------------------------------------\n",
      "x1             1.0036      0.085     11.838      0.000       0.837       1.170\n",
      "x2            -0.0650      0.072     -0.905      0.366      -0.206       0.076\n",
      "x3         -7.396e-05   2.79e-05     -2.648      0.008      -0.000   -1.91e-05\n",
      "x4          8.715e-05   9.37e-05      0.930      0.353   -9.69e-05       0.000\n",
      "x5            14.0915      8.101      1.739      0.082      -1.820      30.003\n",
      "==============================================================================\n",
      "Omnibus:                      917.929   Durbin-Watson:                   2.080\n",
      "Prob(Omnibus):                  0.000   Jarque-Bera (JB):           498211.103\n",
      "Skew:                           8.677   Prob(JB):                         0.00\n",
      "Kurtosis:                     144.664   Cond. No.                     7.01e+05\n",
      "==============================================================================\n",
      "\n",
      "Warnings:\n",
      "[1] Standard Errors assume that the covariance matrix of the errors is correctly specified.\n",
      "[2] The condition number is large, 7.01e+05. This might indicate that there are\n",
      "strong multicollinearity or other numerical problems.\n"
     ]
    }
   ],
   "source": [
    "lr_patriots = OLS(patriots_Y, patriots_X).fit()\n",
    "\n",
    "print(lr_patriots.summary())"
   ]
  },
  {
   "cell_type": "code",
   "execution_count": 28,
   "metadata": {},
   "outputs": [
    {
     "name": "stdout",
     "output_type": "stream",
     "text": [
      "MSE for #patriots: 5466476.76932625\n"
     ]
    }
   ],
   "source": [
    "patriots_predict = lr_patriots.predict(patriots_X)\n",
    "patriots_mse = tools.eval_measures.mse(patriots_Y, patriots_predict)\n",
    "\n",
    "print(\"MSE for #patriots:\", patriots_mse)"
   ]
  },
  {
   "cell_type": "markdown",
   "metadata": {},
   "source": [
    "#sb49"
   ]
  },
  {
   "cell_type": "code",
   "execution_count": 29,
   "metadata": {},
   "outputs": [],
   "source": [
    "time_windows_sb49 = extract_feature(files[4])\n",
    "\n",
    "sb49_X = time_windows_sb49[0:-1,:]\n",
    "sb49_Y = time_windows_sb49[1:,0]"
   ]
  },
  {
   "cell_type": "code",
   "execution_count": 30,
   "metadata": {},
   "outputs": [
    {
     "name": "stdout",
     "output_type": "stream",
     "text": [
      "                            OLS Regression Results                            \n",
      "==============================================================================\n",
      "Dep. Variable:                      y   R-squared:                       0.805\n",
      "Model:                            OLS   Adj. R-squared:                  0.803\n",
      "Method:                 Least Squares   F-statistic:                     475.2\n",
      "Date:                Tue, 12 Mar 2019   Prob (F-statistic):          7.28e-202\n",
      "Time:                        20:15:48   Log-Likelihood:                -5662.4\n",
      "No. Observations:                 582   AIC:                         1.133e+04\n",
      "Df Residuals:                     577   BIC:                         1.136e+04\n",
      "Df Model:                           5                                         \n",
      "Covariance Type:            nonrobust                                         \n",
      "==============================================================================\n",
      "                 coef    std err          t      P>|t|      [0.025      0.975]\n",
      "------------------------------------------------------------------------------\n",
      "x1             1.0912      0.088     12.395      0.000       0.918       1.264\n",
      "x2            -0.1125      0.079     -1.433      0.152      -0.267       0.042\n",
      "x3          2.786e-06   1.24e-05      0.225      0.822   -2.15e-05    2.71e-05\n",
      "x4          6.725e-05   4.28e-05      1.570      0.117   -1.69e-05       0.000\n",
      "x5             0.5488     13.851      0.040      0.968     -26.655      27.753\n",
      "==============================================================================\n",
      "Omnibus:                     1184.527   Durbin-Watson:                   1.678\n",
      "Prob(Omnibus):                  0.000   Jarque-Bera (JB):          2245389.731\n",
      "Skew:                          14.729   Prob(JB):                         0.00\n",
      "Kurtosis:                     305.862   Cond. No.                     6.48e+06\n",
      "==============================================================================\n",
      "\n",
      "Warnings:\n",
      "[1] Standard Errors assume that the covariance matrix of the errors is correctly specified.\n",
      "[2] The condition number is large, 6.48e+06. This might indicate that there are\n",
      "strong multicollinearity or other numerical problems.\n"
     ]
    }
   ],
   "source": [
    "lr_sb49 = OLS(sb49_Y, sb49_X).fit()\n",
    "\n",
    "print(lr_sb49.summary())"
   ]
  },
  {
   "cell_type": "code",
   "execution_count": 31,
   "metadata": {},
   "outputs": [
    {
     "name": "stdout",
     "output_type": "stream",
     "text": [
      "MSE for #sb49: 16530174.167058893\n"
     ]
    }
   ],
   "source": [
    "sb49_predict = lr_sb49.predict(sb49_X)\n",
    "sb49_mse = tools.eval_measures.mse(sb49_Y, sb49_predict)\n",
    "\n",
    "print(\"MSE for #sb49:\", sb49_mse)"
   ]
  },
  {
   "cell_type": "markdown",
   "metadata": {},
   "source": [
    "#superbowl"
   ]
  },
  {
   "cell_type": "code",
   "execution_count": 32,
   "metadata": {},
   "outputs": [],
   "source": [
    "time_windows_superbowl = extract_feature(files[5])\n",
    "\n",
    "superbowl_X = time_windows_superbowl[0:-1,:]\n",
    "superbowl_Y = time_windows_superbowl[1:,0]"
   ]
  },
  {
   "cell_type": "code",
   "execution_count": 33,
   "metadata": {},
   "outputs": [
    {
     "name": "stdout",
     "output_type": "stream",
     "text": [
      "                            OLS Regression Results                            \n",
      "==============================================================================\n",
      "Dep. Variable:                      y   R-squared:                       0.781\n",
      "Model:                            OLS   Adj. R-squared:                  0.779\n",
      "Method:                 Least Squares   F-statistic:                     415.1\n",
      "Date:                Tue, 12 Mar 2019   Prob (F-statistic):          4.34e-189\n",
      "Time:                        20:23:59   Log-Likelihood:                -6069.3\n",
      "No. Observations:                 586   AIC:                         1.215e+04\n",
      "Df Residuals:                     581   BIC:                         1.217e+04\n",
      "Df Model:                           5                                         \n",
      "Covariance Type:            nonrobust                                         \n",
      "==============================================================================\n",
      "                 coef    std err          t      P>|t|      [0.025      0.975]\n",
      "------------------------------------------------------------------------------\n",
      "x1             2.5533      0.111     23.094      0.000       2.336       2.770\n",
      "x2            -0.3919      0.040     -9.735      0.000      -0.471      -0.313\n",
      "x3            -0.0001   2.29e-05     -5.899      0.000      -0.000      -9e-05\n",
      "x4             0.0009      0.000      6.476      0.000       0.001       0.001\n",
      "x5           -62.8524     28.245     -2.225      0.026    -118.328      -7.377\n",
      "==============================================================================\n",
      "Omnibus:                      352.078   Durbin-Watson:                   2.379\n",
      "Prob(Omnibus):                  0.000   Jarque-Bera (JB):           781423.704\n",
      "Skew:                           0.938   Prob(JB):                         0.00\n",
      "Kurtosis:                     181.886   Cond. No.                     9.53e+06\n",
      "==============================================================================\n",
      "\n",
      "Warnings:\n",
      "[1] Standard Errors assume that the covariance matrix of the errors is correctly specified.\n",
      "[2] The condition number is large, 9.53e+06. This might indicate that there are\n",
      "strong multicollinearity or other numerical problems.\n"
     ]
    }
   ],
   "source": [
    "lr_superbowl = OLS(superbowl_Y, superbowl_X).fit()\n",
    "\n",
    "print(lr_superbowl.summary())"
   ]
  },
  {
   "cell_type": "code",
   "execution_count": 34,
   "metadata": {},
   "outputs": [
    {
     "name": "stdout",
     "output_type": "stream",
     "text": [
      "MSE for #superbowl: 58037195.52955217\n"
     ]
    }
   ],
   "source": [
    "superbowl_predict = lr_superbowl.predict(superbowl_X)\n",
    "superbowl_mse = tools.eval_measures.mse(superbowl_Y, superbowl_predict)\n",
    "\n",
    "print(\"MSE for #superbowl:\", superbowl_mse)"
   ]
  },
  {
   "cell_type": "markdown",
   "metadata": {},
   "source": [
    "## Question 4"
   ]
  },
  {
   "cell_type": "markdown",
   "metadata": {},
   "source": [
    "#### Design a regression model using any features from the paper you find or other new features you may find useful for this problem. Fit your model on the data of each hashtag and report fitting MSE and significance of features."
   ]
  },
  {
   "cell_type": "markdown",
   "metadata": {},
   "source": [
    "##### New Features (with reference to paper)\n",
    "• Author Count  \n",
    "• Mentions Count  \n",
    "• Passivity   \n",
    "• Friends Count  \n",
    "• Ranking Score"
   ]
  },
  {
   "cell_type": "code",
   "execution_count": 42,
   "metadata": {},
   "outputs": [],
   "source": [
    "months = {'Jan': 1, 'Feb': 2, 'Mar': 3, 'Apr': 4, 'May': 5, 'Jun': 6,\n",
    "          'Jul': 7, 'Aug': 8, 'Sep': 9, 'Oct': 10, 'Nov': 11, 'Dec': 12}\n",
    "\n",
    "def get_account_days(tweet):\n",
    "    account_create_date = tweet['tweet']['user']['created_at'].split(' ')\n",
    "    post_date = tweet['tweet']['created_at'].split(' ')\n",
    "    datetime_account = datetime.datetime(int(account_create_date[5]),\n",
    "                                         months[account_create_date[1]],\n",
    "                                         int(account_create_date[2]))\n",
    "    datetime_post = datetime.datetime(int(post_date[5]),\n",
    "                                      months[post_date[1]],\n",
    "                                      int(post_date[2]))\n",
    "    return (datetime_post - datetime_account).days"
   ]
  },
  {
   "cell_type": "code",
   "execution_count": 59,
   "metadata": {},
   "outputs": [],
   "source": [
    "def extract_feature_v2(filename):\n",
    "    with open(filename, 'r') as file:\n",
    "        lines = file.readlines()\n",
    "        max_time = max_times[filename]\n",
    "        min_time = min_times[filename]\n",
    "        \n",
    "        total_hours = round((max_time - min_time) / (60 * 60)) + 1\n",
    "        \n",
    "        authors = []\n",
    "        unique_authors = 0\n",
    "        mentions = 0\n",
    "        passivity = 0.0\n",
    "        num_friends = 0\n",
    "        ranking_score = 0.0\n",
    "        time_windows = []\n",
    "        \n",
    "        for hour in range(total_hours):\n",
    "            authors.append(set())\n",
    "            time_windows.append([unique_authors, mentions, passivity, num_friends, ranking_score])\n",
    "            \n",
    "        for line in lines:\n",
    "            json_obj = json.loads(line)\n",
    "            index = round((json_obj['citation_date'] - min_time) / (60 * 60))\n",
    "            authors[index].add(json_obj['author']['name'])\n",
    "            time_windows[index][1] = time_windows[index][1] + len(json_obj['tweet']['entities']['user_mentions'])\n",
    "            \n",
    "            account_days = get_account_days(json_obj)\n",
    "            num_tweets = json_obj['tweet']['user']['followers_count']\n",
    "            time_windows[index][2] = time_windows[index][2] + (account_days / (1.0 + num_tweets))\n",
    "            \n",
    "            time_windows[index][3] = time_windows[index][3] + json_obj['tweet']['user']['friends_count']\n",
    "            time_windows[index][4] = time_windows[index][4] + json_obj['metrics']['ranking_score']\n",
    "            \n",
    "        for i in range(total_hours):\n",
    "            time_windows[i][0] = len(authors[i])\n",
    "            \n",
    "        return np.array(time_windows)"
   ]
  },
  {
   "cell_type": "markdown",
   "metadata": {},
   "source": [
    "#gohawks"
   ]
  },
  {
   "cell_type": "code",
   "execution_count": 79,
   "metadata": {},
   "outputs": [],
   "source": [
    "time_windows_gohawks_v2 = extract_feature_v2(files[0])\n",
    "\n",
    "gohawks_X_v2 = time_windows_gohawks_v2[0:-1,:]\n",
    "gohawks_Y_v2 = time_windows_gohawks[1:,0]"
   ]
  },
  {
   "cell_type": "code",
   "execution_count": 81,
   "metadata": {},
   "outputs": [
    {
     "name": "stdout",
     "output_type": "stream",
     "text": [
      "                            OLS Regression Results                            \n",
      "==============================================================================\n",
      "Dep. Variable:                      y   R-squared:                       0.756\n",
      "Model:                            OLS   Adj. R-squared:                  0.754\n",
      "Method:                 Least Squares   F-statistic:                     355.2\n",
      "Date:                Wed, 13 Mar 2019   Prob (F-statistic):          6.72e-173\n",
      "Time:                        10:54:02   Log-Likelihood:                -4489.2\n",
      "No. Observations:                 578   AIC:                             8988.\n",
      "Df Residuals:                     573   BIC:                             9010.\n",
      "Df Model:                           5                                         \n",
      "Covariance Type:            nonrobust                                         \n",
      "==============================================================================\n",
      "                 coef    std err          t      P>|t|      [0.025      0.975]\n",
      "------------------------------------------------------------------------------\n",
      "x1            -0.7854      0.416     -1.890      0.059      -1.602       0.031\n",
      "x2             1.6139      0.297      5.440      0.000       1.031       2.197\n",
      "x3            -0.1236      0.016     -7.500      0.000      -0.156      -0.091\n",
      "x4             0.0012      0.000      6.048      0.000       0.001       0.002\n",
      "x5             0.3740      0.075      4.960      0.000       0.226       0.522\n",
      "==============================================================================\n",
      "Omnibus:                      885.794   Durbin-Watson:                   1.907\n",
      "Prob(Omnibus):                  0.000   Jarque-Bera (JB):           315338.400\n",
      "Skew:                           8.513   Prob(JB):                         0.00\n",
      "Kurtosis:                     116.154   Cond. No.                     1.67e+04\n",
      "==============================================================================\n",
      "\n",
      "Warnings:\n",
      "[1] Standard Errors assume that the covariance matrix of the errors is correctly specified.\n",
      "[2] The condition number is large, 1.67e+04. This might indicate that there are\n",
      "strong multicollinearity or other numerical problems.\n"
     ]
    }
   ],
   "source": [
    "lr_gohawks_v2 = OLS(gohawks_Y_v2, gohawks_X_v2).fit()\n",
    "\n",
    "print(lr_gohawks_v2.summary())"
   ]
  },
  {
   "cell_type": "code",
   "execution_count": 82,
   "metadata": {},
   "outputs": [
    {
     "name": "stdout",
     "output_type": "stream",
     "text": [
      "MSE for #gohawks: 326359.91003858065\n"
     ]
    }
   ],
   "source": [
    "gohawks_predict_v2 = lr_gohawks_v2.predict(gohawks_X_v2)\n",
    "gohawks_mse_v2 = tools.eval_measures.mse(gohawks_Y_v2, gohawks_predict_v2)\n",
    "\n",
    "print(\"MSE for #gohawks:\", gohawks_mse_v2)"
   ]
  },
  {
   "cell_type": "markdown",
   "metadata": {},
   "source": [
    "#gopatriots"
   ]
  },
  {
   "cell_type": "code",
   "execution_count": 83,
   "metadata": {},
   "outputs": [],
   "source": [
    "time_windows_gopatriots_v2 = extract_feature_v2(files[1])\n",
    "\n",
    "gopatriots_X_v2 = time_windows_gopatriots_v2[0:-1,:]\n",
    "gopatriots_Y_v2 = time_windows_gopatriots[1:,0]"
   ]
  },
  {
   "cell_type": "code",
   "execution_count": 84,
   "metadata": {},
   "outputs": [
    {
     "name": "stdout",
     "output_type": "stream",
     "text": [
      "                            OLS Regression Results                            \n",
      "==============================================================================\n",
      "Dep. Variable:                      y   R-squared:                       0.646\n",
      "Model:                            OLS   Adj. R-squared:                  0.643\n",
      "Method:                 Least Squares   F-statistic:                     208.1\n",
      "Date:                Wed, 13 Mar 2019   Prob (F-statistic):          6.26e-126\n",
      "Time:                        10:54:38   Log-Likelihood:                -3780.6\n",
      "No. Observations:                 574   AIC:                             7571.\n",
      "Df Residuals:                     569   BIC:                             7593.\n",
      "Df Model:                           5                                         \n",
      "Covariance Type:            nonrobust                                         \n",
      "==============================================================================\n",
      "                 coef    std err          t      P>|t|      [0.025      0.975]\n",
      "------------------------------------------------------------------------------\n",
      "x1             7.9160      0.815      9.719      0.000       6.316       9.516\n",
      "x2             0.5120      0.713      0.718      0.473      -0.889       1.913\n",
      "x3             0.2179      0.036      6.034      0.000       0.147       0.289\n",
      "x4            -0.0002      0.001     -0.451      0.652      -0.001       0.001\n",
      "x5            -1.8239      0.173    -10.556      0.000      -2.163      -1.485\n",
      "==============================================================================\n",
      "Omnibus:                     1003.852   Durbin-Watson:                   2.496\n",
      "Prob(Omnibus):                  0.000   Jarque-Bera (JB):          1135808.874\n",
      "Skew:                          10.606   Prob(JB):                         0.00\n",
      "Kurtosis:                     219.888   Cond. No.                     2.42e+04\n",
      "==============================================================================\n",
      "\n",
      "Warnings:\n",
      "[1] Standard Errors assume that the covariance matrix of the errors is correctly specified.\n",
      "[2] The condition number is large, 2.42e+04. This might indicate that there are\n",
      "strong multicollinearity or other numerical problems.\n"
     ]
    }
   ],
   "source": [
    "lr_gopatriots_v2 = OLS(gopatriots_Y_v2, gopatriots_X_v2).fit()\n",
    "\n",
    "print(lr_gopatriots_v2.summary())"
   ]
  },
  {
   "cell_type": "code",
   "execution_count": 85,
   "metadata": {},
   "outputs": [
    {
     "name": "stdout",
     "output_type": "stream",
     "text": [
      "MSE for #gopatriots: 30790.34299826502\n"
     ]
    }
   ],
   "source": [
    "gopatriots_predict_v2 = lr_gopatriots_v2.predict(gopatriots_X_v2)\n",
    "gopatriots_mse_v2 = tools.eval_measures.mse(gopatriots_Y_v2, gopatriots_predict_v2)\n",
    "\n",
    "print(\"MSE for #gopatriots:\", gopatriots_mse_v2)"
   ]
  },
  {
   "cell_type": "markdown",
   "metadata": {},
   "source": [
    "#nfl"
   ]
  },
  {
   "cell_type": "code",
   "execution_count": 86,
   "metadata": {},
   "outputs": [],
   "source": [
    "time_windows_nfl_v2 = extract_feature_v2(files[2])\n",
    "\n",
    "nfl_X_v2 = time_windows_nfl_v2[0:-1,:]\n",
    "nfl_Y_v2 = time_windows_nfl[1:,0]"
   ]
  },
  {
   "cell_type": "code",
   "execution_count": 87,
   "metadata": {},
   "outputs": [
    {
     "name": "stdout",
     "output_type": "stream",
     "text": [
      "                            OLS Regression Results                            \n",
      "==============================================================================\n",
      "Dep. Variable:                      y   R-squared:                       0.726\n",
      "Model:                            OLS   Adj. R-squared:                  0.723\n",
      "Method:                 Least Squares   F-statistic:                     307.8\n",
      "Date:                Wed, 13 Mar 2019   Prob (F-statistic):          8.88e-161\n",
      "Time:                        10:56:09   Log-Likelihood:                -4433.6\n",
      "No. Observations:                 587   AIC:                             8877.\n",
      "Df Residuals:                     582   BIC:                             8899.\n",
      "Df Model:                           5                                         \n",
      "Covariance Type:            nonrobust                                         \n",
      "==============================================================================\n",
      "                 coef    std err          t      P>|t|      [0.025      0.975]\n",
      "------------------------------------------------------------------------------\n",
      "x1            -0.3226      0.326     -0.989      0.323      -0.963       0.318\n",
      "x2             4.5495      0.538      8.455      0.000       3.493       5.606\n",
      "x3            -0.0323      0.011     -2.852      0.004      -0.055      -0.010\n",
      "x4          9.657e-05      0.000      0.642      0.521      -0.000       0.000\n",
      "x5             0.0629      0.068      0.929      0.353      -0.070       0.196\n",
      "==============================================================================\n",
      "Omnibus:                      585.804   Durbin-Watson:                   2.271\n",
      "Prob(Omnibus):                  0.000   Jarque-Bera (JB):           123231.624\n",
      "Skew:                           3.838   Prob(JB):                         0.00\n",
      "Kurtosis:                      73.566   Cond. No.                     2.69e+04\n",
      "==============================================================================\n",
      "\n",
      "Warnings:\n",
      "[1] Standard Errors assume that the covariance matrix of the errors is correctly specified.\n",
      "[2] The condition number is large, 2.69e+04. This might indicate that there are\n",
      "strong multicollinearity or other numerical problems.\n"
     ]
    }
   ],
   "source": [
    "lr_nfl_v2 = OLS(nfl_Y_v2, nfl_X_v2).fit()\n",
    "\n",
    "print(lr_nfl_v2.summary())"
   ]
  },
  {
   "cell_type": "code",
   "execution_count": 88,
   "metadata": {},
   "outputs": [
    {
     "name": "stdout",
     "output_type": "stream",
     "text": [
      "MSE for #nfl: 212769.83907092322\n"
     ]
    }
   ],
   "source": [
    "nfl_predict_v2 = lr_nfl_v2.predict(nfl_X_v2)\n",
    "nfl_mse_v2 = tools.eval_measures.mse(nfl_Y_v2, nfl_predict_v2)\n",
    "\n",
    "print(\"MSE for #nfl:\", nfl_mse_v2)"
   ]
  },
  {
   "cell_type": "markdown",
   "metadata": {},
   "source": [
    "#patriots"
   ]
  },
  {
   "cell_type": "code",
   "execution_count": 89,
   "metadata": {},
   "outputs": [],
   "source": [
    "time_windows_patriots_v2 = extract_feature_v2(files[3])\n",
    "\n",
    "patriots_X_v2 = time_windows_patriots_v2[0:-1,:]\n",
    "patriots_Y_v2 = time_windows_patriots[1:,0]"
   ]
  },
  {
   "cell_type": "code",
   "execution_count": 90,
   "metadata": {},
   "outputs": [
    {
     "name": "stdout",
     "output_type": "stream",
     "text": [
      "                            OLS Regression Results                            \n",
      "==============================================================================\n",
      "Dep. Variable:                      y   R-squared:                       0.721\n",
      "Model:                            OLS   Adj. R-squared:                  0.719\n",
      "Method:                 Least Squares   F-statistic:                     300.7\n",
      "Date:                Wed, 13 Mar 2019   Prob (F-statistic):          1.15e-158\n",
      "Time:                        10:57:16   Log-Likelihood:                -5334.2\n",
      "No. Observations:                 587   AIC:                         1.068e+04\n",
      "Df Residuals:                     582   BIC:                         1.070e+04\n",
      "Df Model:                           5                                         \n",
      "Covariance Type:            nonrobust                                         \n",
      "==============================================================================\n",
      "                 coef    std err          t      P>|t|      [0.025      0.975]\n",
      "------------------------------------------------------------------------------\n",
      "x1            -2.9760      0.958     -3.106      0.002      -4.858      -1.094\n",
      "x2             1.1688      0.150      7.810      0.000       0.875       1.463\n",
      "x3            -0.0005      0.028     -0.020      0.984      -0.055       0.054\n",
      "x4             0.0018      0.000      6.625      0.000       0.001       0.002\n",
      "x5             0.1759      0.165      1.066      0.287      -0.148       0.500\n",
      "==============================================================================\n",
      "Omnibus:                     1000.221   Durbin-Watson:                   1.993\n",
      "Prob(Omnibus):                  0.000   Jarque-Bera (JB):           588661.794\n",
      "Skew:                          10.397   Prob(JB):                         0.00\n",
      "Kurtosis:                     156.739   Cond. No.                     2.95e+04\n",
      "==============================================================================\n",
      "\n",
      "Warnings:\n",
      "[1] Standard Errors assume that the covariance matrix of the errors is correctly specified.\n",
      "[2] The condition number is large, 2.95e+04. This might indicate that there are\n",
      "strong multicollinearity or other numerical problems.\n"
     ]
    }
   ],
   "source": [
    "lr_patriots_v2 = OLS(patriots_Y_v2, patriots_X_v2).fit()\n",
    "\n",
    "print(lr_patriots_v2.summary())"
   ]
  },
  {
   "cell_type": "code",
   "execution_count": 91,
   "metadata": {},
   "outputs": [
    {
     "name": "stdout",
     "output_type": "stream",
     "text": [
      "MSE for #patriots: 4576598.777337125\n"
     ]
    }
   ],
   "source": [
    "patriots_predict_v2 = lr_patriots_v2.predict(patriots_X_v2)\n",
    "patriots_mse_v2 = tools.eval_measures.mse(patriots_Y_v2, patriots_predict_v2)\n",
    "\n",
    "print(\"MSE for #patriots:\", patriots_mse_v2)"
   ]
  },
  {
   "cell_type": "markdown",
   "metadata": {},
   "source": [
    "#sb49"
   ]
  },
  {
   "cell_type": "code",
   "execution_count": 92,
   "metadata": {},
   "outputs": [],
   "source": [
    "time_windows_sb49_v2 = extract_feature_v2(files[4])\n",
    "\n",
    "sb49_X_v2 = time_windows_sb49_v2[0:-1,:]\n",
    "sb49_Y_v2 = time_windows_sb49[1:,0]"
   ]
  },
  {
   "cell_type": "code",
   "execution_count": 93,
   "metadata": {},
   "outputs": [
    {
     "name": "stdout",
     "output_type": "stream",
     "text": [
      "                            OLS Regression Results                            \n",
      "==============================================================================\n",
      "Dep. Variable:                      y   R-squared:                       0.869\n",
      "Model:                            OLS   Adj. R-squared:                  0.868\n",
      "Method:                 Least Squares   F-statistic:                     765.6\n",
      "Date:                Wed, 13 Mar 2019   Prob (F-statistic):          6.39e-252\n",
      "Time:                        11:00:11   Log-Likelihood:                -5546.1\n",
      "No. Observations:                 582   AIC:                         1.110e+04\n",
      "Df Residuals:                     577   BIC:                         1.112e+04\n",
      "Df Model:                           5                                         \n",
      "Covariance Type:            nonrobust                                         \n",
      "==============================================================================\n",
      "                 coef    std err          t      P>|t|      [0.025      0.975]\n",
      "------------------------------------------------------------------------------\n",
      "x1             2.1201      0.551      3.851      0.000       1.039       3.201\n",
      "x2             1.8342      0.172     10.654      0.000       1.496       2.172\n",
      "x3             0.0947      0.027      3.452      0.001       0.041       0.149\n",
      "x4             0.0060      0.000     14.351      0.000       0.005       0.007\n",
      "x5            -1.8367      0.124    -14.821      0.000      -2.080      -1.593\n",
      "==============================================================================\n",
      "Omnibus:                      952.097   Durbin-Watson:                   1.614\n",
      "Prob(Omnibus):                  0.000   Jarque-Bera (JB):           817596.781\n",
      "Skew:                           9.304   Prob(JB):                         0.00\n",
      "Kurtosis:                     185.672   Cond. No.                     2.49e+04\n",
      "==============================================================================\n",
      "\n",
      "Warnings:\n",
      "[1] Standard Errors assume that the covariance matrix of the errors is correctly specified.\n",
      "[2] The condition number is large, 2.49e+04. This might indicate that there are\n",
      "strong multicollinearity or other numerical problems.\n"
     ]
    }
   ],
   "source": [
    "lr_sb49_v2 = OLS(sb49_Y_v2, sb49_X_v2).fit()\n",
    "\n",
    "print(lr_sb49_v2.summary())"
   ]
  },
  {
   "cell_type": "code",
   "execution_count": 94,
   "metadata": {},
   "outputs": [
    {
     "name": "stdout",
     "output_type": "stream",
     "text": [
      "MSE for #sb49: 11081474.184033835\n"
     ]
    }
   ],
   "source": [
    "sb49_predict_v2 = lr_sb49_v2.predict(sb49_X_v2)\n",
    "sb49_mse_v2 = tools.eval_measures.mse(sb49_Y_v2, sb49_predict_v2)\n",
    "\n",
    "print(\"MSE for #sb49:\", sb49_mse_v2)"
   ]
  },
  {
   "cell_type": "markdown",
   "metadata": {},
   "source": [
    "#superbowl"
   ]
  },
  {
   "cell_type": "code",
   "execution_count": 95,
   "metadata": {},
   "outputs": [],
   "source": [
    "time_windows_superbowl_v2 = extract_feature_v2(files[5])\n",
    "\n",
    "superbowl_X_v2 = time_windows_superbowl_v2[0:-1,:]\n",
    "superbowl_Y_v2 = time_windows_superbowl[1:,0]"
   ]
  },
  {
   "cell_type": "code",
   "execution_count": 96,
   "metadata": {},
   "outputs": [
    {
     "name": "stdout",
     "output_type": "stream",
     "text": [
      "                            OLS Regression Results                            \n",
      "==============================================================================\n",
      "Dep. Variable:                      y   R-squared:                       0.755\n",
      "Model:                            OLS   Adj. R-squared:                  0.753\n",
      "Method:                 Least Squares   F-statistic:                     357.5\n",
      "Date:                Wed, 13 Mar 2019   Prob (F-statistic):          1.24e-174\n",
      "Time:                        11:06:33   Log-Likelihood:                -6103.0\n",
      "No. Observations:                 586   AIC:                         1.222e+04\n",
      "Df Residuals:                     581   BIC:                         1.224e+04\n",
      "Df Model:                           5                                         \n",
      "Covariance Type:            nonrobust                                         \n",
      "==============================================================================\n",
      "                 coef    std err          t      P>|t|      [0.025      0.975]\n",
      "------------------------------------------------------------------------------\n",
      "x1            -1.1148      0.493     -2.263      0.024      -2.082      -0.147\n",
      "x2            13.5610      1.206     11.243      0.000      11.192      15.930\n",
      "x3            -0.1720      0.037     -4.617      0.000      -0.245      -0.099\n",
      "x4            -0.0073      0.001    -12.016      0.000      -0.008      -0.006\n",
      "x5             1.6377      0.159     10.311      0.000       1.326       1.950\n",
      "==============================================================================\n",
      "Omnibus:                      693.898   Durbin-Watson:                   2.637\n",
      "Prob(Omnibus):                  0.000   Jarque-Bera (JB):           287442.401\n",
      "Skew:                           5.011   Prob(JB):                         0.00\n",
      "Kurtosis:                     111.037   Cond. No.                     6.38e+04\n",
      "==============================================================================\n",
      "\n",
      "Warnings:\n",
      "[1] Standard Errors assume that the covariance matrix of the errors is correctly specified.\n",
      "[2] The condition number is large, 6.38e+04. This might indicate that there are\n",
      "strong multicollinearity or other numerical problems.\n"
     ]
    }
   ],
   "source": [
    "lr_superbowl_v2 = OLS(superbowl_Y_v2, superbowl_X_v2).fit()\n",
    "\n",
    "print(lr_superbowl_v2.summary())"
   ]
  },
  {
   "cell_type": "code",
   "execution_count": 97,
   "metadata": {},
   "outputs": [
    {
     "name": "stdout",
     "output_type": "stream",
     "text": [
      "MSE for #superbowl: 65094852.30742756\n"
     ]
    }
   ],
   "source": [
    "superbowl_predict_v2 = lr_superbowl_v2.predict(superbowl_X_v2)\n",
    "superbowl_mse_v2 = tools.eval_measures.mse(superbowl_Y_v2, superbowl_predict_v2)\n",
    "\n",
    "print(\"MSE for #superbowl:\", superbowl_mse_v2)"
   ]
  },
  {
   "cell_type": "markdown",
   "metadata": {},
   "source": [
    "## Question 5"
   ]
  },
  {
   "cell_type": "markdown",
   "metadata": {},
   "source": [
    "#### For each of the top 3 features (i.e. with the smallest p-values), draw a scatter plot of predictant (number of tweets for next hour) versus value of that feature"
   ]
  },
  {
   "cell_type": "markdown",
   "metadata": {},
   "source": [
    "For each hashtag, the top 3 features are a bit different. So we pick the top 3 by majority count. They are Mentions Count, Passivity and Friends Count"
   ]
  },
  {
   "cell_type": "code",
   "execution_count": 103,
   "metadata": {},
   "outputs": [],
   "source": [
    "def scatter_plot(feature_values, predictant, hashtag, features):\n",
    "    print('-' * 20, hashtag, '-' * 20)\n",
    "    for i in range(len(feature_values)):\n",
    "        plt.scatter(feature_values[i], predictant, alpha=0.5)\n",
    "        plt.title(\"Tweets next hour - \" + features[i])\n",
    "        plt.xlabel(features[i])\n",
    "        plt.ylabel(\"Tweets next hour\")\n",
    "        plt.grid(True)\n",
    "        plt.show()"
   ]
  },
  {
   "cell_type": "markdown",
   "metadata": {},
   "source": [
    "#gohawks"
   ]
  },
  {
   "cell_type": "code",
   "execution_count": 104,
   "metadata": {},
   "outputs": [
    {
     "name": "stdout",
     "output_type": "stream",
     "text": [
      "-------------------- #gohawks --------------------\n"
     ]
    },
    {
     "data": {
      "image/png": "[encoded data removed]",
      "text/plain": [
       "<Figure size 432x288 with 1 Axes>"
      ]
     },
     "metadata": {
      "needs_background": "light"
     },
     "output_type": "display_data"
    },
    {
     "data": {
      "image/png": "[encoded data removed]",
      "text/plain": [
       "<Figure size 432x288 with 1 Axes>"
      ]
     },
     "metadata": {
      "needs_background": "light"
     },
     "output_type": "display_data"
    },
    {
     "data": {
      "image/png": "[encoded data removed]",
      "text/plain": [
       "<Figure size 432x288 with 1 Axes>"
      ]
     },
     "metadata": {
      "needs_background": "light"
     },
     "output_type": "display_data"
    }
   ],
   "source": [
    "scatter_plot([time_windows_gohawks_v2[0:-1,1], time_windows_gohawks_v2[0:-1,2], time_windows_gohawks_v2[0:-1,3]],\n",
    "             gohawks_predict_v2,\n",
    "             \"#gohawks\",\n",
    "             [\"mentions\", \"passivity\", \"num_friends\"])"
   ]
  },
  {
   "cell_type": "markdown",
   "metadata": {},
   "source": [
    "#gopatriots"
   ]
  },
  {
   "cell_type": "code",
   "execution_count": 106,
   "metadata": {},
   "outputs": [
    {
     "name": "stdout",
     "output_type": "stream",
     "text": [
      "-------------------- #gopatriots --------------------\n"
     ]
    },
    {
     "data": {
      "image/png": "[encoded data removed]",
      "text/plain": [
       "<Figure size 432x288 with 1 Axes>"
      ]
     },
     "metadata": {
      "needs_background": "light"
     },
     "output_type": "display_data"
    },
    {
     "data": {
      "image/png": "[encoded data removed]",
      "text/plain": [
       "<Figure size 432x288 with 1 Axes>"
      ]
     },
     "metadata": {
      "needs_background": "light"
     },
     "output_type": "display_data"
    },
    {
     "data": {
      "image/png": "[encoded data removed]",
      "text/plain": [
       "<Figure size 432x288 with 1 Axes>"
      ]
     },
     "metadata": {
      "needs_background": "light"
     },
     "output_type": "display_data"
    }
   ],
   "source": [
    "scatter_plot([time_windows_gopatriots_v2[0:-1,1], time_windows_gopatriots_v2[0:-1,2], time_windows_gopatriots_v2[0:-1,3]],\n",
    "             gopatriots_predict_v2,\n",
    "             \"#gopatriots\",\n",
    "             [\"mentions\", \"passivity\", \"num_friends\"])"
   ]
  },
  {
   "cell_type": "markdown",
   "metadata": {},
   "source": [
    "#nfl"
   ]
  },
  {
   "cell_type": "code",
   "execution_count": 107,
   "metadata": {},
   "outputs": [
    {
     "name": "stdout",
     "output_type": "stream",
     "text": [
      "-------------------- #nfl --------------------\n"
     ]
    },
    {
     "data": {
      "image/png": "[encoded data removed]",
      "text/plain": [
       "<Figure size 432x288 with 1 Axes>"
      ]
     },
     "metadata": {
      "needs_background": "light"
     },
     "output_type": "display_data"
    },
    {
     "data": {
      "image/png": "[encoded data removed]",
      "text/plain": [
       "<Figure size 432x288 with 1 Axes>"
      ]
     },
     "metadata": {
      "needs_background": "light"
     },
     "output_type": "display_data"
    },
    {
     "data": {
      "image/png": "[encoded data removed]",
      "text/plain": [
       "<Figure size 432x288 with 1 Axes>"
      ]
     },
     "metadata": {
      "needs_background": "light"
     },
     "output_type": "display_data"
    }
   ],
   "source": [
    "scatter_plot([time_windows_nfl_v2[0:-1,1], time_windows_nfl_v2[0:-1,2], time_windows_nfl_v2[0:-1,3]],\n",
    "             nfl_predict_v2,\n",
    "             \"#nfl\",\n",
    "             [\"mentions\", \"passivity\", \"num_friends\"])"
   ]
  },
  {
   "cell_type": "markdown",
   "metadata": {},
   "source": [
    "#patriots"
   ]
  },
  {
   "cell_type": "code",
   "execution_count": 108,
   "metadata": {},
   "outputs": [
    {
     "name": "stdout",
     "output_type": "stream",
     "text": [
      "-------------------- #patriots --------------------\n"
     ]
    },
    {
     "data": {
      "image/png": "[encoded data removed]",
      "text/plain": [
       "<Figure size 432x288 with 1 Axes>"
      ]
     },
     "metadata": {
      "needs_background": "light"
     },
     "output_type": "display_data"
    },
    {
     "data": {
      "image/png": "[encoded data removed]",
      "text/plain": [
       "<Figure size 432x288 with 1 Axes>"
      ]
     },
     "metadata": {
      "needs_background": "light"
     },
     "output_type": "display_data"
    },
    {
     "data": {
      "image/png": "[encoded data removed]",
      "text/plain": [
       "<Figure size 432x288 with 1 Axes>"
      ]
     },
     "metadata": {
      "needs_background": "light"
     },
     "output_type": "display_data"
    }
   ],
   "source": [
    "scatter_plot([time_windows_patriots_v2[0:-1,1], time_windows_patriots_v2[0:-1,2], time_windows_patriots_v2[0:-1,3]],\n",
    "             patriots_predict_v2,\n",
    "             \"#patriots\",\n",
    "             [\"mentions\", \"passivity\", \"num_friends\"])"
   ]
  },
  {
   "cell_type": "markdown",
   "metadata": {},
   "source": [
    "#sb49"
   ]
  },
  {
   "cell_type": "code",
   "execution_count": 109,
   "metadata": {},
   "outputs": [
    {
     "name": "stdout",
     "output_type": "stream",
     "text": [
      "-------------------- #sb49 --------------------\n"
     ]
    },
    {
     "data": {
      "image/png": "[encoded data removed]",
      "text/plain": [
       "<Figure size 432x288 with 1 Axes>"
      ]
     },
     "metadata": {
      "needs_background": "light"
     },
     "output_type": "display_data"
    },
    {
     "data": {
      "image/png": "[encoded data removed]",
      "text/plain": [
       "<Figure size 432x288 with 1 Axes>"
      ]
     },
     "metadata": {
      "needs_background": "light"
     },
     "output_type": "display_data"
    },
    {
     "data": {
      "image/png": "[encoded data removed]",
      "text/plain": [
       "<Figure size 432x288 with 1 Axes>"
      ]
     },
     "metadata": {
      "needs_background": "light"
     },
     "output_type": "display_data"
    }
   ],
   "source": [
    "scatter_plot([time_windows_sb49_v2[0:-1,1], time_windows_sb49_v2[0:-1,2], time_windows_sb49_v2[0:-1,3]],\n",
    "             sb49_predict_v2,\n",
    "             \"#sb49\",\n",
    "             [\"mentions\", \"passivity\", \"num_friends\"])"
   ]
  },
  {
   "cell_type": "markdown",
   "metadata": {},
   "source": [
    "#superbowl"
   ]
  },
  {
   "cell_type": "code",
   "execution_count": 110,
   "metadata": {},
   "outputs": [
    {
     "name": "stdout",
     "output_type": "stream",
     "text": [
      "-------------------- #superbowl --------------------\n"
     ]
    },
    {
     "data": {
      "image/png": "[encoded data removed]",
      "text/plain": [
       "<Figure size 432x288 with 1 Axes>"
      ]
     },
     "metadata": {
      "needs_background": "light"
     },
     "output_type": "display_data"
    },
    {
     "data": {
      "image/png": "[encoded data removed]",
      "text/plain": [
       "<Figure size 432x288 with 1 Axes>"
      ]
     },
     "metadata": {
      "needs_background": "light"
     },
     "output_type": "display_data"
    },
    {
     "data": {
      "image/png": "[encoded data removed]",
      "text/plain": [
       "<Figure size 432x288 with 1 Axes>"
      ]
     },
     "metadata": {
      "needs_background": "light"
     },
     "output_type": "display_data"
    }
   ],
   "source": [
    "scatter_plot([time_windows_superbowl_v2[0:-1,1], time_windows_superbowl_v2[0:-1,2], time_windows_superbowl_v2[0:-1,3]],\n",
    "             superbowl_predict_v2,\n",
    "             \"#superbowl\",\n",
    "             [\"mentions\", \"passivity\", \"num_friends\"])"
   ]
  },
  {
   "cell_type": "markdown",
   "metadata": {},
   "source": [
    "## Question 6"
   ]
  },
  {
   "cell_type": "markdown",
   "metadata": {},
   "source": [
    "Define 3 time periods and corresponding window length as follows:  \n",
    "1. Before Feb.1, 8:00 a.m.: 1-hour window  \n",
    "2. Between Feb.1, 8:00 a.m. and 8:00 p.m.: 5-minute window  \n",
    "3. After Feb.1, 8:00 p.m.: 1-hour window   \n",
    "  \n",
    "For each hashtag, trian 3 regression models. Report the MSE and R-squared score for each case."
   ]
  },
  {
   "cell_type": "code",
   "execution_count": 112,
   "metadata": {},
   "outputs": [
    {
     "name": "stdout",
     "output_type": "stream",
     "text": [
      "unix time for Feb.1, 8:00 a.m.: 1422806400.0\n",
      "unix time for Feb.1, 8:00 p.m.: 1422849600.0\n"
     ]
    }
   ],
   "source": [
    "import time\n",
    "\n",
    "pst_tz = pytz.timezone('America/Los_Angeles')\n",
    "\n",
    "key_time1 = datetime.datetime(2015, 2, 1, 8, 0, 0, 0, pst_tz)\n",
    "key_time1_unix = time.mktime(key_time1.timetuple())\n",
    "\n",
    "key_time2 = datetime.datetime(2015, 2, 1, 20, 0, 0, 0, pst_tz)\n",
    "key_time2_unix = time.mktime(key_time2.timetuple())\n",
    "\n",
    "print(\"unix time for Feb.1, 8:00 a.m.:\", key_time1_unix)\n",
    "print(\"unix time for Feb.1, 8:00 p.m.:\", key_time2_unix)"
   ]
  },
  {
   "cell_type": "code",
   "execution_count": 113,
   "metadata": {},
   "outputs": [],
   "source": [
    "# use the same features in Question 3\n",
    "\n",
    "def extract_feature_v3(filename):\n",
    "    with open(filename, 'r') as file:\n",
    "        lines = file.readlines()\n",
    "        max_time = max_times[filename]\n",
    "        min_time = min_times[filename]\n",
    "        \n",
    "        total_windows_before = round((key_time1_unix - min_time) / (60 * 60)) + 1\n",
    "        total_windows_between = round((key_time2_unix - key_time1_unix) / (60 * 5)) + 1\n",
    "        total_windows_after = round((max_time - key_time2_unix) / (60 * 60)) + 1\n",
    "        \n",
    "        num_tweets = 0\n",
    "        num_retweets = 0\n",
    "        num_followers = 0\n",
    "        max_num_followers = 0\n",
    "        time_window_before = []\n",
    "        time_window_between = []\n",
    "        time_window_after = []\n",
    "        \n",
    "        for index in range(total_windows_before):\n",
    "            datetime_object_in_pst_timezone = datetime.datetime.fromtimestamp(min_time + index * 60 * 60, pst_tz)\n",
    "            time_of_day = datetime_object_in_pst_timezone.hour\n",
    "            time_window_before.append([num_tweets, num_retweets, num_followers, max_num_followers, time_of_day])\n",
    "            \n",
    "        for index in range(total_windows_between):\n",
    "            datetime_object_in_pst_timezone = datetime.datetime.fromtimestamp(key_time1_unix + index * 60 * 5, pst_tz)\n",
    "            time_of_day = datetime_object_in_pst_timezone.hour\n",
    "            time_window_between.append([num_tweets, num_retweets, num_followers, max_num_followers, time_of_day])\n",
    "            \n",
    "        for index in range(total_windows_after):\n",
    "            datetime_object_in_pst_timezone = datetime.datetime.fromtimestamp(key_time2_unix + index * 60 * 60, pst_tz)\n",
    "            time_of_day = datetime_object_in_pst_timezone.hour\n",
    "            time_window_after.append([num_tweets, num_retweets, num_followers, max_num_followers, time_of_day])\n",
    "            \n",
    "        for line in lines:\n",
    "            json_obj = json.loads(line)\n",
    "            time = json_obj['citation_date']\n",
    "            \n",
    "            if time < key_time1_unix:\n",
    "                index = round((json_obj['citation_date'] - min_time) / (60 * 60))\n",
    "                time_window_before[index][0] = time_window_before[index][0] + 1\n",
    "                time_window_before[index][1] = time_window_before[index][1] + json_obj['metrics']['citations']['total']\n",
    "                time_window_before[index][2] = time_window_before[index][2] + json_obj['author']['followers']\n",
    "                time_window_before[index][3] = max(time_window_before[index][3], json_obj['author']['followers'])\n",
    "            elif time < key_time2_unix:\n",
    "                index = round((json_obj['citation_date'] - key_time1_unix) / (60 * 5))\n",
    "                time_window_between[index][0] = time_window_between[index][0] + 1\n",
    "                time_window_between[index][1] = time_window_between[index][1] + json_obj['metrics']['citations']['total']\n",
    "                time_window_between[index][2] = time_window_between[index][2] + json_obj['author']['followers']\n",
    "                time_window_between[index][3] = max(time_window_between[index][3], json_obj['author']['followers'])\n",
    "            else:\n",
    "                index = round((json_obj['citation_date'] - key_time2_unix) / (60 * 60))\n",
    "                time_window_after[index][0] = time_window_after[index][0] + 1\n",
    "                time_window_after[index][1] = time_window_after[index][1] + json_obj['metrics']['citations']['total']\n",
    "                time_window_after[index][2] = time_window_after[index][2] + json_obj['author']['followers']\n",
    "                time_window_after[index][3] = max(time_window_after[index][3], json_obj['author']['followers'])\n",
    "\n",
    "        return np.array(time_window_before), np.array(time_window_between), np.array(time_window_after)\n",
    "    "
   ]
  },
  {
   "cell_type": "markdown",
   "metadata": {},
   "source": [
    "#gohawks"
   ]
  },
  {
   "cell_type": "code",
   "execution_count": 114,
   "metadata": {},
   "outputs": [],
   "source": [
    "time_window_before_gohawks, time_window_between_gohawks, time_window_after_gohawks = extract_feature_v3(files[0])\n",
    "\n",
    "gohawks_X_before = time_window_before_gohawks[0:-1,:]\n",
    "gohawks_Y_before = time_window_before_gohawks[1:,0]\n",
    "\n",
    "gohawks_X_between = time_window_between_gohawks[0:-1,:]\n",
    "gohawks_Y_between = time_window_between_gohawks[1:,0]\n",
    "\n",
    "gohawks_X_after = time_window_after_gohawks[0:-1,:]\n",
    "gohawks_Y_after = time_window_after_gohawks[1:,0]"
   ]
  },
  {
   "cell_type": "code",
   "execution_count": 115,
   "metadata": {},
   "outputs": [
    {
     "name": "stdout",
     "output_type": "stream",
     "text": [
      "                            OLS Regression Results                            \n",
      "==============================================================================\n",
      "Dep. Variable:                      y   R-squared:                       0.665\n",
      "Model:                            OLS   Adj. R-squared:                  0.661\n",
      "Method:                 Least Squares   F-statistic:                     172.4\n",
      "Date:                Wed, 13 Mar 2019   Prob (F-statistic):          8.76e-101\n",
      "Time:                        13:33:57   Log-Likelihood:                -3391.6\n",
      "No. Observations:                 440   AIC:                             6793.\n",
      "Df Residuals:                     435   BIC:                             6814.\n",
      "Df Model:                           5                                         \n",
      "Covariance Type:            nonrobust                                         \n",
      "==============================================================================\n",
      "                 coef    std err          t      P>|t|      [0.025      0.975]\n",
      "------------------------------------------------------------------------------\n",
      "x1             1.9906      0.148     13.418      0.000       1.699       2.282\n",
      "x2            -0.1315      0.078     -1.680      0.094      -0.285       0.022\n",
      "x3            -0.0006    8.7e-05     -6.751      0.000      -0.001      -0.000\n",
      "x4             0.0005      0.000      4.134      0.000       0.000       0.001\n",
      "x5             4.1396      2.166      1.911      0.057      -0.117       8.396\n",
      "==============================================================================\n",
      "Omnibus:                      684.914   Durbin-Watson:                   2.083\n",
      "Prob(Omnibus):                  0.000   Jarque-Bera (JB):           272880.448\n",
      "Skew:                           8.331   Prob(JB):                         0.00\n",
      "Kurtosis:                     123.858   Cond. No.                     1.66e+05\n",
      "==============================================================================\n",
      "\n",
      "Warnings:\n",
      "[1] Standard Errors assume that the covariance matrix of the errors is correctly specified.\n",
      "[2] The condition number is large, 1.66e+05. This might indicate that there are\n",
      "strong multicollinearity or other numerical problems.\n"
     ]
    }
   ],
   "source": [
    "lr_gohawks_before = OLS(gohawks_Y_before, gohawks_X_before).fit()\n",
    "\n",
    "print(lr_gohawks_before.summary())"
   ]
  },
  {
   "cell_type": "code",
   "execution_count": 116,
   "metadata": {},
   "outputs": [
    {
     "name": "stdout",
     "output_type": "stream",
     "text": [
      "MSE for #gohawks before Feb.1 8:00 a.m.: 290288.97685053764\n"
     ]
    }
   ],
   "source": [
    "gohawks_predict_before = lr_gohawks_before.predict(gohawks_X_before)\n",
    "gohawks_mse_before = tools.eval_measures.mse(gohawks_Y_before, gohawks_predict_before)\n",
    "\n",
    "print(\"MSE for #gohawks before Feb.1 8:00 a.m.:\", gohawks_mse_before)"
   ]
  },
  {
   "cell_type": "code",
   "execution_count": 117,
   "metadata": {},
   "outputs": [
    {
     "name": "stdout",
     "output_type": "stream",
     "text": [
      "                            OLS Regression Results                            \n",
      "==============================================================================\n",
      "Dep. Variable:                      y   R-squared:                       0.628\n",
      "Model:                            OLS   Adj. R-squared:                  0.615\n",
      "Method:                 Least Squares   F-statistic:                     47.02\n",
      "Date:                Wed, 13 Mar 2019   Prob (F-statistic):           2.94e-28\n",
      "Time:                        13:36:17   Log-Likelihood:                -1047.6\n",
      "No. Observations:                 144   AIC:                             2105.\n",
      "Df Residuals:                     139   BIC:                             2120.\n",
      "Df Model:                           5                                         \n",
      "Covariance Type:            nonrobust                                         \n",
      "==============================================================================\n",
      "                 coef    std err          t      P>|t|      [0.025      0.975]\n",
      "------------------------------------------------------------------------------\n",
      "x1             0.5648      0.316      1.785      0.076      -0.061       1.190\n",
      "x2            -0.0006      0.238     -0.003      0.998      -0.471       0.470\n",
      "x3            -0.0001      0.000     -1.039      0.301      -0.000       0.000\n",
      "x4             0.0002      0.000      1.139      0.257      -0.000       0.001\n",
      "x5            17.8313      3.683      4.842      0.000      10.550      25.112\n",
      "==============================================================================\n",
      "Omnibus:                      139.964   Durbin-Watson:                   2.073\n",
      "Prob(Omnibus):                  0.000   Jarque-Bera (JB):             1876.530\n",
      "Skew:                           3.624   Prob(JB):                         0.00\n",
      "Kurtosis:                      19.132   Cond. No.                     1.77e+05\n",
      "==============================================================================\n",
      "\n",
      "Warnings:\n",
      "[1] Standard Errors assume that the covariance matrix of the errors is correctly specified.\n",
      "[2] The condition number is large, 1.77e+05. This might indicate that there are\n",
      "strong multicollinearity or other numerical problems.\n"
     ]
    }
   ],
   "source": [
    "lr_gohawks_between = OLS(gohawks_Y_between, gohawks_X_between).fit()\n",
    "\n",
    "print(lr_gohawks_between.summary())"
   ]
  },
  {
   "cell_type": "code",
   "execution_count": 118,
   "metadata": {},
   "outputs": [
    {
     "name": "stdout",
     "output_type": "stream",
     "text": [
      "MSE for #gohawks between Feb.1 8:00 a.m. and Feb.1 8:00 p.m.: 122111.3256125044\n"
     ]
    }
   ],
   "source": [
    "gohawks_predict_between = lr_gohawks_between.predict(gohawks_X_between)\n",
    "gohawks_mse_between = tools.eval_measures.mse(gohawks_Y_between, gohawks_predict_between)\n",
    "\n",
    "print(\"MSE for #gohawks between Feb.1 8:00 a.m. and Feb.1 8:00 p.m.:\", gohawks_mse_between)"
   ]
  },
  {
   "cell_type": "code",
   "execution_count": 119,
   "metadata": {},
   "outputs": [
    {
     "name": "stdout",
     "output_type": "stream",
     "text": [
      "                            OLS Regression Results                            \n",
      "==============================================================================\n",
      "Dep. Variable:                      y   R-squared:                       0.882\n",
      "Model:                            OLS   Adj. R-squared:                  0.877\n",
      "Method:                 Least Squares   F-statistic:                     180.1\n",
      "Date:                Wed, 13 Mar 2019   Prob (F-statistic):           2.69e-54\n",
      "Time:                        13:37:40   Log-Likelihood:                -657.72\n",
      "No. Observations:                 126   AIC:                             1325.\n",
      "Df Residuals:                     121   BIC:                             1340.\n",
      "Df Model:                           5                                         \n",
      "Covariance Type:            nonrobust                                         \n",
      "==============================================================================\n",
      "                 coef    std err          t      P>|t|      [0.025      0.975]\n",
      "------------------------------------------------------------------------------\n",
      "x1             0.6358      0.135      4.704      0.000       0.368       0.903\n",
      "x2             0.0511      0.006      8.834      0.000       0.040       0.063\n",
      "x3         -7.242e-05      0.000     -0.521      0.603      -0.000       0.000\n",
      "x4            -0.0002      0.000     -1.700      0.092      -0.001       4e-05\n",
      "x5             0.1564      0.321      0.488      0.626      -0.478       0.791\n",
      "==============================================================================\n",
      "Omnibus:                       77.485   Durbin-Watson:                   1.290\n",
      "Prob(Omnibus):                  0.000   Jarque-Bera (JB):             4226.179\n",
      "Skew:                          -1.166   Prob(JB):                         0.00\n",
      "Kurtosis:                      31.276   Cond. No.                     2.30e+04\n",
      "==============================================================================\n",
      "\n",
      "Warnings:\n",
      "[1] Standard Errors assume that the covariance matrix of the errors is correctly specified.\n",
      "[2] The condition number is large, 2.3e+04. This might indicate that there are\n",
      "strong multicollinearity or other numerical problems.\n"
     ]
    }
   ],
   "source": [
    "lr_gohawks_after = OLS(gohawks_Y_after, gohawks_X_after).fit()\n",
    "\n",
    "print(lr_gohawks_after.summary())"
   ]
  },
  {
   "cell_type": "code",
   "execution_count": 120,
   "metadata": {},
   "outputs": [
    {
     "name": "stdout",
     "output_type": "stream",
     "text": [
      "MSE for #gohawks after Feb.1 8:00 p.m.: 2002.4089945633852\n"
     ]
    }
   ],
   "source": [
    "gohawks_predict_after = lr_gohawks_after.predict(gohawks_X_after)\n",
    "gohawks_mse_after = tools.eval_measures.mse(gohawks_Y_after, gohawks_predict_after)\n",
    "\n",
    "print(\"MSE for #gohawks after Feb.1 8:00 p.m.:\", gohawks_mse_after)"
   ]
  },
  {
   "cell_type": "markdown",
   "metadata": {},
   "source": [
    "#gopatriots"
   ]
  },
  {
   "cell_type": "code",
   "execution_count": 121,
   "metadata": {},
   "outputs": [],
   "source": [
    "time_window_before_gopatriots, time_window_between_gopatriots, time_window_after_gopatriots = extract_feature_v3(files[1])\n",
    "\n",
    "gopatriots_X_before = time_window_before_gopatriots[0:-1,:]\n",
    "gopatriots_Y_before = time_window_before_gopatriots[1:,0]\n",
    "\n",
    "gopatriots_X_between = time_window_between_gopatriots[0:-1,:]\n",
    "gopatriots_Y_between = time_window_between_gopatriots[1:,0]\n",
    "\n",
    "gopatriots_X_after = time_window_after_gopatriots[0:-1,:]\n",
    "gopatriots_Y_after = time_window_after_gopatriots[1:,0]"
   ]
  },
  {
   "cell_type": "code",
   "execution_count": 122,
   "metadata": {},
   "outputs": [
    {
     "name": "stdout",
     "output_type": "stream",
     "text": [
      "                            OLS Regression Results                            \n",
      "==============================================================================\n",
      "Dep. Variable:                      y   R-squared:                       0.463\n",
      "Model:                            OLS   Adj. R-squared:                  0.456\n",
      "Method:                 Least Squares   F-statistic:                     74.52\n",
      "Date:                Wed, 13 Mar 2019   Prob (F-statistic):           3.22e-56\n",
      "Time:                        13:41:04   Log-Likelihood:                -2349.6\n",
      "No. Observations:                 438   AIC:                             4709.\n",
      "Df Residuals:                     433   BIC:                             4730.\n",
      "Df Model:                           5                                         \n",
      "Covariance Type:            nonrobust                                         \n",
      "==============================================================================\n",
      "                 coef    std err          t      P>|t|      [0.025      0.975]\n",
      "------------------------------------------------------------------------------\n",
      "x1             3.6487      0.349     10.452      0.000       2.963       4.335\n",
      "x2            -0.5507      0.133     -4.133      0.000      -0.813      -0.289\n",
      "x3            -0.0023      0.000     -7.431      0.000      -0.003      -0.002\n",
      "x4             0.0024      0.000      7.573      0.000       0.002       0.003\n",
      "x5            -0.0703      0.208     -0.338      0.735      -0.479       0.338\n",
      "==============================================================================\n",
      "Omnibus:                      772.016   Durbin-Watson:                   2.336\n",
      "Prob(Omnibus):                  0.000   Jarque-Bera (JB):           450411.835\n",
      "Skew:                          10.638   Prob(JB):                         0.00\n",
      "Kurtosis:                     158.652   Cond. No.                     3.63e+04\n",
      "==============================================================================\n",
      "\n",
      "Warnings:\n",
      "[1] Standard Errors assume that the covariance matrix of the errors is correctly specified.\n",
      "[2] The condition number is large, 3.63e+04. This might indicate that there are\n",
      "strong multicollinearity or other numerical problems.\n"
     ]
    }
   ],
   "source": [
    "lr_gopatriots_before = OLS(gopatriots_Y_before, gopatriots_X_before).fit()\n",
    "\n",
    "print(lr_gopatriots_before.summary())"
   ]
  },
  {
   "cell_type": "code",
   "execution_count": 123,
   "metadata": {},
   "outputs": [
    {
     "name": "stdout",
     "output_type": "stream",
     "text": [
      "MSE for #gopatriots before Feb.1 8:00 a.m.: 2672.805976590645\n"
     ]
    }
   ],
   "source": [
    "gopatriots_predict_before = lr_gopatriots_before.predict(gopatriots_X_before)\n",
    "gopatriots_mse_before = tools.eval_measures.mse(gopatriots_Y_before, gopatriots_predict_before)\n",
    "\n",
    "print(\"MSE for #gopatriots before Feb.1 8:00 a.m.:\", gopatriots_mse_before)"
   ]
  },
  {
   "cell_type": "code",
   "execution_count": 124,
   "metadata": {},
   "outputs": [
    {
     "name": "stdout",
     "output_type": "stream",
     "text": [
      "                            OLS Regression Results                            \n",
      "==============================================================================\n",
      "Dep. Variable:                      y   R-squared:                       0.589\n",
      "Model:                            OLS   Adj. R-squared:                  0.574\n",
      "Method:                 Least Squares   F-statistic:                     39.80\n",
      "Date:                Wed, 13 Mar 2019   Prob (F-statistic):           3.11e-25\n",
      "Time:                        13:43:02   Log-Likelihood:                -903.12\n",
      "No. Observations:                 144   AIC:                             1816.\n",
      "Df Residuals:                     139   BIC:                             1831.\n",
      "Df Model:                           5                                         \n",
      "Covariance Type:            nonrobust                                         \n",
      "==============================================================================\n",
      "                 coef    std err          t      P>|t|      [0.025      0.975]\n",
      "------------------------------------------------------------------------------\n",
      "x1             0.0081      0.376      0.022      0.983      -0.734       0.751\n",
      "x2             0.3077      0.293      1.049      0.296      -0.272       0.887\n",
      "x3             0.0001      0.000      0.868      0.387      -0.000       0.000\n",
      "x4            -0.0002      0.000     -0.975      0.331      -0.001       0.000\n",
      "x5             5.0531      1.124      4.496      0.000       2.831       7.275\n",
      "==============================================================================\n",
      "Omnibus:                      142.538   Durbin-Watson:                   2.284\n",
      "Prob(Omnibus):                  0.000   Jarque-Bera (JB):             2328.691\n",
      "Skew:                           3.611   Prob(JB):                         0.00\n",
      "Kurtosis:                      21.329   Cond. No.                     3.14e+04\n",
      "==============================================================================\n",
      "\n",
      "Warnings:\n",
      "[1] Standard Errors assume that the covariance matrix of the errors is correctly specified.\n",
      "[2] The condition number is large, 3.14e+04. This might indicate that there are\n",
      "strong multicollinearity or other numerical problems.\n"
     ]
    }
   ],
   "source": [
    "lr_gopatriots_between = OLS(gopatriots_Y_between, gopatriots_X_between).fit()\n",
    "\n",
    "print(lr_gopatriots_between.summary())"
   ]
  },
  {
   "cell_type": "code",
   "execution_count": 125,
   "metadata": {},
   "outputs": [
    {
     "name": "stdout",
     "output_type": "stream",
     "text": [
      "MSE for #gopatriots between Feb.1 8:00 a.m. and Feb.1 8:00 p.m.: 16405.867336461277\n"
     ]
    }
   ],
   "source": [
    "gopatriots_predict_between = lr_gopatriots_between.predict(gopatriots_X_between)\n",
    "gopatriots_mse_between = tools.eval_measures.mse(gopatriots_Y_between, gopatriots_predict_between)\n",
    "\n",
    "print(\"MSE for #gopatriots between Feb.1 8:00 a.m. and Feb.1 8:00 p.m.:\", gopatriots_mse_between)"
   ]
  },
  {
   "cell_type": "code",
   "execution_count": 126,
   "metadata": {},
   "outputs": [
    {
     "name": "stdout",
     "output_type": "stream",
     "text": [
      "                            OLS Regression Results                            \n",
      "==============================================================================\n",
      "Dep. Variable:                      y   R-squared:                       0.770\n",
      "Model:                            OLS   Adj. R-squared:                  0.761\n",
      "Method:                 Least Squares   F-statistic:                     79.76\n",
      "Date:                Wed, 13 Mar 2019   Prob (F-statistic):           2.44e-36\n",
      "Time:                        13:44:16   Log-Likelihood:                -454.59\n",
      "No. Observations:                 124   AIC:                             919.2\n",
      "Df Residuals:                     119   BIC:                             933.3\n",
      "Df Model:                           5                                         \n",
      "Covariance Type:            nonrobust                                         \n",
      "==============================================================================\n",
      "                 coef    std err          t      P>|t|      [0.025      0.975]\n",
      "------------------------------------------------------------------------------\n",
      "x1             0.5825      0.224      2.605      0.010       0.140       1.025\n",
      "x2             0.0409      0.035      1.177      0.242      -0.028       0.110\n",
      "x3         -6.742e-05      0.000     -0.167      0.867      -0.001       0.001\n",
      "x4             0.0006      0.001      1.107      0.270      -0.001       0.002\n",
      "x5             0.0414      0.066      0.623      0.534      -0.090       0.173\n",
      "==============================================================================\n",
      "Omnibus:                      198.908   Durbin-Watson:                   1.814\n",
      "Prob(Omnibus):                  0.000   Jarque-Bera (JB):            20394.467\n",
      "Skew:                           6.349   Prob(JB):                         0.00\n",
      "Kurtosis:                      64.531   Cond. No.                     4.42e+03\n",
      "==============================================================================\n",
      "\n",
      "Warnings:\n",
      "[1] Standard Errors assume that the covariance matrix of the errors is correctly specified.\n",
      "[2] The condition number is large, 4.42e+03. This might indicate that there are\n",
      "strong multicollinearity or other numerical problems.\n"
     ]
    }
   ],
   "source": [
    "lr_gopatriots_after = OLS(gopatriots_Y_after, gopatriots_X_after).fit()\n",
    "\n",
    "print(lr_gopatriots_after.summary())"
   ]
  },
  {
   "cell_type": "code",
   "execution_count": 127,
   "metadata": {},
   "outputs": [
    {
     "name": "stdout",
     "output_type": "stream",
     "text": [
      "MSE for #gopatriots after Feb.1 8:00 p.m.: 89.50224958341418\n"
     ]
    }
   ],
   "source": [
    "gopatriots_predict_after = lr_gopatriots_after.predict(gopatriots_X_after)\n",
    "gopatriots_mse_after = tools.eval_measures.mse(gopatriots_Y_after, gopatriots_predict_after)\n",
    "\n",
    "print(\"MSE for #gopatriots after Feb.1 8:00 p.m.:\", gopatriots_mse_after)"
   ]
  },
  {
   "cell_type": "markdown",
   "metadata": {},
   "source": [
    "#nfl"
   ]
  },
  {
   "cell_type": "code",
   "execution_count": 128,
   "metadata": {},
   "outputs": [],
   "source": [
    "time_window_before_nfl, time_window_between_nfl, time_window_after_nfl = extract_feature_v3(files[2])\n",
    "\n",
    "nfl_X_before = time_window_before_nfl[0:-1,:]\n",
    "nfl_Y_before = time_window_before_nfl[1:,0]\n",
    "\n",
    "nfl_X_between = time_window_between_nfl[0:-1,:]\n",
    "nfl_Y_between = time_window_between_nfl[1:,0]\n",
    "\n",
    "nfl_X_after = time_window_after_nfl[0:-1,:]\n",
    "nfl_Y_after = time_window_after_nfl[1:,0]"
   ]
  },
  {
   "cell_type": "code",
   "execution_count": 129,
   "metadata": {},
   "outputs": [
    {
     "name": "stdout",
     "output_type": "stream",
     "text": [
      "                            OLS Regression Results                            \n",
      "==============================================================================\n",
      "Dep. Variable:                      y   R-squared:                       0.719\n",
      "Model:                            OLS   Adj. R-squared:                  0.716\n",
      "Method:                 Least Squares   F-statistic:                     222.7\n",
      "Date:                Wed, 13 Mar 2019   Prob (F-statistic):          1.73e-117\n",
      "Time:                        13:51:07   Log-Likelihood:                -3035.9\n",
      "No. Observations:                 440   AIC:                             6082.\n",
      "Df Residuals:                     435   BIC:                             6102.\n",
      "Df Model:                           5                                         \n",
      "Covariance Type:            nonrobust                                         \n",
      "==============================================================================\n",
      "                 coef    std err          t      P>|t|      [0.025      0.975]\n",
      "------------------------------------------------------------------------------\n",
      "x1             0.7611      0.088      8.655      0.000       0.588       0.934\n",
      "x2            -0.1053      0.043     -2.439      0.015      -0.190      -0.020\n",
      "x3           5.86e-05   1.63e-05      3.586      0.000    2.65e-05    9.07e-05\n",
      "x4         -6.915e-05   2.45e-05     -2.824      0.005      -0.000    -2.1e-05\n",
      "x5             4.0275      1.082      3.721      0.000       1.900       6.155\n",
      "==============================================================================\n",
      "Omnibus:                      345.038   Durbin-Watson:                   2.182\n",
      "Prob(Omnibus):                  0.000   Jarque-Bera (JB):            49138.693\n",
      "Skew:                           2.475   Prob(JB):                         0.00\n",
      "Kurtosis:                      54.534   Cond. No.                     2.78e+05\n",
      "==============================================================================\n",
      "\n",
      "Warnings:\n",
      "[1] Standard Errors assume that the covariance matrix of the errors is correctly specified.\n",
      "[2] The condition number is large, 2.78e+05. This might indicate that there are\n",
      "strong multicollinearity or other numerical problems.\n"
     ]
    }
   ],
   "source": [
    "lr_nfl_before = OLS(nfl_Y_before, nfl_X_before).fit()\n",
    "\n",
    "print(lr_nfl_before.summary())"
   ]
  },
  {
   "cell_type": "code",
   "execution_count": 130,
   "metadata": {},
   "outputs": [
    {
     "name": "stdout",
     "output_type": "stream",
     "text": [
      "MSE for #nfl before Feb.1 8:00 a.m.: 57620.76162516333\n"
     ]
    }
   ],
   "source": [
    "nfl_predict_before = lr_nfl_before.predict(nfl_X_before)\n",
    "nfl_mse_before = tools.eval_measures.mse(nfl_Y_before, nfl_predict_before)\n",
    "\n",
    "print(\"MSE for #nfl before Feb.1 8:00 a.m.:\", nfl_mse_before)"
   ]
  },
  {
   "cell_type": "code",
   "execution_count": 131,
   "metadata": {},
   "outputs": [
    {
     "name": "stdout",
     "output_type": "stream",
     "text": [
      "                            OLS Regression Results                            \n",
      "==============================================================================\n",
      "Dep. Variable:                      y   R-squared:                       0.896\n",
      "Model:                            OLS   Adj. R-squared:                  0.892\n",
      "Method:                 Least Squares   F-statistic:                     239.0\n",
      "Date:                Wed, 13 Mar 2019   Prob (F-statistic):           2.09e-66\n",
      "Time:                        13:52:14   Log-Likelihood:                -927.50\n",
      "No. Observations:                 144   AIC:                             1865.\n",
      "Df Residuals:                     139   BIC:                             1880.\n",
      "Df Model:                           5                                         \n",
      "Covariance Type:            nonrobust                                         \n",
      "==============================================================================\n",
      "                 coef    std err          t      P>|t|      [0.025      0.975]\n",
      "------------------------------------------------------------------------------\n",
      "x1             1.0802      0.116      9.340      0.000       0.852       1.309\n",
      "x2            -0.0812      0.058     -1.404      0.163      -0.196       0.033\n",
      "x3          -2.61e-05   2.98e-05     -0.877      0.382    -8.5e-05    3.28e-05\n",
      "x4          6.504e-06   4.17e-05      0.156      0.876   -7.59e-05    8.89e-05\n",
      "x5             4.0103      1.610      2.492      0.014       0.828       7.193\n",
      "==============================================================================\n",
      "Omnibus:                       66.351   Durbin-Watson:                   2.075\n",
      "Prob(Omnibus):                  0.000   Jarque-Bera (JB):              280.128\n",
      "Skew:                           1.658   Prob(JB):                     1.48e-61\n",
      "Kurtosis:                       8.974   Cond. No.                     3.12e+05\n",
      "==============================================================================\n",
      "\n",
      "Warnings:\n",
      "[1] Standard Errors assume that the covariance matrix of the errors is correctly specified.\n",
      "[2] The condition number is large, 3.12e+05. This might indicate that there are\n",
      "strong multicollinearity or other numerical problems.\n"
     ]
    }
   ],
   "source": [
    "lr_nfl_between = OLS(nfl_Y_between, nfl_X_between).fit()\n",
    "\n",
    "print(lr_nfl_between.summary())"
   ]
  },
  {
   "cell_type": "code",
   "execution_count": 132,
   "metadata": {},
   "outputs": [
    {
     "name": "stdout",
     "output_type": "stream",
     "text": [
      "MSE for #nfl between Feb.1 8:00 a.m. and Feb.1 8:00 p.m.: 23019.976901364116\n"
     ]
    }
   ],
   "source": [
    "nfl_predict_between = lr_nfl_between.predict(nfl_X_between)\n",
    "nfl_mse_between = tools.eval_measures.mse(nfl_Y_between, nfl_predict_between)\n",
    "\n",
    "print(\"MSE for #nfl between Feb.1 8:00 a.m. and Feb.1 8:00 p.m.:\", nfl_mse_between)"
   ]
  },
  {
   "cell_type": "code",
   "execution_count": 133,
   "metadata": {},
   "outputs": [
    {
     "name": "stdout",
     "output_type": "stream",
     "text": [
      "                            OLS Regression Results                            \n",
      "==============================================================================\n",
      "Dep. Variable:                      y   R-squared:                       0.947\n",
      "Model:                            OLS   Adj. R-squared:                  0.945\n",
      "Method:                 Least Squares   F-statistic:                     465.5\n",
      "Date:                Wed, 13 Mar 2019   Prob (F-statistic):           3.98e-81\n",
      "Time:                        13:53:20   Log-Likelihood:                -847.89\n",
      "No. Observations:                 135   AIC:                             1706.\n",
      "Df Residuals:                     130   BIC:                             1720.\n",
      "Df Model:                           5                                         \n",
      "Covariance Type:            nonrobust                                         \n",
      "==============================================================================\n",
      "                 coef    std err          t      P>|t|      [0.025      0.975]\n",
      "------------------------------------------------------------------------------\n",
      "x1             0.9287      0.097      9.545      0.000       0.736       1.121\n",
      "x2             0.0088      0.042      0.212      0.832      -0.074       0.091\n",
      "x3          9.926e-06   2.33e-05      0.426      0.671   -3.62e-05     5.6e-05\n",
      "x4          6.467e-07   3.28e-05      0.020      0.984   -6.42e-05    6.55e-05\n",
      "x5            -0.6852      1.585     -0.432      0.666      -3.820       2.450\n",
      "==============================================================================\n",
      "Omnibus:                       23.564   Durbin-Watson:                   2.051\n",
      "Prob(Omnibus):                  0.000   Jarque-Bera (JB):               51.548\n",
      "Skew:                           0.712   Prob(JB):                     6.40e-12\n",
      "Kurtosis:                       5.672   Cond. No.                     4.09e+05\n",
      "==============================================================================\n",
      "\n",
      "Warnings:\n",
      "[1] Standard Errors assume that the covariance matrix of the errors is correctly specified.\n",
      "[2] The condition number is large, 4.09e+05. This might indicate that there are\n",
      "strong multicollinearity or other numerical problems.\n"
     ]
    }
   ],
   "source": [
    "lr_nfl_after = OLS(nfl_Y_after, nfl_X_after).fit()\n",
    "\n",
    "print(lr_nfl_after.summary())"
   ]
  },
  {
   "cell_type": "code",
   "execution_count": 134,
   "metadata": {},
   "outputs": [
    {
     "name": "stdout",
     "output_type": "stream",
     "text": [
      "MSE for #nfl after Feb.1 8:00 p.m.: 16706.081053186925\n"
     ]
    }
   ],
   "source": [
    "nfl_predict_after = lr_nfl_after.predict(nfl_X_after)\n",
    "nfl_mse_after = tools.eval_measures.mse(nfl_Y_after, nfl_predict_after)\n",
    "\n",
    "print(\"MSE for #nfl after Feb.1 8:00 p.m.:\", nfl_mse_after)"
   ]
  },
  {
   "cell_type": "markdown",
   "metadata": {},
   "source": [
    "#patriots"
   ]
  },
  {
   "cell_type": "code",
   "execution_count": 135,
   "metadata": {},
   "outputs": [],
   "source": [
    "time_window_before_patriots, time_window_between_patriots, time_window_after_patriots = extract_feature_v3(files[3])\n",
    "\n",
    "patriots_X_before = time_window_before_patriots[0:-1,:]\n",
    "patriots_Y_before = time_window_before_patriots[1:,0]\n",
    "\n",
    "patriots_X_between = time_window_between_patriots[0:-1,:]\n",
    "patriots_Y_between = time_window_between_patriots[1:,0]\n",
    "\n",
    "patriots_X_after = time_window_after_patriots[0:-1,:]\n",
    "patriots_Y_after = time_window_after_patriots[1:,0]"
   ]
  },
  {
   "cell_type": "code",
   "execution_count": 136,
   "metadata": {},
   "outputs": [
    {
     "name": "stdout",
     "output_type": "stream",
     "text": [
      "                            OLS Regression Results                            \n",
      "==============================================================================\n",
      "Dep. Variable:                      y   R-squared:                       0.556\n",
      "Model:                            OLS   Adj. R-squared:                  0.551\n",
      "Method:                 Least Squares   F-statistic:                     109.0\n",
      "Date:                Wed, 13 Mar 2019   Prob (F-statistic):           1.94e-74\n",
      "Time:                        14:00:05   Log-Likelihood:                -3470.0\n",
      "No. Observations:                 440   AIC:                             6950.\n",
      "Df Residuals:                     435   BIC:                             6970.\n",
      "Df Model:                           5                                         \n",
      "Covariance Type:            nonrobust                                         \n",
      "==============================================================================\n",
      "                 coef    std err          t      P>|t|      [0.025      0.975]\n",
      "------------------------------------------------------------------------------\n",
      "x1            -1.0600      0.206     -5.152      0.000      -1.464      -0.656\n",
      "x2             0.3424      0.081      4.205      0.000       0.182       0.502\n",
      "x3             0.0003   4.09e-05      7.471      0.000       0.000       0.000\n",
      "x4            -0.0004   6.28e-05     -6.868      0.000      -0.001      -0.000\n",
      "x5             6.2593      2.655      2.357      0.019       1.041      11.478\n",
      "==============================================================================\n",
      "Omnibus:                      510.672   Durbin-Watson:                   2.256\n",
      "Prob(Omnibus):                  0.000   Jarque-Bera (JB):            75354.445\n",
      "Skew:                           5.011   Prob(JB):                         0.00\n",
      "Kurtosis:                      66.323   Cond. No.                     3.71e+05\n",
      "==============================================================================\n",
      "\n",
      "Warnings:\n",
      "[1] Standard Errors assume that the covariance matrix of the errors is correctly specified.\n",
      "[2] The condition number is large, 3.71e+05. This might indicate that there are\n",
      "strong multicollinearity or other numerical problems.\n"
     ]
    }
   ],
   "source": [
    "lr_patriots_before = OLS(patriots_Y_before, patriots_X_before).fit()\n",
    "\n",
    "print(lr_patriots_before.summary())"
   ]
  },
  {
   "cell_type": "code",
   "execution_count": 137,
   "metadata": {},
   "outputs": [
    {
     "name": "stdout",
     "output_type": "stream",
     "text": [
      "MSE for #patriots before Feb.1 8:00 a.m.: 414481.8008567434\n"
     ]
    }
   ],
   "source": [
    "patriots_predict_before = lr_patriots_before.predict(patriots_X_before)\n",
    "patriots_mse_before = tools.eval_measures.mse(patriots_Y_before, patriots_predict_before)\n",
    "\n",
    "print(\"MSE for #patriots before Feb.1 8:00 a.m.:\", patriots_mse_before)"
   ]
  },
  {
   "cell_type": "code",
   "execution_count": 138,
   "metadata": {},
   "outputs": [
    {
     "name": "stdout",
     "output_type": "stream",
     "text": [
      "                            OLS Regression Results                            \n",
      "==============================================================================\n",
      "Dep. Variable:                      y   R-squared:                       0.891\n",
      "Model:                            OLS   Adj. R-squared:                  0.887\n",
      "Method:                 Least Squares   F-statistic:                     227.3\n",
      "Date:                Wed, 13 Mar 2019   Prob (F-statistic):           4.66e-65\n",
      "Time:                        14:01:12   Log-Likelihood:                -1169.1\n",
      "No. Observations:                 144   AIC:                             2348.\n",
      "Df Residuals:                     139   BIC:                             2363.\n",
      "Df Model:                           5                                         \n",
      "Covariance Type:            nonrobust                                         \n",
      "==============================================================================\n",
      "                 coef    std err          t      P>|t|      [0.025      0.975]\n",
      "------------------------------------------------------------------------------\n",
      "x1             0.8512      0.240      3.549      0.001       0.377       1.325\n",
      "x2             0.0813      0.216      0.377      0.707      -0.345       0.508\n",
      "x3            -0.0002    4.5e-05     -3.351      0.001      -0.000   -6.18e-05\n",
      "x4             0.0003   9.33e-05      2.798      0.006    7.65e-05       0.000\n",
      "x5            34.1856      9.002      3.797      0.000      16.387      51.984\n",
      "==============================================================================\n",
      "Omnibus:                      100.019   Durbin-Watson:                   2.029\n",
      "Prob(Omnibus):                  0.000   Jarque-Bera (JB):              678.399\n",
      "Skew:                           2.508   Prob(JB):                    4.87e-148\n",
      "Kurtosis:                      12.375   Cond. No.                     6.59e+05\n",
      "==============================================================================\n",
      "\n",
      "Warnings:\n",
      "[1] Standard Errors assume that the covariance matrix of the errors is correctly specified.\n",
      "[2] The condition number is large, 6.59e+05. This might indicate that there are\n",
      "strong multicollinearity or other numerical problems.\n"
     ]
    }
   ],
   "source": [
    "lr_patriots_between = OLS(patriots_Y_between, patriots_X_between).fit()\n",
    "\n",
    "print(lr_patriots_between.summary())"
   ]
  },
  {
   "cell_type": "code",
   "execution_count": 139,
   "metadata": {},
   "outputs": [
    {
     "name": "stdout",
     "output_type": "stream",
     "text": [
      "MSE for #patriots between Feb.1 8:00 a.m. and Feb.1 8:00 p.m.: 660210.518734672\n"
     ]
    }
   ],
   "source": [
    "patriots_predict_between = lr_patriots_between.predict(patriots_X_between)\n",
    "patriots_mse_between = tools.eval_measures.mse(patriots_Y_between, patriots_predict_between)\n",
    "\n",
    "print(\"MSE for #patriots between Feb.1 8:00 a.m. and Feb.1 8:00 p.m.:\", patriots_mse_between)"
   ]
  },
  {
   "cell_type": "code",
   "execution_count": 140,
   "metadata": {},
   "outputs": [
    {
     "name": "stdout",
     "output_type": "stream",
     "text": [
      "                            OLS Regression Results                            \n",
      "==============================================================================\n",
      "Dep. Variable:                      y   R-squared:                       0.928\n",
      "Model:                            OLS   Adj. R-squared:                  0.925\n",
      "Method:                 Least Squares   F-statistic:                     333.5\n",
      "Date:                Wed, 13 Mar 2019   Prob (F-statistic):           2.57e-72\n",
      "Time:                        14:02:20   Log-Likelihood:                -825.09\n",
      "No. Observations:                 135   AIC:                             1660.\n",
      "Df Residuals:                     130   BIC:                             1675.\n",
      "Df Model:                           5                                         \n",
      "Covariance Type:            nonrobust                                         \n",
      "==============================================================================\n",
      "                 coef    std err          t      P>|t|      [0.025      0.975]\n",
      "------------------------------------------------------------------------------\n",
      "x1            -0.0117      0.090     -0.130      0.897      -0.190       0.166\n",
      "x2             0.0502      0.006      8.304      0.000       0.038       0.062\n",
      "x3             0.0001   1.54e-05      7.150      0.000    7.96e-05       0.000\n",
      "x4          -9.56e-05   2.02e-05     -4.735      0.000      -0.000   -5.57e-05\n",
      "x5             2.8839      0.869      3.320      0.001       1.165       4.602\n",
      "==============================================================================\n",
      "Omnibus:                       70.782   Durbin-Watson:                   1.724\n",
      "Prob(Omnibus):                  0.000   Jarque-Bera (JB):              889.894\n",
      "Skew:                           1.422   Prob(JB):                    5.78e-194\n",
      "Kurtosis:                      15.252   Cond. No.                     2.92e+05\n",
      "==============================================================================\n",
      "\n",
      "Warnings:\n",
      "[1] Standard Errors assume that the covariance matrix of the errors is correctly specified.\n",
      "[2] The condition number is large, 2.92e+05. This might indicate that there are\n",
      "strong multicollinearity or other numerical problems.\n"
     ]
    }
   ],
   "source": [
    "lr_patriots_after = OLS(patriots_Y_after, patriots_X_after).fit()\n",
    "\n",
    "print(lr_patriots_after.summary())"
   ]
  },
  {
   "cell_type": "code",
   "execution_count": 141,
   "metadata": {},
   "outputs": [
    {
     "name": "stdout",
     "output_type": "stream",
     "text": [
      "MSE for #patriots after Feb.1 8:00 p.m.: 11916.856419764157\n"
     ]
    }
   ],
   "source": [
    "patriots_predict_after = lr_patriots_after.predict(patriots_X_after)\n",
    "patriots_mse_after = tools.eval_measures.mse(patriots_Y_after, patriots_predict_after)\n",
    "\n",
    "print(\"MSE for #patriots after Feb.1 8:00 p.m.:\", patriots_mse_after)"
   ]
  },
  {
   "cell_type": "markdown",
   "metadata": {},
   "source": [
    "#sb49"
   ]
  },
  {
   "cell_type": "code",
   "execution_count": 142,
   "metadata": {},
   "outputs": [],
   "source": [
    "time_window_before_sb49, time_window_between_sb49, time_window_after_sb49 = extract_feature_v3(files[4])\n",
    "\n",
    "sb49_X_before = time_window_before_sb49[0:-1,:]\n",
    "sb49_Y_before = time_window_before_sb49[1:,0]\n",
    "\n",
    "sb49_X_between = time_window_between_sb49[0:-1,:]\n",
    "sb49_Y_between = time_window_between_sb49[1:,0]\n",
    "\n",
    "sb49_X_after = time_window_after_sb49[0:-1,:]\n",
    "sb49_Y_after = time_window_after_sb49[1:,0]"
   ]
  },
  {
   "cell_type": "code",
   "execution_count": 143,
   "metadata": {},
   "outputs": [
    {
     "name": "stdout",
     "output_type": "stream",
     "text": [
      "                            OLS Regression Results                            \n",
      "==============================================================================\n",
      "Dep. Variable:                      y   R-squared:                       0.883\n",
      "Model:                            OLS   Adj. R-squared:                  0.881\n",
      "Method:                 Least Squares   F-statistic:                     647.6\n",
      "Date:                Wed, 13 Mar 2019   Prob (F-statistic):          1.37e-197\n",
      "Time:                        14:08:10   Log-Likelihood:                -2547.1\n",
      "No. Observations:                 435   AIC:                             5104.\n",
      "Df Residuals:                     430   BIC:                             5125.\n",
      "Df Model:                           5                                         \n",
      "Covariance Type:            nonrobust                                         \n",
      "==============================================================================\n",
      "                 coef    std err          t      P>|t|      [0.025      0.975]\n",
      "------------------------------------------------------------------------------\n",
      "x1             1.0251      0.039     26.460      0.000       0.949       1.101\n",
      "x2             0.0186      0.005      3.481      0.001       0.008       0.029\n",
      "x3         -2.481e-06   1.37e-06     -1.811      0.071   -5.17e-06    2.12e-07\n",
      "x4          2.587e-06   3.38e-06      0.765      0.444   -4.06e-06    9.23e-06\n",
      "x5            -0.5115      0.335     -1.529      0.127      -1.169       0.146\n",
      "==============================================================================\n",
      "Omnibus:                      249.865   Durbin-Watson:                   1.478\n",
      "Prob(Omnibus):                  0.000   Jarque-Bera (JB):             9750.085\n",
      "Skew:                           1.795   Prob(JB):                         0.00\n",
      "Kurtosis:                      25.914   Cond. No.                     7.86e+05\n",
      "==============================================================================\n",
      "\n",
      "Warnings:\n",
      "[1] Standard Errors assume that the covariance matrix of the errors is correctly specified.\n",
      "[2] The condition number is large, 7.86e+05. This might indicate that there are\n",
      "strong multicollinearity or other numerical problems.\n"
     ]
    }
   ],
   "source": [
    "lr_sb49_before = OLS(sb49_Y_before, sb49_X_before).fit()\n",
    "\n",
    "print(lr_sb49_before.summary())"
   ]
  },
  {
   "cell_type": "code",
   "execution_count": 144,
   "metadata": {},
   "outputs": [
    {
     "name": "stdout",
     "output_type": "stream",
     "text": [
      "MSE for #sb49 before Feb.1 8:00 a.m.: 7136.773182458621\n"
     ]
    }
   ],
   "source": [
    "sb49_predict_before = lr_sb49_before.predict(sb49_X_before)\n",
    "sb49_mse_before = tools.eval_measures.mse(sb49_Y_before, sb49_predict_before)\n",
    "\n",
    "print(\"MSE for #sb49 before Feb.1 8:00 a.m.:\", sb49_mse_before)"
   ]
  },
  {
   "cell_type": "code",
   "execution_count": 145,
   "metadata": {},
   "outputs": [
    {
     "name": "stdout",
     "output_type": "stream",
     "text": [
      "                            OLS Regression Results                            \n",
      "==============================================================================\n",
      "Dep. Variable:                      y   R-squared:                       0.947\n",
      "Model:                            OLS   Adj. R-squared:                  0.945\n",
      "Method:                 Least Squares   F-statistic:                     492.0\n",
      "Date:                Wed, 13 Mar 2019   Prob (F-statistic):           1.68e-86\n",
      "Time:                        14:09:13   Log-Likelihood:                -1232.8\n",
      "No. Observations:                 144   AIC:                             2476.\n",
      "Df Residuals:                     139   BIC:                             2491.\n",
      "Df Model:                           5                                         \n",
      "Covariance Type:            nonrobust                                         \n",
      "==============================================================================\n",
      "                 coef    std err          t      P>|t|      [0.025      0.975]\n",
      "------------------------------------------------------------------------------\n",
      "x1             1.0018      0.065     15.338      0.000       0.873       1.131\n",
      "x2            -0.0515      0.048     -1.083      0.281      -0.146       0.043\n",
      "x3          -3.01e-06   7.94e-06     -0.379      0.705   -1.87e-05    1.27e-05\n",
      "x4          3.252e-05   1.87e-05      1.742      0.084   -4.39e-06    6.94e-05\n",
      "x5            27.5609     15.475      1.781      0.077      -3.037      58.159\n",
      "==============================================================================\n",
      "Omnibus:                       24.767   Durbin-Watson:                   2.520\n",
      "Prob(Omnibus):                  0.000   Jarque-Bera (JB):              126.183\n",
      "Skew:                           0.339   Prob(JB):                     3.98e-28\n",
      "Kurtosis:                       7.535   Cond. No.                     7.05e+06\n",
      "==============================================================================\n",
      "\n",
      "Warnings:\n",
      "[1] Standard Errors assume that the covariance matrix of the errors is correctly specified.\n",
      "[2] The condition number is large, 7.05e+06. This might indicate that there are\n",
      "strong multicollinearity or other numerical problems.\n"
     ]
    }
   ],
   "source": [
    "lr_sb49_between = OLS(sb49_Y_between, sb49_X_between).fit()\n",
    "\n",
    "print(lr_sb49_between.summary())"
   ]
  },
  {
   "cell_type": "code",
   "execution_count": 146,
   "metadata": {},
   "outputs": [
    {
     "name": "stdout",
     "output_type": "stream",
     "text": [
      "MSE for #sb49 between Feb.1 8:00 a.m. and Feb.1 8:00 p.m.: 1598766.7936376657\n"
     ]
    }
   ],
   "source": [
    "sb49_predict_between = lr_sb49_between.predict(sb49_X_between)\n",
    "sb49_mse_between = tools.eval_measures.mse(sb49_Y_between, sb49_predict_between)\n",
    "\n",
    "print(\"MSE for #sb49 between Feb.1 8:00 a.m. and Feb.1 8:00 p.m.:\", sb49_mse_between)"
   ]
  },
  {
   "cell_type": "code",
   "execution_count": 147,
   "metadata": {},
   "outputs": [
    {
     "name": "stdout",
     "output_type": "stream",
     "text": [
      "                            OLS Regression Results                            \n",
      "==============================================================================\n",
      "Dep. Variable:                      y   R-squared:                       0.925\n",
      "Model:                            OLS   Adj. R-squared:                  0.922\n",
      "Method:                 Least Squares   F-statistic:                     321.5\n",
      "Date:                Wed, 13 Mar 2019   Prob (F-statistic):           2.32e-71\n",
      "Time:                        14:10:20   Log-Likelihood:                -920.99\n",
      "No. Observations:                 135   AIC:                             1852.\n",
      "Df Residuals:                     130   BIC:                             1867.\n",
      "Df Model:                           5                                         \n",
      "Covariance Type:            nonrobust                                         \n",
      "==============================================================================\n",
      "                 coef    std err          t      P>|t|      [0.025      0.975]\n",
      "------------------------------------------------------------------------------\n",
      "x1             0.4415      0.066      6.692      0.000       0.311       0.572\n",
      "x2             0.0258      0.007      3.445      0.001       0.011       0.041\n",
      "x3          2.773e-05   4.51e-06      6.145      0.000    1.88e-05    3.67e-05\n",
      "x4         -4.001e-05    8.4e-06     -4.766      0.000   -5.66e-05   -2.34e-05\n",
      "x5             0.6535      1.986      0.329      0.743      -3.276       4.583\n",
      "==============================================================================\n",
      "Omnibus:                       48.559   Durbin-Watson:                   1.860\n",
      "Prob(Omnibus):                  0.000   Jarque-Bera (JB):             1107.072\n",
      "Skew:                           0.486   Prob(JB):                    4.00e-241\n",
      "Kurtosis:                      16.995   Cond. No.                     1.84e+06\n",
      "==============================================================================\n",
      "\n",
      "Warnings:\n",
      "[1] Standard Errors assume that the covariance matrix of the errors is correctly specified.\n",
      "[2] The condition number is large, 1.84e+06. This might indicate that there are\n",
      "strong multicollinearity or other numerical problems.\n"
     ]
    }
   ],
   "source": [
    "lr_sb49_after = OLS(sb49_Y_after, sb49_X_after).fit()\n",
    "\n",
    "print(lr_sb49_after.summary())"
   ]
  },
  {
   "cell_type": "code",
   "execution_count": 148,
   "metadata": {},
   "outputs": [
    {
     "name": "stdout",
     "output_type": "stream",
     "text": [
      "MSE for #sb49 after Feb.1 8:00 p.m.: 49338.55222581286\n"
     ]
    }
   ],
   "source": [
    "sb49_predict_after = lr_sb49_after.predict(sb49_X_after)\n",
    "sb49_mse_after = tools.eval_measures.mse(sb49_Y_after, sb49_predict_after)\n",
    "\n",
    "print(\"MSE for #sb49 after Feb.1 8:00 p.m.:\", sb49_mse_after)"
   ]
  },
  {
   "cell_type": "markdown",
   "metadata": {},
   "source": [
    "#superbowl"
   ]
  },
  {
   "cell_type": "code",
   "execution_count": 149,
   "metadata": {},
   "outputs": [],
   "source": [
    "time_window_before_superbowl, time_window_between_superbowl, time_window_after_superbowl = extract_feature_v3(files[5])\n",
    "\n",
    "superbowl_X_before = time_window_before_superbowl[0:-1,:]\n",
    "superbowl_Y_before = time_window_before_superbowl[1:,0]\n",
    "\n",
    "superbowl_X_between = time_window_between_superbowl[0:-1,:]\n",
    "superbowl_Y_between = time_window_between_superbowl[1:,0]\n",
    "\n",
    "superbowl_X_after = time_window_after_superbowl[0:-1,:]\n",
    "superbowl_Y_after = time_window_after_superbowl[1:,0]"
   ]
  },
  {
   "cell_type": "code",
   "execution_count": 150,
   "metadata": {},
   "outputs": [
    {
     "name": "stdout",
     "output_type": "stream",
     "text": [
      "                            OLS Regression Results                            \n",
      "==============================================================================\n",
      "Dep. Variable:                      y   R-squared:                       0.597\n",
      "Model:                            OLS   Adj. R-squared:                  0.593\n",
      "Method:                 Least Squares   F-statistic:                     129.0\n",
      "Date:                Wed, 13 Mar 2019   Prob (F-statistic):           1.38e-83\n",
      "Time:                        14:17:46   Log-Likelihood:                -3453.5\n",
      "No. Observations:                 440   AIC:                             6917.\n",
      "Df Residuals:                     435   BIC:                             6937.\n",
      "Df Model:                           5                                         \n",
      "Covariance Type:            nonrobust                                         \n",
      "==============================================================================\n",
      "                 coef    std err          t      P>|t|      [0.025      0.975]\n",
      "------------------------------------------------------------------------------\n",
      "x1             0.3581      0.107      3.336      0.001       0.147       0.569\n",
      "x2             0.1136      0.051      2.223      0.027       0.013       0.214\n",
      "x3          1.389e-05   5.37e-06      2.586      0.010    3.33e-06    2.44e-05\n",
      "x4         -7.303e-06   2.23e-05     -0.327      0.744   -5.12e-05    3.66e-05\n",
      "x5             5.3251      2.663      1.999      0.046       0.091      10.560\n",
      "==============================================================================\n",
      "Omnibus:                      541.298   Durbin-Watson:                   1.882\n",
      "Prob(Omnibus):                  0.000   Jarque-Bera (JB):            61841.607\n",
      "Skew:                           5.720   Prob(JB):                         0.00\n",
      "Kurtosis:                      59.941   Cond. No.                     1.30e+06\n",
      "==============================================================================\n",
      "\n",
      "Warnings:\n",
      "[1] Standard Errors assume that the covariance matrix of the errors is correctly specified.\n",
      "[2] The condition number is large, 1.3e+06. This might indicate that there are\n",
      "strong multicollinearity or other numerical problems.\n"
     ]
    }
   ],
   "source": [
    "lr_superbowl_before = OLS(superbowl_Y_before, superbowl_X_before).fit()\n",
    "\n",
    "print(lr_superbowl_before.summary())"
   ]
  },
  {
   "cell_type": "code",
   "execution_count": 151,
   "metadata": {},
   "outputs": [
    {
     "name": "stdout",
     "output_type": "stream",
     "text": [
      "MSE for #superbowl before Feb.1 8:00 a.m.: 384513.33446941635\n"
     ]
    }
   ],
   "source": [
    "superbowl_predict_before = lr_superbowl_before.predict(superbowl_X_before)\n",
    "superbowl_mse_before = tools.eval_measures.mse(superbowl_Y_before, superbowl_predict_before)\n",
    "\n",
    "print(\"MSE for #superbowl before Feb.1 8:00 a.m.:\", superbowl_mse_before)"
   ]
  },
  {
   "cell_type": "code",
   "execution_count": 152,
   "metadata": {},
   "outputs": [
    {
     "name": "stdout",
     "output_type": "stream",
     "text": [
      "                            OLS Regression Results                            \n",
      "==============================================================================\n",
      "Dep. Variable:                      y   R-squared:                       0.889\n",
      "Model:                            OLS   Adj. R-squared:                  0.885\n",
      "Method:                 Least Squares   F-statistic:                     223.5\n",
      "Date:                Wed, 13 Mar 2019   Prob (F-statistic):           1.33e-64\n",
      "Time:                        14:26:22   Log-Likelihood:                -1375.7\n",
      "No. Observations:                 144   AIC:                             2761.\n",
      "Df Residuals:                     139   BIC:                             2776.\n",
      "Df Model:                           5                                         \n",
      "Covariance Type:            nonrobust                                         \n",
      "==============================================================================\n",
      "                 coef    std err          t      P>|t|      [0.025      0.975]\n",
      "------------------------------------------------------------------------------\n",
      "x1             0.8076      0.126      6.385      0.000       0.558       1.058\n",
      "x2            -0.0310      0.023     -1.368      0.174      -0.076       0.014\n",
      "x3          2.845e-05   2.06e-05      1.383      0.169   -1.22e-05    6.91e-05\n",
      "x4         -7.522e-05   8.39e-05     -0.896      0.372      -0.000    9.07e-05\n",
      "x5            70.4062     34.979      2.013      0.046       1.246     139.566\n",
      "==============================================================================\n",
      "Omnibus:                       75.468   Durbin-Watson:                   2.299\n",
      "Prob(Omnibus):                  0.000   Jarque-Bera (JB):              458.095\n",
      "Skew:                           1.766   Prob(JB):                    3.36e-100\n",
      "Kurtosis:                      10.992   Cond. No.                     8.26e+06\n",
      "==============================================================================\n",
      "\n",
      "Warnings:\n",
      "[1] Standard Errors assume that the covariance matrix of the errors is correctly specified.\n",
      "[2] The condition number is large, 8.26e+06. This might indicate that there are\n",
      "strong multicollinearity or other numerical problems.\n"
     ]
    }
   ],
   "source": [
    "lr_superbowl_between = OLS(superbowl_Y_between, superbowl_X_between).fit()\n",
    "\n",
    "print(lr_superbowl_between.summary())"
   ]
  },
  {
   "cell_type": "code",
   "execution_count": 153,
   "metadata": {},
   "outputs": [
    {
     "name": "stdout",
     "output_type": "stream",
     "text": [
      "MSE for #superbowl between Feb.1 8:00 a.m. and Feb.1 8:00 p.m.: 11630855.203604735\n"
     ]
    }
   ],
   "source": [
    "superbowl_predict_between = lr_superbowl_between.predict(superbowl_X_between)\n",
    "superbowl_mse_between = tools.eval_measures.mse(superbowl_Y_between, superbowl_predict_between)\n",
    "\n",
    "print(\"MSE for #superbowl between Feb.1 8:00 a.m. and Feb.1 8:00 p.m.:\", superbowl_mse_between)"
   ]
  },
  {
   "cell_type": "code",
   "execution_count": 154,
   "metadata": {},
   "outputs": [
    {
     "name": "stdout",
     "output_type": "stream",
     "text": [
      "                            OLS Regression Results                            \n",
      "==============================================================================\n",
      "Dep. Variable:                      y   R-squared:                       0.932\n",
      "Model:                            OLS   Adj. R-squared:                  0.929\n",
      "Method:                 Least Squares   F-statistic:                     353.6\n",
      "Date:                Wed, 13 Mar 2019   Prob (F-statistic):           1.80e-73\n",
      "Time:                        14:27:31   Log-Likelihood:                -950.82\n",
      "No. Observations:                 134   AIC:                             1912.\n",
      "Df Residuals:                     129   BIC:                             1926.\n",
      "Df Model:                           5                                         \n",
      "Covariance Type:            nonrobust                                         \n",
      "==============================================================================\n",
      "                 coef    std err          t      P>|t|      [0.025      0.975]\n",
      "------------------------------------------------------------------------------\n",
      "x1             0.8397      0.084     10.028      0.000       0.674       1.005\n",
      "x2             0.0274      0.011      2.468      0.015       0.005       0.049\n",
      "x3          4.462e-07   4.29e-06      0.104      0.917   -8.04e-06    8.93e-06\n",
      "x4          1.177e-05   1.17e-05      1.008      0.316   -1.13e-05    3.49e-05\n",
      "x5            -1.4880      2.778     -0.536      0.593      -6.984       4.008\n",
      "==============================================================================\n",
      "Omnibus:                      114.412   Durbin-Watson:                   1.578\n",
      "Prob(Omnibus):                  0.000   Jarque-Bera (JB):             1516.934\n",
      "Skew:                           2.883   Prob(JB):                         0.00\n",
      "Kurtosis:                      18.441   Cond. No.                     2.24e+06\n",
      "==============================================================================\n",
      "\n",
      "Warnings:\n",
      "[1] Standard Errors assume that the covariance matrix of the errors is correctly specified.\n",
      "[2] The condition number is large, 2.24e+06. This might indicate that there are\n",
      "strong multicollinearity or other numerical problems.\n"
     ]
    }
   ],
   "source": [
    "lr_superbowl_after = OLS(superbowl_Y_after, superbowl_X_after).fit()\n",
    "\n",
    "print(lr_superbowl_after.summary())"
   ]
  },
  {
   "cell_type": "code",
   "execution_count": 155,
   "metadata": {},
   "outputs": [
    {
     "name": "stdout",
     "output_type": "stream",
     "text": [
      "MSE for #superbowl after Feb.1 8:00 p.m.: 85266.10420321378\n"
     ]
    }
   ],
   "source": [
    "superbowl_predict_after = lr_superbowl_after.predict(superbowl_X_after)\n",
    "superbowl_mse_after = tools.eval_measures.mse(superbowl_Y_after, superbowl_predict_after)\n",
    "\n",
    "print(\"MSE for #superbowl after Feb.1 8:00 p.m.:\", superbowl_mse_after)"
   ]
  },
  {
   "cell_type": "markdown",
   "metadata": {},
   "source": [
    "## Question 7"
   ]
  },
  {
   "cell_type": "markdown",
   "metadata": {},
   "source": [
    "Aggregate the data of all hashtags, and train 3 models for the same intervals in Question 6 to predict the number of tweets in the next time interval on the aggregated data."
   ]
  },
  {
   "cell_type": "code",
   "execution_count": 158,
   "metadata": {},
   "outputs": [],
   "source": [
    "# use the same features in Question 3\n",
    "\n",
    "def extract_feature_agg(filenames):\n",
    "    \n",
    "    max_time = 0\n",
    "    min_time = 2000000000\n",
    "    for filename in filenames:\n",
    "        if max_times[filename] > max_time:\n",
    "            max_time = max_times[filename]\n",
    "        if min_times[filename] < min_time:\n",
    "            min_time = min_times[filename]\n",
    "    \n",
    "    total_windows_before = round((key_time1_unix - min_time) / (60 * 60)) + 1\n",
    "    total_windows_between = round((key_time2_unix - key_time1_unix) / (60 * 5)) + 1\n",
    "    total_windows_after = round((max_time - key_time2_unix) / (60 * 60)) + 1\n",
    "\n",
    "    num_tweets = 0\n",
    "    num_retweets = 0\n",
    "    num_followers = 0\n",
    "    max_num_followers = 0\n",
    "    time_window_before = []\n",
    "    time_window_between = []\n",
    "    time_window_after = []\n",
    "    \n",
    "    for index in range(total_windows_before):\n",
    "        datetime_object_in_pst_timezone = datetime.datetime.fromtimestamp(min_time + index * 60 * 60, pst_tz)\n",
    "        time_of_day = datetime_object_in_pst_timezone.hour\n",
    "        time_window_before.append([num_tweets, num_retweets, num_followers, max_num_followers, time_of_day])\n",
    "\n",
    "    for index in range(total_windows_between):\n",
    "        datetime_object_in_pst_timezone = datetime.datetime.fromtimestamp(key_time1_unix + index * 60 * 5, pst_tz)\n",
    "        time_of_day = datetime_object_in_pst_timezone.hour\n",
    "        time_window_between.append([num_tweets, num_retweets, num_followers, max_num_followers, time_of_day])\n",
    "\n",
    "    for index in range(total_windows_after):\n",
    "        datetime_object_in_pst_timezone = datetime.datetime.fromtimestamp(key_time2_unix + index * 60 * 60, pst_tz)\n",
    "        time_of_day = datetime_object_in_pst_timezone.hour\n",
    "        time_window_after.append([num_tweets, num_retweets, num_followers, max_num_followers, time_of_day])\n",
    "    \n",
    "    for filename in filenames:\n",
    "        with open(filename, 'r') as file:\n",
    "            lines = file.readlines()\n",
    "\n",
    "            for line in lines:\n",
    "                json_obj = json.loads(line)\n",
    "                time = json_obj['citation_date']\n",
    "\n",
    "                if time < key_time1_unix:\n",
    "                    index = round((json_obj['citation_date'] - min_time) / (60 * 60))\n",
    "                    time_window_before[index][0] = time_window_before[index][0] + 1\n",
    "                    time_window_before[index][1] = time_window_before[index][1] + json_obj['metrics']['citations']['total']\n",
    "                    time_window_before[index][2] = time_window_before[index][2] + json_obj['author']['followers']\n",
    "                    time_window_before[index][3] = max(time_window_before[index][3], json_obj['author']['followers'])\n",
    "                elif time < key_time2_unix:\n",
    "                    index = round((json_obj['citation_date'] - key_time1_unix) / (60 * 5))\n",
    "                    time_window_between[index][0] = time_window_between[index][0] + 1\n",
    "                    time_window_between[index][1] = time_window_between[index][1] + json_obj['metrics']['citations']['total']\n",
    "                    time_window_between[index][2] = time_window_between[index][2] + json_obj['author']['followers']\n",
    "                    time_window_between[index][3] = max(time_window_between[index][3], json_obj['author']['followers'])\n",
    "                else:\n",
    "                    index = round((json_obj['citation_date'] - key_time2_unix) / (60 * 60))\n",
    "                    time_window_after[index][0] = time_window_after[index][0] + 1\n",
    "                    time_window_after[index][1] = time_window_after[index][1] + json_obj['metrics']['citations']['total']\n",
    "                    time_window_after[index][2] = time_window_after[index][2] + json_obj['author']['followers']\n",
    "                    time_window_after[index][3] = max(time_window_after[index][3], json_obj['author']['followers'])\n",
    "\n",
    "    return np.array(time_window_before), np.array(time_window_between), np.array(time_window_after)"
   ]
  },
  {
   "cell_type": "code",
   "execution_count": 159,
   "metadata": {},
   "outputs": [],
   "source": [
    "time_window_before_agg, time_window_between_agg, time_window_after_agg = extract_feature_agg(files)\n",
    "\n",
    "agg_X_before = time_window_before_agg[0:-1,:]\n",
    "agg_Y_before = time_window_before_agg[1:,0]\n",
    "\n",
    "agg_X_between = time_window_between_agg[0:-1,:]\n",
    "agg_Y_between = time_window_between_agg[1:,0]\n",
    "\n",
    "agg_X_after = time_window_after_agg[0:-1,:]\n",
    "agg_Y_after = time_window_after_agg[1:,0]"
   ]
  },
  {
   "cell_type": "code",
   "execution_count": 160,
   "metadata": {},
   "outputs": [
    {
     "name": "stdout",
     "output_type": "stream",
     "text": [
      "                            OLS Regression Results                            \n",
      "==============================================================================\n",
      "Dep. Variable:                      y   R-squared:                       0.509\n",
      "Model:                            OLS   Adj. R-squared:                  0.503\n",
      "Method:                 Least Squares   F-statistic:                     90.04\n",
      "Date:                Wed, 13 Mar 2019   Prob (F-statistic):           6.91e-65\n",
      "Time:                        15:14:35   Log-Likelihood:                -3999.9\n",
      "No. Observations:                 440   AIC:                             8010.\n",
      "Df Residuals:                     435   BIC:                             8030.\n",
      "Df Model:                           5                                         \n",
      "Covariance Type:            nonrobust                                         \n",
      "==============================================================================\n",
      "                 coef    std err          t      P>|t|      [0.025      0.975]\n",
      "------------------------------------------------------------------------------\n",
      "x1             0.9960      0.148      6.735      0.000       0.705       1.287\n",
      "x2            -0.2324      0.076     -3.063      0.002      -0.382      -0.083\n",
      "x3          1.714e-05   9.72e-06      1.764      0.078   -1.96e-06    3.62e-05\n",
      "x4          6.436e-05   5.84e-05      1.102      0.271   -5.04e-05       0.000\n",
      "x5            22.1722      9.825      2.257      0.025       2.863      41.482\n",
      "==============================================================================\n",
      "Omnibus:                      619.127   Durbin-Watson:                   2.289\n",
      "Prob(Omnibus):                  0.000   Jarque-Bera (JB):           210311.065\n",
      "Skew:                           6.833   Prob(JB):                         0.00\n",
      "Kurtosis:                     109.230   Cond. No.                     2.56e+06\n",
      "==============================================================================\n",
      "\n",
      "Warnings:\n",
      "[1] Standard Errors assume that the covariance matrix of the errors is correctly specified.\n",
      "[2] The condition number is large, 2.56e+06. This might indicate that there are\n",
      "strong multicollinearity or other numerical problems.\n"
     ]
    }
   ],
   "source": [
    "lr_agg_before = OLS(agg_Y_before, agg_X_before).fit()\n",
    "\n",
    "print(lr_agg_before.summary())"
   ]
  },
  {
   "cell_type": "code",
   "execution_count": 161,
   "metadata": {},
   "outputs": [
    {
     "name": "stdout",
     "output_type": "stream",
     "text": [
      "MSE for aggregated data before Feb.1 8:00 a.m.: 4609787.853991622\n"
     ]
    }
   ],
   "source": [
    "agg_predict_before = lr_agg_before.predict(agg_X_before)\n",
    "agg_mse_before = tools.eval_measures.mse(agg_Y_before, agg_predict_before)\n",
    "\n",
    "print(\"MSE for aggregated data before Feb.1 8:00 a.m.:\", agg_mse_before)"
   ]
  },
  {
   "cell_type": "code",
   "execution_count": 162,
   "metadata": {},
   "outputs": [
    {
     "name": "stdout",
     "output_type": "stream",
     "text": [
      "                            OLS Regression Results                            \n",
      "==============================================================================\n",
      "Dep. Variable:                      y   R-squared:                       0.904\n",
      "Model:                            OLS   Adj. R-squared:                  0.901\n",
      "Method:                 Least Squares   F-statistic:                     261.7\n",
      "Date:                Wed, 13 Mar 2019   Prob (F-statistic):           7.25e-69\n",
      "Time:                        15:14:48   Log-Likelihood:                -1442.3\n",
      "No. Observations:                 144   AIC:                             2895.\n",
      "Df Residuals:                     139   BIC:                             2910.\n",
      "Df Model:                           5                                         \n",
      "Covariance Type:            nonrobust                                         \n",
      "==============================================================================\n",
      "                 coef    std err          t      P>|t|      [0.025      0.975]\n",
      "------------------------------------------------------------------------------\n",
      "x1             0.8672      0.107      8.122      0.000       0.656       1.078\n",
      "x2            -0.0497      0.033     -1.487      0.139      -0.116       0.016\n",
      "x3          1.017e-05   1.37e-05      0.743      0.459   -1.69e-05    3.72e-05\n",
      "x4          1.797e-05   7.48e-05      0.240      0.810      -0.000       0.000\n",
      "x5           173.0706     76.919      2.250      0.026      20.987     325.154\n",
      "==============================================================================\n",
      "Omnibus:                       45.272   Durbin-Watson:                   2.522\n",
      "Prob(Omnibus):                  0.000   Jarque-Bera (JB):              157.012\n",
      "Skew:                           1.128   Prob(JB):                     8.04e-35\n",
      "Kurtosis:                       7.591   Cond. No.                     1.98e+07\n",
      "==============================================================================\n",
      "\n",
      "Warnings:\n",
      "[1] Standard Errors assume that the covariance matrix of the errors is correctly specified.\n",
      "[2] The condition number is large, 1.98e+07. This might indicate that there are\n",
      "strong multicollinearity or other numerical problems.\n"
     ]
    }
   ],
   "source": [
    "lr_agg_between = OLS(agg_Y_between, agg_X_between).fit()\n",
    "\n",
    "print(lr_agg_between.summary())"
   ]
  },
  {
   "cell_type": "code",
   "execution_count": 163,
   "metadata": {},
   "outputs": [
    {
     "name": "stdout",
     "output_type": "stream",
     "text": [
      "MSE for aggregated data between Feb.1 8:00 a.m. and Feb.1 8:00 p.m.: 29340842.713701054\n"
     ]
    }
   ],
   "source": [
    "agg_predict_between = lr_agg_between.predict(agg_X_between)\n",
    "agg_mse_between = tools.eval_measures.mse(agg_Y_between, agg_predict_between)\n",
    "\n",
    "print(\"MSE for aggregated data between Feb.1 8:00 a.m. and Feb.1 8:00 p.m.:\", agg_mse_between)"
   ]
  },
  {
   "cell_type": "code",
   "execution_count": 164,
   "metadata": {},
   "outputs": [
    {
     "name": "stdout",
     "output_type": "stream",
     "text": [
      "                            OLS Regression Results                            \n",
      "==============================================================================\n",
      "Dep. Variable:                      y   R-squared:                       0.944\n",
      "Model:                            OLS   Adj. R-squared:                  0.942\n",
      "Method:                 Least Squares   F-statistic:                     439.3\n",
      "Date:                Wed, 13 Mar 2019   Prob (F-statistic):           1.40e-79\n",
      "Time:                        15:15:18   Log-Likelihood:                -1063.1\n",
      "No. Observations:                 135   AIC:                             2136.\n",
      "Df Residuals:                     130   BIC:                             2151.\n",
      "Df Model:                           5                                         \n",
      "Covariance Type:            nonrobust                                         \n",
      "==============================================================================\n",
      "                 coef    std err          t      P>|t|      [0.025      0.975]\n",
      "------------------------------------------------------------------------------\n",
      "x1             0.4601      0.081      5.687      0.000       0.300       0.620\n",
      "x2             0.0431      0.009      4.929      0.000       0.026       0.060\n",
      "x3          2.332e-05   5.16e-06      4.524      0.000    1.31e-05    3.35e-05\n",
      "x4         -1.825e-05    1.9e-05     -0.959      0.339   -5.59e-05    1.94e-05\n",
      "x5             7.2530      6.425      1.129      0.261      -5.459      19.965\n",
      "==============================================================================\n",
      "Omnibus:                       27.326   Durbin-Watson:                   1.487\n",
      "Prob(Omnibus):                  0.000   Jarque-Bera (JB):              186.794\n",
      "Skew:                           0.306   Prob(JB):                     2.74e-41\n",
      "Kurtosis:                       8.730   Cond. No.                     4.59e+06\n",
      "==============================================================================\n",
      "\n",
      "Warnings:\n",
      "[1] Standard Errors assume that the covariance matrix of the errors is correctly specified.\n",
      "[2] The condition number is large, 4.59e+06. This might indicate that there are\n",
      "strong multicollinearity or other numerical problems.\n"
     ]
    }
   ],
   "source": [
    "lr_agg_after = OLS(agg_Y_after, agg_X_after).fit()\n",
    "\n",
    "print(lr_agg_after.summary())"
   ]
  },
  {
   "cell_type": "code",
   "execution_count": 165,
   "metadata": {},
   "outputs": [
    {
     "name": "stdout",
     "output_type": "stream",
     "text": [
      "MSE for aggregated data after Feb.1 8:00 p.m.: 404923.2727548294\n"
     ]
    }
   ],
   "source": [
    "agg_predict_after = lr_agg_after.predict(agg_X_after)\n",
    "agg_mse_after = tools.eval_measures.mse(agg_Y_after, agg_predict_after)\n",
    "\n",
    "print(\"MSE for aggregated data after Feb.1 8:00 p.m.:\", agg_mse_after)"
   ]
  },
  {
   "cell_type": "code",
   "execution_count": null,
   "metadata": {},
   "outputs": [],
   "source": []
  }
 ],
 "metadata": {
  "kernelspec": {
   "display_name": "Python 3",
   "language": "python",
   "name": "python3"
  },
  "language_info": {
   "codemirror_mode": {
    "name": "ipython",
    "version": 3
   },
   "file_extension": ".py",
   "mimetype": "text/x-python",
   "name": "python",
   "nbconvert_exporter": "python",
   "pygments_lexer": "ipython3",
   "version": "3.7.1"
  }
 },
 "nbformat": 4,
 "nbformat_minor": 2
}
