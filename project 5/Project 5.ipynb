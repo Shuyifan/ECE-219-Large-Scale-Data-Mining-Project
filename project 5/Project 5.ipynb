{
 "cells": [
  {
   "cell_type": "markdown",
   "metadata": {},
   "source": [
    "# Project 5: Application - Twitter data"
   ]
  },
  {
   "cell_type": "markdown",
   "metadata": {},
   "source": [
    "## Questionn 1:\n",
    "Report the following statistics for each hashtag, i.e. each file"
   ]
  },
  {
   "cell_type": "markdown",
   "metadata": {},
   "source": [
    "Have a look at the data"
   ]
  },
  {
   "cell_type": "code",
   "execution_count": 148,
   "metadata": {},
   "outputs": [],
   "source": [
    "import warnings\n",
    "warnings.filterwarnings('ignore')"
   ]
  },
  {
   "cell_type": "code",
   "execution_count": 3,
   "metadata": {},
   "outputs": [
    {
     "name": "stdout",
     "output_type": "stream",
     "text": [
      "firstpost_date\n",
      "title\n",
      "url\n",
      "tweet\n",
      "author\n",
      "original_author\n",
      "citation_date\n",
      "metrics\n",
      "highlight\n",
      "type\n",
      "citation_url\n",
      "----------------------------------------\n",
      "firstpost_date:\n",
      "1419804875\n",
      "----------------------------------------\n",
      "title:\n",
      "I &lt;3 our defense! #GoHawks http://t.co/U1pcXpEsR8\n",
      "----------------------------------------\n",
      "url:\n",
      "http://twitter.com/Mich_Fit/status/549327579782840320\n",
      "----------------------------------------\n",
      "tweet:\n",
      "{'contributors': None, 'truncated': False, 'text': 'I &lt;3 our defense! #GoHawks http://t.co/U1pcXpEsR8', 'in_reply_to_status_id': None, 'id': 549327579782840320, 'favorite_count': 1, 'source': '<a href=\"http://twitter.com\" rel=\"nofollow\">Twitter Web Client</a>', 'retweeted': False, 'coordinates': None, 'entities': {'symbols': [], 'media': [{'expanded_url': 'http://twitter.com/Mich_Fit/status/549327579782840320/photo/1', 'sizes': {'large': {'h': 511, 'resize': 'fit', 'w': 511}, 'small': {'h': 340, 'resize': 'fit', 'w': 340}, 'medium': {'h': 511, 'resize': 'fit', 'w': 511}, 'thumb': {'h': 150, 'resize': 'crop', 'w': 150}}, 'url': 'http://t.co/U1pcXpEsR8', 'media_url_https': 'https://pbs.twimg.com/media/B5-aheMIcAAqGtA.jpg', 'id_str': '549327579392798720', 'indices': [30, 52], 'media_url': 'http://pbs.twimg.com/media/B5-aheMIcAAqGtA.jpg', 'type': 'photo', 'id': 549327579392798720, 'display_url': 'pic.twitter.com/U1pcXpEsR8'}], 'hashtags': [{'indices': [21, 29], 'text': 'GoHawks'}], 'user_mentions': [], 'trends': [], 'urls': []}, 'in_reply_to_screen_name': None, 'in_reply_to_user_id': None, 'retweet_count': 2, 'id_str': '549327579782840320', 'favorited': False, 'user': {'follow_request_sent': None, 'profile_use_background_image': True, 'geo_enabled': True, 'description': 'Food, Fitness, Football                                    #EatClean #FitFam #GoHawks', 'verified': False, 'profile_image_url_https': 'https://pbs.twimg.com/profile_images/547474027204591617/kgP4YJMW_normal.jpeg', 'profile_sidebar_fill_color': 'DDEEF6', 'is_translator': False, 'id': 749230320, 'profile_text_color': '333333', 'followers_count': 2318, 'profile_sidebar_border_color': 'C0DEED', 'id_str': '749230320', 'default_profile_image': False, 'location': 'Ontario', 'utc_offset': None, 'statuses_count': 12477, 'profile_background_color': 'C0DEED', 'friends_count': 2025, 'profile_link_color': '0084B4', 'profile_image_url': 'http://pbs.twimg.com/profile_images/547474027204591617/kgP4YJMW_normal.jpeg', 'notifications': None, 'profile_background_image_url_https': 'https://abs.twimg.com/images/themes/theme1/bg.png', 'profile_banner_url': 'https://pbs.twimg.com/profile_banners/749230320/1413579075', 'profile_background_image_url': 'http://abs.twimg.com/images/themes/theme1/bg.png', 'name': 'Michelle', 'lang': 'en', 'profile_background_tile': False, 'favourites_count': 9490, 'screen_name': 'Mich_Fit', 'url': None, 'created_at': 'Fri Aug 10 12:00:57 +0000 2012', 'contributors_enabled': False, 'time_zone': None, 'protected': False, 'default_profile': True, 'following': None, 'listed_count': 32}, 'geo': None, 'in_reply_to_user_id_str': None, 'possibly_sensitive': False, 'lang': 'en', 'created_at': 'Sun Dec 28 22:14:35 +0000 2014', 'filter_level': 'low', 'in_reply_to_status_id_str': None, 'place': None, 'extended_entities': {'media': [{'expanded_url': 'http://twitter.com/Mich_Fit/status/549327579782840320/photo/1', 'sizes': {'large': {'h': 511, 'resize': 'fit', 'w': 511}, 'small': {'h': 340, 'resize': 'fit', 'w': 340}, 'medium': {'h': 511, 'resize': 'fit', 'w': 511}, 'thumb': {'h': 150, 'resize': 'crop', 'w': 150}}, 'url': 'http://t.co/U1pcXpEsR8', 'media_url_https': 'https://pbs.twimg.com/media/B5-aheMIcAAqGtA.jpg', 'id_str': '549327579392798720', 'indices': [30, 52], 'media_url': 'http://pbs.twimg.com/media/B5-aheMIcAAqGtA.jpg', 'type': 'photo', 'id': 549327579392798720, 'display_url': 'pic.twitter.com/U1pcXpEsR8'}]}}\n",
      "----------------------------------------\n",
      "author:\n",
      "{'author_img': 'http://pbs.twimg.com/profile_images/561716455155064833/XGrpP4Rl_normal.jpeg', 'name': 'RJ', 'url': 'http://twitter.com/rejinseattle', 'nick': 'rejinseattle', 'followers': 1752.0, 'image_url': 'http://pbs.twimg.com/profile_images/561716455155064833/XGrpP4Rl_normal.jpeg', 'type': 'twitter', 'description': 'Married to my best friend... You-make me laugh and occasionally think... I-will let you in on some of the crazy shit that consumes my thoughts...'}\n",
      "----------------------------------------\n",
      "original_author:\n",
      "{'author_img': 'http://pbs.twimg.com/profile_images/547474027204591617/kgP4YJMW_normal.jpeg', 'description': 'Food, Fitness, Football                                    #EatClean #FitFam #GoHawks', 'url': 'http://twitter.com/mich_fit', 'nick': 'mich_fit', 'followers': 2534.0, 'image_url': 'http://pbs.twimg.com/profile_images/547474027204591617/kgP4YJMW_normal.jpeg', 'type': 'twitter', 'influence_level': 0.0, 'name': 'Michelle'}\n",
      "----------------------------------------\n",
      "citation_date:\n",
      "1421518778\n",
      "----------------------------------------\n",
      "metrics:\n",
      "{'acceleration': 0, 'ranking_score': 4.7437034, 'citations': {'influential': 0, 'total': 5, 'data': [{'timestamp': 1421518739, 'citations': 1}], 'matching': 1, 'replies': 0}, 'peak': 1421518799, 'impressions': 1754, 'momentum': 1}\n",
      "----------------------------------------\n",
      "highlight:\n",
      "I &lt;3 our defense! #GoHawks http://t.co/U1pcXpEsR8\n",
      "----------------------------------------\n",
      "type:\n",
      "retweet:native\n",
      "----------------------------------------\n",
      "citation_url:\n",
      "http://twitter.com/REJinseattle/status/556516209261166593\n",
      "----------------------------------------\n"
     ]
    }
   ],
   "source": [
    "import json\n",
    "\n",
    "files = [\"ECE219_tweet_data/tweets_#gohawks.txt\",\n",
    "         \"ECE219_tweet_data/tweets_#gopatriots.txt\",\n",
    "         \"ECE219_tweet_data/tweets_#nfl.txt\",\n",
    "         \"ECE219_tweet_data/tweets_#patriots.txt\",\n",
    "         \"ECE219_tweet_data/tweets_#sb49.txt\",\n",
    "         \"ECE219_tweet_data/tweets_#superbowl.txt\"]\n",
    "\n",
    "with open(files[0], 'r') as file:\n",
    "    first_line = file.readline()\n",
    "    json_obj = json.loads(first_line)\n",
    "    for key in json_obj:\n",
    "        print(key)\n",
    "    print('-' * 40)\n",
    "    for key in json_obj:\n",
    "        print(key + ':')\n",
    "        print(json_obj[key])\n",
    "        print('-' * 40)"
   ]
  },
  {
   "cell_type": "code",
   "execution_count": 4,
   "metadata": {},
   "outputs": [],
   "source": [
    "max_times = {\"ECE219_tweet_data/tweets_#gohawks.txt\": 0,\n",
    "             \"ECE219_tweet_data/tweets_#gopatriots.txt\": 0,\n",
    "             \"ECE219_tweet_data/tweets_#nfl.txt\": 0,\n",
    "             \"ECE219_tweet_data/tweets_#patriots.txt\": 0,\n",
    "             \"ECE219_tweet_data/tweets_#sb49.txt\": 0,\n",
    "             \"ECE219_tweet_data/tweets_#superbowl.txt\": 0}\n",
    "\n",
    "min_times = {\"ECE219_tweet_data/tweets_#gohawks.txt\": 0,\n",
    "             \"ECE219_tweet_data/tweets_#gopatriots.txt\": 0,\n",
    "             \"ECE219_tweet_data/tweets_#nfl.txt\": 0,\n",
    "             \"ECE219_tweet_data/tweets_#patriots.txt\": 0,\n",
    "             \"ECE219_tweet_data/tweets_#sb49.txt\": 0,\n",
    "             \"ECE219_tweet_data/tweets_#superbowl.txt\": 0}"
   ]
  },
  {
   "cell_type": "code",
   "execution_count": 5,
   "metadata": {},
   "outputs": [],
   "source": [
    "# helper funtion to report statistics for one file\n",
    "# at the same time get max and min times for each file\n",
    "\n",
    "def report_statistics(filename):\n",
    "    with open(filename, 'r') as file:\n",
    "        lines = file.readlines()\n",
    "        max_time = 0\n",
    "        min_time = 2000000000\n",
    "        total_followers = 0\n",
    "        total_retweets = 0\n",
    "        for line in lines:\n",
    "            json_obj = json.loads(line)\n",
    "            if(json_obj['citation_date'] > max_time):\n",
    "                max_time = json_obj['citation_date']\n",
    "            if(json_obj['citation_date'] < min_time):\n",
    "                min_time = json_obj['citation_date']\n",
    "                \n",
    "            total_followers = total_followers + json_obj['author']['followers']\n",
    "            \n",
    "            total_retweets = total_retweets + json_obj['metrics']['citations']['total']\n",
    "                \n",
    "        avg_tweets_per_hour = len(lines) / (max_time - min_time) * 60 * 60\n",
    "        avg_followers_per_tweet = total_followers / len(lines)\n",
    "        avg_retweets_per_tweet = total_retweets / len(lines)\n",
    "        \n",
    "        max_times[filename] = max_time\n",
    "        min_times[filename] = min_time\n",
    "        \n",
    "    print('-' * 40)\n",
    "    print(filename)\n",
    "    print(\"Average number of tweets per hour:\")\n",
    "    print(avg_tweets_per_hour)\n",
    "    \n",
    "    print(\"Average number of followers per tweet:\")\n",
    "    print(avg_followers_per_tweet)\n",
    "    \n",
    "    print(\"Average number of retweets per tweet:\")\n",
    "    print(avg_retweets_per_tweet)"
   ]
  },
  {
   "cell_type": "markdown",
   "metadata": {},
   "source": [
    "- Average number of tweets per hour\n",
    "- Average number of followers of users posting the tweets per tweet\n",
    "- Average number of retweets per tweet"
   ]
  },
  {
   "cell_type": "code",
   "execution_count": 6,
   "metadata": {},
   "outputs": [
    {
     "name": "stdout",
     "output_type": "stream",
     "text": [
      "----------------------------------------\n",
      "ECE219_tweet_data/tweets_#gohawks.txt\n",
      "Average number of tweets per hour:\n",
      "292.48785062173687\n",
      "Average number of followers per tweet:\n",
      "2217.9237355281984\n",
      "Average number of retweets per tweet:\n",
      "2.0132093991319877\n",
      "----------------------------------------\n",
      "ECE219_tweet_data/tweets_#gopatriots.txt\n",
      "Average number of tweets per hour:\n",
      "40.954698006061946\n",
      "Average number of followers per tweet:\n",
      "1427.2526051635405\n",
      "Average number of retweets per tweet:\n",
      "1.4081919101697078\n",
      "----------------------------------------\n",
      "ECE219_tweet_data/tweets_#nfl.txt\n",
      "Average number of tweets per hour:\n",
      "397.0213901819841\n",
      "Average number of followers per tweet:\n",
      "4662.37544523693\n",
      "Average number of retweets per tweet:\n",
      "1.5344602655543254\n",
      "----------------------------------------\n",
      "ECE219_tweet_data/tweets_#patriots.txt\n",
      "Average number of tweets per hour:\n",
      "750.89426460689\n",
      "Average number of followers per tweet:\n",
      "3280.4635616550277\n",
      "Average number of retweets per tweet:\n",
      "1.7852871288476946\n",
      "----------------------------------------\n",
      "ECE219_tweet_data/tweets_#sb49.txt\n",
      "Average number of tweets per hour:\n",
      "1276.8570598680474\n",
      "Average number of followers per tweet:\n",
      "10374.160292019487\n",
      "Average number of retweets per tweet:\n",
      "2.52713444111402\n",
      "----------------------------------------\n",
      "ECE219_tweet_data/tweets_#superbowl.txt\n",
      "Average number of tweets per hour:\n",
      "2072.11840170408\n",
      "Average number of followers per tweet:\n",
      "8814.96799424623\n",
      "Average number of retweets per tweet:\n",
      "2.3911895819207736\n"
     ]
    }
   ],
   "source": [
    "for file in files:\n",
    "    report_statistics(file)"
   ]
  },
  {
   "cell_type": "markdown",
   "metadata": {},
   "source": [
    "## Question 2:\n",
    "Plot \"number of tweets in hour\" over time for #SuperBowl and #NFL (a histogram with 1-hour bins)"
   ]
  },
  {
   "cell_type": "code",
   "execution_count": 7,
   "metadata": {},
   "outputs": [],
   "source": [
    "import math as mt\n",
    "\n",
    "def get_num_in_hour(filename):\n",
    "    with open(filename, 'r') as file:\n",
    "        lines = file.readlines()\n",
    "        \n",
    "        max_time = max_times[filename]\n",
    "        min_time = min_times[filename]\n",
    "\n",
    "        total_hours = mt.floor((max_time - min_time) / (60 * 60)) + 1\n",
    "        X = range(total_hours)\n",
    "        Y = [0] * total_hours\n",
    "\n",
    "        for line in lines:\n",
    "            json_obj = json.loads(line)\n",
    "            index = mt.floor((json_obj['citation_date'] - min_time) / (60 * 60))\n",
    "            Y[index] = Y[index] + 1\n",
    "            \n",
    "        return X, Y"
   ]
  },
  {
   "cell_type": "code",
   "execution_count": 8,
   "metadata": {},
   "outputs": [],
   "source": [
    "import matplotlib.pyplot as plt\n",
    "%matplotlib inline\n",
    "\n",
    "def plot_num_in_hour(X, Y, name):\n",
    "    plt.figure(figsize=(10,6))\n",
    "    plt.bar(X, Y, width=X[1]-X[0])\n",
    "    plt.xlabel('Hours over time')\n",
    "    plt.ylabel('Number of tweets')\n",
    "    plt.title('number of tweets in hours for ' + name)"
   ]
  },
  {
   "cell_type": "markdown",
   "metadata": {},
   "source": [
    "### SuperBowl"
   ]
  },
  {
   "cell_type": "code",
   "execution_count": 9,
   "metadata": {},
   "outputs": [],
   "source": [
    "SuperBowl_X, SuperBowl_Y = get_num_in_hour(files[5])"
   ]
  },
  {
   "cell_type": "code",
   "execution_count": 10,
   "metadata": {},
   "outputs": [
    {
     "data": {
      "image/png": "[encoded data removed]",
      "text/plain": [
       "<Figure size 720x432 with 1 Axes>"
      ]
     },
     "metadata": {
      "needs_background": "light"
     },
     "output_type": "display_data"
    }
   ],
   "source": [
    "plot_num_in_hour(SuperBowl_X, SuperBowl_Y, \"#SuperBowl\")"
   ]
  },
  {
   "cell_type": "markdown",
   "metadata": {},
   "source": [
    "### NFL"
   ]
  },
  {
   "cell_type": "code",
   "execution_count": 11,
   "metadata": {},
   "outputs": [],
   "source": [
    "NFL_X, NFL_Y = get_num_in_hour(files[2])"
   ]
  },
  {
   "cell_type": "code",
   "execution_count": 12,
   "metadata": {},
   "outputs": [
    {
     "data": {
      "image/png": "[encoded data removed]",
      "text/plain": [
       "<Figure size 720x432 with 1 Axes>"
      ]
     },
     "metadata": {
      "needs_background": "light"
     },
     "output_type": "display_data"
    }
   ],
   "source": [
    "plot_num_in_hour(NFL_X, NFL_Y, \"#NFL\")"
   ]
  },
  {
   "cell_type": "markdown",
   "metadata": {},
   "source": [
    "## Question 3:\n",
    "For each hashtag, train a linear regression model. For each model, report the model's Mean Squared Error (MSE) and R-squared mesure. Also, analyze the significance of each feature using t-test and p-value."
   ]
  },
  {
   "cell_type": "code",
   "execution_count": 13,
   "metadata": {},
   "outputs": [],
   "source": [
    "import datetime\n",
    "import pytz\n",
    "import numpy as np\n",
    "\n",
    "pst_tz = pytz.timezone('America/Los_Angeles')\n",
    "\n",
    "def extract_feature(filename):\n",
    "    with open(filename, 'r') as file:\n",
    "        lines = file.readlines()\n",
    "        max_time = max_times[filename]\n",
    "        min_time = min_times[filename]\n",
    "        \n",
    "        total_hours = mt.floor((max_time - min_time) / (60 * 60)) + 1\n",
    "        \n",
    "        num_tweets = 0\n",
    "        num_retweets = 0\n",
    "        num_followers = 0\n",
    "        max_num_followers = 0\n",
    "        time_windows = []\n",
    "        \n",
    "        for hour in range(total_hours):\n",
    "            datetime_object_in_pst_timezone = datetime.datetime.fromtimestamp(min_time + hour * 60 * 60, pst_tz)\n",
    "            time_of_day = datetime_object_in_pst_timezone.hour\n",
    "            time_windows.append([num_tweets, num_retweets, num_followers, max_num_followers, time_of_day])\n",
    "            \n",
    "        for line in lines:\n",
    "            json_obj = json.loads(line)\n",
    "            index = mt.floor((json_obj['citation_date'] - min_time) / (60 * 60))\n",
    "            time_windows[index][0] = time_windows[index][0] + 1 # update num_tweets\n",
    "            time_windows[index][1] = time_windows[index][1] + json_obj['metrics']['citations']['total'] # update num_retweets  \n",
    "            time_windows[index][2] = time_windows[index][2] + json_obj['author']['followers'] # update num_followers\n",
    "            time_windows[index][3] = max(time_windows[index][3], json_obj['author']['followers']) # update max_num_followers\n",
    "            \n",
    "        return np.array(time_windows)"
   ]
  },
  {
   "cell_type": "markdown",
   "metadata": {},
   "source": [
    "### Gohawks"
   ]
  },
  {
   "cell_type": "code",
   "execution_count": 15,
   "metadata": {},
   "outputs": [],
   "source": [
    "time_windows_gohawks = extract_feature(files[0])\n",
    "\n",
    "gohawks_X = time_windows_gohawks[0:-1,:]\n",
    "gohawks_Y = time_windows_gohawks[1:,0]"
   ]
  },
  {
   "cell_type": "code",
   "execution_count": 17,
   "metadata": {},
   "outputs": [
    {
     "name": "stdout",
     "output_type": "stream",
     "text": [
      "                            OLS Regression Results                            \n",
      "==============================================================================\n",
      "Dep. Variable:                      y   R-squared:                       0.709\n",
      "Model:                            OLS   Adj. R-squared:                  0.707\n",
      "Method:                 Least Squares   F-statistic:                     279.5\n",
      "Date:                Wed, 13 Mar 2019   Prob (F-statistic):          4.57e-151\n",
      "Time:                        00:03:53   Log-Likelihood:                -4540.0\n",
      "No. Observations:                 578   AIC:                             9090.\n",
      "Df Residuals:                     573   BIC:                             9112.\n",
      "Df Model:                           5                                         \n",
      "Covariance Type:            nonrobust                                         \n",
      "==============================================================================\n",
      "                 coef    std err          t      P>|t|      [0.025      0.975]\n",
      "------------------------------------------------------------------------------\n",
      "x1             1.1645      0.119      9.748      0.000       0.930       1.399\n",
      "x2            -0.0810      0.033     -2.435      0.015      -0.146      -0.016\n",
      "x3            -0.0001   6.24e-05     -1.725      0.085      -0.000    1.49e-05\n",
      "x4          4.212e-05      0.000      0.348      0.728      -0.000       0.000\n",
      "x5             3.8362      2.141      1.792      0.074      -0.369       8.042\n",
      "==============================================================================\n",
      "Omnibus:                      632.026   Durbin-Watson:                   1.864\n",
      "Prob(Omnibus):                  0.000   Jarque-Bera (JB):           222979.332\n",
      "Skew:                           4.342   Prob(JB):                         0.00\n",
      "Kurtosis:                      98.829   Cond. No.                     2.02e+05\n",
      "==============================================================================\n",
      "\n",
      "Warnings:\n",
      "[1] Standard Errors assume that the covariance matrix of the errors is correctly specified.\n",
      "[2] The condition number is large, 2.02e+05. This might indicate that there are\n",
      "strong multicollinearity or other numerical problems.\n"
     ]
    }
   ],
   "source": [
    "from statsmodels.api import OLS\n",
    "\n",
    "lr_gohawks = OLS(gohawks_Y, gohawks_X).fit()\n",
    "\n",
    "print(lr_gohawks.summary())"
   ]
  },
  {
   "cell_type": "code",
   "execution_count": 18,
   "metadata": {},
   "outputs": [
    {
     "name": "stdout",
     "output_type": "stream",
     "text": [
      "MSE for #gohawks: 389086.61457122036\n"
     ]
    }
   ],
   "source": [
    "from statsmodels.api import tools\n",
    "gohawks_predict = lr_gohawks.predict(gohawks_X)\n",
    "gohawks_mse = tools.eval_measures.mse(gohawks_Y, gohawks_predict)\n",
    "\n",
    "print(\"MSE for #gohawks:\", gohawks_mse)"
   ]
  },
  {
   "cell_type": "markdown",
   "metadata": {},
   "source": [
    "### Gopatriots"
   ]
  },
  {
   "cell_type": "code",
   "execution_count": 19,
   "metadata": {},
   "outputs": [],
   "source": [
    "time_windows_gopatriots = extract_feature(files[1])\n",
    "\n",
    "gopatriots_X = time_windows_gopatriots[0:-1,:]\n",
    "gopatriots_Y = time_windows_gopatriots[1:,0]"
   ]
  },
  {
   "cell_type": "code",
   "execution_count": 20,
   "metadata": {},
   "outputs": [
    {
     "name": "stdout",
     "output_type": "stream",
     "text": [
      "                            OLS Regression Results                            \n",
      "==============================================================================\n",
      "Dep. Variable:                      y   R-squared:                       0.454\n",
      "Model:                            OLS   Adj. R-squared:                  0.449\n",
      "Method:                 Least Squares   F-statistic:                     94.54\n",
      "Date:                Wed, 13 Mar 2019   Prob (F-statistic):           2.14e-72\n",
      "Time:                        14:27:56   Log-Likelihood:                -3905.5\n",
      "No. Observations:                 574   AIC:                             7821.\n",
      "Df Residuals:                     569   BIC:                             7843.\n",
      "Df Model:                           5                                         \n",
      "Covariance Type:            nonrobust                                         \n",
      "==============================================================================\n",
      "                 coef    std err          t      P>|t|      [0.025      0.975]\n",
      "------------------------------------------------------------------------------\n",
      "x1            -1.5580      0.298     -5.227      0.000      -2.143      -0.973\n",
      "x2             1.6997      0.245      6.948      0.000       1.219       2.180\n",
      "x3             0.0001      0.000      0.581      0.561      -0.000       0.001\n",
      "x4            -0.0004      0.000     -1.870      0.062      -0.001    1.92e-05\n",
      "x5             0.4805      0.706      0.680      0.497      -0.907       1.868\n",
      "==============================================================================\n",
      "Omnibus:                     1021.072   Durbin-Watson:                   2.438\n",
      "Prob(Omnibus):                  0.000   Jarque-Bera (JB):          1171508.631\n",
      "Skew:                          11.011   Prob(JB):                         0.00\n",
      "Kurtosis:                     223.223   Cond. No.                     3.11e+04\n",
      "==============================================================================\n",
      "\n",
      "Warnings:\n",
      "[1] Standard Errors assume that the covariance matrix of the errors is correctly specified.\n",
      "[2] The condition number is large, 3.11e+04. This might indicate that there are\n",
      "strong multicollinearity or other numerical problems.\n"
     ]
    }
   ],
   "source": [
    "lr_gopatriots = OLS(gopatriots_Y, gopatriots_X).fit()\n",
    "\n",
    "print(lr_gopatriots.summary())"
   ]
  },
  {
   "cell_type": "code",
   "execution_count": 21,
   "metadata": {},
   "outputs": [
    {
     "name": "stdout",
     "output_type": "stream",
     "text": [
      "MSE for #gopatriots: 47576.18894248635\n"
     ]
    }
   ],
   "source": [
    "gopatriots_predict = lr_gopatriots.predict(gopatriots_X)\n",
    "gopatriots_mse = tools.eval_measures.mse(gopatriots_Y, gopatriots_predict)\n",
    "\n",
    "print(\"MSE for #gopatriots:\", gopatriots_mse)"
   ]
  },
  {
   "cell_type": "markdown",
   "metadata": {},
   "source": [
    "### NFL"
   ]
  },
  {
   "cell_type": "code",
   "execution_count": 22,
   "metadata": {},
   "outputs": [],
   "source": [
    "time_windows_nfl = extract_feature(files[2])\n",
    "\n",
    "nfl_X = time_windows_nfl[0:-1,:]\n",
    "nfl_Y = time_windows_nfl[1:,0]"
   ]
  },
  {
   "cell_type": "code",
   "execution_count": 23,
   "metadata": {},
   "outputs": [
    {
     "name": "stdout",
     "output_type": "stream",
     "text": [
      "                            OLS Regression Results                            \n",
      "==============================================================================\n",
      "Dep. Variable:                      y   R-squared:                       0.730\n",
      "Model:                            OLS   Adj. R-squared:                  0.728\n",
      "Method:                 Least Squares   F-statistic:                     315.4\n",
      "Date:                Wed, 13 Mar 2019   Prob (F-statistic):          5.03e-163\n",
      "Time:                        14:29:05   Log-Likelihood:                -4428.3\n",
      "No. Observations:                 587   AIC:                             8867.\n",
      "Df Residuals:                     582   BIC:                             8889.\n",
      "Df Model:                           5                                         \n",
      "Covariance Type:            nonrobust                                         \n",
      "==============================================================================\n",
      "                 coef    std err          t      P>|t|      [0.025      0.975]\n",
      "------------------------------------------------------------------------------\n",
      "x1             0.4814      0.114      4.208      0.000       0.257       0.706\n",
      "x2            -0.2327      0.060     -3.878      0.000      -0.351      -0.115\n",
      "x3             0.0002   1.84e-05     10.041      0.000       0.000       0.000\n",
      "x4            -0.0002   2.92e-05     -7.865      0.000      -0.000      -0.000\n",
      "x5             8.6207      1.711      5.040      0.000       5.261      11.980\n",
      "==============================================================================\n",
      "Omnibus:                      549.091   Durbin-Watson:                   2.070\n",
      "Prob(Omnibus):                  0.000   Jarque-Bera (JB):           149763.175\n",
      "Skew:                           3.321   Prob(JB):                         0.00\n",
      "Kurtosis:                      80.968   Cond. No.                     3.90e+05\n",
      "==============================================================================\n",
      "\n",
      "Warnings:\n",
      "[1] Standard Errors assume that the covariance matrix of the errors is correctly specified.\n",
      "[2] The condition number is large, 3.9e+05. This might indicate that there are\n",
      "strong multicollinearity or other numerical problems.\n"
     ]
    }
   ],
   "source": [
    "lr_nfl = OLS(nfl_Y, nfl_X).fit()\n",
    "\n",
    "print(lr_nfl.summary())"
   ]
  },
  {
   "cell_type": "code",
   "execution_count": 24,
   "metadata": {},
   "outputs": [
    {
     "name": "stdout",
     "output_type": "stream",
     "text": [
      "MSE for #nfl: 209013.32224435598\n"
     ]
    }
   ],
   "source": [
    "nfl_predict = lr_nfl.predict(nfl_X)\n",
    "nfl_mse = tools.eval_measures.mse(nfl_Y, nfl_predict)\n",
    "\n",
    "print(\"MSE for #nfl:\", nfl_mse)"
   ]
  },
  {
   "cell_type": "markdown",
   "metadata": {},
   "source": [
    "### Patriots"
   ]
  },
  {
   "cell_type": "code",
   "execution_count": 25,
   "metadata": {},
   "outputs": [],
   "source": [
    "time_windows_patriots = extract_feature(files[3])\n",
    "\n",
    "patriots_X = time_windows_patriots[0:-1,:]\n",
    "patriots_Y = time_windows_patriots[1:,0]"
   ]
  },
  {
   "cell_type": "code",
   "execution_count": 26,
   "metadata": {},
   "outputs": [
    {
     "name": "stdout",
     "output_type": "stream",
     "text": [
      "                            OLS Regression Results                            \n",
      "==============================================================================\n",
      "Dep. Variable:                      y   R-squared:                       0.667\n",
      "Model:                            OLS   Adj. R-squared:                  0.664\n",
      "Method:                 Least Squares   F-statistic:                     232.8\n",
      "Date:                Wed, 13 Mar 2019   Prob (F-statistic):          2.92e-136\n",
      "Time:                        14:29:58   Log-Likelihood:                -5386.3\n",
      "No. Observations:                 587   AIC:                         1.078e+04\n",
      "Df Residuals:                     582   BIC:                         1.080e+04\n",
      "Df Model:                           5                                         \n",
      "Covariance Type:            nonrobust                                         \n",
      "==============================================================================\n",
      "                 coef    std err          t      P>|t|      [0.025      0.975]\n",
      "------------------------------------------------------------------------------\n",
      "x1             1.0036      0.085     11.838      0.000       0.837       1.170\n",
      "x2            -0.0650      0.072     -0.905      0.366      -0.206       0.076\n",
      "x3         -7.396e-05   2.79e-05     -2.648      0.008      -0.000   -1.91e-05\n",
      "x4          8.715e-05   9.37e-05      0.930      0.353   -9.69e-05       0.000\n",
      "x5            14.0915      8.101      1.739      0.082      -1.820      30.003\n",
      "==============================================================================\n",
      "Omnibus:                      917.929   Durbin-Watson:                   2.080\n",
      "Prob(Omnibus):                  0.000   Jarque-Bera (JB):           498211.103\n",
      "Skew:                           8.677   Prob(JB):                         0.00\n",
      "Kurtosis:                     144.664   Cond. No.                     7.01e+05\n",
      "==============================================================================\n",
      "\n",
      "Warnings:\n",
      "[1] Standard Errors assume that the covariance matrix of the errors is correctly specified.\n",
      "[2] The condition number is large, 7.01e+05. This might indicate that there are\n",
      "strong multicollinearity or other numerical problems.\n"
     ]
    }
   ],
   "source": [
    "lr_patriots = OLS(patriots_Y, patriots_X).fit()\n",
    "\n",
    "print(lr_patriots.summary())"
   ]
  },
  {
   "cell_type": "code",
   "execution_count": 27,
   "metadata": {},
   "outputs": [
    {
     "name": "stdout",
     "output_type": "stream",
     "text": [
      "MSE for #patriots: 5466476.769326251\n"
     ]
    }
   ],
   "source": [
    "patriots_predict = lr_patriots.predict(patriots_X)\n",
    "patriots_mse = tools.eval_measures.mse(patriots_Y, patriots_predict)\n",
    "\n",
    "print(\"MSE for #patriots:\", patriots_mse)"
   ]
  },
  {
   "cell_type": "markdown",
   "metadata": {},
   "source": [
    "### sb49"
   ]
  },
  {
   "cell_type": "code",
   "execution_count": 28,
   "metadata": {},
   "outputs": [],
   "source": [
    "time_windows_sb49 = extract_feature(files[4])\n",
    "\n",
    "sb49_X = time_windows_sb49[0:-1,:]\n",
    "sb49_Y = time_windows_sb49[1:,0]"
   ]
  },
  {
   "cell_type": "code",
   "execution_count": 29,
   "metadata": {},
   "outputs": [
    {
     "name": "stdout",
     "output_type": "stream",
     "text": [
      "                            OLS Regression Results                            \n",
      "==============================================================================\n",
      "Dep. Variable:                      y   R-squared:                       0.805\n",
      "Model:                            OLS   Adj. R-squared:                  0.803\n",
      "Method:                 Least Squares   F-statistic:                     475.2\n",
      "Date:                Wed, 13 Mar 2019   Prob (F-statistic):          7.28e-202\n",
      "Time:                        14:30:50   Log-Likelihood:                -5662.4\n",
      "No. Observations:                 582   AIC:                         1.133e+04\n",
      "Df Residuals:                     577   BIC:                         1.136e+04\n",
      "Df Model:                           5                                         \n",
      "Covariance Type:            nonrobust                                         \n",
      "==============================================================================\n",
      "                 coef    std err          t      P>|t|      [0.025      0.975]\n",
      "------------------------------------------------------------------------------\n",
      "x1             1.0912      0.088     12.395      0.000       0.918       1.264\n",
      "x2            -0.1125      0.079     -1.433      0.152      -0.267       0.042\n",
      "x3          2.786e-06   1.24e-05      0.225      0.822   -2.15e-05    2.71e-05\n",
      "x4          6.725e-05   4.28e-05      1.570      0.117   -1.69e-05       0.000\n",
      "x5             0.5488     13.851      0.040      0.968     -26.655      27.753\n",
      "==============================================================================\n",
      "Omnibus:                     1184.527   Durbin-Watson:                   1.678\n",
      "Prob(Omnibus):                  0.000   Jarque-Bera (JB):          2245389.731\n",
      "Skew:                          14.729   Prob(JB):                         0.00\n",
      "Kurtosis:                     305.862   Cond. No.                     6.48e+06\n",
      "==============================================================================\n",
      "\n",
      "Warnings:\n",
      "[1] Standard Errors assume that the covariance matrix of the errors is correctly specified.\n",
      "[2] The condition number is large, 6.48e+06. This might indicate that there are\n",
      "strong multicollinearity or other numerical problems.\n"
     ]
    }
   ],
   "source": [
    "lr_sb49 = OLS(sb49_Y, sb49_X).fit()\n",
    "\n",
    "print(lr_sb49.summary())"
   ]
  },
  {
   "cell_type": "code",
   "execution_count": 30,
   "metadata": {},
   "outputs": [
    {
     "name": "stdout",
     "output_type": "stream",
     "text": [
      "MSE for #sb49: 16530174.167058896\n"
     ]
    }
   ],
   "source": [
    "sb49_predict = lr_sb49.predict(sb49_X)\n",
    "sb49_mse = tools.eval_measures.mse(sb49_Y, sb49_predict)\n",
    "\n",
    "print(\"MSE for #sb49:\", sb49_mse)"
   ]
  },
  {
   "cell_type": "markdown",
   "metadata": {},
   "source": [
    "### Superbowl"
   ]
  },
  {
   "cell_type": "code",
   "execution_count": 31,
   "metadata": {},
   "outputs": [],
   "source": [
    "time_windows_superbowl = extract_feature(files[5])\n",
    "\n",
    "superbowl_X = time_windows_superbowl[0:-1,:]\n",
    "superbowl_Y = time_windows_superbowl[1:,0]"
   ]
  },
  {
   "cell_type": "code",
   "execution_count": 32,
   "metadata": {},
   "outputs": [
    {
     "name": "stdout",
     "output_type": "stream",
     "text": [
      "                            OLS Regression Results                            \n",
      "==============================================================================\n",
      "Dep. Variable:                      y   R-squared:                       0.781\n",
      "Model:                            OLS   Adj. R-squared:                  0.779\n",
      "Method:                 Least Squares   F-statistic:                     415.1\n",
      "Date:                Wed, 13 Mar 2019   Prob (F-statistic):          4.34e-189\n",
      "Time:                        14:32:01   Log-Likelihood:                -6069.3\n",
      "No. Observations:                 586   AIC:                         1.215e+04\n",
      "Df Residuals:                     581   BIC:                         1.217e+04\n",
      "Df Model:                           5                                         \n",
      "Covariance Type:            nonrobust                                         \n",
      "==============================================================================\n",
      "                 coef    std err          t      P>|t|      [0.025      0.975]\n",
      "------------------------------------------------------------------------------\n",
      "x1             2.5533      0.111     23.094      0.000       2.336       2.770\n",
      "x2            -0.3919      0.040     -9.735      0.000      -0.471      -0.313\n",
      "x3            -0.0001   2.29e-05     -5.899      0.000      -0.000      -9e-05\n",
      "x4             0.0009      0.000      6.476      0.000       0.001       0.001\n",
      "x5           -62.8524     28.245     -2.225      0.026    -118.328      -7.377\n",
      "==============================================================================\n",
      "Omnibus:                      352.078   Durbin-Watson:                   2.379\n",
      "Prob(Omnibus):                  0.000   Jarque-Bera (JB):           781423.704\n",
      "Skew:                           0.938   Prob(JB):                         0.00\n",
      "Kurtosis:                     181.886   Cond. No.                     9.53e+06\n",
      "==============================================================================\n",
      "\n",
      "Warnings:\n",
      "[1] Standard Errors assume that the covariance matrix of the errors is correctly specified.\n",
      "[2] The condition number is large, 9.53e+06. This might indicate that there are\n",
      "strong multicollinearity or other numerical problems.\n"
     ]
    }
   ],
   "source": [
    "lr_superbowl = OLS(superbowl_Y, superbowl_X).fit()\n",
    "\n",
    "print(lr_superbowl.summary())"
   ]
  },
  {
   "cell_type": "code",
   "execution_count": 33,
   "metadata": {},
   "outputs": [
    {
     "name": "stdout",
     "output_type": "stream",
     "text": [
      "MSE for #superbowl: 58037195.52955221\n"
     ]
    }
   ],
   "source": [
    "superbowl_predict = lr_superbowl.predict(superbowl_X)\n",
    "superbowl_mse = tools.eval_measures.mse(superbowl_Y, superbowl_predict)\n",
    "\n",
    "print(\"MSE for #superbowl:\", superbowl_mse)"
   ]
  },
  {
   "cell_type": "markdown",
   "metadata": {},
   "source": [
    "## Question 4:\n",
    "Design a regression model using any features from the paper you find or other new features you may find useful for this problem. Fit your model on the data of each hashtag and report fitting MSE and significance of features.\n",
    "\n",
    "New Features (with reference to paper)\n",
    "- Author Count\n",
    "- Mentions Count\n",
    "- Passivity\n",
    "- Friends Count\n",
    "- Ranking Score"
   ]
  },
  {
   "cell_type": "code",
   "execution_count": 34,
   "metadata": {},
   "outputs": [],
   "source": [
    "months = {'Jan': 1, 'Feb': 2, 'Mar': 3, 'Apr': 4, 'May': 5, 'Jun': 6,\n",
    "          'Jul': 7, 'Aug': 8, 'Sep': 9, 'Oct': 10, 'Nov': 11, 'Dec': 12}\n",
    "\n",
    "def get_account_days(tweet):\n",
    "    account_create_date = tweet['tweet']['user']['created_at'].split(' ')\n",
    "    post_date = tweet['tweet']['created_at'].split(' ')\n",
    "    datetime_account = datetime.datetime(int(account_create_date[5]),\n",
    "                                         months[account_create_date[1]],\n",
    "                                         int(account_create_date[2]))\n",
    "    datetime_post = datetime.datetime(int(post_date[5]),\n",
    "                                      months[post_date[1]],\n",
    "                                      int(post_date[2]))\n",
    "    return (datetime_post - datetime_account).days"
   ]
  },
  {
   "cell_type": "code",
   "execution_count": 35,
   "metadata": {},
   "outputs": [],
   "source": [
    "def extract_feature_v2(filename):\n",
    "    with open(filename, 'r') as file:\n",
    "        lines = file.readlines()\n",
    "        max_time = max_times[filename]\n",
    "        min_time = min_times[filename]\n",
    "        \n",
    "        total_hours = mt.floor((max_time - min_time) / (60 * 60)) + 1\n",
    "        \n",
    "        authors = []\n",
    "        unique_authors = 0\n",
    "        mentions = 0\n",
    "        passivity = 0.0\n",
    "        num_friends = 0\n",
    "        ranking_score = 0.0\n",
    "        time_windows = []\n",
    "        \n",
    "        for hour in range(total_hours):\n",
    "            authors.append(set())\n",
    "            time_windows.append([unique_authors, mentions, passivity, num_friends, ranking_score])\n",
    "            \n",
    "        for line in lines:\n",
    "            json_obj = json.loads(line)\n",
    "            index = mt.floor((json_obj['citation_date'] - min_time) / (60 * 60))\n",
    "            authors[index].add(json_obj['author']['name'])\n",
    "            time_windows[index][1] = time_windows[index][1] + len(json_obj['tweet']['entities']['user_mentions'])\n",
    "            \n",
    "            account_days = get_account_days(json_obj)\n",
    "            num_tweets = json_obj['tweet']['user']['followers_count']\n",
    "            time_windows[index][2] = time_windows[index][2] + (account_days / (1.0 + num_tweets))\n",
    "            \n",
    "            time_windows[index][3] = time_windows[index][3] + json_obj['tweet']['user']['friends_count']\n",
    "            time_windows[index][4] = time_windows[index][4] + json_obj['metrics']['ranking_score'] \n",
    "            \n",
    "        for i in range(total_hours):\n",
    "            time_windows[i][0] = len(authors[i])\n",
    "            \n",
    "        return np.array(time_windows)"
   ]
  },
  {
   "cell_type": "markdown",
   "metadata": {},
   "source": [
    "### Gohawks"
   ]
  },
  {
   "cell_type": "code",
   "execution_count": 36,
   "metadata": {},
   "outputs": [],
   "source": [
    "time_windows_gohawks_v2 = extract_feature_v2(files[0])\n",
    "\n",
    "gohawks_X_v2 = time_windows_gohawks_v2[0:-1,:]\n",
    "gohawks_Y_v2 = time_windows_gohawks_v2[1:,0]"
   ]
  },
  {
   "cell_type": "code",
   "execution_count": 37,
   "metadata": {},
   "outputs": [
    {
     "name": "stdout",
     "output_type": "stream",
     "text": [
      "                            OLS Regression Results                            \n",
      "==============================================================================\n",
      "Dep. Variable:                      y   R-squared:                       0.772\n",
      "Model:                            OLS   Adj. R-squared:                  0.770\n",
      "Method:                 Least Squares   F-statistic:                     388.4\n",
      "Date:                Wed, 13 Mar 2019   Prob (F-statistic):          2.20e-181\n",
      "Time:                        15:06:50   Log-Likelihood:                -4332.0\n",
      "No. Observations:                 578   AIC:                             8674.\n",
      "Df Residuals:                     573   BIC:                             8696.\n",
      "Df Model:                           5                                         \n",
      "Covariance Type:            nonrobust                                         \n",
      "==============================================================================\n",
      "                 coef    std err          t      P>|t|      [0.025      0.975]\n",
      "------------------------------------------------------------------------------\n",
      "x1            -0.5622      0.317     -1.776      0.076      -1.184       0.060\n",
      "x2             1.4359      0.226      6.353      0.000       0.992       1.880\n",
      "x3            -0.1032      0.013     -8.220      0.000      -0.128      -0.079\n",
      "x4             0.0009      0.000      6.096      0.000       0.001       0.001\n",
      "x5             0.2944      0.057      5.125      0.000       0.182       0.407\n",
      "==============================================================================\n",
      "Omnibus:                      853.312   Durbin-Watson:                   1.923\n",
      "Prob(Omnibus):                  0.000   Jarque-Bera (JB):           273511.692\n",
      "Skew:                           7.930   Prob(JB):                         0.00\n",
      "Kurtosis:                     108.382   Cond. No.                     1.67e+04\n",
      "==============================================================================\n",
      "\n",
      "Warnings:\n",
      "[1] Standard Errors assume that the covariance matrix of the errors is correctly specified.\n",
      "[2] The condition number is large, 1.67e+04. This might indicate that there are\n",
      "strong multicollinearity or other numerical problems.\n"
     ]
    }
   ],
   "source": [
    "lr_gohawks_v2 = OLS(gohawks_Y_v2, gohawks_X_v2).fit()\n",
    "\n",
    "print(lr_gohawks_v2.summary())"
   ]
  },
  {
   "cell_type": "code",
   "execution_count": 38,
   "metadata": {},
   "outputs": [
    {
     "name": "stdout",
     "output_type": "stream",
     "text": [
      "MSE for #gohawks: 189443.90866502284\n"
     ]
    }
   ],
   "source": [
    "gohawks_predict_v2 = lr_gohawks_v2.predict(gohawks_X_v2)\n",
    "gohawks_mse_v2 = tools.eval_measures.mse(gohawks_Y_v2, gohawks_predict_v2)\n",
    "\n",
    "print(\"MSE for #gohawks:\", gohawks_mse_v2)"
   ]
  },
  {
   "cell_type": "markdown",
   "metadata": {},
   "source": [
    "### Gopatriots"
   ]
  },
  {
   "cell_type": "code",
   "execution_count": 39,
   "metadata": {},
   "outputs": [],
   "source": [
    "time_windows_gopatriots_v2 = extract_feature_v2(files[1])\n",
    "\n",
    "gopatriots_X_v2 = time_windows_gopatriots_v2[0:-1,:]\n",
    "gopatriots_Y_v2 = time_windows_gopatriots_v2[1:,0]"
   ]
  },
  {
   "cell_type": "code",
   "execution_count": 40,
   "metadata": {},
   "outputs": [
    {
     "name": "stdout",
     "output_type": "stream",
     "text": [
      "                            OLS Regression Results                            \n",
      "==============================================================================\n",
      "Dep. Variable:                      y   R-squared:                       0.681\n",
      "Model:                            OLS   Adj. R-squared:                  0.679\n",
      "Method:                 Least Squares   F-statistic:                     243.5\n",
      "Date:                Wed, 13 Mar 2019   Prob (F-statistic):          9.00e-139\n",
      "Time:                        15:08:23   Log-Likelihood:                -3653.6\n",
      "No. Observations:                 574   AIC:                             7317.\n",
      "Df Residuals:                     569   BIC:                             7339.\n",
      "Df Model:                           5                                         \n",
      "Covariance Type:            nonrobust                                         \n",
      "==============================================================================\n",
      "                 coef    std err          t      P>|t|      [0.025      0.975]\n",
      "------------------------------------------------------------------------------\n",
      "x1             6.7448      0.653     10.332      0.000       5.463       8.027\n",
      "x2             0.4649      0.572      0.813      0.417      -0.658       1.588\n",
      "x3             0.1898      0.029      6.557      0.000       0.133       0.247\n",
      "x4         -2.431e-06      0.000     -0.006      0.995      -0.001       0.001\n",
      "x5            -1.5876      0.138    -11.464      0.000      -1.860      -1.316\n",
      "==============================================================================\n",
      "Omnibus:                      942.949   Durbin-Watson:                   2.500\n",
      "Prob(Omnibus):                  0.000   Jarque-Bera (JB):           874278.005\n",
      "Skew:                           9.330   Prob(JB):                         0.00\n",
      "Kurtosis:                     193.281   Cond. No.                     2.42e+04\n",
      "==============================================================================\n",
      "\n",
      "Warnings:\n",
      "[1] Standard Errors assume that the covariance matrix of the errors is correctly specified.\n",
      "[2] The condition number is large, 2.42e+04. This might indicate that there are\n",
      "strong multicollinearity or other numerical problems.\n"
     ]
    }
   ],
   "source": [
    "lr_gopatriots_v2 = OLS(gopatriots_Y_v2, gopatriots_X_v2).fit()\n",
    "\n",
    "print(lr_gopatriots_v2.summary())"
   ]
  },
  {
   "cell_type": "code",
   "execution_count": 41,
   "metadata": {},
   "outputs": [
    {
     "name": "stdout",
     "output_type": "stream",
     "text": [
      "MSE for #gopatriots: 19777.756852996485\n"
     ]
    }
   ],
   "source": [
    "gopatriots_predict_v2 = lr_gopatriots_v2.predict(gopatriots_X_v2)\n",
    "gopatriots_mse_v2 = tools.eval_measures.mse(gopatriots_Y_v2, gopatriots_predict_v2)\n",
    "\n",
    "print(\"MSE for #gopatriots:\", gopatriots_mse_v2)"
   ]
  },
  {
   "cell_type": "markdown",
   "metadata": {},
   "source": [
    "### nfl"
   ]
  },
  {
   "cell_type": "code",
   "execution_count": 42,
   "metadata": {},
   "outputs": [],
   "source": [
    "time_windows_nfl_v2 = extract_feature_v2(files[2])\n",
    "\n",
    "nfl_X_v2 = time_windows_nfl_v2[0:-1,:]\n",
    "nfl_Y_v2 = time_windows_nfl_v2[1:,0]"
   ]
  },
  {
   "cell_type": "code",
   "execution_count": 43,
   "metadata": {},
   "outputs": [
    {
     "name": "stdout",
     "output_type": "stream",
     "text": [
      "                            OLS Regression Results                            \n",
      "==============================================================================\n",
      "Dep. Variable:                      y   R-squared:                       0.692\n",
      "Model:                            OLS   Adj. R-squared:                  0.690\n",
      "Method:                 Least Squares   F-statistic:                     261.8\n",
      "Date:                Wed, 13 Mar 2019   Prob (F-statistic):          2.60e-146\n",
      "Time:                        15:09:13   Log-Likelihood:                -4279.5\n",
      "No. Observations:                 587   AIC:                             8569.\n",
      "Df Residuals:                     582   BIC:                             8591.\n",
      "Df Model:                           5                                         \n",
      "Covariance Type:            nonrobust                                         \n",
      "==============================================================================\n",
      "                 coef    std err          t      P>|t|      [0.025      0.975]\n",
      "------------------------------------------------------------------------------\n",
      "x1             0.1784      0.251      0.712      0.477      -0.314       0.671\n",
      "x2             3.4175      0.414      8.257      0.000       2.605       4.230\n",
      "x3            -0.0182      0.009     -2.086      0.037      -0.035      -0.001\n",
      "x4          -2.95e-05      0.000     -0.255      0.799      -0.000       0.000\n",
      "x5            -0.0192      0.052     -0.368      0.713      -0.121       0.083\n",
      "==============================================================================\n",
      "Omnibus:                      680.932   Durbin-Watson:                   2.326\n",
      "Prob(Omnibus):                  0.000   Jarque-Bera (JB):           157689.712\n",
      "Skew:                           5.046   Prob(JB):                         0.00\n",
      "Kurtosis:                      82.658   Cond. No.                     2.69e+04\n",
      "==============================================================================\n",
      "\n",
      "Warnings:\n",
      "[1] Standard Errors assume that the covariance matrix of the errors is correctly specified.\n",
      "[2] The condition number is large, 2.69e+04. This might indicate that there are\n",
      "strong multicollinearity or other numerical problems.\n"
     ]
    }
   ],
   "source": [
    "lr_nfl_v2 = OLS(nfl_Y_v2, nfl_X_v2).fit()\n",
    "\n",
    "print(lr_nfl_v2.summary())"
   ]
  },
  {
   "cell_type": "code",
   "execution_count": 44,
   "metadata": {},
   "outputs": [
    {
     "name": "stdout",
     "output_type": "stream",
     "text": [
      "MSE for #nfl: 125882.01140723114\n"
     ]
    }
   ],
   "source": [
    "nfl_predict_v2 = lr_nfl_v2.predict(nfl_X_v2)\n",
    "nfl_mse_v2 = tools.eval_measures.mse(nfl_Y_v2, nfl_predict_v2)\n",
    "\n",
    "print(\"MSE for #nfl:\", nfl_mse_v2)"
   ]
  },
  {
   "cell_type": "markdown",
   "metadata": {},
   "source": [
    "### Patriots"
   ]
  },
  {
   "cell_type": "code",
   "execution_count": 45,
   "metadata": {},
   "outputs": [],
   "source": [
    "time_windows_patriots_v2 = extract_feature_v2(files[3])\n",
    "\n",
    "patriots_X_v2 = time_windows_patriots_v2[0:-1,:]\n",
    "patriots_Y_v2 = time_windows_patriots_v2[1:,0]"
   ]
  },
  {
   "cell_type": "code",
   "execution_count": 46,
   "metadata": {},
   "outputs": [
    {
     "name": "stdout",
     "output_type": "stream",
     "text": [
      "                            OLS Regression Results                            \n",
      "==============================================================================\n",
      "Dep. Variable:                      y   R-squared:                       0.733\n",
      "Model:                            OLS   Adj. R-squared:                  0.730\n",
      "Method:                 Least Squares   F-statistic:                     318.8\n",
      "Date:                Wed, 13 Mar 2019   Prob (F-statistic):          5.18e-164\n",
      "Time:                        15:10:03   Log-Likelihood:                -5237.7\n",
      "No. Observations:                 587   AIC:                         1.049e+04\n",
      "Df Residuals:                     582   BIC:                         1.051e+04\n",
      "Df Model:                           5                                         \n",
      "Covariance Type:            nonrobust                                         \n",
      "==============================================================================\n",
      "                 coef    std err          t      P>|t|      [0.025      0.975]\n",
      "------------------------------------------------------------------------------\n",
      "x1            -2.2517      0.813     -2.770      0.006      -3.849      -0.655\n",
      "x2             0.9646      0.127      7.597      0.000       0.715       1.214\n",
      "x3            -0.0076      0.023     -0.323      0.747      -0.054       0.038\n",
      "x4             0.0015      0.000      6.222      0.000       0.001       0.002\n",
      "x5             0.1361      0.140      0.972      0.331      -0.139       0.411\n",
      "==============================================================================\n",
      "Omnibus:                     1035.224   Durbin-Watson:                   1.950\n",
      "Prob(Omnibus):                  0.000   Jarque-Bera (JB):           734578.460\n",
      "Skew:                          11.106   Prob(JB):                         0.00\n",
      "Kurtosis:                     174.873   Cond. No.                     2.95e+04\n",
      "==============================================================================\n",
      "\n",
      "Warnings:\n",
      "[1] Standard Errors assume that the covariance matrix of the errors is correctly specified.\n",
      "[2] The condition number is large, 2.95e+04. This might indicate that there are\n",
      "strong multicollinearity or other numerical problems.\n"
     ]
    }
   ],
   "source": [
    "lr_patriots_v2 = OLS(patriots_Y_v2, patriots_X_v2).fit()\n",
    "\n",
    "print(lr_patriots_v2.summary())"
   ]
  },
  {
   "cell_type": "code",
   "execution_count": 47,
   "metadata": {},
   "outputs": [
    {
     "name": "stdout",
     "output_type": "stream",
     "text": [
      "MSE for #patriots: 3294323.2070698887\n"
     ]
    }
   ],
   "source": [
    "patriots_predict_v2 = lr_patriots_v2.predict(patriots_X_v2)\n",
    "patriots_mse_v2 = tools.eval_measures.mse(patriots_Y_v2, patriots_predict_v2)\n",
    "\n",
    "print(\"MSE for #patriots:\", patriots_mse_v2)"
   ]
  },
  {
   "cell_type": "markdown",
   "metadata": {},
   "source": [
    "### sb49"
   ]
  },
  {
   "cell_type": "code",
   "execution_count": 48,
   "metadata": {},
   "outputs": [],
   "source": [
    "time_windows_sb49_v2 = extract_feature_v2(files[4])\n",
    "\n",
    "sb49_X_v2 = time_windows_sb49_v2[0:-1,:]\n",
    "sb49_Y_v2 = time_windows_sb49_v2[1:,0]"
   ]
  },
  {
   "cell_type": "code",
   "execution_count": 49,
   "metadata": {},
   "outputs": [
    {
     "name": "stdout",
     "output_type": "stream",
     "text": [
      "                            OLS Regression Results                            \n",
      "==============================================================================\n",
      "Dep. Variable:                      y   R-squared:                       0.870\n",
      "Model:                            OLS   Adj. R-squared:                  0.869\n",
      "Method:                 Least Squares   F-statistic:                     774.0\n",
      "Date:                Wed, 13 Mar 2019   Prob (F-statistic):          4.02e-253\n",
      "Time:                        15:10:55   Log-Likelihood:                -5399.4\n",
      "No. Observations:                 582   AIC:                         1.081e+04\n",
      "Df Residuals:                     577   BIC:                         1.083e+04\n",
      "Df Model:                           5                                         \n",
      "Covariance Type:            nonrobust                                         \n",
      "==============================================================================\n",
      "                 coef    std err          t      P>|t|      [0.025      0.975]\n",
      "------------------------------------------------------------------------------\n",
      "x1             2.4376      0.428      5.697      0.000       1.597       3.278\n",
      "x2             1.4817      0.134     11.073      0.000       1.219       1.745\n",
      "x3             0.0548      0.021      2.570      0.010       0.013       0.097\n",
      "x4             0.0051      0.000     15.714      0.000       0.004       0.006\n",
      "x5            -1.6150      0.096    -16.767      0.000      -1.804      -1.426\n",
      "==============================================================================\n",
      "Omnibus:                     1074.617   Durbin-Watson:                   1.639\n",
      "Prob(Omnibus):                  0.000   Jarque-Bera (JB):          1457471.562\n",
      "Skew:                          11.913   Prob(JB):                         0.00\n",
      "Kurtosis:                     246.996   Cond. No.                     2.49e+04\n",
      "==============================================================================\n",
      "\n",
      "Warnings:\n",
      "[1] Standard Errors assume that the covariance matrix of the errors is correctly specified.\n",
      "[2] The condition number is large, 2.49e+04. This might indicate that there are\n",
      "strong multicollinearity or other numerical problems.\n"
     ]
    }
   ],
   "source": [
    "lr_sb49_v2 = OLS(sb49_Y_v2, sb49_X_v2).fit()\n",
    "\n",
    "print(lr_sb49_v2.summary())"
   ]
  },
  {
   "cell_type": "code",
   "execution_count": 50,
   "metadata": {},
   "outputs": [
    {
     "name": "stdout",
     "output_type": "stream",
     "text": [
      "MSE for #sb49: 6694560.066255943\n"
     ]
    }
   ],
   "source": [
    "sb49_predict_v2 = lr_sb49_v2.predict(sb49_X_v2)\n",
    "sb49_mse_v2 = tools.eval_measures.mse(sb49_Y_v2, sb49_predict_v2)\n",
    "\n",
    "print(\"MSE for #sb49:\", sb49_mse_v2)"
   ]
  },
  {
   "cell_type": "markdown",
   "metadata": {},
   "source": [
    "### Superbowl"
   ]
  },
  {
   "cell_type": "code",
   "execution_count": 51,
   "metadata": {},
   "outputs": [],
   "source": [
    "time_windows_superbowl_v2 = extract_feature_v2(files[5])\n",
    "\n",
    "superbowl_X_v2 = time_windows_superbowl_v2[0:-1,:]\n",
    "superbowl_Y_v2 = time_windows_superbowl_v2[1:,0]"
   ]
  },
  {
   "cell_type": "code",
   "execution_count": 52,
   "metadata": {},
   "outputs": [
    {
     "name": "stdout",
     "output_type": "stream",
     "text": [
      "                            OLS Regression Results                            \n",
      "==============================================================================\n",
      "Dep. Variable:                      y   R-squared:                       0.741\n",
      "Model:                            OLS   Adj. R-squared:                  0.739\n",
      "Method:                 Least Squares   F-statistic:                     332.4\n",
      "Date:                Wed, 13 Mar 2019   Prob (F-statistic):          8.87e-168\n",
      "Time:                        15:12:11   Log-Likelihood:                -5880.4\n",
      "No. Observations:                 586   AIC:                         1.177e+04\n",
      "Df Residuals:                     581   BIC:                         1.179e+04\n",
      "Df Model:                           5                                         \n",
      "Covariance Type:            nonrobust                                         \n",
      "==============================================================================\n",
      "                 coef    std err          t      P>|t|      [0.025      0.975]\n",
      "------------------------------------------------------------------------------\n",
      "x1            -0.2658      0.337     -0.789      0.431      -0.928       0.396\n",
      "x2             9.1772      0.825     11.123      0.000       7.557      10.798\n",
      "x3            -0.0874      0.025     -3.429      0.001      -0.137      -0.037\n",
      "x4            -0.0044      0.000    -10.626      0.000      -0.005      -0.004\n",
      "x5             0.8369      0.109      7.702      0.000       0.623       1.050\n",
      "==============================================================================\n",
      "Omnibus:                      777.366   Durbin-Watson:                   2.620\n",
      "Prob(Omnibus):                  0.000   Jarque-Bera (JB):           374252.465\n",
      "Skew:                           6.214   Prob(JB):                         0.00\n",
      "Kurtosis:                     126.180   Cond. No.                     6.38e+04\n",
      "==============================================================================\n",
      "\n",
      "Warnings:\n",
      "[1] Standard Errors assume that the covariance matrix of the errors is correctly specified.\n",
      "[2] The condition number is large, 6.38e+04. This might indicate that there are\n",
      "strong multicollinearity or other numerical problems.\n"
     ]
    }
   ],
   "source": [
    "lr_superbowl_v2 = OLS(superbowl_Y_v2, superbowl_X_v2).fit()\n",
    "\n",
    "print(lr_superbowl_v2.summary())"
   ]
  },
  {
   "cell_type": "code",
   "execution_count": 53,
   "metadata": {},
   "outputs": [
    {
     "name": "stdout",
     "output_type": "stream",
     "text": [
      "MSE for #superbowl: 30459584.15728826\n"
     ]
    }
   ],
   "source": [
    "superbowl_predict_v2 = lr_superbowl_v2.predict(superbowl_X_v2)\n",
    "superbowl_mse_v2 = tools.eval_measures.mse(superbowl_Y_v2, superbowl_predict_v2)\n",
    "\n",
    "print(\"MSE for #superbowl:\", superbowl_mse_v2)"
   ]
  },
  {
   "cell_type": "markdown",
   "metadata": {},
   "source": [
    "## Question 5:\n",
    "For each of the top 3 features (i.e. with the smallest p-values) in your measurements, draw a scatter plot of predictant (number of tweets for next hour) versus value of that feature, using all the samples you have extracted, and analyze it.\n",
    "\n",
    "Do the regression coefficients agree with the trends in the plots? If not, why?"
   ]
  },
  {
   "cell_type": "markdown",
   "metadata": {},
   "source": [
    "#### For each hashtag, the top 3 features are calculated respectively."
   ]
  },
  {
   "cell_type": "code",
   "execution_count": 80,
   "metadata": {},
   "outputs": [],
   "source": [
    "def scatter_plot(feature_values, predictant, hashtag, features):\n",
    "    print('-' * 20, hashtag, '-' * 20)\n",
    "    for i in range(3):\n",
    "        plt.figure(figsize = (8,5))\n",
    "        plt.scatter(feature_values[:,i], predictant, alpha=0.5)\n",
    "        plt.title(\"Tweets next hour - \" + features[i])\n",
    "        plt.xlabel(features[i])\n",
    "        plt.ylabel(\"Tweets next hour\")\n",
    "        plt.grid(True)"
   ]
  },
  {
   "cell_type": "code",
   "execution_count": 70,
   "metadata": {},
   "outputs": [],
   "source": [
    "def top_features(p_values):\n",
    "    idx = np.argsort(p_values)\n",
    "    return idx[:4]"
   ]
  },
  {
   "cell_type": "code",
   "execution_count": 68,
   "metadata": {},
   "outputs": [],
   "source": [
    "# Get each p-values for different hashtags\n",
    "p_gohawks_v2 = lr_gohawks_v2.pvalues\n",
    "p_gopatriots_v2 = lr_gopatriots_v2.pvalues\n",
    "p_nfl_v2 = lr_nfl_v2.pvalues\n",
    "p_patriots_v2 = lr_patriots_v2.pvalues\n",
    "p_sb49_v2 = lr_sb49_v2.pvalues\n",
    "p_superbowl_v2 = lr_superbowl_v2.pvalues\n",
    "\n",
    "feature_names = {0:'Author Count', 1:'Mentions Count', 2:'Passivity', 3:'Friends Count', 4:'Ranking Score'}"
   ]
  },
  {
   "cell_type": "markdown",
   "metadata": {},
   "source": [
    "### Gohawks"
   ]
  },
  {
   "cell_type": "code",
   "execution_count": 81,
   "metadata": {},
   "outputs": [
    {
     "name": "stdout",
     "output_type": "stream",
     "text": [
      "-------------------- #gohawks --------------------\n"
     ]
    },
    {
     "data": {
      "image/png": "[encoded data removed]",
      "text/plain": [
       "<Figure size 576x360 with 1 Axes>"
      ]
     },
     "metadata": {
      "needs_background": "light"
     },
     "output_type": "display_data"
    },
    {
     "data": {
      "image/png": "[encoded data removed]",
      "text/plain": [
       "<Figure size 576x360 with 1 Axes>"
      ]
     },
     "metadata": {
      "needs_background": "light"
     },
     "output_type": "display_data"
    },
    {
     "data": {
      "image/png": "[encoded data removed]",
      "text/plain": [
       "<Figure size 576x360 with 1 Axes>"
      ]
     },
     "metadata": {
      "needs_background": "light"
     },
     "output_type": "display_data"
    }
   ],
   "source": [
    "gohawks_top = top_features(p_gohawks_v2)\n",
    "\n",
    "scatter_plot(time_windows_gohawks_v2[0:-1,gohawks_top],\n",
    "             gohawks_predict_v2,\n",
    "             \"#gohawks\",\n",
    "             [feature_names[i] for i in gohawks_top])"
   ]
  },
  {
   "cell_type": "markdown",
   "metadata": {},
   "source": [
    "### Gopatriots"
   ]
  },
  {
   "cell_type": "code",
   "execution_count": 83,
   "metadata": {},
   "outputs": [
    {
     "name": "stdout",
     "output_type": "stream",
     "text": [
      "-------------------- #gopatriots --------------------\n"
     ]
    },
    {
     "data": {
      "image/png": "[encoded data removed]",
      "text/plain": [
       "<Figure size 576x360 with 1 Axes>"
      ]
     },
     "metadata": {
      "needs_background": "light"
     },
     "output_type": "display_data"
    },
    {
     "data": {
      "image/png": "[encoded data removed]",
      "text/plain": [
       "<Figure size 576x360 with 1 Axes>"
      ]
     },
     "metadata": {
      "needs_background": "light"
     },
     "output_type": "display_data"
    },
    {
     "data": {
      "image/png": "[encoded data removed]",
      "text/plain": [
       "<Figure size 576x360 with 1 Axes>"
      ]
     },
     "metadata": {
      "needs_background": "light"
     },
     "output_type": "display_data"
    }
   ],
   "source": [
    "gopatriots_top = top_features(p_gopatriots_v2)\n",
    "\n",
    "scatter_plot(time_windows_gopatriots_v2[0:-1,gopatriots_top],\n",
    "             gopatriots_predict_v2,\n",
    "             \"#gopatriots\",\n",
    "             [feature_names[i] for i in gopatriots_top])"
   ]
  },
  {
   "cell_type": "markdown",
   "metadata": {},
   "source": [
    "### nfl"
   ]
  },
  {
   "cell_type": "code",
   "execution_count": 84,
   "metadata": {},
   "outputs": [
    {
     "name": "stdout",
     "output_type": "stream",
     "text": [
      "-------------------- #nfl --------------------\n"
     ]
    },
    {
     "data": {
      "image/png": "[encoded data removed]",
      "text/plain": [
       "<Figure size 576x360 with 1 Axes>"
      ]
     },
     "metadata": {
      "needs_background": "light"
     },
     "output_type": "display_data"
    },
    {
     "data": {
      "image/png": "[encoded data removed]",
      "text/plain": [
       "<Figure size 576x360 with 1 Axes>"
      ]
     },
     "metadata": {
      "needs_background": "light"
     },
     "output_type": "display_data"
    },
    {
     "data": {
      "image/png": "[encoded data removed]",
      "text/plain": [
       "<Figure size 576x360 with 1 Axes>"
      ]
     },
     "metadata": {
      "needs_background": "light"
     },
     "output_type": "display_data"
    }
   ],
   "source": [
    "nfl_top = top_features(p_nfl_v2)\n",
    "\n",
    "scatter_plot(time_windows_nfl_v2[0:-1,nfl_top],\n",
    "             nfl_predict_v2,\n",
    "             \"#nfl\",\n",
    "             [feature_names[i] for i in nfl_top])"
   ]
  },
  {
   "cell_type": "markdown",
   "metadata": {},
   "source": [
    "### Patriots"
   ]
  },
  {
   "cell_type": "code",
   "execution_count": 85,
   "metadata": {},
   "outputs": [
    {
     "name": "stdout",
     "output_type": "stream",
     "text": [
      "-------------------- #patriots --------------------\n"
     ]
    },
    {
     "data": {
      "image/png": "[encoded data removed]",
      "text/plain": [
       "<Figure size 576x360 with 1 Axes>"
      ]
     },
     "metadata": {
      "needs_background": "light"
     },
     "output_type": "display_data"
    },
    {
     "data": {
      "image/png": "[encoded data removed]",
      "text/plain": [
       "<Figure size 576x360 with 1 Axes>"
      ]
     },
     "metadata": {
      "needs_background": "light"
     },
     "output_type": "display_data"
    },
    {
     "data": {
      "image/png": "[encoded data removed]",
      "text/plain": [
       "<Figure size 576x360 with 1 Axes>"
      ]
     },
     "metadata": {
      "needs_background": "light"
     },
     "output_type": "display_data"
    }
   ],
   "source": [
    "patriots_top = top_features(p_patriots_v2)\n",
    "\n",
    "scatter_plot(time_windows_patriots_v2[0:-1,patriots_top],\n",
    "             patriots_predict_v2,\n",
    "             \"#patriots\",\n",
    "             [feature_names[i] for i in patriots_top])"
   ]
  },
  {
   "cell_type": "markdown",
   "metadata": {},
   "source": [
    "### sb49"
   ]
  },
  {
   "cell_type": "code",
   "execution_count": 87,
   "metadata": {},
   "outputs": [
    {
     "name": "stdout",
     "output_type": "stream",
     "text": [
      "-------------------- #sb49 --------------------\n"
     ]
    },
    {
     "data": {
      "image/png": "[encoded data removed]",
      "text/plain": [
       "<Figure size 576x360 with 1 Axes>"
      ]
     },
     "metadata": {
      "needs_background": "light"
     },
     "output_type": "display_data"
    },
    {
     "data": {
      "image/png": "[encoded data removed]",
      "text/plain": [
       "<Figure size 576x360 with 1 Axes>"
      ]
     },
     "metadata": {
      "needs_background": "light"
     },
     "output_type": "display_data"
    },
    {
     "data": {
      "image/png": "[encoded data removed]",
      "text/plain": [
       "<Figure size 576x360 with 1 Axes>"
      ]
     },
     "metadata": {
      "needs_background": "light"
     },
     "output_type": "display_data"
    }
   ],
   "source": [
    "sb49_top = top_features(p_sb49_v2)\n",
    "\n",
    "scatter_plot(time_windows_sb49_v2[0:-1,sb49_top],\n",
    "             sb49_predict_v2,\n",
    "             \"#sb49\",\n",
    "             [feature_names[i] for i in sb49_top])"
   ]
  },
  {
   "cell_type": "markdown",
   "metadata": {},
   "source": [
    "### Superbowl"
   ]
  },
  {
   "cell_type": "code",
   "execution_count": 88,
   "metadata": {},
   "outputs": [
    {
     "name": "stdout",
     "output_type": "stream",
     "text": [
      "-------------------- #superbowl --------------------\n"
     ]
    },
    {
     "data": {
      "image/png": "[encoded data removed]",
      "text/plain": [
       "<Figure size 576x360 with 1 Axes>"
      ]
     },
     "metadata": {
      "needs_background": "light"
     },
     "output_type": "display_data"
    },
    {
     "data": {
      "image/png": "[encoded data removed]",
      "text/plain": [
       "<Figure size 576x360 with 1 Axes>"
      ]
     },
     "metadata": {
      "needs_background": "light"
     },
     "output_type": "display_data"
    },
    {
     "data": {
      "image/png": "[encoded data removed]",
      "text/plain": [
       "<Figure size 576x360 with 1 Axes>"
      ]
     },
     "metadata": {
      "needs_background": "light"
     },
     "output_type": "display_data"
    }
   ],
   "source": [
    "superbowl_top = top_features(p_superbowl_v2)\n",
    "\n",
    "scatter_plot(time_windows_superbowl_v2[0:-1,superbowl_top],\n",
    "             superbowl_predict_v2,\n",
    "             \"#superbowl\",\n",
    "             [feature_names[i] for i in superbowl_top])"
   ]
  },
  {
   "cell_type": "markdown",
   "metadata": {},
   "source": [
    "## Question 6:\n",
    "Define 3 time periods and corresponding window length as follows:\n",
    "\n",
    "1. Before Feb.1, 8:00 a.m.: 1-hour window\n",
    "2. Between Feb.1, 8:00 a.m. and 8:00 p.m.: 5-minute window\n",
    "3. After Feb.1, 8:00 p.m.: 1-hour window\n",
    "\n",
    "For each hashtag, trian 3 regression models. Report the MSE and R-squared score for each case."
   ]
  },
  {
   "cell_type": "code",
   "execution_count": 89,
   "metadata": {},
   "outputs": [
    {
     "name": "stdout",
     "output_type": "stream",
     "text": [
      "unix time for Feb.1, 8:00 a.m.: 1422806400.0\n",
      "unix time for Feb.1, 8:00 p.m.: 1422849600.0\n"
     ]
    }
   ],
   "source": [
    "import time\n",
    "\n",
    "pst_tz = pytz.timezone('America/Los_Angeles')\n",
    "\n",
    "key_time1 = datetime.datetime(2015, 2, 1, 8, 0, 0, 0, pst_tz)\n",
    "key_time1_unix = time.mktime(key_time1.timetuple())\n",
    "\n",
    "key_time2 = datetime.datetime(2015, 2, 1, 20, 0, 0, 0, pst_tz)\n",
    "key_time2_unix = time.mktime(key_time2.timetuple())\n",
    "\n",
    "print(\"unix time for Feb.1, 8:00 a.m.:\", key_time1_unix)\n",
    "print(\"unix time for Feb.1, 8:00 p.m.:\", key_time2_unix)"
   ]
  },
  {
   "cell_type": "code",
   "execution_count": 92,
   "metadata": {},
   "outputs": [],
   "source": [
    "# use the same features in Question 3\n",
    "\n",
    "def extract_feature_v3(filename):\n",
    "    with open(filename, 'r') as file:\n",
    "        lines = file.readlines()\n",
    "        max_time = max_times[filename]\n",
    "        min_time = min_times[filename]\n",
    "        \n",
    "        total_windows_before = mt.floor((key_time1_unix - min_time) / (60 * 60)) + 1\n",
    "        total_windows_between = mt.floor((key_time2_unix - key_time1_unix) / (60 * 5)) + 1\n",
    "        total_windows_after = mt.floor((max_time - key_time2_unix) / (60 * 60)) + 1\n",
    "        \n",
    "        num_tweets = 0\n",
    "        num_retweets = 0\n",
    "        num_followers = 0\n",
    "        max_num_followers = 0\n",
    "        time_window_before = []\n",
    "        time_window_between = []\n",
    "        time_window_after = []\n",
    "        \n",
    "        for index in range(total_windows_before):\n",
    "            datetime_object_in_pst_timezone = datetime.datetime.fromtimestamp(min_time + index * 60 * 60, pst_tz)\n",
    "            time_of_day = datetime_object_in_pst_timezone.hour\n",
    "            time_window_before.append([num_tweets, num_retweets, num_followers, max_num_followers, time_of_day])\n",
    "            \n",
    "        for index in range(total_windows_between):\n",
    "            datetime_object_in_pst_timezone = datetime.datetime.fromtimestamp(key_time1_unix + index * 60 * 5, pst_tz)\n",
    "            time_of_day = datetime_object_in_pst_timezone.hour\n",
    "            time_window_between.append([num_tweets, num_retweets, num_followers, max_num_followers, time_of_day])\n",
    "            \n",
    "        for index in range(total_windows_after):\n",
    "            datetime_object_in_pst_timezone = datetime.datetime.fromtimestamp(key_time2_unix + index * 60 * 60, pst_tz)\n",
    "            time_of_day = datetime_object_in_pst_timezone.hour\n",
    "            time_window_after.append([num_tweets, num_retweets, num_followers, max_num_followers, time_of_day])\n",
    "            \n",
    "        for line in lines:\n",
    "            json_obj = json.loads(line)\n",
    "            time = json_obj['citation_date']\n",
    "            \n",
    "            if time < key_time1_unix:\n",
    "                index = mt.floor((json_obj['citation_date'] - min_time) / (60 * 60))\n",
    "                time_window_before[index][0] = time_window_before[index][0] + 1\n",
    "                time_window_before[index][1] = time_window_before[index][1] + json_obj['metrics']['citations']['total']\n",
    "                time_window_before[index][2] = time_window_before[index][2] + json_obj['author']['followers']\n",
    "                time_window_before[index][3] = max(time_window_before[index][3], json_obj['author']['followers'])\n",
    "            elif time < key_time2_unix:\n",
    "                index = mt.floor((json_obj['citation_date'] - key_time1_unix) / (60 * 5))\n",
    "                time_window_between[index][0] = time_window_between[index][0] + 1\n",
    "                time_window_between[index][1] = time_window_between[index][1] + json_obj['metrics']['citations']['total']\n",
    "                time_window_between[index][2] = time_window_between[index][2] + json_obj['author']['followers']\n",
    "                time_window_between[index][3] = max(time_window_between[index][3], json_obj['author']['followers'])\n",
    "            else:\n",
    "                index = mt.floor((json_obj['citation_date'] - key_time2_unix) / (60 * 60))\n",
    "                time_window_after[index][0] = time_window_after[index][0] + 1\n",
    "                time_window_after[index][1] = time_window_after[index][1] + json_obj['metrics']['citations']['total']\n",
    "                time_window_after[index][2] = time_window_after[index][2] + json_obj['author']['followers']\n",
    "                time_window_after[index][3] = max(time_window_after[index][3], json_obj['author']['followers'])\n",
    "\n",
    "        return np.array(time_window_before), np.array(time_window_between), np.array(time_window_after)"
   ]
  },
  {
   "cell_type": "markdown",
   "metadata": {},
   "source": [
    "### Gohawks"
   ]
  },
  {
   "cell_type": "code",
   "execution_count": 93,
   "metadata": {},
   "outputs": [],
   "source": [
    "time_window_before_gohawks, time_window_between_gohawks, time_window_after_gohawks = extract_feature_v3(files[0])\n",
    "\n",
    "gohawks_X_before = time_window_before_gohawks[0:-1,:]\n",
    "gohawks_Y_before = time_window_before_gohawks[1:,0]\n",
    "\n",
    "gohawks_X_between = time_window_between_gohawks[0:-1,:]\n",
    "gohawks_Y_between = time_window_between_gohawks[1:,0]\n",
    "\n",
    "gohawks_X_after = time_window_after_gohawks[0:-1,:]\n",
    "gohawks_Y_after = time_window_after_gohawks[1:,0]"
   ]
  },
  {
   "cell_type": "markdown",
   "metadata": {},
   "source": [
    "#### Before"
   ]
  },
  {
   "cell_type": "code",
   "execution_count": 94,
   "metadata": {},
   "outputs": [
    {
     "name": "stdout",
     "output_type": "stream",
     "text": [
      "                            OLS Regression Results                            \n",
      "==============================================================================\n",
      "Dep. Variable:                      y   R-squared:                       0.665\n",
      "Model:                            OLS   Adj. R-squared:                  0.661\n",
      "Method:                 Least Squares   F-statistic:                     172.4\n",
      "Date:                Wed, 13 Mar 2019   Prob (F-statistic):          8.76e-101\n",
      "Time:                        20:08:32   Log-Likelihood:                -3391.6\n",
      "No. Observations:                 440   AIC:                             6793.\n",
      "Df Residuals:                     435   BIC:                             6814.\n",
      "Df Model:                           5                                         \n",
      "Covariance Type:            nonrobust                                         \n",
      "==============================================================================\n",
      "                 coef    std err          t      P>|t|      [0.025      0.975]\n",
      "------------------------------------------------------------------------------\n",
      "x1             1.9906      0.148     13.418      0.000       1.699       2.282\n",
      "x2            -0.1315      0.078     -1.680      0.094      -0.285       0.022\n",
      "x3            -0.0006    8.7e-05     -6.751      0.000      -0.001      -0.000\n",
      "x4             0.0005      0.000      4.134      0.000       0.000       0.001\n",
      "x5             4.1396      2.166      1.911      0.057      -0.117       8.396\n",
      "==============================================================================\n",
      "Omnibus:                      684.914   Durbin-Watson:                   2.083\n",
      "Prob(Omnibus):                  0.000   Jarque-Bera (JB):           272880.448\n",
      "Skew:                           8.331   Prob(JB):                         0.00\n",
      "Kurtosis:                     123.858   Cond. No.                     1.66e+05\n",
      "==============================================================================\n",
      "\n",
      "Warnings:\n",
      "[1] Standard Errors assume that the covariance matrix of the errors is correctly specified.\n",
      "[2] The condition number is large, 1.66e+05. This might indicate that there are\n",
      "strong multicollinearity or other numerical problems.\n"
     ]
    }
   ],
   "source": [
    "lr_gohawks_before = OLS(gohawks_Y_before, gohawks_X_before).fit()\n",
    "\n",
    "print(lr_gohawks_before.summary())"
   ]
  },
  {
   "cell_type": "code",
   "execution_count": 95,
   "metadata": {},
   "outputs": [
    {
     "name": "stdout",
     "output_type": "stream",
     "text": [
      "MSE for #gohawks before Feb.1 8:00 a.m.: 290288.9768505377\n"
     ]
    }
   ],
   "source": [
    "gohawks_predict_before = lr_gohawks_before.predict(gohawks_X_before)\n",
    "gohawks_mse_before = tools.eval_measures.mse(gohawks_Y_before, gohawks_predict_before)\n",
    "\n",
    "print(\"MSE for #gohawks before Feb.1 8:00 a.m.:\", gohawks_mse_before)"
   ]
  },
  {
   "cell_type": "markdown",
   "metadata": {},
   "source": [
    "#### Between"
   ]
  },
  {
   "cell_type": "code",
   "execution_count": 96,
   "metadata": {},
   "outputs": [
    {
     "name": "stdout",
     "output_type": "stream",
     "text": [
      "                            OLS Regression Results                            \n",
      "==============================================================================\n",
      "Dep. Variable:                      y   R-squared:                       0.628\n",
      "Model:                            OLS   Adj. R-squared:                  0.615\n",
      "Method:                 Least Squares   F-statistic:                     47.02\n",
      "Date:                Wed, 13 Mar 2019   Prob (F-statistic):           2.94e-28\n",
      "Time:                        20:09:51   Log-Likelihood:                -1047.6\n",
      "No. Observations:                 144   AIC:                             2105.\n",
      "Df Residuals:                     139   BIC:                             2120.\n",
      "Df Model:                           5                                         \n",
      "Covariance Type:            nonrobust                                         \n",
      "==============================================================================\n",
      "                 coef    std err          t      P>|t|      [0.025      0.975]\n",
      "------------------------------------------------------------------------------\n",
      "x1             0.5648      0.316      1.785      0.076      -0.061       1.190\n",
      "x2            -0.0006      0.238     -0.003      0.998      -0.471       0.470\n",
      "x3            -0.0001      0.000     -1.039      0.301      -0.000       0.000\n",
      "x4             0.0002      0.000      1.139      0.257      -0.000       0.001\n",
      "x5            17.8313      3.683      4.842      0.000      10.550      25.112\n",
      "==============================================================================\n",
      "Omnibus:                      139.964   Durbin-Watson:                   2.073\n",
      "Prob(Omnibus):                  0.000   Jarque-Bera (JB):             1876.530\n",
      "Skew:                           3.624   Prob(JB):                         0.00\n",
      "Kurtosis:                      19.132   Cond. No.                     1.77e+05\n",
      "==============================================================================\n",
      "\n",
      "Warnings:\n",
      "[1] Standard Errors assume that the covariance matrix of the errors is correctly specified.\n",
      "[2] The condition number is large, 1.77e+05. This might indicate that there are\n",
      "strong multicollinearity or other numerical problems.\n"
     ]
    }
   ],
   "source": [
    "lr_gohawks_between = OLS(gohawks_Y_between, gohawks_X_between).fit()\n",
    "\n",
    "print(lr_gohawks_between.summary())"
   ]
  },
  {
   "cell_type": "code",
   "execution_count": 97,
   "metadata": {},
   "outputs": [
    {
     "name": "stdout",
     "output_type": "stream",
     "text": [
      "MSE for #gohawks between Feb.1 8:00 a.m. and Feb.1 8:00 p.m.: 122111.32561250444\n"
     ]
    }
   ],
   "source": [
    "gohawks_predict_between = lr_gohawks_between.predict(gohawks_X_between)\n",
    "gohawks_mse_between = tools.eval_measures.mse(gohawks_Y_between, gohawks_predict_between)\n",
    "\n",
    "print(\"MSE for #gohawks between Feb.1 8:00 a.m. and Feb.1 8:00 p.m.:\", gohawks_mse_between)"
   ]
  },
  {
   "cell_type": "markdown",
   "metadata": {},
   "source": [
    "#### After"
   ]
  },
  {
   "cell_type": "code",
   "execution_count": 98,
   "metadata": {},
   "outputs": [
    {
     "name": "stdout",
     "output_type": "stream",
     "text": [
      "                            OLS Regression Results                            \n",
      "==============================================================================\n",
      "Dep. Variable:                      y   R-squared:                       0.882\n",
      "Model:                            OLS   Adj. R-squared:                  0.877\n",
      "Method:                 Least Squares   F-statistic:                     180.1\n",
      "Date:                Wed, 13 Mar 2019   Prob (F-statistic):           2.69e-54\n",
      "Time:                        20:10:42   Log-Likelihood:                -657.72\n",
      "No. Observations:                 126   AIC:                             1325.\n",
      "Df Residuals:                     121   BIC:                             1340.\n",
      "Df Model:                           5                                         \n",
      "Covariance Type:            nonrobust                                         \n",
      "==============================================================================\n",
      "                 coef    std err          t      P>|t|      [0.025      0.975]\n",
      "------------------------------------------------------------------------------\n",
      "x1             0.6358      0.135      4.704      0.000       0.368       0.903\n",
      "x2             0.0511      0.006      8.834      0.000       0.040       0.063\n",
      "x3         -7.242e-05      0.000     -0.521      0.603      -0.000       0.000\n",
      "x4            -0.0002      0.000     -1.700      0.092      -0.001       4e-05\n",
      "x5             0.1564      0.321      0.488      0.626      -0.478       0.791\n",
      "==============================================================================\n",
      "Omnibus:                       77.485   Durbin-Watson:                   1.290\n",
      "Prob(Omnibus):                  0.000   Jarque-Bera (JB):             4226.179\n",
      "Skew:                          -1.166   Prob(JB):                         0.00\n",
      "Kurtosis:                      31.276   Cond. No.                     2.30e+04\n",
      "==============================================================================\n",
      "\n",
      "Warnings:\n",
      "[1] Standard Errors assume that the covariance matrix of the errors is correctly specified.\n",
      "[2] The condition number is large, 2.3e+04. This might indicate that there are\n",
      "strong multicollinearity or other numerical problems.\n"
     ]
    }
   ],
   "source": [
    "lr_gohawks_after = OLS(gohawks_Y_after, gohawks_X_after).fit()\n",
    "\n",
    "print(lr_gohawks_after.summary())"
   ]
  },
  {
   "cell_type": "code",
   "execution_count": 99,
   "metadata": {},
   "outputs": [
    {
     "name": "stdout",
     "output_type": "stream",
     "text": [
      "MSE for #gohawks after Feb.1 8:00 p.m.: 2002.4089945633855\n"
     ]
    }
   ],
   "source": [
    "gohawks_predict_after = lr_gohawks_after.predict(gohawks_X_after)\n",
    "gohawks_mse_after = tools.eval_measures.mse(gohawks_Y_after, gohawks_predict_after)\n",
    "\n",
    "print(\"MSE for #gohawks after Feb.1 8:00 p.m.:\", gohawks_mse_after)"
   ]
  },
  {
   "cell_type": "markdown",
   "metadata": {},
   "source": [
    "### Gopatriots"
   ]
  },
  {
   "cell_type": "code",
   "execution_count": 100,
   "metadata": {},
   "outputs": [],
   "source": [
    "time_window_before_gopatriots, time_window_between_gopatriots, time_window_after_gopatriots = extract_feature_v3(files[1])\n",
    "\n",
    "gopatriots_X_before = time_window_before_gopatriots[0:-1,:]\n",
    "gopatriots_Y_before = time_window_before_gopatriots[1:,0]\n",
    "\n",
    "gopatriots_X_between = time_window_between_gopatriots[0:-1,:]\n",
    "gopatriots_Y_between = time_window_between_gopatriots[1:,0]\n",
    "\n",
    "gopatriots_X_after = time_window_after_gopatriots[0:-1,:]\n",
    "gopatriots_Y_after = time_window_after_gopatriots[1:,0]"
   ]
  },
  {
   "cell_type": "markdown",
   "metadata": {},
   "source": [
    "#### Before"
   ]
  },
  {
   "cell_type": "code",
   "execution_count": 102,
   "metadata": {},
   "outputs": [
    {
     "name": "stdout",
     "output_type": "stream",
     "text": [
      "                            OLS Regression Results                            \n",
      "==============================================================================\n",
      "Dep. Variable:                      y   R-squared:                       0.463\n",
      "Model:                            OLS   Adj. R-squared:                  0.456\n",
      "Method:                 Least Squares   F-statistic:                     74.52\n",
      "Date:                Wed, 13 Mar 2019   Prob (F-statistic):           3.22e-56\n",
      "Time:                        20:11:48   Log-Likelihood:                -2349.6\n",
      "No. Observations:                 438   AIC:                             4709.\n",
      "Df Residuals:                     433   BIC:                             4730.\n",
      "Df Model:                           5                                         \n",
      "Covariance Type:            nonrobust                                         \n",
      "==============================================================================\n",
      "                 coef    std err          t      P>|t|      [0.025      0.975]\n",
      "------------------------------------------------------------------------------\n",
      "x1             3.6487      0.349     10.452      0.000       2.963       4.335\n",
      "x2            -0.5507      0.133     -4.133      0.000      -0.813      -0.289\n",
      "x3            -0.0023      0.000     -7.431      0.000      -0.003      -0.002\n",
      "x4             0.0024      0.000      7.573      0.000       0.002       0.003\n",
      "x5            -0.0703      0.208     -0.338      0.735      -0.479       0.338\n",
      "==============================================================================\n",
      "Omnibus:                      772.016   Durbin-Watson:                   2.336\n",
      "Prob(Omnibus):                  0.000   Jarque-Bera (JB):           450411.835\n",
      "Skew:                          10.638   Prob(JB):                         0.00\n",
      "Kurtosis:                     158.652   Cond. No.                     3.63e+04\n",
      "==============================================================================\n",
      "\n",
      "Warnings:\n",
      "[1] Standard Errors assume that the covariance matrix of the errors is correctly specified.\n",
      "[2] The condition number is large, 3.63e+04. This might indicate that there are\n",
      "strong multicollinearity or other numerical problems.\n"
     ]
    }
   ],
   "source": [
    "lr_gopatriots_before = OLS(gopatriots_Y_before, gopatriots_X_before).fit()\n",
    "\n",
    "print(lr_gopatriots_before.summary())"
   ]
  },
  {
   "cell_type": "code",
   "execution_count": 103,
   "metadata": {},
   "outputs": [
    {
     "name": "stdout",
     "output_type": "stream",
     "text": [
      "MSE for #gopatriots before Feb.1 8:00 a.m.: 2672.8059765906455\n"
     ]
    }
   ],
   "source": [
    "gopatriots_predict_before = lr_gopatriots_before.predict(gopatriots_X_before)\n",
    "gopatriots_mse_before = tools.eval_measures.mse(gopatriots_Y_before, gopatriots_predict_before)\n",
    "\n",
    "print(\"MSE for #gopatriots before Feb.1 8:00 a.m.:\", gopatriots_mse_before)"
   ]
  },
  {
   "cell_type": "markdown",
   "metadata": {},
   "source": [
    "#### Between"
   ]
  },
  {
   "cell_type": "code",
   "execution_count": 104,
   "metadata": {},
   "outputs": [
    {
     "name": "stdout",
     "output_type": "stream",
     "text": [
      "                            OLS Regression Results                            \n",
      "==============================================================================\n",
      "Dep. Variable:                      y   R-squared:                       0.589\n",
      "Model:                            OLS   Adj. R-squared:                  0.574\n",
      "Method:                 Least Squares   F-statistic:                     39.80\n",
      "Date:                Wed, 13 Mar 2019   Prob (F-statistic):           3.11e-25\n",
      "Time:                        20:12:16   Log-Likelihood:                -903.12\n",
      "No. Observations:                 144   AIC:                             1816.\n",
      "Df Residuals:                     139   BIC:                             1831.\n",
      "Df Model:                           5                                         \n",
      "Covariance Type:            nonrobust                                         \n",
      "==============================================================================\n",
      "                 coef    std err          t      P>|t|      [0.025      0.975]\n",
      "------------------------------------------------------------------------------\n",
      "x1             0.0081      0.376      0.022      0.983      -0.734       0.751\n",
      "x2             0.3077      0.293      1.049      0.296      -0.272       0.887\n",
      "x3             0.0001      0.000      0.868      0.387      -0.000       0.000\n",
      "x4            -0.0002      0.000     -0.975      0.331      -0.001       0.000\n",
      "x5             5.0531      1.124      4.496      0.000       2.831       7.275\n",
      "==============================================================================\n",
      "Omnibus:                      142.538   Durbin-Watson:                   2.284\n",
      "Prob(Omnibus):                  0.000   Jarque-Bera (JB):             2328.691\n",
      "Skew:                           3.611   Prob(JB):                         0.00\n",
      "Kurtosis:                      21.329   Cond. No.                     3.14e+04\n",
      "==============================================================================\n",
      "\n",
      "Warnings:\n",
      "[1] Standard Errors assume that the covariance matrix of the errors is correctly specified.\n",
      "[2] The condition number is large, 3.14e+04. This might indicate that there are\n",
      "strong multicollinearity or other numerical problems.\n"
     ]
    }
   ],
   "source": [
    "lr_gopatriots_between = OLS(gopatriots_Y_between, gopatriots_X_between).fit()\n",
    "\n",
    "print(lr_gopatriots_between.summary())"
   ]
  },
  {
   "cell_type": "code",
   "execution_count": 105,
   "metadata": {},
   "outputs": [
    {
     "name": "stdout",
     "output_type": "stream",
     "text": [
      "MSE for #gopatriots between Feb.1 8:00 a.m. and Feb.1 8:00 p.m.: 16405.867336461277\n"
     ]
    }
   ],
   "source": [
    "gopatriots_predict_between = lr_gopatriots_between.predict(gopatriots_X_between)\n",
    "gopatriots_mse_between = tools.eval_measures.mse(gopatriots_Y_between, gopatriots_predict_between)\n",
    "\n",
    "print(\"MSE for #gopatriots between Feb.1 8:00 a.m. and Feb.1 8:00 p.m.:\", gopatriots_mse_between)"
   ]
  },
  {
   "cell_type": "markdown",
   "metadata": {},
   "source": [
    "#### After"
   ]
  },
  {
   "cell_type": "code",
   "execution_count": 106,
   "metadata": {},
   "outputs": [
    {
     "name": "stdout",
     "output_type": "stream",
     "text": [
      "                            OLS Regression Results                            \n",
      "==============================================================================\n",
      "Dep. Variable:                      y   R-squared:                       0.770\n",
      "Model:                            OLS   Adj. R-squared:                  0.761\n",
      "Method:                 Least Squares   F-statistic:                     79.76\n",
      "Date:                Wed, 13 Mar 2019   Prob (F-statistic):           2.44e-36\n",
      "Time:                        20:12:46   Log-Likelihood:                -454.59\n",
      "No. Observations:                 124   AIC:                             919.2\n",
      "Df Residuals:                     119   BIC:                             933.3\n",
      "Df Model:                           5                                         \n",
      "Covariance Type:            nonrobust                                         \n",
      "==============================================================================\n",
      "                 coef    std err          t      P>|t|      [0.025      0.975]\n",
      "------------------------------------------------------------------------------\n",
      "x1             0.5825      0.224      2.605      0.010       0.140       1.025\n",
      "x2             0.0409      0.035      1.177      0.242      -0.028       0.110\n",
      "x3         -6.742e-05      0.000     -0.167      0.867      -0.001       0.001\n",
      "x4             0.0006      0.001      1.107      0.270      -0.001       0.002\n",
      "x5             0.0414      0.066      0.623      0.534      -0.090       0.173\n",
      "==============================================================================\n",
      "Omnibus:                      198.908   Durbin-Watson:                   1.814\n",
      "Prob(Omnibus):                  0.000   Jarque-Bera (JB):            20394.467\n",
      "Skew:                           6.349   Prob(JB):                         0.00\n",
      "Kurtosis:                      64.531   Cond. No.                     4.42e+03\n",
      "==============================================================================\n",
      "\n",
      "Warnings:\n",
      "[1] Standard Errors assume that the covariance matrix of the errors is correctly specified.\n",
      "[2] The condition number is large, 4.42e+03. This might indicate that there are\n",
      "strong multicollinearity or other numerical problems.\n"
     ]
    }
   ],
   "source": [
    "lr_gopatriots_after = OLS(gopatriots_Y_after, gopatriots_X_after).fit()\n",
    "\n",
    "print(lr_gopatriots_after.summary())"
   ]
  },
  {
   "cell_type": "code",
   "execution_count": 107,
   "metadata": {},
   "outputs": [
    {
     "name": "stdout",
     "output_type": "stream",
     "text": [
      "MSE for #gopatriots after Feb.1 8:00 p.m.: 89.50224958341417\n"
     ]
    }
   ],
   "source": [
    "gopatriots_predict_after = lr_gopatriots_after.predict(gopatriots_X_after)\n",
    "gopatriots_mse_after = tools.eval_measures.mse(gopatriots_Y_after, gopatriots_predict_after)\n",
    "\n",
    "print(\"MSE for #gopatriots after Feb.1 8:00 p.m.:\", gopatriots_mse_after)"
   ]
  },
  {
   "cell_type": "markdown",
   "metadata": {},
   "source": [
    "### nfl"
   ]
  },
  {
   "cell_type": "code",
   "execution_count": 108,
   "metadata": {},
   "outputs": [],
   "source": [
    "time_window_before_nfl, time_window_between_nfl, time_window_after_nfl = extract_feature_v3(files[2])\n",
    "\n",
    "nfl_X_before = time_window_before_nfl[0:-1,:]\n",
    "nfl_Y_before = time_window_before_nfl[1:,0]\n",
    "\n",
    "nfl_X_between = time_window_between_nfl[0:-1,:]\n",
    "nfl_Y_between = time_window_between_nfl[1:,0]\n",
    "\n",
    "nfl_X_after = time_window_after_nfl[0:-1,:]\n",
    "nfl_Y_after = time_window_after_nfl[1:,0]"
   ]
  },
  {
   "cell_type": "markdown",
   "metadata": {},
   "source": [
    "### Before"
   ]
  },
  {
   "cell_type": "code",
   "execution_count": 109,
   "metadata": {},
   "outputs": [
    {
     "name": "stdout",
     "output_type": "stream",
     "text": [
      "                            OLS Regression Results                            \n",
      "==============================================================================\n",
      "Dep. Variable:                      y   R-squared:                       0.719\n",
      "Model:                            OLS   Adj. R-squared:                  0.716\n",
      "Method:                 Least Squares   F-statistic:                     222.7\n",
      "Date:                Wed, 13 Mar 2019   Prob (F-statistic):          1.73e-117\n",
      "Time:                        20:13:40   Log-Likelihood:                -3035.9\n",
      "No. Observations:                 440   AIC:                             6082.\n",
      "Df Residuals:                     435   BIC:                             6102.\n",
      "Df Model:                           5                                         \n",
      "Covariance Type:            nonrobust                                         \n",
      "==============================================================================\n",
      "                 coef    std err          t      P>|t|      [0.025      0.975]\n",
      "------------------------------------------------------------------------------\n",
      "x1             0.7611      0.088      8.655      0.000       0.588       0.934\n",
      "x2            -0.1053      0.043     -2.439      0.015      -0.190      -0.020\n",
      "x3           5.86e-05   1.63e-05      3.586      0.000    2.65e-05    9.07e-05\n",
      "x4         -6.915e-05   2.45e-05     -2.824      0.005      -0.000    -2.1e-05\n",
      "x5             4.0275      1.082      3.721      0.000       1.900       6.155\n",
      "==============================================================================\n",
      "Omnibus:                      345.038   Durbin-Watson:                   2.182\n",
      "Prob(Omnibus):                  0.000   Jarque-Bera (JB):            49138.693\n",
      "Skew:                           2.475   Prob(JB):                         0.00\n",
      "Kurtosis:                      54.534   Cond. No.                     2.78e+05\n",
      "==============================================================================\n",
      "\n",
      "Warnings:\n",
      "[1] Standard Errors assume that the covariance matrix of the errors is correctly specified.\n",
      "[2] The condition number is large, 2.78e+05. This might indicate that there are\n",
      "strong multicollinearity or other numerical problems.\n"
     ]
    }
   ],
   "source": [
    "lr_nfl_before = OLS(nfl_Y_before, nfl_X_before).fit()\n",
    "\n",
    "print(lr_nfl_before.summary())"
   ]
  },
  {
   "cell_type": "code",
   "execution_count": 110,
   "metadata": {},
   "outputs": [
    {
     "name": "stdout",
     "output_type": "stream",
     "text": [
      "MSE for #nfl before Feb.1 8:00 a.m.: 57620.761625163344\n"
     ]
    }
   ],
   "source": [
    "nfl_predict_before = lr_nfl_before.predict(nfl_X_before)\n",
    "nfl_mse_before = tools.eval_measures.mse(nfl_Y_before, nfl_predict_before)\n",
    "\n",
    "print(\"MSE for #nfl before Feb.1 8:00 a.m.:\", nfl_mse_before)"
   ]
  },
  {
   "cell_type": "markdown",
   "metadata": {},
   "source": [
    "#### Between"
   ]
  },
  {
   "cell_type": "code",
   "execution_count": 111,
   "metadata": {},
   "outputs": [
    {
     "name": "stdout",
     "output_type": "stream",
     "text": [
      "                            OLS Regression Results                            \n",
      "==============================================================================\n",
      "Dep. Variable:                      y   R-squared:                       0.896\n",
      "Model:                            OLS   Adj. R-squared:                  0.892\n",
      "Method:                 Least Squares   F-statistic:                     239.0\n",
      "Date:                Wed, 13 Mar 2019   Prob (F-statistic):           2.09e-66\n",
      "Time:                        20:14:19   Log-Likelihood:                -927.50\n",
      "No. Observations:                 144   AIC:                             1865.\n",
      "Df Residuals:                     139   BIC:                             1880.\n",
      "Df Model:                           5                                         \n",
      "Covariance Type:            nonrobust                                         \n",
      "==============================================================================\n",
      "                 coef    std err          t      P>|t|      [0.025      0.975]\n",
      "------------------------------------------------------------------------------\n",
      "x1             1.0802      0.116      9.340      0.000       0.852       1.309\n",
      "x2            -0.0812      0.058     -1.404      0.163      -0.196       0.033\n",
      "x3          -2.61e-05   2.98e-05     -0.877      0.382    -8.5e-05    3.28e-05\n",
      "x4          6.504e-06   4.17e-05      0.156      0.876   -7.59e-05    8.89e-05\n",
      "x5             4.0103      1.610      2.492      0.014       0.828       7.193\n",
      "==============================================================================\n",
      "Omnibus:                       66.351   Durbin-Watson:                   2.075\n",
      "Prob(Omnibus):                  0.000   Jarque-Bera (JB):              280.128\n",
      "Skew:                           1.658   Prob(JB):                     1.48e-61\n",
      "Kurtosis:                       8.974   Cond. No.                     3.12e+05\n",
      "==============================================================================\n",
      "\n",
      "Warnings:\n",
      "[1] Standard Errors assume that the covariance matrix of the errors is correctly specified.\n",
      "[2] The condition number is large, 3.12e+05. This might indicate that there are\n",
      "strong multicollinearity or other numerical problems.\n"
     ]
    }
   ],
   "source": [
    "lr_nfl_between = OLS(nfl_Y_between, nfl_X_between).fit()\n",
    "\n",
    "print(lr_nfl_between.summary())"
   ]
  },
  {
   "cell_type": "code",
   "execution_count": 112,
   "metadata": {},
   "outputs": [
    {
     "name": "stdout",
     "output_type": "stream",
     "text": [
      "MSE for #nfl between Feb.1 8:00 a.m. and Feb.1 8:00 p.m.: 23019.976901364116\n"
     ]
    }
   ],
   "source": [
    "nfl_predict_between = lr_nfl_between.predict(nfl_X_between)\n",
    "nfl_mse_between = tools.eval_measures.mse(nfl_Y_between, nfl_predict_between)\n",
    "\n",
    "print(\"MSE for #nfl between Feb.1 8:00 a.m. and Feb.1 8:00 p.m.:\", nfl_mse_between)"
   ]
  },
  {
   "cell_type": "markdown",
   "metadata": {},
   "source": [
    "#### After"
   ]
  },
  {
   "cell_type": "code",
   "execution_count": 113,
   "metadata": {},
   "outputs": [
    {
     "name": "stdout",
     "output_type": "stream",
     "text": [
      "                            OLS Regression Results                            \n",
      "==============================================================================\n",
      "Dep. Variable:                      y   R-squared:                       0.947\n",
      "Model:                            OLS   Adj. R-squared:                  0.945\n",
      "Method:                 Least Squares   F-statistic:                     465.5\n",
      "Date:                Wed, 13 Mar 2019   Prob (F-statistic):           3.98e-81\n",
      "Time:                        20:14:36   Log-Likelihood:                -847.89\n",
      "No. Observations:                 135   AIC:                             1706.\n",
      "Df Residuals:                     130   BIC:                             1720.\n",
      "Df Model:                           5                                         \n",
      "Covariance Type:            nonrobust                                         \n",
      "==============================================================================\n",
      "                 coef    std err          t      P>|t|      [0.025      0.975]\n",
      "------------------------------------------------------------------------------\n",
      "x1             0.9287      0.097      9.545      0.000       0.736       1.121\n",
      "x2             0.0088      0.042      0.212      0.832      -0.074       0.091\n",
      "x3          9.926e-06   2.33e-05      0.426      0.671   -3.62e-05     5.6e-05\n",
      "x4          6.467e-07   3.28e-05      0.020      0.984   -6.42e-05    6.55e-05\n",
      "x5            -0.6852      1.585     -0.432      0.666      -3.820       2.450\n",
      "==============================================================================\n",
      "Omnibus:                       23.564   Durbin-Watson:                   2.051\n",
      "Prob(Omnibus):                  0.000   Jarque-Bera (JB):               51.548\n",
      "Skew:                           0.712   Prob(JB):                     6.40e-12\n",
      "Kurtosis:                       5.672   Cond. No.                     4.09e+05\n",
      "==============================================================================\n",
      "\n",
      "Warnings:\n",
      "[1] Standard Errors assume that the covariance matrix of the errors is correctly specified.\n",
      "[2] The condition number is large, 4.09e+05. This might indicate that there are\n",
      "strong multicollinearity or other numerical problems.\n"
     ]
    }
   ],
   "source": [
    "lr_nfl_after = OLS(nfl_Y_after, nfl_X_after).fit()\n",
    "\n",
    "print(lr_nfl_after.summary())"
   ]
  },
  {
   "cell_type": "code",
   "execution_count": 114,
   "metadata": {},
   "outputs": [
    {
     "name": "stdout",
     "output_type": "stream",
     "text": [
      "MSE for #nfl after Feb.1 8:00 p.m.: 16706.081053186925\n"
     ]
    }
   ],
   "source": [
    "nfl_predict_after = lr_nfl_after.predict(nfl_X_after)\n",
    "nfl_mse_after = tools.eval_measures.mse(nfl_Y_after, nfl_predict_after)\n",
    "\n",
    "print(\"MSE for #nfl after Feb.1 8:00 p.m.:\", nfl_mse_after)"
   ]
  },
  {
   "cell_type": "markdown",
   "metadata": {},
   "source": [
    "### Patriots"
   ]
  },
  {
   "cell_type": "code",
   "execution_count": 115,
   "metadata": {},
   "outputs": [],
   "source": [
    "time_window_before_patriots, time_window_between_patriots, time_window_after_patriots = extract_feature_v3(files[3])\n",
    "\n",
    "patriots_X_before = time_window_before_patriots[0:-1,:]\n",
    "patriots_Y_before = time_window_before_patriots[1:,0]\n",
    "\n",
    "patriots_X_between = time_window_between_patriots[0:-1,:]\n",
    "patriots_Y_between = time_window_between_patriots[1:,0]\n",
    "\n",
    "patriots_X_after = time_window_after_patriots[0:-1,:]\n",
    "patriots_Y_after = time_window_after_patriots[1:,0]"
   ]
  },
  {
   "cell_type": "markdown",
   "metadata": {},
   "source": [
    "### Before"
   ]
  },
  {
   "cell_type": "code",
   "execution_count": 116,
   "metadata": {},
   "outputs": [
    {
     "name": "stdout",
     "output_type": "stream",
     "text": [
      "                            OLS Regression Results                            \n",
      "==============================================================================\n",
      "Dep. Variable:                      y   R-squared:                       0.556\n",
      "Model:                            OLS   Adj. R-squared:                  0.551\n",
      "Method:                 Least Squares   F-statistic:                     109.0\n",
      "Date:                Wed, 13 Mar 2019   Prob (F-statistic):           1.94e-74\n",
      "Time:                        20:15:41   Log-Likelihood:                -3470.0\n",
      "No. Observations:                 440   AIC:                             6950.\n",
      "Df Residuals:                     435   BIC:                             6970.\n",
      "Df Model:                           5                                         \n",
      "Covariance Type:            nonrobust                                         \n",
      "==============================================================================\n",
      "                 coef    std err          t      P>|t|      [0.025      0.975]\n",
      "------------------------------------------------------------------------------\n",
      "x1            -1.0600      0.206     -5.152      0.000      -1.464      -0.656\n",
      "x2             0.3424      0.081      4.205      0.000       0.182       0.502\n",
      "x3             0.0003   4.09e-05      7.471      0.000       0.000       0.000\n",
      "x4            -0.0004   6.28e-05     -6.868      0.000      -0.001      -0.000\n",
      "x5             6.2593      2.655      2.357      0.019       1.041      11.478\n",
      "==============================================================================\n",
      "Omnibus:                      510.672   Durbin-Watson:                   2.256\n",
      "Prob(Omnibus):                  0.000   Jarque-Bera (JB):            75354.445\n",
      "Skew:                           5.011   Prob(JB):                         0.00\n",
      "Kurtosis:                      66.323   Cond. No.                     3.71e+05\n",
      "==============================================================================\n",
      "\n",
      "Warnings:\n",
      "[1] Standard Errors assume that the covariance matrix of the errors is correctly specified.\n",
      "[2] The condition number is large, 3.71e+05. This might indicate that there are\n",
      "strong multicollinearity or other numerical problems.\n"
     ]
    }
   ],
   "source": [
    "lr_patriots_before = OLS(patriots_Y_before, patriots_X_before).fit()\n",
    "\n",
    "print(lr_patriots_before.summary())"
   ]
  },
  {
   "cell_type": "code",
   "execution_count": 117,
   "metadata": {},
   "outputs": [
    {
     "name": "stdout",
     "output_type": "stream",
     "text": [
      "MSE for #patriots before Feb.1 8:00 a.m.: 414481.8008567433\n"
     ]
    }
   ],
   "source": [
    "patriots_predict_before = lr_patriots_before.predict(patriots_X_before)\n",
    "patriots_mse_before = tools.eval_measures.mse(patriots_Y_before, patriots_predict_before)\n",
    "\n",
    "print(\"MSE for #patriots before Feb.1 8:00 a.m.:\", patriots_mse_before)"
   ]
  },
  {
   "cell_type": "markdown",
   "metadata": {},
   "source": [
    "#### Between"
   ]
  },
  {
   "cell_type": "code",
   "execution_count": 119,
   "metadata": {},
   "outputs": [
    {
     "name": "stdout",
     "output_type": "stream",
     "text": [
      "                            OLS Regression Results                            \n",
      "==============================================================================\n",
      "Dep. Variable:                      y   R-squared:                       0.891\n",
      "Model:                            OLS   Adj. R-squared:                  0.887\n",
      "Method:                 Least Squares   F-statistic:                     227.3\n",
      "Date:                Wed, 13 Mar 2019   Prob (F-statistic):           4.66e-65\n",
      "Time:                        20:16:05   Log-Likelihood:                -1169.1\n",
      "No. Observations:                 144   AIC:                             2348.\n",
      "Df Residuals:                     139   BIC:                             2363.\n",
      "Df Model:                           5                                         \n",
      "Covariance Type:            nonrobust                                         \n",
      "==============================================================================\n",
      "                 coef    std err          t      P>|t|      [0.025      0.975]\n",
      "------------------------------------------------------------------------------\n",
      "x1             0.8512      0.240      3.549      0.001       0.377       1.325\n",
      "x2             0.0813      0.216      0.377      0.707      -0.345       0.508\n",
      "x3            -0.0002    4.5e-05     -3.351      0.001      -0.000   -6.18e-05\n",
      "x4             0.0003   9.33e-05      2.798      0.006    7.65e-05       0.000\n",
      "x5            34.1856      9.002      3.797      0.000      16.387      51.984\n",
      "==============================================================================\n",
      "Omnibus:                      100.019   Durbin-Watson:                   2.029\n",
      "Prob(Omnibus):                  0.000   Jarque-Bera (JB):              678.399\n",
      "Skew:                           2.508   Prob(JB):                    4.87e-148\n",
      "Kurtosis:                      12.375   Cond. No.                     6.59e+05\n",
      "==============================================================================\n",
      "\n",
      "Warnings:\n",
      "[1] Standard Errors assume that the covariance matrix of the errors is correctly specified.\n",
      "[2] The condition number is large, 6.59e+05. This might indicate that there are\n",
      "strong multicollinearity or other numerical problems.\n"
     ]
    }
   ],
   "source": [
    "lr_patriots_between = OLS(patriots_Y_between, patriots_X_between).fit()\n",
    "\n",
    "print(lr_patriots_between.summary())"
   ]
  },
  {
   "cell_type": "code",
   "execution_count": 120,
   "metadata": {},
   "outputs": [
    {
     "name": "stdout",
     "output_type": "stream",
     "text": [
      "MSE for #patriots between Feb.1 8:00 a.m. and Feb.1 8:00 p.m.: 660210.5187346721\n"
     ]
    }
   ],
   "source": [
    "patriots_predict_between = lr_patriots_between.predict(patriots_X_between)\n",
    "patriots_mse_between = tools.eval_measures.mse(patriots_Y_between, patriots_predict_between)\n",
    "\n",
    "print(\"MSE for #patriots between Feb.1 8:00 a.m. and Feb.1 8:00 p.m.:\", patriots_mse_between)"
   ]
  },
  {
   "cell_type": "markdown",
   "metadata": {},
   "source": [
    "#### After"
   ]
  },
  {
   "cell_type": "code",
   "execution_count": 121,
   "metadata": {},
   "outputs": [
    {
     "name": "stdout",
     "output_type": "stream",
     "text": [
      "                            OLS Regression Results                            \n",
      "==============================================================================\n",
      "Dep. Variable:                      y   R-squared:                       0.928\n",
      "Model:                            OLS   Adj. R-squared:                  0.925\n",
      "Method:                 Least Squares   F-statistic:                     333.5\n",
      "Date:                Wed, 13 Mar 2019   Prob (F-statistic):           2.57e-72\n",
      "Time:                        20:16:28   Log-Likelihood:                -825.09\n",
      "No. Observations:                 135   AIC:                             1660.\n",
      "Df Residuals:                     130   BIC:                             1675.\n",
      "Df Model:                           5                                         \n",
      "Covariance Type:            nonrobust                                         \n",
      "==============================================================================\n",
      "                 coef    std err          t      P>|t|      [0.025      0.975]\n",
      "------------------------------------------------------------------------------\n",
      "x1            -0.0117      0.090     -0.130      0.897      -0.190       0.166\n",
      "x2             0.0502      0.006      8.304      0.000       0.038       0.062\n",
      "x3             0.0001   1.54e-05      7.150      0.000    7.96e-05       0.000\n",
      "x4          -9.56e-05   2.02e-05     -4.735      0.000      -0.000   -5.57e-05\n",
      "x5             2.8839      0.869      3.320      0.001       1.165       4.602\n",
      "==============================================================================\n",
      "Omnibus:                       70.782   Durbin-Watson:                   1.724\n",
      "Prob(Omnibus):                  0.000   Jarque-Bera (JB):              889.894\n",
      "Skew:                           1.422   Prob(JB):                    5.78e-194\n",
      "Kurtosis:                      15.252   Cond. No.                     2.92e+05\n",
      "==============================================================================\n",
      "\n",
      "Warnings:\n",
      "[1] Standard Errors assume that the covariance matrix of the errors is correctly specified.\n",
      "[2] The condition number is large, 2.92e+05. This might indicate that there are\n",
      "strong multicollinearity or other numerical problems.\n"
     ]
    }
   ],
   "source": [
    "lr_patriots_after = OLS(patriots_Y_after, patriots_X_after).fit()\n",
    "\n",
    "print(lr_patriots_after.summary())"
   ]
  },
  {
   "cell_type": "code",
   "execution_count": 122,
   "metadata": {},
   "outputs": [
    {
     "name": "stdout",
     "output_type": "stream",
     "text": [
      "MSE for #patriots after Feb.1 8:00 p.m.: 11916.856419764154\n"
     ]
    }
   ],
   "source": [
    "patriots_predict_after = lr_patriots_after.predict(patriots_X_after)\n",
    "patriots_mse_after = tools.eval_measures.mse(patriots_Y_after, patriots_predict_after)\n",
    "\n",
    "print(\"MSE for #patriots after Feb.1 8:00 p.m.:\", patriots_mse_after)"
   ]
  },
  {
   "cell_type": "markdown",
   "metadata": {},
   "source": [
    "### sb49"
   ]
  },
  {
   "cell_type": "code",
   "execution_count": 123,
   "metadata": {},
   "outputs": [],
   "source": [
    "time_window_before_sb49, time_window_between_sb49, time_window_after_sb49 = extract_feature_v3(files[4])\n",
    "\n",
    "sb49_X_before = time_window_before_sb49[0:-1,:]\n",
    "sb49_Y_before = time_window_before_sb49[1:,0]\n",
    "\n",
    "sb49_X_between = time_window_between_sb49[0:-1,:]\n",
    "sb49_Y_between = time_window_between_sb49[1:,0]\n",
    "\n",
    "sb49_X_after = time_window_after_sb49[0:-1,:]\n",
    "sb49_Y_after = time_window_after_sb49[1:,0]"
   ]
  },
  {
   "cell_type": "markdown",
   "metadata": {},
   "source": [
    "#### Before"
   ]
  },
  {
   "cell_type": "code",
   "execution_count": 124,
   "metadata": {},
   "outputs": [
    {
     "name": "stdout",
     "output_type": "stream",
     "text": [
      "                            OLS Regression Results                            \n",
      "==============================================================================\n",
      "Dep. Variable:                      y   R-squared:                       0.883\n",
      "Model:                            OLS   Adj. R-squared:                  0.881\n",
      "Method:                 Least Squares   F-statistic:                     647.6\n",
      "Date:                Wed, 13 Mar 2019   Prob (F-statistic):          1.37e-197\n",
      "Time:                        20:17:44   Log-Likelihood:                -2547.1\n",
      "No. Observations:                 435   AIC:                             5104.\n",
      "Df Residuals:                     430   BIC:                             5125.\n",
      "Df Model:                           5                                         \n",
      "Covariance Type:            nonrobust                                         \n",
      "==============================================================================\n",
      "                 coef    std err          t      P>|t|      [0.025      0.975]\n",
      "------------------------------------------------------------------------------\n",
      "x1             1.0251      0.039     26.460      0.000       0.949       1.101\n",
      "x2             0.0186      0.005      3.481      0.001       0.008       0.029\n",
      "x3         -2.481e-06   1.37e-06     -1.811      0.071   -5.17e-06    2.12e-07\n",
      "x4          2.587e-06   3.38e-06      0.765      0.444   -4.06e-06    9.23e-06\n",
      "x5            -0.5115      0.335     -1.529      0.127      -1.169       0.146\n",
      "==============================================================================\n",
      "Omnibus:                      249.865   Durbin-Watson:                   1.478\n",
      "Prob(Omnibus):                  0.000   Jarque-Bera (JB):             9750.085\n",
      "Skew:                           1.795   Prob(JB):                         0.00\n",
      "Kurtosis:                      25.914   Cond. No.                     7.86e+05\n",
      "==============================================================================\n",
      "\n",
      "Warnings:\n",
      "[1] Standard Errors assume that the covariance matrix of the errors is correctly specified.\n",
      "[2] The condition number is large, 7.86e+05. This might indicate that there are\n",
      "strong multicollinearity or other numerical problems.\n"
     ]
    }
   ],
   "source": [
    "lr_sb49_before = OLS(sb49_Y_before, sb49_X_before).fit()\n",
    "\n",
    "print(lr_sb49_before.summary())"
   ]
  },
  {
   "cell_type": "code",
   "execution_count": 125,
   "metadata": {},
   "outputs": [
    {
     "name": "stdout",
     "output_type": "stream",
     "text": [
      "MSE for #sb49 before Feb.1 8:00 a.m.: 7136.773182458622\n"
     ]
    }
   ],
   "source": [
    "sb49_predict_before = lr_sb49_before.predict(sb49_X_before)\n",
    "sb49_mse_before = tools.eval_measures.mse(sb49_Y_before, sb49_predict_before)\n",
    "\n",
    "print(\"MSE for #sb49 before Feb.1 8:00 a.m.:\", sb49_mse_before)"
   ]
  },
  {
   "cell_type": "markdown",
   "metadata": {},
   "source": [
    "#### Between"
   ]
  },
  {
   "cell_type": "code",
   "execution_count": 126,
   "metadata": {},
   "outputs": [
    {
     "name": "stdout",
     "output_type": "stream",
     "text": [
      "                            OLS Regression Results                            \n",
      "==============================================================================\n",
      "Dep. Variable:                      y   R-squared:                       0.947\n",
      "Model:                            OLS   Adj. R-squared:                  0.945\n",
      "Method:                 Least Squares   F-statistic:                     492.0\n",
      "Date:                Wed, 13 Mar 2019   Prob (F-statistic):           1.68e-86\n",
      "Time:                        20:17:44   Log-Likelihood:                -1232.8\n",
      "No. Observations:                 144   AIC:                             2476.\n",
      "Df Residuals:                     139   BIC:                             2491.\n",
      "Df Model:                           5                                         \n",
      "Covariance Type:            nonrobust                                         \n",
      "==============================================================================\n",
      "                 coef    std err          t      P>|t|      [0.025      0.975]\n",
      "------------------------------------------------------------------------------\n",
      "x1             1.0018      0.065     15.338      0.000       0.873       1.131\n",
      "x2            -0.0515      0.048     -1.083      0.281      -0.146       0.043\n",
      "x3          -3.01e-06   7.94e-06     -0.379      0.705   -1.87e-05    1.27e-05\n",
      "x4          3.252e-05   1.87e-05      1.742      0.084   -4.39e-06    6.94e-05\n",
      "x5            27.5609     15.475      1.781      0.077      -3.037      58.159\n",
      "==============================================================================\n",
      "Omnibus:                       24.767   Durbin-Watson:                   2.520\n",
      "Prob(Omnibus):                  0.000   Jarque-Bera (JB):              126.183\n",
      "Skew:                           0.339   Prob(JB):                     3.98e-28\n",
      "Kurtosis:                       7.535   Cond. No.                     7.05e+06\n",
      "==============================================================================\n",
      "\n",
      "Warnings:\n",
      "[1] Standard Errors assume that the covariance matrix of the errors is correctly specified.\n",
      "[2] The condition number is large, 7.05e+06. This might indicate that there are\n",
      "strong multicollinearity or other numerical problems.\n"
     ]
    }
   ],
   "source": [
    "lr_sb49_between = OLS(sb49_Y_between, sb49_X_between).fit()\n",
    "\n",
    "print(lr_sb49_between.summary())"
   ]
  },
  {
   "cell_type": "code",
   "execution_count": 127,
   "metadata": {},
   "outputs": [
    {
     "name": "stdout",
     "output_type": "stream",
     "text": [
      "MSE for #sb49 between Feb.1 8:00 a.m. and Feb.1 8:00 p.m.: 1598766.7936376657\n"
     ]
    }
   ],
   "source": [
    "sb49_predict_between = lr_sb49_between.predict(sb49_X_between)\n",
    "sb49_mse_between = tools.eval_measures.mse(sb49_Y_between, sb49_predict_between)\n",
    "\n",
    "print(\"MSE for #sb49 between Feb.1 8:00 a.m. and Feb.1 8:00 p.m.:\", sb49_mse_between)"
   ]
  },
  {
   "cell_type": "markdown",
   "metadata": {},
   "source": [
    "#### After"
   ]
  },
  {
   "cell_type": "code",
   "execution_count": 128,
   "metadata": {},
   "outputs": [
    {
     "name": "stdout",
     "output_type": "stream",
     "text": [
      "                            OLS Regression Results                            \n",
      "==============================================================================\n",
      "Dep. Variable:                      y   R-squared:                       0.925\n",
      "Model:                            OLS   Adj. R-squared:                  0.922\n",
      "Method:                 Least Squares   F-statistic:                     321.5\n",
      "Date:                Wed, 13 Mar 2019   Prob (F-statistic):           2.32e-71\n",
      "Time:                        20:18:11   Log-Likelihood:                -920.99\n",
      "No. Observations:                 135   AIC:                             1852.\n",
      "Df Residuals:                     130   BIC:                             1867.\n",
      "Df Model:                           5                                         \n",
      "Covariance Type:            nonrobust                                         \n",
      "==============================================================================\n",
      "                 coef    std err          t      P>|t|      [0.025      0.975]\n",
      "------------------------------------------------------------------------------\n",
      "x1             0.4415      0.066      6.692      0.000       0.311       0.572\n",
      "x2             0.0258      0.007      3.445      0.001       0.011       0.041\n",
      "x3          2.773e-05   4.51e-06      6.145      0.000    1.88e-05    3.67e-05\n",
      "x4         -4.001e-05    8.4e-06     -4.766      0.000   -5.66e-05   -2.34e-05\n",
      "x5             0.6535      1.986      0.329      0.743      -3.276       4.583\n",
      "==============================================================================\n",
      "Omnibus:                       48.559   Durbin-Watson:                   1.860\n",
      "Prob(Omnibus):                  0.000   Jarque-Bera (JB):             1107.072\n",
      "Skew:                           0.486   Prob(JB):                    4.00e-241\n",
      "Kurtosis:                      16.995   Cond. No.                     1.84e+06\n",
      "==============================================================================\n",
      "\n",
      "Warnings:\n",
      "[1] Standard Errors assume that the covariance matrix of the errors is correctly specified.\n",
      "[2] The condition number is large, 1.84e+06. This might indicate that there are\n",
      "strong multicollinearity or other numerical problems.\n"
     ]
    }
   ],
   "source": [
    "lr_sb49_after = OLS(sb49_Y_after, sb49_X_after).fit()\n",
    "\n",
    "print(lr_sb49_after.summary())"
   ]
  },
  {
   "cell_type": "code",
   "execution_count": 129,
   "metadata": {},
   "outputs": [
    {
     "name": "stdout",
     "output_type": "stream",
     "text": [
      "MSE for #sb49 after Feb.1 8:00 p.m.: 49338.55222581286\n"
     ]
    }
   ],
   "source": [
    "sb49_predict_after = lr_sb49_after.predict(sb49_X_after)\n",
    "sb49_mse_after = tools.eval_measures.mse(sb49_Y_after, sb49_predict_after)\n",
    "\n",
    "print(\"MSE for #sb49 after Feb.1 8:00 p.m.:\", sb49_mse_after)"
   ]
  },
  {
   "cell_type": "markdown",
   "metadata": {},
   "source": [
    "### Superbowl"
   ]
  },
  {
   "cell_type": "code",
   "execution_count": 130,
   "metadata": {},
   "outputs": [],
   "source": [
    "time_window_before_superbowl, time_window_between_superbowl, time_window_after_superbowl = extract_feature_v3(files[5])\n",
    "\n",
    "superbowl_X_before = time_window_before_superbowl[0:-1,:]\n",
    "superbowl_Y_before = time_window_before_superbowl[1:,0]\n",
    "\n",
    "superbowl_X_between = time_window_between_superbowl[0:-1,:]\n",
    "superbowl_Y_between = time_window_between_superbowl[1:,0]\n",
    "\n",
    "superbowl_X_after = time_window_after_superbowl[0:-1,:]\n",
    "superbowl_Y_after = time_window_after_superbowl[1:,0]"
   ]
  },
  {
   "cell_type": "markdown",
   "metadata": {},
   "source": [
    "#### Before"
   ]
  },
  {
   "cell_type": "code",
   "execution_count": 131,
   "metadata": {},
   "outputs": [
    {
     "name": "stdout",
     "output_type": "stream",
     "text": [
      "                            OLS Regression Results                            \n",
      "==============================================================================\n",
      "Dep. Variable:                      y   R-squared:                       0.597\n",
      "Model:                            OLS   Adj. R-squared:                  0.593\n",
      "Method:                 Least Squares   F-statistic:                     129.0\n",
      "Date:                Wed, 13 Mar 2019   Prob (F-statistic):           1.38e-83\n",
      "Time:                        20:19:50   Log-Likelihood:                -3453.5\n",
      "No. Observations:                 440   AIC:                             6917.\n",
      "Df Residuals:                     435   BIC:                             6937.\n",
      "Df Model:                           5                                         \n",
      "Covariance Type:            nonrobust                                         \n",
      "==============================================================================\n",
      "                 coef    std err          t      P>|t|      [0.025      0.975]\n",
      "------------------------------------------------------------------------------\n",
      "x1             0.3581      0.107      3.336      0.001       0.147       0.569\n",
      "x2             0.1136      0.051      2.223      0.027       0.013       0.214\n",
      "x3          1.389e-05   5.37e-06      2.586      0.010    3.33e-06    2.44e-05\n",
      "x4         -7.303e-06   2.23e-05     -0.327      0.744   -5.12e-05    3.66e-05\n",
      "x5             5.3251      2.663      1.999      0.046       0.091      10.560\n",
      "==============================================================================\n",
      "Omnibus:                      541.298   Durbin-Watson:                   1.882\n",
      "Prob(Omnibus):                  0.000   Jarque-Bera (JB):            61841.607\n",
      "Skew:                           5.720   Prob(JB):                         0.00\n",
      "Kurtosis:                      59.941   Cond. No.                     1.30e+06\n",
      "==============================================================================\n",
      "\n",
      "Warnings:\n",
      "[1] Standard Errors assume that the covariance matrix of the errors is correctly specified.\n",
      "[2] The condition number is large, 1.3e+06. This might indicate that there are\n",
      "strong multicollinearity or other numerical problems.\n"
     ]
    }
   ],
   "source": [
    "lr_superbowl_before = OLS(superbowl_Y_before, superbowl_X_before).fit()\n",
    "\n",
    "print(lr_superbowl_before.summary())"
   ]
  },
  {
   "cell_type": "code",
   "execution_count": 132,
   "metadata": {},
   "outputs": [
    {
     "name": "stdout",
     "output_type": "stream",
     "text": [
      "MSE for #superbowl before Feb.1 8:00 a.m.: 384513.33446941624\n"
     ]
    }
   ],
   "source": [
    "superbowl_predict_before = lr_superbowl_before.predict(superbowl_X_before)\n",
    "superbowl_mse_before = tools.eval_measures.mse(superbowl_Y_before, superbowl_predict_before)\n",
    "\n",
    "print(\"MSE for #superbowl before Feb.1 8:00 a.m.:\", superbowl_mse_before)"
   ]
  },
  {
   "cell_type": "markdown",
   "metadata": {},
   "source": [
    "#### Between"
   ]
  },
  {
   "cell_type": "code",
   "execution_count": 133,
   "metadata": {},
   "outputs": [
    {
     "name": "stdout",
     "output_type": "stream",
     "text": [
      "                            OLS Regression Results                            \n",
      "==============================================================================\n",
      "Dep. Variable:                      y   R-squared:                       0.889\n",
      "Model:                            OLS   Adj. R-squared:                  0.885\n",
      "Method:                 Least Squares   F-statistic:                     223.5\n",
      "Date:                Wed, 13 Mar 2019   Prob (F-statistic):           1.33e-64\n",
      "Time:                        20:19:50   Log-Likelihood:                -1375.7\n",
      "No. Observations:                 144   AIC:                             2761.\n",
      "Df Residuals:                     139   BIC:                             2776.\n",
      "Df Model:                           5                                         \n",
      "Covariance Type:            nonrobust                                         \n",
      "==============================================================================\n",
      "                 coef    std err          t      P>|t|      [0.025      0.975]\n",
      "------------------------------------------------------------------------------\n",
      "x1             0.8076      0.126      6.385      0.000       0.558       1.058\n",
      "x2            -0.0310      0.023     -1.368      0.174      -0.076       0.014\n",
      "x3          2.845e-05   2.06e-05      1.383      0.169   -1.22e-05    6.91e-05\n",
      "x4         -7.522e-05   8.39e-05     -0.896      0.372      -0.000    9.07e-05\n",
      "x5            70.4062     34.979      2.013      0.046       1.246     139.566\n",
      "==============================================================================\n",
      "Omnibus:                       75.468   Durbin-Watson:                   2.299\n",
      "Prob(Omnibus):                  0.000   Jarque-Bera (JB):              458.095\n",
      "Skew:                           1.766   Prob(JB):                    3.36e-100\n",
      "Kurtosis:                      10.992   Cond. No.                     8.26e+06\n",
      "==============================================================================\n",
      "\n",
      "Warnings:\n",
      "[1] Standard Errors assume that the covariance matrix of the errors is correctly specified.\n",
      "[2] The condition number is large, 8.26e+06. This might indicate that there are\n",
      "strong multicollinearity or other numerical problems.\n"
     ]
    }
   ],
   "source": [
    "lr_superbowl_between = OLS(superbowl_Y_between, superbowl_X_between).fit()\n",
    "\n",
    "print(lr_superbowl_between.summary())"
   ]
  },
  {
   "cell_type": "code",
   "execution_count": 134,
   "metadata": {},
   "outputs": [
    {
     "name": "stdout",
     "output_type": "stream",
     "text": [
      "MSE for #superbowl between Feb.1 8:00 a.m. and Feb.1 8:00 p.m.: 11630855.203604735\n"
     ]
    }
   ],
   "source": [
    "superbowl_predict_between = lr_superbowl_between.predict(superbowl_X_between)\n",
    "superbowl_mse_between = tools.eval_measures.mse(superbowl_Y_between, superbowl_predict_between)\n",
    "\n",
    "print(\"MSE for #superbowl between Feb.1 8:00 a.m. and Feb.1 8:00 p.m.:\", superbowl_mse_between)"
   ]
  },
  {
   "cell_type": "markdown",
   "metadata": {},
   "source": [
    "#### After"
   ]
  },
  {
   "cell_type": "code",
   "execution_count": 135,
   "metadata": {},
   "outputs": [
    {
     "name": "stdout",
     "output_type": "stream",
     "text": [
      "                            OLS Regression Results                            \n",
      "==============================================================================\n",
      "Dep. Variable:                      y   R-squared:                       0.932\n",
      "Model:                            OLS   Adj. R-squared:                  0.929\n",
      "Method:                 Least Squares   F-statistic:                     353.6\n",
      "Date:                Wed, 13 Mar 2019   Prob (F-statistic):           1.80e-73\n",
      "Time:                        20:19:50   Log-Likelihood:                -950.82\n",
      "No. Observations:                 134   AIC:                             1912.\n",
      "Df Residuals:                     129   BIC:                             1926.\n",
      "Df Model:                           5                                         \n",
      "Covariance Type:            nonrobust                                         \n",
      "==============================================================================\n",
      "                 coef    std err          t      P>|t|      [0.025      0.975]\n",
      "------------------------------------------------------------------------------\n",
      "x1             0.8397      0.084     10.028      0.000       0.674       1.005\n",
      "x2             0.0274      0.011      2.468      0.015       0.005       0.049\n",
      "x3          4.462e-07   4.29e-06      0.104      0.917   -8.04e-06    8.93e-06\n",
      "x4          1.177e-05   1.17e-05      1.008      0.316   -1.13e-05    3.49e-05\n",
      "x5            -1.4880      2.778     -0.536      0.593      -6.984       4.008\n",
      "==============================================================================\n",
      "Omnibus:                      114.412   Durbin-Watson:                   1.578\n",
      "Prob(Omnibus):                  0.000   Jarque-Bera (JB):             1516.934\n",
      "Skew:                           2.883   Prob(JB):                         0.00\n",
      "Kurtosis:                      18.441   Cond. No.                     2.24e+06\n",
      "==============================================================================\n",
      "\n",
      "Warnings:\n",
      "[1] Standard Errors assume that the covariance matrix of the errors is correctly specified.\n",
      "[2] The condition number is large, 2.24e+06. This might indicate that there are\n",
      "strong multicollinearity or other numerical problems.\n"
     ]
    }
   ],
   "source": [
    "lr_superbowl_after = OLS(superbowl_Y_after, superbowl_X_after).fit()\n",
    "\n",
    "print(lr_superbowl_after.summary())"
   ]
  },
  {
   "cell_type": "code",
   "execution_count": 136,
   "metadata": {},
   "outputs": [
    {
     "name": "stdout",
     "output_type": "stream",
     "text": [
      "MSE for #superbowl after Feb.1 8:00 p.m.: 85266.10420321375\n"
     ]
    }
   ],
   "source": [
    "superbowl_predict_after = lr_superbowl_after.predict(superbowl_X_after)\n",
    "superbowl_mse_after = tools.eval_measures.mse(superbowl_Y_after, superbowl_predict_after)\n",
    "\n",
    "print(\"MSE for #superbowl after Feb.1 8:00 p.m.:\", superbowl_mse_after)"
   ]
  },
  {
   "cell_type": "markdown",
   "metadata": {},
   "source": [
    "## Question 7:\n",
    "Aggregate the data of all hashtags, and train 3 models for the same intervals in Question 6 to predict the number of tweets in the next time interval on the aggregated data."
   ]
  },
  {
   "cell_type": "code",
   "execution_count": 137,
   "metadata": {},
   "outputs": [],
   "source": [
    "# use the same features in Question 3\n",
    "\n",
    "def extract_feature_agg(filenames):\n",
    "    \n",
    "    max_time = 0\n",
    "    min_time = 2000000000\n",
    "    for filename in filenames:\n",
    "        if max_times[filename] > max_time:\n",
    "            max_time = max_times[filename]\n",
    "        if min_times[filename] < min_time:\n",
    "            min_time = min_times[filename]\n",
    "    \n",
    "    total_windows_before = mt.floor((key_time1_unix - min_time) / (60 * 60)) + 1\n",
    "    total_windows_between = mt.floor((key_time2_unix - key_time1_unix) / (60 * 5)) + 1\n",
    "    total_windows_after = mt.floor((max_time - key_time2_unix) / (60 * 60)) + 1\n",
    "\n",
    "    num_tweets = 0\n",
    "    num_retweets = 0\n",
    "    num_followers = 0\n",
    "    max_num_followers = 0\n",
    "    time_window_before = []\n",
    "    time_window_between = []\n",
    "    time_window_after = []\n",
    "    \n",
    "    for index in range(total_windows_before):\n",
    "        datetime_object_in_pst_timezone = datetime.datetime.fromtimestamp(min_time + index * 60 * 60, pst_tz)\n",
    "        time_of_day = datetime_object_in_pst_timezone.hour\n",
    "        time_window_before.append([num_tweets, num_retweets, num_followers, max_num_followers, time_of_day])\n",
    "\n",
    "    for index in range(total_windows_between):\n",
    "        datetime_object_in_pst_timezone = datetime.datetime.fromtimestamp(key_time1_unix + index * 60 * 5, pst_tz)\n",
    "        time_of_day = datetime_object_in_pst_timezone.hour\n",
    "        time_window_between.append([num_tweets, num_retweets, num_followers, max_num_followers, time_of_day])\n",
    "\n",
    "    for index in range(total_windows_after):\n",
    "        datetime_object_in_pst_timezone = datetime.datetime.fromtimestamp(key_time2_unix + index * 60 * 60, pst_tz)\n",
    "        time_of_day = datetime_object_in_pst_timezone.hour\n",
    "        time_window_after.append([num_tweets, num_retweets, num_followers, max_num_followers, time_of_day])\n",
    "    \n",
    "    for filename in filenames:\n",
    "        with open(filename, 'r') as file:\n",
    "            lines = file.readlines()\n",
    "\n",
    "            for line in lines:\n",
    "                json_obj = json.loads(line)\n",
    "                time = json_obj['citation_date']\n",
    "\n",
    "                if time < key_time1_unix:\n",
    "                    index = mt.floor((json_obj['citation_date'] - min_time) / (60 * 60))\n",
    "                    time_window_before[index][0] = time_window_before[index][0] + 1\n",
    "                    time_window_before[index][1] = time_window_before[index][1] + json_obj['metrics']['citations']['total']\n",
    "                    time_window_before[index][2] = time_window_before[index][2] + json_obj['author']['followers']\n",
    "                    time_window_before[index][3] = max(time_window_before[index][3], json_obj['author']['followers'])\n",
    "                elif time < key_time2_unix:\n",
    "                    index = mt.floor((json_obj['citation_date'] - key_time1_unix) / (60 * 5))\n",
    "                    time_window_between[index][0] = time_window_between[index][0] + 1\n",
    "                    time_window_between[index][1] = time_window_between[index][1] + json_obj['metrics']['citations']['total']\n",
    "                    time_window_between[index][2] = time_window_between[index][2] + json_obj['author']['followers']\n",
    "                    time_window_between[index][3] = max(time_window_between[index][3], json_obj['author']['followers'])\n",
    "                else:\n",
    "                    index = mt.floor((json_obj['citation_date'] - key_time2_unix) / (60 * 60))\n",
    "                    time_window_after[index][0] = time_window_after[index][0] + 1\n",
    "                    time_window_after[index][1] = time_window_after[index][1] + json_obj['metrics']['citations']['total']\n",
    "                    time_window_after[index][2] = time_window_after[index][2] + json_obj['author']['followers']\n",
    "                    time_window_after[index][3] = max(time_window_after[index][3], json_obj['author']['followers'])\n",
    "\n",
    "    return np.array(time_window_before), np.array(time_window_between), np.array(time_window_after)"
   ]
  },
  {
   "cell_type": "code",
   "execution_count": 138,
   "metadata": {},
   "outputs": [],
   "source": [
    "time_window_before_agg, time_window_between_agg, time_window_after_agg = extract_feature_agg(files)\n",
    "\n",
    "agg_X_before = time_window_before_agg[0:-1,:]\n",
    "agg_Y_before = time_window_before_agg[1:,0]\n",
    "\n",
    "agg_X_between = time_window_between_agg[0:-1,:]\n",
    "agg_Y_between = time_window_between_agg[1:,0]\n",
    "\n",
    "agg_X_after = time_window_after_agg[0:-1,:]\n",
    "agg_Y_after = time_window_after_agg[1:,0]"
   ]
  },
  {
   "cell_type": "markdown",
   "metadata": {},
   "source": [
    "#### Before"
   ]
  },
  {
   "cell_type": "code",
   "execution_count": 139,
   "metadata": {},
   "outputs": [
    {
     "name": "stdout",
     "output_type": "stream",
     "text": [
      "                            OLS Regression Results                            \n",
      "==============================================================================\n",
      "Dep. Variable:                      y   R-squared:                       0.509\n",
      "Model:                            OLS   Adj. R-squared:                  0.503\n",
      "Method:                 Least Squares   F-statistic:                     90.04\n",
      "Date:                Wed, 13 Mar 2019   Prob (F-statistic):           6.91e-65\n",
      "Time:                        20:40:46   Log-Likelihood:                -3999.9\n",
      "No. Observations:                 440   AIC:                             8010.\n",
      "Df Residuals:                     435   BIC:                             8030.\n",
      "Df Model:                           5                                         \n",
      "Covariance Type:            nonrobust                                         \n",
      "==============================================================================\n",
      "                 coef    std err          t      P>|t|      [0.025      0.975]\n",
      "------------------------------------------------------------------------------\n",
      "x1             0.9960      0.148      6.735      0.000       0.705       1.287\n",
      "x2            -0.2324      0.076     -3.063      0.002      -0.382      -0.083\n",
      "x3          1.714e-05   9.72e-06      1.764      0.078   -1.96e-06    3.62e-05\n",
      "x4          6.436e-05   5.84e-05      1.102      0.271   -5.04e-05       0.000\n",
      "x5            22.1722      9.825      2.257      0.025       2.863      41.482\n",
      "==============================================================================\n",
      "Omnibus:                      619.127   Durbin-Watson:                   2.289\n",
      "Prob(Omnibus):                  0.000   Jarque-Bera (JB):           210311.065\n",
      "Skew:                           6.833   Prob(JB):                         0.00\n",
      "Kurtosis:                     109.230   Cond. No.                     2.56e+06\n",
      "==============================================================================\n",
      "\n",
      "Warnings:\n",
      "[1] Standard Errors assume that the covariance matrix of the errors is correctly specified.\n",
      "[2] The condition number is large, 2.56e+06. This might indicate that there are\n",
      "strong multicollinearity or other numerical problems.\n"
     ]
    }
   ],
   "source": [
    "lr_agg_before = OLS(agg_Y_before, agg_X_before).fit()\n",
    "\n",
    "print(lr_agg_before.summary())"
   ]
  },
  {
   "cell_type": "code",
   "execution_count": 140,
   "metadata": {},
   "outputs": [
    {
     "name": "stdout",
     "output_type": "stream",
     "text": [
      "MSE for aggregated data before Feb.1 8:00 a.m.: 4609787.853991622\n"
     ]
    }
   ],
   "source": [
    "agg_predict_before = lr_agg_before.predict(agg_X_before)\n",
    "agg_mse_before = tools.eval_measures.mse(agg_Y_before, agg_predict_before)\n",
    "\n",
    "print(\"MSE for aggregated data before Feb.1 8:00 a.m.:\", agg_mse_before)"
   ]
  },
  {
   "cell_type": "markdown",
   "metadata": {},
   "source": [
    "#### Between"
   ]
  },
  {
   "cell_type": "code",
   "execution_count": 141,
   "metadata": {},
   "outputs": [
    {
     "name": "stdout",
     "output_type": "stream",
     "text": [
      "                            OLS Regression Results                            \n",
      "==============================================================================\n",
      "Dep. Variable:                      y   R-squared:                       0.904\n",
      "Model:                            OLS   Adj. R-squared:                  0.901\n",
      "Method:                 Least Squares   F-statistic:                     261.7\n",
      "Date:                Wed, 13 Mar 2019   Prob (F-statistic):           7.25e-69\n",
      "Time:                        20:40:46   Log-Likelihood:                -1442.3\n",
      "No. Observations:                 144   AIC:                             2895.\n",
      "Df Residuals:                     139   BIC:                             2910.\n",
      "Df Model:                           5                                         \n",
      "Covariance Type:            nonrobust                                         \n",
      "==============================================================================\n",
      "                 coef    std err          t      P>|t|      [0.025      0.975]\n",
      "------------------------------------------------------------------------------\n",
      "x1             0.8672      0.107      8.122      0.000       0.656       1.078\n",
      "x2            -0.0497      0.033     -1.487      0.139      -0.116       0.016\n",
      "x3          1.017e-05   1.37e-05      0.743      0.459   -1.69e-05    3.72e-05\n",
      "x4          1.797e-05   7.48e-05      0.240      0.810      -0.000       0.000\n",
      "x5           173.0706     76.919      2.250      0.026      20.987     325.154\n",
      "==============================================================================\n",
      "Omnibus:                       45.272   Durbin-Watson:                   2.522\n",
      "Prob(Omnibus):                  0.000   Jarque-Bera (JB):              157.012\n",
      "Skew:                           1.128   Prob(JB):                     8.04e-35\n",
      "Kurtosis:                       7.591   Cond. No.                     1.98e+07\n",
      "==============================================================================\n",
      "\n",
      "Warnings:\n",
      "[1] Standard Errors assume that the covariance matrix of the errors is correctly specified.\n",
      "[2] The condition number is large, 1.98e+07. This might indicate that there are\n",
      "strong multicollinearity or other numerical problems.\n"
     ]
    }
   ],
   "source": [
    "lr_agg_between = OLS(agg_Y_between, agg_X_between).fit()\n",
    "\n",
    "print(lr_agg_between.summary())"
   ]
  },
  {
   "cell_type": "code",
   "execution_count": 142,
   "metadata": {},
   "outputs": [
    {
     "name": "stdout",
     "output_type": "stream",
     "text": [
      "MSE for aggregated data between Feb.1 8:00 a.m. and Feb.1 8:00 p.m.: 29340842.713701054\n"
     ]
    }
   ],
   "source": [
    "agg_predict_between = lr_agg_between.predict(agg_X_between)\n",
    "agg_mse_between = tools.eval_measures.mse(agg_Y_between, agg_predict_between)\n",
    "\n",
    "print(\"MSE for aggregated data between Feb.1 8:00 a.m. and Feb.1 8:00 p.m.:\", agg_mse_between)"
   ]
  },
  {
   "cell_type": "markdown",
   "metadata": {},
   "source": [
    "#### After"
   ]
  },
  {
   "cell_type": "code",
   "execution_count": 143,
   "metadata": {},
   "outputs": [
    {
     "name": "stdout",
     "output_type": "stream",
     "text": [
      "                            OLS Regression Results                            \n",
      "==============================================================================\n",
      "Dep. Variable:                      y   R-squared:                       0.944\n",
      "Model:                            OLS   Adj. R-squared:                  0.942\n",
      "Method:                 Least Squares   F-statistic:                     439.3\n",
      "Date:                Wed, 13 Mar 2019   Prob (F-statistic):           1.40e-79\n",
      "Time:                        20:40:46   Log-Likelihood:                -1063.1\n",
      "No. Observations:                 135   AIC:                             2136.\n",
      "Df Residuals:                     130   BIC:                             2151.\n",
      "Df Model:                           5                                         \n",
      "Covariance Type:            nonrobust                                         \n",
      "==============================================================================\n",
      "                 coef    std err          t      P>|t|      [0.025      0.975]\n",
      "------------------------------------------------------------------------------\n",
      "x1             0.4601      0.081      5.687      0.000       0.300       0.620\n",
      "x2             0.0431      0.009      4.929      0.000       0.026       0.060\n",
      "x3          2.332e-05   5.16e-06      4.524      0.000    1.31e-05    3.35e-05\n",
      "x4         -1.825e-05    1.9e-05     -0.959      0.339   -5.59e-05    1.94e-05\n",
      "x5             7.2530      6.425      1.129      0.261      -5.459      19.965\n",
      "==============================================================================\n",
      "Omnibus:                       27.326   Durbin-Watson:                   1.487\n",
      "Prob(Omnibus):                  0.000   Jarque-Bera (JB):              186.794\n",
      "Skew:                           0.306   Prob(JB):                     2.74e-41\n",
      "Kurtosis:                       8.730   Cond. No.                     4.59e+06\n",
      "==============================================================================\n",
      "\n",
      "Warnings:\n",
      "[1] Standard Errors assume that the covariance matrix of the errors is correctly specified.\n",
      "[2] The condition number is large, 4.59e+06. This might indicate that there are\n",
      "strong multicollinearity or other numerical problems.\n"
     ]
    }
   ],
   "source": [
    "lr_agg_after = OLS(agg_Y_after, agg_X_after).fit()\n",
    "\n",
    "print(lr_agg_after.summary())"
   ]
  },
  {
   "cell_type": "code",
   "execution_count": 144,
   "metadata": {},
   "outputs": [
    {
     "name": "stdout",
     "output_type": "stream",
     "text": [
      "MSE for aggregated data after Feb.1 8:00 p.m.: 404923.27275482914\n"
     ]
    }
   ],
   "source": [
    "agg_predict_after = lr_agg_after.predict(agg_X_after)\n",
    "agg_mse_after = tools.eval_measures.mse(agg_Y_after, agg_predict_after)\n",
    "\n",
    "print(\"MSE for aggregated data after Feb.1 8:00 p.m.:\", agg_mse_after)"
   ]
  },
  {
   "cell_type": "markdown",
   "metadata": {},
   "source": [
    "## Question 8:\n",
    "Use grid search to find the best parameter set for RandomForestRegressor and GradientBoostingRegressor respectively. Use the following param_grid:\n",
    "- 'max_depth': \\[10, 20, 40, 60, 80, 100, 200, None\\],\n",
    "- 'max_features': \\['auto', 'sqrt'\\],\n",
    "- 'min_samples_leaf': \\[1, 2, 4\\],\n",
    "- 'min_samples_split': \\[2, 5, 10\\],\n",
    "- 'n_estimators': \\[200, 400, 600, 800, 1000, 1200, 1400, 1600, 1800, 2000\\]\n",
    "\n",
    "Set cv = KFold(5, shuffle=True), scoring='neg_mean_squared_error' for the grid search. Analyze the result of the grid search. Do the test errors from cross-validation look good? If not,\n",
    "please explain the reason."
   ]
  },
  {
   "cell_type": "code",
   "execution_count": 155,
   "metadata": {},
   "outputs": [],
   "source": [
    "# use the same features in Question 3\n",
    "\n",
    "def extract_feature_agg_v0(filenames):\n",
    "    \n",
    "    max_time = 0\n",
    "    min_time = 2000000000\n",
    "    for filename in filenames:\n",
    "        if max_times[filename] > max_time:\n",
    "            max_time = max_times[filename]\n",
    "        if min_times[filename] < min_time:\n",
    "            min_time = min_times[filename]\n",
    "    \n",
    "    total_windows = mt.floor((max_time - min_time) / (60 * 60)) + 1\n",
    "\n",
    "    num_tweets = 0\n",
    "    num_retweets = 0\n",
    "    num_followers = 0\n",
    "    max_num_followers = 0\n",
    "    time_window = []\n",
    "    \n",
    "    for index in range(total_windows):\n",
    "        datetime_object_in_pst_timezone = datetime.datetime.fromtimestamp(min_time + index * 60 * 60, pst_tz)\n",
    "        time_of_day = datetime_object_in_pst_timezone.hour\n",
    "        time_window.append([num_tweets, num_retweets, num_followers, max_num_followers, time_of_day])\n",
    "    \n",
    "    for filename in filenames:\n",
    "        with open(filename, 'r') as file:\n",
    "            lines = file.readlines()\n",
    "\n",
    "            for line in lines:\n",
    "                json_obj = json.loads(line)\n",
    "                time = json_obj['citation_date']\n",
    "\n",
    "                index = mt.floor((json_obj['citation_date'] - min_time) / (60 * 60))\n",
    "                time_window[index][0] = time_window[index][0] + 1\n",
    "                time_window[index][1] = time_window[index][1] + json_obj['metrics']['citations']['total']\n",
    "                time_window[index][2] = time_window[index][2] + json_obj['author']['followers']\n",
    "                time_window[index][3] = max(time_window[index][3], json_obj['author']['followers'])\n",
    "\n",
    "    return np.array(time_window)"
   ]
  },
  {
   "cell_type": "code",
   "execution_count": 156,
   "metadata": {},
   "outputs": [],
   "source": [
    "params = {\n",
    "    'max_depth': [10, 20, 40, 60, 80, 100, 200, None],\n",
    "    'max_features': ['auto', 'sqrt'],\n",
    "    'min_samples_leaf': [1, 2, 4],\n",
    "    'min_samples_split': [2, 5, 10],\n",
    "    'n_estimators': [200, 400, 600, 800, 1000,\n",
    "                    1200, 1400, 1600, 1800, 2000]\n",
    "}"
   ]
  },
  {
   "cell_type": "code",
   "execution_count": 157,
   "metadata": {},
   "outputs": [],
   "source": [
    "time_window_agg = extract_feature_agg_v0(files)\n",
    "\n",
    "agg_X = time_window_agg[0:-1,:]\n",
    "agg_Y = time_window_agg[1:,0]"
   ]
  },
  {
   "cell_type": "markdown",
   "metadata": {},
   "source": [
    "#### Grid search for RandomForestRegressor"
   ]
  },
  {
   "cell_type": "code",
   "execution_count": 158,
   "metadata": {},
   "outputs": [
    {
     "name": "stderr",
     "output_type": "stream",
     "text": [
      "/anaconda3/envs/py3/lib/python3.6/site-packages/sklearn/model_selection/_search.py:841: DeprecationWarning: The default of the `iid` parameter will change from True to False in version 0.22 and will be removed in 0.24. This will change numeric results when test-set sizes are unequal.\n",
      "  DeprecationWarning)\n"
     ]
    },
    {
     "name": "stdout",
     "output_type": "stream",
     "text": [
      "-------------------- Best Params --------------------\n",
      "{'max_depth': 80, 'max_features': 'sqrt', 'min_samples_leaf': 4, 'min_samples_split': 2, 'n_estimators': 400}\n",
      "-------------------- Best Score --------------------\n",
      "-203539241.28614524\n"
     ]
    }
   ],
   "source": [
    "from sklearn.model_selection import KFold, GridSearchCV\n",
    "from sklearn.ensemble import RandomForestRegressor\n",
    "\n",
    "cv = KFold(5, shuffle=True)\n",
    "\n",
    "random_forest_grid = GridSearchCV(estimator = RandomForestRegressor(n_jobs = -1),\n",
    "                                  param_grid = params,\n",
    "                                  scoring = \"neg_mean_squared_error\",\n",
    "                                  cv = cv,\n",
    "                                  n_jobs = -1)\n",
    "\n",
    "random_forest_grid.fit(agg_X, agg_Y)\n",
    "\n",
    "print('-' * 20, 'Best Params', '-' * 20)\n",
    "print(random_forest_grid.best_params_)\n",
    "print('-' * 20, 'Best Score', '-' * 20)\n",
    "print(random_forest_grid.best_score_)"
   ]
  },
  {
   "cell_type": "code",
   "execution_count": 159,
   "metadata": {},
   "outputs": [
    {
     "name": "stdout",
     "output_type": "stream",
     "text": [
      "Metrics for Random Forest with best params found\n",
      "R-squared: 0.8070246006499083\n",
      "MSE: -203539241.28614524\n"
     ]
    }
   ],
   "source": [
    "rfr_best = random_forest_grid.best_params_\n",
    "\n",
    "random_forest_best = RandomForestRegressor(max_depth = rfr_best['max_depth'],\n",
    "                                           max_features = rfr_best['max_features'],\n",
    "                                           min_samples_leaf = rfr_best['min_samples_leaf'],\n",
    "                                           min_samples_split = rfr_best['min_samples_split'],\n",
    "                                           n_estimators = rfr_best['n_estimators'])\n",
    "\n",
    "random_forest_best.fit(agg_X, agg_Y)\n",
    "\n",
    "print(\"Metrics for Random Forest with best params found\")\n",
    "print(\"R-squared:\", random_forest_best.score(agg_X, agg_Y))\n",
    "print(\"MSE:\", random_forest_grid.best_score_)"
   ]
  },
  {
   "cell_type": "markdown",
   "metadata": {},
   "source": [
    "#### Grid Search for GradientBoostingRegressor"
   ]
  },
  {
   "cell_type": "code",
   "execution_count": 160,
   "metadata": {},
   "outputs": [
    {
     "name": "stdout",
     "output_type": "stream",
     "text": [
      "-------------------- Best Params --------------------\n",
      "{'max_depth': None, 'max_features': 'sqrt', 'min_samples_leaf': 4, 'min_samples_split': 10, 'n_estimators': 200}\n",
      "-------------------- Best Score --------------------\n",
      "-228459842.94856015\n"
     ]
    },
    {
     "name": "stderr",
     "output_type": "stream",
     "text": [
      "/anaconda3/envs/py3/lib/python3.6/site-packages/sklearn/model_selection/_search.py:841: DeprecationWarning: The default of the `iid` parameter will change from True to False in version 0.22 and will be removed in 0.24. This will change numeric results when test-set sizes are unequal.\n",
      "  DeprecationWarning)\n"
     ]
    }
   ],
   "source": [
    "from sklearn.ensemble import GradientBoostingRegressor\n",
    "\n",
    "cv = KFold(5, shuffle=True)\n",
    "\n",
    "gradient_boosting_grid = GridSearchCV(estimator = GradientBoostingRegressor(),\n",
    "                                      param_grid = params,\n",
    "                                      scoring = \"neg_mean_squared_error\",\n",
    "                                      cv = cv,\n",
    "                                      n_jobs = -1)\n",
    "\n",
    "gradient_boosting_grid.fit(agg_X, agg_Y)\n",
    "\n",
    "print('-' * 20, 'Best Params', '-' * 20)\n",
    "print(gradient_boosting_grid.best_params_)\n",
    "print('-' * 20, 'Best Score', '-' * 20)\n",
    "print(gradient_boosting_grid.best_score_)"
   ]
  },
  {
   "cell_type": "code",
   "execution_count": 161,
   "metadata": {},
   "outputs": [
    {
     "name": "stdout",
     "output_type": "stream",
     "text": [
      "Metrics for Gradient Boosting with best params found\n",
      "R-squared: 0.975905924890946\n",
      "MSE: -228459842.94856015\n"
     ]
    }
   ],
   "source": [
    "gbr_best = gradient_boosting_grid.best_params_\n",
    "\n",
    "gradient_boosting_best = GradientBoostingRegressor(max_depth = gbr_best['max_depth'],\n",
    "                                                   max_features = gbr_best['max_features'],\n",
    "                                                   min_samples_leaf = gbr_best['min_samples_leaf'],\n",
    "                                                   min_samples_split = gbr_best['min_samples_split'],\n",
    "                                                   n_estimators = gbr_best['n_estimators'])\n",
    "\n",
    "gradient_boosting_best.fit(agg_X, agg_Y)\n",
    "\n",
    "print(\"Metrics for Gradient Boosting with best params found\")\n",
    "print(\"R-squared:\", gradient_boosting_best.score(agg_X, agg_Y))\n",
    "print(\"MSE:\", gradient_boosting_grid.best_score_)"
   ]
  },
  {
   "cell_type": "markdown",
   "metadata": {},
   "source": [
    "## Question 9:\n",
    "Compare the best estimator you found in the grid search with OLS on the entire dataset."
   ]
  },
  {
   "cell_type": "code",
   "execution_count": 162,
   "metadata": {},
   "outputs": [
    {
     "name": "stdout",
     "output_type": "stream",
     "text": [
      "                            OLS Regression Results                            \n",
      "==============================================================================\n",
      "Dep. Variable:                      y   R-squared:                       0.842\n",
      "Model:                            OLS   Adj. R-squared:                  0.841\n",
      "Method:                 Least Squares   F-statistic:                     621.7\n",
      "Date:                Thu, 14 Mar 2019   Prob (F-statistic):          1.06e-230\n",
      "Time:                        18:55:49   Log-Likelihood:                -6315.8\n",
      "No. Observations:                 587   AIC:                         1.264e+04\n",
      "Df Residuals:                     582   BIC:                         1.266e+04\n",
      "Df Model:                           5                                         \n",
      "Covariance Type:            nonrobust                                         \n",
      "==============================================================================\n",
      "                 coef    std err          t      P>|t|      [0.025      0.975]\n",
      "------------------------------------------------------------------------------\n",
      "x1             1.7280      0.075     23.036      0.000       1.581       1.875\n",
      "x2            -0.6075      0.051    -11.865      0.000      -0.708      -0.507\n",
      "x3          7.349e-05   1.32e-05      5.562      0.000    4.75e-05    9.94e-05\n",
      "x4             0.0007      0.000      5.868      0.000       0.000       0.001\n",
      "x5          -138.5015     42.369     -3.269      0.001    -221.717     -55.286\n",
      "==============================================================================\n",
      "Omnibus:                      857.298   Durbin-Watson:                   1.859\n",
      "Prob(Omnibus):                  0.000   Jarque-Bera (JB):           704372.074\n",
      "Skew:                          -7.325   Prob(JB):                         0.00\n",
      "Kurtosis:                     172.069   Cond. No.                     1.73e+07\n",
      "==============================================================================\n",
      "\n",
      "Warnings:\n",
      "[1] Standard Errors assume that the covariance matrix of the errors is correctly specified.\n",
      "[2] The condition number is large, 1.73e+07. This might indicate that there are\n",
      "strong multicollinearity or other numerical problems.\n",
      "MSE for aggregated data: 129742264.57460503\n"
     ]
    }
   ],
   "source": [
    "# OLS on the entire dataset\n",
    "\n",
    "lr_agg = OLS(agg_Y, agg_X).fit()\n",
    "\n",
    "print(lr_agg.summary())\n",
    "\n",
    "agg_predict = lr_agg.predict(agg_X)\n",
    "agg_mse = tools.eval_measures.mse(agg_Y, agg_predict)\n",
    "\n",
    "print(\"MSE for aggregated data:\", agg_mse)"
   ]
  },
  {
   "cell_type": "markdown",
   "metadata": {},
   "source": [
    "## Question 10:\n",
    "For each time period described in Question 6, perform the same grid search above for GradientBoostingRegressor (with corresponding time window length). Does the cross- validation test error change? Are the best parameter set you find in each period agree with those you found above?"
   ]
  },
  {
   "cell_type": "markdown",
   "metadata": {},
   "source": [
    "### Grid Search before Feb.1 8:00 a.m."
   ]
  },
  {
   "cell_type": "code",
   "execution_count": 163,
   "metadata": {},
   "outputs": [
    {
     "name": "stdout",
     "output_type": "stream",
     "text": [
      "-------------------- Best Params --------------------\n",
      "{'max_depth': 100, 'max_features': 'auto', 'min_samples_leaf': 2, 'min_samples_split': 10, 'n_estimators': 800}\n",
      "-------------------- Best Score --------------------\n",
      "-3120786.5017698123\n"
     ]
    }
   ],
   "source": [
    "cv = KFold(5, shuffle=True)\n",
    "\n",
    "gradient_boosting_grid_before = GridSearchCV(estimator = GradientBoostingRegressor(),\n",
    "                                             param_grid = params,\n",
    "                                             scoring = \"neg_mean_squared_error\",\n",
    "                                             cv = cv,\n",
    "                                             n_jobs = -1)\n",
    "\n",
    "gradient_boosting_grid_before.fit(agg_X_before, agg_Y_before)\n",
    "\n",
    "print('-' * 20, 'Best Params', '-' * 20)\n",
    "print(gradient_boosting_grid_before.best_params_)\n",
    "print('-' * 20, 'Best Score', '-' * 20)\n",
    "print(gradient_boosting_grid_before.best_score_)"
   ]
  },
  {
   "cell_type": "code",
   "execution_count": 164,
   "metadata": {},
   "outputs": [
    {
     "name": "stdout",
     "output_type": "stream",
     "text": [
      "Metrics for Gradient Boosting with best params found\n",
      "R-squared: 0.999999978812479\n",
      "MSE: -3120786.5017698123\n"
     ]
    }
   ],
   "source": [
    "gbr_before = gradient_boosting_grid_before.best_params_\n",
    "\n",
    "gradient_boosting_best_before = GradientBoostingRegressor(max_depth = gbr_before['max_depth'],\n",
    "                                                          max_features = gbr_before['max_features'],\n",
    "                                                          min_samples_leaf = gbr_before['min_samples_leaf'],\n",
    "                                                          min_samples_split = gbr_before['min_samples_split'],\n",
    "                                                          n_estimators = gbr_before['n_estimators'])\n",
    "\n",
    "gradient_boosting_best_before.fit(agg_X_before, agg_Y_before)\n",
    "\n",
    "print(\"Metrics for Gradient Boosting with best params found\")\n",
    "print(\"R-squared:\", gradient_boosting_best_before.score(agg_X_before, agg_Y_before))\n",
    "print(\"MSE:\", gradient_boosting_grid_before.best_score_)"
   ]
  },
  {
   "cell_type": "markdown",
   "metadata": {},
   "source": [
    "#### Grid Search between Feb.1 8:00 a.m. and Feb.1 8:00 p.m."
   ]
  },
  {
   "cell_type": "code",
   "execution_count": 165,
   "metadata": {},
   "outputs": [
    {
     "name": "stderr",
     "output_type": "stream",
     "text": [
      "/anaconda3/envs/py3/lib/python3.6/site-packages/sklearn/model_selection/_search.py:841: DeprecationWarning: The default of the `iid` parameter will change from True to False in version 0.22 and will be removed in 0.24. This will change numeric results when test-set sizes are unequal.\n",
      "  DeprecationWarning)\n"
     ]
    },
    {
     "name": "stdout",
     "output_type": "stream",
     "text": [
      "-------------------- Best Params --------------------\n",
      "{'max_depth': 40, 'max_features': 'sqrt', 'min_samples_leaf': 2, 'min_samples_split': 10, 'n_estimators': 1600}\n",
      "-------------------- Best Score --------------------\n",
      "-24752575.561554745\n"
     ]
    }
   ],
   "source": [
    "cv = KFold(5, shuffle=True)\n",
    "\n",
    "gradient_boosting_grid_between = GridSearchCV(estimator = GradientBoostingRegressor(),\n",
    "                                              param_grid = params,\n",
    "                                              scoring = \"neg_mean_squared_error\",\n",
    "                                              cv = cv,\n",
    "                                              n_jobs = -1)\n",
    "\n",
    "gradient_boosting_grid_between.fit(agg_X_between, agg_Y_between)\n",
    "\n",
    "print('-' * 20, 'Best Params', '-' * 20)\n",
    "print(gradient_boosting_grid_between.best_params_)\n",
    "print('-' * 20, 'Best Score', '-' * 20)\n",
    "print(gradient_boosting_grid_between.best_score_)"
   ]
  },
  {
   "cell_type": "code",
   "execution_count": 166,
   "metadata": {},
   "outputs": [
    {
     "name": "stdout",
     "output_type": "stream",
     "text": [
      "Metrics for Gradient Boosting with best params found\n",
      "R-squared: 0.9999999999999992\n",
      "MSE: -24752575.561554745\n"
     ]
    }
   ],
   "source": [
    "gbr_between = gradient_boosting_grid_between.best_params_\n",
    "\n",
    "gradient_boosting_best_between = GradientBoostingRegressor(max_depth = gbr_between['max_depth'],\n",
    "                                                           max_features = gbr_between['max_features'],\n",
    "                                                           min_samples_leaf = gbr_between['min_samples_leaf'],\n",
    "                                                           min_samples_split = gbr_between['min_samples_split'],\n",
    "                                                           n_estimators = gbr_between['n_estimators'])\n",
    "\n",
    "gradient_boosting_best_between.fit(agg_X_between, agg_Y_between)\n",
    "\n",
    "print(\"Metrics for Gradient Boosting with best params found\")\n",
    "print(\"R-squared:\", gradient_boosting_best_between.score(agg_X_between, agg_Y_between))\n",
    "print(\"MSE:\", gradient_boosting_grid_between.best_score_)"
   ]
  },
  {
   "cell_type": "markdown",
   "metadata": {},
   "source": [
    "#### Grid Search after Feb.1 8:00 p.m."
   ]
  },
  {
   "cell_type": "code",
   "execution_count": 167,
   "metadata": {},
   "outputs": [
    {
     "name": "stdout",
     "output_type": "stream",
     "text": [
      "-------------------- Best Params --------------------\n",
      "{'max_depth': 80, 'max_features': 'sqrt', 'min_samples_leaf': 2, 'min_samples_split': 5, 'n_estimators': 1600}\n",
      "-------------------- Best Score --------------------\n",
      "-594423.1233244928\n"
     ]
    }
   ],
   "source": [
    "cv = KFold(5, shuffle=True)\n",
    "\n",
    "gradient_boosting_grid_after = GridSearchCV(estimator = GradientBoostingRegressor(),\n",
    "                                            param_grid = params,\n",
    "                                            scoring = \"neg_mean_squared_error\",\n",
    "                                            cv = cv,\n",
    "                                            n_jobs = -1)\n",
    "\n",
    "gradient_boosting_grid_after.fit(agg_X_after, agg_Y_after)\n",
    "\n",
    "print('-' * 20, 'Best Params', '-' * 20)\n",
    "print(gradient_boosting_grid_after.best_params_)\n",
    "print('-' * 20, 'Best Score', '-' * 20)\n",
    "print(gradient_boosting_grid_after.best_score_)"
   ]
  },
  {
   "cell_type": "code",
   "execution_count": 168,
   "metadata": {},
   "outputs": [
    {
     "name": "stdout",
     "output_type": "stream",
     "text": [
      "Metrics for Gradient Boosting with best params found\n",
      "R-squared: 0.999999999999975\n",
      "MSE: -594423.1233244928\n"
     ]
    }
   ],
   "source": [
    "gbr_after = gradient_boosting_grid_after.best_params_\n",
    "\n",
    "gradient_boosting_best_after = GradientBoostingRegressor(max_depth = gbr_after['max_depth'],\n",
    "                                                         max_features = gbr_after['max_features'],\n",
    "                                                         min_samples_leaf = gbr_after['min_samples_leaf'],\n",
    "                                                         min_samples_split = gbr_after['min_samples_split'],\n",
    "                                                         n_estimators = gbr_after['n_estimators'])\n",
    "\n",
    "gradient_boosting_best_after.fit(agg_X_after, agg_Y_after)\n",
    "\n",
    "print(\"Metrics for Gradient Boosting with best params found\")\n",
    "print(\"R-squared:\", gradient_boosting_best_after.score(agg_X_after, agg_Y_after))\n",
    "print(\"MSE:\", gradient_boosting_grid_after.best_score_)"
   ]
  },
  {
   "cell_type": "markdown",
   "metadata": {},
   "source": [
    "## Question 11:\n",
    "Now try to regress the aggregated data with MLPRegressor. Try different architectures (i.e. the structure of the network) by adjusting hidden_layer_sizes. You should try at least 5 architectures with various numbers of layers and layer sizes. Report the architectures you tried, as well as its MSE of fitting the entire aggregated data."
   ]
  },
  {
   "cell_type": "markdown",
   "metadata": {},
   "source": [
    "#### Structure 1\n",
    "- One layer of size 10"
   ]
  },
  {
   "cell_type": "code",
   "execution_count": 170,
   "metadata": {},
   "outputs": [],
   "source": [
    "from sklearn.neural_network import MLPRegressor\n",
    "\n",
    "mlpr1 = MLPRegressor(hidden_layer_sizes = (10))\n",
    "mlpr1.fit(agg_X, agg_Y)\n",
    "\n",
    "mlpr1_y_pred = mlpr1.predict(agg_X)"
   ]
  },
  {
   "cell_type": "code",
   "execution_count": 171,
   "metadata": {},
   "outputs": [
    {
     "name": "stdout",
     "output_type": "stream",
     "text": [
      "MSE for MLPRegressor with Structure 1: 10741317428981.9\n"
     ]
    }
   ],
   "source": [
    "from sklearn.metrics import mean_squared_error\n",
    "\n",
    "mlpr1_mse = mean_squared_error(agg_Y, mlpr1_y_pred)\n",
    "\n",
    "print(\"MSE for MLPRegressor with Structure 1:\", mlpr1_mse)"
   ]
  },
  {
   "cell_type": "markdown",
   "metadata": {},
   "source": [
    "### Structure 2\n",
    "- 1st layer of size 10\n",
    "- 2nd layer of size 10"
   ]
  },
  {
   "cell_type": "code",
   "execution_count": 172,
   "metadata": {},
   "outputs": [],
   "source": [
    "mlpr2 = MLPRegressor(hidden_layer_sizes = (10, 10))\n",
    "mlpr2.fit(agg_X, agg_Y)\n",
    "\n",
    "mlpr2_y_pred = mlpr2.predict(agg_X)"
   ]
  },
  {
   "cell_type": "code",
   "execution_count": 173,
   "metadata": {},
   "outputs": [
    {
     "name": "stdout",
     "output_type": "stream",
     "text": [
      "MSE for MLPRegressor with Structure 2: 914575866455.0604\n"
     ]
    }
   ],
   "source": [
    "mlpr2_mse = mean_squared_error(agg_Y, mlpr2_y_pred)\n",
    "\n",
    "print(\"MSE for MLPRegressor with Structure 2:\", mlpr2_mse)"
   ]
  },
  {
   "cell_type": "markdown",
   "metadata": {},
   "source": [
    "### Structure 3\n",
    "- 1st layer of size 10\n",
    "- 2nd layer of size 10\n",
    "- 3rd layer of size 10"
   ]
  },
  {
   "cell_type": "code",
   "execution_count": 174,
   "metadata": {},
   "outputs": [],
   "source": [
    "mlpr3 = MLPRegressor(hidden_layer_sizes = (10, 10, 10))\n",
    "mlpr3.fit(agg_X, agg_Y)\n",
    "\n",
    "mlpr3_y_pred = mlpr3.predict(agg_X)"
   ]
  },
  {
   "cell_type": "code",
   "execution_count": 175,
   "metadata": {},
   "outputs": [
    {
     "name": "stdout",
     "output_type": "stream",
     "text": [
      "MSE for MLPRegressor with Structure 3: 50345588259.53246\n"
     ]
    }
   ],
   "source": [
    "mlpr3_mse = mean_squared_error(agg_Y, mlpr3_y_pred)\n",
    "\n",
    "print(\"MSE for MLPRegressor with Structure 3:\", mlpr3_mse)"
   ]
  },
  {
   "cell_type": "markdown",
   "metadata": {},
   "source": [
    "### Structure 4\n",
    "- 1st layer of size 10\n",
    "- 2nd layer of size 10\n",
    "- 3rd layer of size 10\n",
    "- 4th layer of size 10"
   ]
  },
  {
   "cell_type": "code",
   "execution_count": 176,
   "metadata": {},
   "outputs": [],
   "source": [
    "mlpr4 = MLPRegressor(hidden_layer_sizes = (10, 10, 10, 10))\n",
    "mlpr4.fit(agg_X, agg_Y)\n",
    "\n",
    "mlpr4_y_pred = mlpr4.predict(agg_X)"
   ]
  },
  {
   "cell_type": "code",
   "execution_count": 177,
   "metadata": {},
   "outputs": [
    {
     "name": "stdout",
     "output_type": "stream",
     "text": [
      "MSE for MLPRegressor with Structure 4: 1347339758.7224317\n"
     ]
    }
   ],
   "source": [
    "mlpr4_mse = mean_squared_error(agg_Y, mlpr4_y_pred)\n",
    "\n",
    "print(\"MSE for MLPRegressor with Structure 4:\", mlpr4_mse)"
   ]
  },
  {
   "cell_type": "markdown",
   "metadata": {},
   "source": [
    "#### Structure 5\n",
    "- 1st layer of size 20\n",
    "- 2nd layer of size 20\n",
    "- 3rd layer of size 20\n",
    "- 4th layer of size 20"
   ]
  },
  {
   "cell_type": "code",
   "execution_count": 178,
   "metadata": {},
   "outputs": [],
   "source": [
    "mlpr5 = MLPRegressor(hidden_layer_sizes = (20, 20, 20, 20))\n",
    "mlpr5.fit(agg_X, agg_Y)\n",
    "\n",
    "mlpr5_y_pred = mlpr5.predict(agg_X)"
   ]
  },
  {
   "cell_type": "code",
   "execution_count": 179,
   "metadata": {},
   "outputs": [
    {
     "name": "stdout",
     "output_type": "stream",
     "text": [
      "MSE for MLPRegressor with Structure 5: 1082998986.1297681\n"
     ]
    }
   ],
   "source": [
    "mlpr5_mse = mean_squared_error(agg_Y, mlpr5_y_pred)\n",
    "\n",
    "print(\"MSE for MLPRegressor with Structure 5:\", mlpr5_mse)"
   ]
  },
  {
   "cell_type": "markdown",
   "metadata": {},
   "source": [
    "#### Structure 6\n",
    "- 1st layer of size 10\n",
    "- 2nd layer of size 10\n",
    "- 3rd layer of size 10\n",
    "- 4th layer of size 10\n",
    "- 5th layer of size 10"
   ]
  },
  {
   "cell_type": "code",
   "execution_count": 180,
   "metadata": {},
   "outputs": [],
   "source": [
    "mlpr6 = MLPRegressor(hidden_layer_sizes = (10, 10, 10, 10, 10))\n",
    "mlpr6.fit(agg_X, agg_Y)\n",
    "\n",
    "mlpr6_y_pred = mlpr6.predict(agg_X)"
   ]
  },
  {
   "cell_type": "code",
   "execution_count": 181,
   "metadata": {},
   "outputs": [
    {
     "name": "stdout",
     "output_type": "stream",
     "text": [
      "MSE for MLPRegressor with Structure 6: 269691115.33526504\n"
     ]
    }
   ],
   "source": [
    "mlpr6_mse = mean_squared_error(agg_Y, mlpr6_y_pred)\n",
    "\n",
    "print(\"MSE for MLPRegressor with Structure 6:\", mlpr6_mse)"
   ]
  },
  {
   "cell_type": "markdown",
   "metadata": {},
   "source": [
    "#### The best structure is Structure 6."
   ]
  },
  {
   "cell_type": "markdown",
   "metadata": {},
   "source": [
    "## Question 12:\n",
    "Use StandardScaler to scale the data before feeding it to MLPRegressor (with the best architecture you got above). Does its performance increase?"
   ]
  },
  {
   "cell_type": "code",
   "execution_count": 184,
   "metadata": {},
   "outputs": [
    {
     "name": "stdout",
     "output_type": "stream",
     "text": [
      "MSE for MLPRegressor with Structure 6 after scaling: 233606209.15071437\n"
     ]
    }
   ],
   "source": [
    "from sklearn.preprocessing import StandardScaler\n",
    "\n",
    "# Scaling the data\n",
    "std_X = StandardScaler().fit_transform(agg_X, agg_Y)\n",
    "\n",
    "# We will use Structure 6 here\n",
    "mlpr6.fit(std_X, agg_Y)\n",
    "mlpr6_std_pred = mlpr6.predict(std_X)\n",
    "\n",
    "# See the result of mse\n",
    "mlpr6_std_mse = mean_squared_error(agg_Y, mlpr6_std_pred)\n",
    "\n",
    "print(\"MSE for MLPRegressor with Structure 6 after scaling:\", mlpr6_std_mse)"
   ]
  },
  {
   "cell_type": "markdown",
   "metadata": {},
   "source": [
    "## Question 13:\n",
    "Using grid search, find the best architecture (for scaled data) for each period (with corresponding window length) described in Question 6."
   ]
  },
  {
   "cell_type": "code",
   "execution_count": 187,
   "metadata": {},
   "outputs": [],
   "source": [
    "# Scaling the data for each period\n",
    "std_X_before = StandardScaler().fit_transform(agg_X_before, agg_Y_before)\n",
    "std_X_between = StandardScaler().fit_transform(agg_X_between, agg_Y_between)\n",
    "std_X_after = StandardScaler().fit_transform(agg_X_after, agg_Y_after)\n",
    "\n",
    "params_mlpr = {'hidden_layer_sizes':[(10), (10,10), (10,10,10), (10,10,10,10), (20,20,20,20), (10,10,10,10,10)]} "
   ]
  },
  {
   "cell_type": "markdown",
   "metadata": {},
   "source": [
    "### Grid Search before Feb.1 8:00 a.m."
   ]
  },
  {
   "cell_type": "code",
   "execution_count": 190,
   "metadata": {},
   "outputs": [
    {
     "name": "stdout",
     "output_type": "stream",
     "text": [
      "-------------------- Best Params --------------------\n",
      "{'hidden_layer_sizes': (10, 10, 10, 10)}\n",
      "-------------------- Best Score --------------------\n",
      "-5834667.118595185\n"
     ]
    }
   ],
   "source": [
    "cv = KFold(5, shuffle=True)\n",
    "\n",
    "std_mlpr_grid_before = GridSearchCV(estimator = MLPRegressor(),\n",
    "                                    param_grid = params_mlpr,\n",
    "                                    scoring = \"neg_mean_squared_error\",\n",
    "                                    cv = cv,\n",
    "                                    n_jobs = -1)\n",
    "\n",
    "std_mlpr_grid_before.fit(std_X_before, agg_Y_before)\n",
    "\n",
    "print('-' * 20, 'Best Params', '-' * 20)\n",
    "print(std_mlpr_grid_before.best_params_)\n",
    "print('-' * 20, 'Best Score', '-' * 20)\n",
    "print(std_mlpr_grid_before.best_score_)"
   ]
  },
  {
   "cell_type": "markdown",
   "metadata": {},
   "source": [
    "### Grid Search between Feb.1 8:00 a.m. and Feb.1 8:00 p.m."
   ]
  },
  {
   "cell_type": "code",
   "execution_count": 191,
   "metadata": {},
   "outputs": [
    {
     "name": "stdout",
     "output_type": "stream",
     "text": [
      "-------------------- Best Params --------------------\n",
      "{'hidden_layer_sizes': (20, 20, 20, 20)}\n",
      "-------------------- Best Score --------------------\n",
      "-278030332.8133194\n"
     ]
    },
    {
     "name": "stderr",
     "output_type": "stream",
     "text": [
      "/anaconda3/envs/py3/lib/python3.6/site-packages/sklearn/model_selection/_search.py:841: DeprecationWarning: The default of the `iid` parameter will change from True to False in version 0.22 and will be removed in 0.24. This will change numeric results when test-set sizes are unequal.\n",
      "  DeprecationWarning)\n"
     ]
    }
   ],
   "source": [
    "cv = KFold(5, shuffle=True)\n",
    "\n",
    "std_mlpr_grid_between = GridSearchCV(estimator = MLPRegressor(),\n",
    "                                    param_grid = params_mlpr,\n",
    "                                    scoring = \"neg_mean_squared_error\",\n",
    "                                    cv = cv,\n",
    "                                    n_jobs = -1)\n",
    "\n",
    "std_mlpr_grid_between.fit(std_X_between, agg_Y_between)\n",
    "\n",
    "print('-' * 20, 'Best Params', '-' * 20)\n",
    "print(std_mlpr_grid_between.best_params_)\n",
    "print('-' * 20, 'Best Score', '-' * 20)\n",
    "print(std_mlpr_grid_between.best_score_)"
   ]
  },
  {
   "cell_type": "markdown",
   "metadata": {},
   "source": [
    "### Grid Search after Feb.1 8:00 p.m."
   ]
  },
  {
   "cell_type": "code",
   "execution_count": 193,
   "metadata": {},
   "outputs": [
    {
     "name": "stdout",
     "output_type": "stream",
     "text": [
      "-------------------- Best Params --------------------\n",
      "{'hidden_layer_sizes': (20, 20, 20, 20)}\n",
      "-------------------- Best Score --------------------\n",
      "-1782472.4168836535\n"
     ]
    }
   ],
   "source": [
    "cv = KFold(5, shuffle=True)\n",
    "\n",
    "std_mlpr_grid_after = GridSearchCV(estimator = MLPRegressor(),\n",
    "                                    param_grid = params_mlpr,\n",
    "                                    scoring = \"neg_mean_squared_error\",\n",
    "                                    cv = cv,\n",
    "                                    n_jobs = -1)\n",
    "\n",
    "std_mlpr_grid_after.fit(std_X_after, agg_Y_after)\n",
    "\n",
    "print('-' * 20, 'Best Params', '-' * 20)\n",
    "print(std_mlpr_grid_after.best_params_)\n",
    "print('-' * 20, 'Best Score', '-' * 20)\n",
    "print(std_mlpr_grid_after.best_score_)"
   ]
  },
  {
   "cell_type": "markdown",
   "metadata": {},
   "source": [
    "## Question 14:\n",
    "Report the model you use. For each test file, provide your predictions on the number of tweets in the next time window."
   ]
  },
  {
   "cell_type": "code",
   "execution_count": 199,
   "metadata": {},
   "outputs": [],
   "source": [
    "files = [\"ECE219_tweet_data/tweets_#gohawks.txt\",\n",
    "         \"ECE219_tweet_data/tweets_#gopatriots.txt\",\n",
    "         \"ECE219_tweet_data/tweets_#nfl.txt\",\n",
    "         \"ECE219_tweet_data/tweets_#patriots.txt\",\n",
    "         \"ECE219_tweet_data/tweets_#sb49.txt\",\n",
    "         \"ECE219_tweet_data/tweets_#superbowl.txt\"]\n",
    "\n",
    "test_filenames = ['ECE219_tweet_test/sample0_period1.txt',\n",
    "                  'ECE219_tweet_test/sample0_period2.txt',\n",
    "                  'ECE219_tweet_test/sample0_period3.txt',\n",
    "                  'ECE219_tweet_test/sample1_period1.txt',\n",
    "                  'ECE219_tweet_test/sample1_period2.txt',\n",
    "                  'ECE219_tweet_test/sample1_period3.txt',\n",
    "                  'ECE219_tweet_test/sample2_period1.txt',\n",
    "                  'ECE219_tweet_test/sample2_period2.txt',\n",
    "                  'ECE219_tweet_test/sample2_period3.txt']\n",
    "\n",
    "max_times = {\"ECE219_tweet_data/tweets_#gohawks.txt\": 0,\n",
    "             \"ECE219_tweet_data/tweets_#gopatriots.txt\": 0,\n",
    "             \"ECE219_tweet_data/tweets_#nfl.txt\": 0,\n",
    "             \"ECE219_tweet_data/tweets_#patriots.txt\": 0,\n",
    "             \"ECE219_tweet_data/tweets_#sb49.txt\": 0,\n",
    "             \"ECE219_tweet_data/tweets_#superbowl.txt\": 0,\n",
    "             'ECE219_tweet_test/sample0_period1.txt': 0,\n",
    "             'ECE219_tweet_test/sample0_period2.txt': 0,\n",
    "             'ECE219_tweet_test/sample0_period3.txt': 0,\n",
    "             'ECE219_tweet_test/sample1_period1.txt': 0, \n",
    "             'ECE219_tweet_test/sample1_period2.txt': 0,\n",
    "             'ECE219_tweet_test/sample1_period3.txt': 0,\n",
    "             'ECE219_tweet_test/sample2_period1.txt': 0,\n",
    "             'ECE219_tweet_test/sample2_period2.txt': 0,\n",
    "             'ECE219_tweet_test/sample2_period3.txt': 0}\n",
    "\n",
    "min_times = {\"ECE219_tweet_data/tweets_#gohawks.txt\": 0,\n",
    "             \"ECE219_tweet_data/tweets_#gopatriots.txt\": 0,\n",
    "             \"ECE219_tweet_data/tweets_#nfl.txt\": 0,\n",
    "             \"ECE219_tweet_data/tweets_#patriots.txt\": 0,\n",
    "             \"ECE219_tweet_data/tweets_#sb49.txt\": 0,\n",
    "             \"ECE219_tweet_data/tweets_#superbowl.txt\": 0,\n",
    "             'ECE219_tweet_test/sample0_period1.txt': 0,\n",
    "             'ECE219_tweet_test/sample0_period2.txt': 0,\n",
    "             'ECE219_tweet_test/sample0_period3.txt': 0,\n",
    "             'ECE219_tweet_test/sample1_period1.txt': 0, \n",
    "             'ECE219_tweet_test/sample1_period2.txt': 0,\n",
    "             'ECE219_tweet_test/sample1_period3.txt': 0,\n",
    "             'ECE219_tweet_test/sample2_period1.txt': 0,\n",
    "             'ECE219_tweet_test/sample2_period2.txt': 0,\n",
    "             'ECE219_tweet_test/sample2_period3.txt': 0}"
   ]
  },
  {
   "cell_type": "code",
   "execution_count": 200,
   "metadata": {},
   "outputs": [
    {
     "name": "stdout",
     "output_type": "stream",
     "text": [
      "unix time for Feb.1, 8:00 a.m.: 1422806400.0\n",
      "unix time for Feb.1, 8:00 p.m.: 1422849600.0\n"
     ]
    }
   ],
   "source": [
    "# Get time period\n",
    "pst_tz = pytz.timezone('America/Los_Angeles')\n",
    "\n",
    "key_time1 = datetime.datetime(2015, 2, 1, 8, 0, 0, 0, pst_tz)\n",
    "key_time1_unix = time.mktime(key_time1.timetuple())\n",
    "\n",
    "key_time2 = datetime.datetime(2015, 2, 1, 20, 0, 0, 0, pst_tz)\n",
    "key_time2_unix = time.mktime(key_time2.timetuple())\n",
    "\n",
    "print(\"unix time for Feb.1, 8:00 a.m.:\", key_time1_unix)\n",
    "print(\"unix time for Feb.1, 8:00 p.m.:\", key_time2_unix)"
   ]
  },
  {
   "cell_type": "code",
   "execution_count": 201,
   "metadata": {},
   "outputs": [
    {
     "name": "stdout",
     "output_type": "stream",
     "text": [
      "----------------------------------------\n",
      "ECE219_tweet_data/tweets_#gohawks.txt\n",
      "Average number of tweets per hour:\n",
      "292.48785062173687\n",
      "Average number of followers per tweet:\n",
      "2217.9237355281984\n",
      "Average number of retweets per tweet:\n",
      "2.0132093991319877\n",
      "----------------------------------------\n",
      "ECE219_tweet_data/tweets_#gopatriots.txt\n",
      "Average number of tweets per hour:\n",
      "40.954698006061946\n",
      "Average number of followers per tweet:\n",
      "1427.2526051635405\n",
      "Average number of retweets per tweet:\n",
      "1.4081919101697078\n",
      "----------------------------------------\n",
      "ECE219_tweet_data/tweets_#nfl.txt\n",
      "Average number of tweets per hour:\n",
      "397.0213901819841\n",
      "Average number of followers per tweet:\n",
      "4662.37544523693\n",
      "Average number of retweets per tweet:\n",
      "1.5344602655543254\n",
      "----------------------------------------\n",
      "ECE219_tweet_data/tweets_#patriots.txt\n",
      "Average number of tweets per hour:\n",
      "750.89426460689\n",
      "Average number of followers per tweet:\n",
      "3280.4635616550277\n",
      "Average number of retweets per tweet:\n",
      "1.7852871288476946\n",
      "----------------------------------------\n",
      "ECE219_tweet_data/tweets_#sb49.txt\n",
      "Average number of tweets per hour:\n",
      "1276.8570598680474\n",
      "Average number of followers per tweet:\n",
      "10374.160292019487\n",
      "Average number of retweets per tweet:\n",
      "2.52713444111402\n",
      "----------------------------------------\n",
      "ECE219_tweet_data/tweets_#superbowl.txt\n",
      "Average number of tweets per hour:\n",
      "2072.11840170408\n",
      "Average number of followers per tweet:\n",
      "8814.96799424623\n",
      "Average number of retweets per tweet:\n",
      "2.3911895819207736\n",
      "----------------------------------------\n",
      "ECE219_tweet_test/sample0_period1.txt\n",
      "Average number of tweets per hour:\n",
      "94.86870186508305\n",
      "Average number of followers per tweet:\n",
      "29933.37852112676\n",
      "Average number of retweets per tweet:\n",
      "3.801056338028169\n",
      "----------------------------------------\n",
      "ECE219_tweet_test/sample0_period2.txt\n",
      "Average number of tweets per hour:\n",
      "26768.87159533074\n",
      "Average number of followers per tweet:\n",
      "5364.973387157061\n",
      "Average number of retweets per tweet:\n",
      "1.9268894370935188\n",
      "----------------------------------------\n",
      "ECE219_tweet_test/sample0_period3.txt\n",
      "Average number of tweets per hour:\n",
      "68.8079809799077\n",
      "Average number of followers per tweet:\n",
      "11219.570731707317\n",
      "Average number of retweets per tweet:\n",
      "1.4853658536585366\n",
      "----------------------------------------\n",
      "ECE219_tweet_test/sample1_period1.txt\n",
      "Average number of tweets per hour:\n",
      "380.07038340433417\n",
      "Average number of followers per tweet:\n",
      "8872.58552631579\n",
      "Average number of retweets per tweet:\n",
      "2.1276315789473683\n",
      "----------------------------------------\n",
      "ECE219_tweet_test/sample1_period2.txt\n",
      "Average number of tweets per hour:\n",
      "11104.168982768206\n",
      "Average number of followers per tweet:\n",
      "3901.8388898900703\n",
      "Average number of retweets per tweet:\n",
      "1.5938006848080735\n",
      "----------------------------------------\n",
      "ECE219_tweet_test/sample1_period3.txt\n",
      "Average number of tweets per hour:\n",
      "52.09717213892579\n",
      "Average number of followers per tweet:\n",
      "42414.845901639346\n",
      "Average number of retweets per tweet:\n",
      "5.160655737704918\n",
      "----------------------------------------\n",
      "ECE219_tweet_test/sample2_period1.txt\n",
      "Average number of tweets per hour:\n",
      "159.06161620844733\n",
      "Average number of followers per tweet:\n",
      "5873.818467995803\n",
      "Average number of retweets per tweet:\n",
      "2.417628541448059\n",
      "----------------------------------------\n",
      "ECE219_tweet_test/sample2_period2.txt\n",
      "Average number of tweets per hour:\n",
      "306.0402684563759\n",
      "Average number of followers per tweet:\n",
      "22384.723684210527\n",
      "Average number of retweets per tweet:\n",
      "3.289473684210526\n",
      "----------------------------------------\n",
      "ECE219_tweet_test/sample2_period3.txt\n",
      "Average number of tweets per hour:\n",
      "68.25698536399923\n",
      "Average number of followers per tweet:\n",
      "34763.4335839599\n",
      "Average number of retweets per tweet:\n",
      "4.363408521303258\n"
     ]
    }
   ],
   "source": [
    "for file in files:\n",
    "    report_statistics(file)\n",
    "\n",
    "for file in test_filenames:\n",
    "    report_statistics(file)"
   ]
  },
  {
   "cell_type": "code",
   "execution_count": 273,
   "metadata": {},
   "outputs": [],
   "source": [
    "import math as mt\n",
    "\n",
    "def extract_features_6h(filenames):\n",
    "        \n",
    "    max_time = 0\n",
    "    min_time = 2000000000\n",
    "    for filename in filenames:\n",
    "        if max_times[filename] > max_time:\n",
    "            max_time = max_times[filename]\n",
    "        if min_times[filename] < min_time:\n",
    "            min_time = min_times[filename]\n",
    "    \n",
    "    total_windows_before = mt.floor((key_time1_unix - min_time) / (60 * 60)) + 1\n",
    "    total_windows_between = mt.floor((key_time2_unix - key_time1_unix) / (60 * 5)) + 1\n",
    "    total_windows_after = mt.floor((max_time - key_time2_unix) / (60 * 60)) + 1\n",
    "    \n",
    "    # Adjust to sample files\n",
    "    check = False\n",
    "    if \"test\" in filenames[0]:\n",
    "        check = True\n",
    "        total_windows_before = mt.floor((max_times[filenames[0]] - min_times[filenames[0]]) / (60 * 60)) + 1\n",
    "        total_windows_between = mt.floor((max_times[filenames[1]] - min_times[filenames[1]]) / (60 * 5)) + 1\n",
    "        total_windows_after = mt.floor((max_times[filenames[2]] - min_times[filenames[2]]) / (60 * 60)) + 1\n",
    "        \n",
    "    num_tweets = 0\n",
    "    num_retweets = 0\n",
    "    num_followers = 0\n",
    "    max_num_followers = 0\n",
    "    time_window_before = []\n",
    "    time_window_between = []\n",
    "    time_window_after = []\n",
    "    \n",
    "    for index in range(total_windows_before):\n",
    "        datetime_object_in_pst_timezone = datetime.datetime.fromtimestamp(min_time + index * 60 * 60, pst_tz)\n",
    "        time_of_day = datetime_object_in_pst_timezone.hour\n",
    "        time_window_before.append([num_tweets, num_retweets, num_followers, max_num_followers, time_of_day])\n",
    "\n",
    "    for index in range(total_windows_between):\n",
    "        datetime_object_in_pst_timezone = datetime.datetime.fromtimestamp(key_time1_unix + index * 60 * 5, pst_tz)\n",
    "        time_of_day = datetime_object_in_pst_timezone.hour\n",
    "        time_window_between.append([num_tweets, num_retweets, num_followers, max_num_followers, time_of_day])\n",
    "\n",
    "    for index in range(total_windows_after):\n",
    "        datetime_object_in_pst_timezone = datetime.datetime.fromtimestamp(key_time2_unix + index * 60 * 60, pst_tz)\n",
    "        time_of_day = datetime_object_in_pst_timezone.hour\n",
    "        time_window_after.append([num_tweets, num_retweets, num_followers, max_num_followers, time_of_day])\n",
    "    \n",
    "    for filename in filenames:\n",
    "        with open(filename, 'r') as file:\n",
    "            lines = file.readlines()\n",
    "\n",
    "            for line in lines:\n",
    "                json_obj = json.loads(line)\n",
    "                time = json_obj['citation_date']\n",
    "\n",
    "                if time < key_time1_unix:\n",
    "                    index = mt.floor((json_obj['citation_date'] - min_time) / (60 * 60))\n",
    "                    time_window_before[index][0] = time_window_before[index][0] + 1\n",
    "                    time_window_before[index][1] = time_window_before[index][1] + json_obj['metrics']['citations']['total']\n",
    "                    time_window_before[index][2] = time_window_before[index][2] + json_obj['author']['followers']\n",
    "                    time_window_before[index][3] = max(time_window_before[index][3], json_obj['author']['followers'])\n",
    "                elif time < key_time2_unix:\n",
    "                    index = mt.floor((json_obj['citation_date'] - key_time1_unix) / (60 * 5))\n",
    "                    if check:\n",
    "                        index = mt.floor((json_obj['citation_date'] - min_times[filenames[1]]) / (60 * 5))\n",
    "                    time_window_between[index][0] = time_window_between[index][0] + 1\n",
    "                    time_window_between[index][1] = time_window_between[index][1] + json_obj['metrics']['citations']['total']\n",
    "                    time_window_between[index][2] = time_window_between[index][2] + json_obj['author']['followers']\n",
    "                    time_window_between[index][3] = max(time_window_between[index][3], json_obj['author']['followers'])\n",
    "                else:\n",
    "                    index = mt.floor((json_obj['citation_date'] - key_time2_unix) / (60 * 60))\n",
    "                    if check:\n",
    "                        index = mt.floor((json_obj['citation_date'] - min_times[filenames[2]]) / (60 * 60))\n",
    "                    time_window_after[index][0] = time_window_after[index][0] + 1\n",
    "                    time_window_after[index][1] = time_window_after[index][1] + json_obj['metrics']['citations']['total']\n",
    "                    time_window_after[index][2] = time_window_after[index][2] + json_obj['author']['followers']\n",
    "                    time_window_after[index][3] = max(time_window_after[index][3], json_obj['author']['followers'])\n",
    "                    \n",
    "    window_6h_before = []\n",
    "    window_6h_between = []\n",
    "    window_6h_after = []\n",
    "    L_before = len(time_window_before)\n",
    "    L_between = len(time_window_between)\n",
    "    L_after = len(time_window_after)\n",
    "    \n",
    "    for idx in range(5, L_before):\n",
    "        win_combo = []\n",
    "        for i in range(6):\n",
    "            win_combo = win_combo + time_window_before[idx-i]\n",
    "        window_6h_before.append(win_combo)\n",
    "        \n",
    "    for idx in range(5, L_between):\n",
    "        win_combo = []\n",
    "        for i in range(6):\n",
    "            win_combo = win_combo + time_window_between[idx-i]\n",
    "        window_6h_between.append(win_combo)\n",
    "        \n",
    "    for idx in range(5, L_after):\n",
    "        win_combo = []\n",
    "        for i in range(6):\n",
    "            win_combo = win_combo + time_window_after[idx-i]\n",
    "        window_6h_after.append(win_combo)\n",
    "\n",
    "    return np.array(window_6h_before), np.array(window_6h_between), np.array(window_6h_after)"
   ]
  },
  {
   "cell_type": "code",
   "execution_count": 274,
   "metadata": {},
   "outputs": [],
   "source": [
    "win_6h_before, win_6h_between, win_6h_after = extract_features_6h(files)"
   ]
  },
  {
   "cell_type": "code",
   "execution_count": 281,
   "metadata": {},
   "outputs": [],
   "source": [
    "X_6h_before, Y_6h_before = win_6h_before[:-1, :], win_6h_before[1:, 0]\n",
    "X_6h_between, Y_6h_between = win_6h_between[:-1, :], win_6h_between[1:, 0]\n",
    "X_6h_after, Y_6h_after = win_6h_after[:-1, :], win_6h_after[1:, 0]"
   ]
  },
  {
   "cell_type": "code",
   "execution_count": 282,
   "metadata": {},
   "outputs": [],
   "source": [
    "sp0_6h_before, sp0_6h_between, sp0_6h_after = extract_features_6h(test_filenames[:3])\n",
    "sp1_6h_before, sp1_6h_between, sp1_6h_after = extract_features_6h(test_filenames[3:6])\n",
    "sp2_6h_before, sp2_6h_between, sp2_6h_after = extract_features_6h(test_filenames[6:])"
   ]
  },
  {
   "cell_type": "markdown",
   "metadata": {},
   "source": [
    "### Find out the best model"
   ]
  },
  {
   "cell_type": "markdown",
   "metadata": {},
   "source": [
    "### Before"
   ]
  },
  {
   "cell_type": "code",
   "execution_count": 287,
   "metadata": {},
   "outputs": [
    {
     "name": "stdout",
     "output_type": "stream",
     "text": [
      "----------------------------------------\n",
      "Model: GradientBoostingRegressor(alpha=0.9, criterion='friedman_mse', init=None,\n",
      "             learning_rate=0.1, loss='ls', max_depth=100,\n",
      "             max_features='auto', max_leaf_nodes=None,\n",
      "             min_impurity_decrease=0.0, min_impurity_split=None,\n",
      "             min_samples_leaf=2, min_samples_split=10,\n",
      "             min_weight_fraction_leaf=0.0, n_estimators=800,\n",
      "             n_iter_no_change=None, presort='auto', random_state=None,\n",
      "             subsample=1.0, tol=0.0001, validation_fraction=0.1, verbose=0,\n",
      "             warm_start=False)\n",
      "test mse: -5296564.514581541\n",
      "train mse: -9.947109677229874e-08\n",
      "----------------------------------------\n",
      "Model: MLPRegressor(activation='relu', alpha=0.0001, batch_size='auto', beta_1=0.9,\n",
      "       beta_2=0.999, early_stopping=False, epsilon=1e-08,\n",
      "       hidden_layer_sizes=(10, 10, 10, 10, 10), learning_rate='constant',\n",
      "       learning_rate_init=0.001, max_iter=200, momentum=0.9,\n",
      "       n_iter_no_change=10, nesterovs_momentum=True, power_t=0.5,\n",
      "       random_state=None, shuffle=True, solver='adam', tol=0.0001,\n",
      "       validation_fraction=0.1, verbose=False, warm_start=False)\n",
      "test mse: -2798991143.467711\n",
      "train mse: -505715732.3144857\n",
      "----------------------------------------\n",
      "Model: LinearRegression(copy_X=True, fit_intercept=True, n_jobs=-1, normalize=False)\n",
      "test mse: -6204628.19516924\n",
      "train mse: -3001564.8687654757\n"
     ]
    }
   ],
   "source": [
    "from sklearn.model_selection import cross_validate\n",
    "from sklearn.linear_model import LinearRegression\n",
    "\n",
    "models_before = [GradientBoostingRegressor(max_depth = gbr_before['max_depth'],\n",
    "                                           max_features = gbr_before['max_features'],\n",
    "                                           min_samples_leaf = gbr_before['min_samples_leaf'],\n",
    "                                           min_samples_split = gbr_before['min_samples_split'],\n",
    "                                           n_estimators = gbr_before['n_estimators']),\n",
    "                 MLPRegressor(hidden_layer_sizes = (10, 10, 10, 10, 10)), \n",
    "                 LinearRegression(n_jobs = -1)]\n",
    "\n",
    "test_mse_6h_before = []\n",
    "train_mse_6h_before = []\n",
    "\n",
    "for algo in models_before:\n",
    "    cv_result = cross_validate(algo, X_6h_before, Y_6h_before, cv = 5, return_train_score = True, \n",
    "                           scoring = \"neg_mean_squared_error\", n_jobs = -1)\n",
    "    test_mse_6h_before.append(np.mean(cv_result['test_score']))\n",
    "    train_mse_6h_before.append(np.mean(cv_result['train_score']))\n",
    "    print('-'*40)\n",
    "    print(\"Model:\", algo)\n",
    "    print(\"test mse:\", np.mean(cv_result['test_score']))\n",
    "    print(\"train mse:\", np.mean(cv_result['train_score']))"
   ]
  },
  {
   "cell_type": "code",
   "execution_count": 296,
   "metadata": {},
   "outputs": [
    {
     "name": "stdout",
     "output_type": "stream",
     "text": [
      "The best model for this period is: GradientBoostingRegressor(alpha=0.9, criterion='friedman_mse', init=None,\n",
      "             learning_rate=0.1, loss='ls', max_depth=100,\n",
      "             max_features='auto', max_leaf_nodes=None,\n",
      "             min_impurity_decrease=0.0, min_impurity_split=None,\n",
      "             min_samples_leaf=2, min_samples_split=10,\n",
      "             min_weight_fraction_leaf=0.0, n_estimators=800,\n",
      "             n_iter_no_change=None, presort='auto', random_state=None,\n",
      "             subsample=1.0, tol=0.0001, validation_fraction=0.1, verbose=0,\n",
      "             warm_start=False)\n"
     ]
    }
   ],
   "source": [
    "best_model_before = models_before[test_mse_6h_before.index(max(test_mse_6h_before))]\n",
    "print(\"The best model for this period is:\", best_model_before)"
   ]
  },
  {
   "cell_type": "markdown",
   "metadata": {},
   "source": [
    "### Between"
   ]
  },
  {
   "cell_type": "code",
   "execution_count": 289,
   "metadata": {},
   "outputs": [
    {
     "name": "stdout",
     "output_type": "stream",
     "text": [
      "----------------------------------------\n",
      "Model: GradientBoostingRegressor(alpha=0.9, criterion='friedman_mse', init=None,\n",
      "             learning_rate=0.1, loss='ls', max_depth=40,\n",
      "             max_features='sqrt', max_leaf_nodes=None,\n",
      "             min_impurity_decrease=0.0, min_impurity_split=None,\n",
      "             min_samples_leaf=2, min_samples_split=10,\n",
      "             min_weight_fraction_leaf=0.0, n_estimators=1600,\n",
      "             n_iter_no_change=None, presort='auto', random_state=None,\n",
      "             subsample=1.0, tol=0.0001, validation_fraction=0.1, verbose=0,\n",
      "             warm_start=False)\n",
      "test mse: -46026106.52277329\n",
      "train mse: -9.885394009536512e-08\n",
      "----------------------------------------\n",
      "Model: MLPRegressor(activation='relu', alpha=0.0001, batch_size='auto', beta_1=0.9,\n",
      "       beta_2=0.999, early_stopping=False, epsilon=1e-08,\n",
      "       hidden_layer_sizes=(10, 10, 10, 10, 10), learning_rate='constant',\n",
      "       learning_rate_init=0.001, max_iter=200, momentum=0.9,\n",
      "       n_iter_no_change=10, nesterovs_momentum=True, power_t=0.5,\n",
      "       random_state=None, shuffle=True, solver='adam', tol=0.0001,\n",
      "       validation_fraction=0.1, verbose=False, warm_start=False)\n",
      "test mse: -1472779749044.643\n",
      "train mse: -12771646687042.86\n",
      "----------------------------------------\n",
      "Model: LinearRegression(copy_X=True, fit_intercept=True, n_jobs=-1, normalize=False)\n",
      "test mse: -137152257.25081408\n",
      "train mse: -9661952.266849328\n"
     ]
    }
   ],
   "source": [
    "models_between = [GradientBoostingRegressor(max_depth = gbr_between['max_depth'],\n",
    "                                           max_features = gbr_between['max_features'],\n",
    "                                           min_samples_leaf = gbr_between['min_samples_leaf'],\n",
    "                                           min_samples_split = gbr_between['min_samples_split'],\n",
    "                                           n_estimators = gbr_between['n_estimators']),\n",
    "                 MLPRegressor(hidden_layer_sizes = (10, 10, 10, 10, 10)), \n",
    "                 LinearRegression(n_jobs = -1)]\n",
    "\n",
    "test_mse_6h_between = []\n",
    "train_mse_6h_between = []\n",
    "\n",
    "for algo in models_between:\n",
    "    cv_result = cross_validate(algo, X_6h_between, Y_6h_between, cv = 5, return_train_score = True, \n",
    "                           scoring = \"neg_mean_squared_error\", n_jobs = -1)\n",
    "    test_mse_6h_between.append(np.mean(cv_result['test_score']))\n",
    "    train_mse_6h_between.append(np.mean(cv_result['train_score']))\n",
    "    print('-'*40)\n",
    "    print(\"Model:\", algo)\n",
    "    print(\"test mse:\", np.mean(cv_result['test_score']))\n",
    "    print(\"train mse:\", np.mean(cv_result['train_score']))"
   ]
  },
  {
   "cell_type": "code",
   "execution_count": 295,
   "metadata": {},
   "outputs": [
    {
     "name": "stdout",
     "output_type": "stream",
     "text": [
      "The best model for this period is: GradientBoostingRegressor(alpha=0.9, criterion='friedman_mse', init=None,\n",
      "             learning_rate=0.1, loss='ls', max_depth=40,\n",
      "             max_features='sqrt', max_leaf_nodes=None,\n",
      "             min_impurity_decrease=0.0, min_impurity_split=None,\n",
      "             min_samples_leaf=2, min_samples_split=10,\n",
      "             min_weight_fraction_leaf=0.0, n_estimators=1600,\n",
      "             n_iter_no_change=None, presort='auto', random_state=None,\n",
      "             subsample=1.0, tol=0.0001, validation_fraction=0.1, verbose=0,\n",
      "             warm_start=False)\n"
     ]
    }
   ],
   "source": [
    "best_model_between = models_between[test_mse_6h_between.index(max(test_mse_6h_between))]\n",
    "print(\"The best model for this period is:\", best_model_between)"
   ]
  },
  {
   "cell_type": "markdown",
   "metadata": {},
   "source": [
    "### After"
   ]
  },
  {
   "cell_type": "code",
   "execution_count": 291,
   "metadata": {},
   "outputs": [
    {
     "name": "stdout",
     "output_type": "stream",
     "text": [
      "----------------------------------------\n",
      "Model: GradientBoostingRegressor(alpha=0.9, criterion='friedman_mse', init=None,\n",
      "             learning_rate=0.1, loss='ls', max_depth=80,\n",
      "             max_features='sqrt', max_leaf_nodes=None,\n",
      "             min_impurity_decrease=0.0, min_impurity_split=None,\n",
      "             min_samples_leaf=2, min_samples_split=5,\n",
      "             min_weight_fraction_leaf=0.0, n_estimators=1600,\n",
      "             n_iter_no_change=None, presort='auto', random_state=None,\n",
      "             subsample=1.0, tol=0.0001, validation_fraction=0.1, verbose=0,\n",
      "             warm_start=False)\n",
      "test mse: -1228128.7116099081\n",
      "train mse: -9.905023624416146e-08\n",
      "----------------------------------------\n",
      "Model: MLPRegressor(activation='relu', alpha=0.0001, batch_size='auto', beta_1=0.9,\n",
      "       beta_2=0.999, early_stopping=False, epsilon=1e-08,\n",
      "       hidden_layer_sizes=(10, 10, 10, 10, 10), learning_rate='constant',\n",
      "       learning_rate_init=0.001, max_iter=200, momentum=0.9,\n",
      "       n_iter_no_change=10, nesterovs_momentum=True, power_t=0.5,\n",
      "       random_state=None, shuffle=True, solver='adam', tol=0.0001,\n",
      "       validation_fraction=0.1, verbose=False, warm_start=False)\n",
      "test mse: -5868706667.627363\n",
      "train mse: -4855785416.233558\n",
      "----------------------------------------\n",
      "Model: LinearRegression(copy_X=True, fit_intercept=True, n_jobs=-1, normalize=False)\n",
      "test mse: -1272788.0166990454\n",
      "train mse: -78642.56631819908\n"
     ]
    }
   ],
   "source": [
    "models_after = [GradientBoostingRegressor(max_depth = gbr_after['max_depth'],\n",
    "                                           max_features = gbr_after['max_features'],\n",
    "                                           min_samples_leaf = gbr_after['min_samples_leaf'],\n",
    "                                           min_samples_split = gbr_after['min_samples_split'],\n",
    "                                           n_estimators = gbr_after['n_estimators']),\n",
    "                 MLPRegressor(hidden_layer_sizes = (10, 10, 10, 10, 10)), \n",
    "                 LinearRegression(n_jobs = -1)]\n",
    "\n",
    "test_mse_6h_after = []\n",
    "train_mse_6h_after = []\n",
    "\n",
    "for algo in models_after:\n",
    "    cv_result = cross_validate(algo, X_6h_after, Y_6h_after, cv = 5, return_train_score = True, \n",
    "                           scoring = \"neg_mean_squared_error\", n_jobs = -1)\n",
    "    test_mse_6h_after.append(np.mean(cv_result['test_score']))\n",
    "    train_mse_6h_after.append(np.mean(cv_result['train_score']))\n",
    "    print('-'*40)\n",
    "    print(\"Model:\", algo)\n",
    "    print(\"test mse:\", np.mean(cv_result['test_score']))\n",
    "    print(\"train mse:\", np.mean(cv_result['train_score']))"
   ]
  },
  {
   "cell_type": "code",
   "execution_count": 297,
   "metadata": {},
   "outputs": [
    {
     "name": "stdout",
     "output_type": "stream",
     "text": [
      "The best model for this period is: GradientBoostingRegressor(alpha=0.9, criterion='friedman_mse', init=None,\n",
      "             learning_rate=0.1, loss='ls', max_depth=80,\n",
      "             max_features='sqrt', max_leaf_nodes=None,\n",
      "             min_impurity_decrease=0.0, min_impurity_split=None,\n",
      "             min_samples_leaf=2, min_samples_split=5,\n",
      "             min_weight_fraction_leaf=0.0, n_estimators=1600,\n",
      "             n_iter_no_change=None, presort='auto', random_state=None,\n",
      "             subsample=1.0, tol=0.0001, validation_fraction=0.1, verbose=0,\n",
      "             warm_start=False)\n"
     ]
    }
   ],
   "source": [
    "best_model_after = models_after[test_mse_6h_after.index(max(test_mse_6h_after))]\n",
    "print(\"The best model for this period is:\", best_model_after)"
   ]
  },
  {
   "cell_type": "markdown",
   "metadata": {},
   "source": [
    "#### From the results above, the best model for all three time periods is GradientBoostingRegressor."
   ]
  },
  {
   "cell_type": "markdown",
   "metadata": {},
   "source": [
    "### Predict next time window for each sample file"
   ]
  },
  {
   "cell_type": "code",
   "execution_count": 299,
   "metadata": {},
   "outputs": [
    {
     "name": "stdout",
     "output_type": "stream",
     "text": [
      "-------------------- sample0_period1 --------------------\n",
      "Predicted number of tweets in next time window: [384.37803686]\n",
      "-------------------- sample0_period2 --------------------\n",
      "Predicted number of tweets in next time window: [2013.97985776]\n",
      "-------------------- sample0_period3 --------------------\n",
      "Predicted number of tweets in next time window: [47.10583689]\n",
      "-------------------- sample1_period1 --------------------\n",
      "Predicted number of tweets in next time window: [937.42123394]\n",
      "-------------------- sample1_period2 --------------------\n",
      "Predicted number of tweets in next time window: [1896.05546433]\n",
      "-------------------- sample1_period3 --------------------\n",
      "Predicted number of tweets in next time window: [46.76910988]\n",
      "-------------------- sample2_period1 --------------------\n",
      "Predicted number of tweets in next time window: [220.53268648]\n",
      "-------------------- sample2_period2 --------------------\n",
      "Predicted number of tweets in next time window: [3353.66364976]\n",
      "-------------------- sample2_period3 --------------------\n",
      "Predicted number of tweets in next time window: [204.01673689]\n"
     ]
    }
   ],
   "source": [
    "# spl0_period1\n",
    "print('-' * 20, 'sample0_period1', '-' * 20)\n",
    "y01 = best_model_before.fit(X_6h_before, Y_6h_before).predict(sp0_6h_before)\n",
    "print('Predicted number of tweets in next time window:', y01)\n",
    "\n",
    "# spl0_period2\n",
    "print('-' * 20, 'sample0_period2', '-' * 20)\n",
    "y02 = best_model_between.fit(X_6h_between, Y_6h_between).predict(sp0_6h_between)\n",
    "print('Predicted number of tweets in next time window:', y02)\n",
    "\n",
    "# spl0_period3\n",
    "print('-' * 20, 'sample0_period3', '-' * 20)\n",
    "y03 = best_model_after.fit(X_6h_after, Y_6h_after).predict(sp0_6h_after)\n",
    "print('Predicted number of tweets in next time window:', y03)\n",
    "\n",
    "# spl1_period1\n",
    "print('-' * 20, 'sample1_period1', '-' * 20)\n",
    "y11 = best_model_before.predict(sp1_6h_before)\n",
    "print('Predicted number of tweets in next time window:', y11)\n",
    "\n",
    "# spl1_period2\n",
    "print('-' * 20, 'sample1_period2', '-' * 20)\n",
    "y12 = best_model_between.predict(sp1_6h_between)\n",
    "print('Predicted number of tweets in next time window:', y12)\n",
    "\n",
    "# spl1_period3\n",
    "print('-' * 20, 'sample1_period3', '-' * 20)\n",
    "y13 = best_model_after.predict(sp1_6h_after)\n",
    "print('Predicted number of tweets in next time window:', y13)\n",
    "\n",
    "# spl2_period1\n",
    "print('-' * 20, 'sample2_period1', '-' * 20)\n",
    "y21 = best_model_before.predict(sp2_6h_before)\n",
    "print('Predicted number of tweets in next time window:', y21)\n",
    "\n",
    "# spl2_period2\n",
    "print('-' * 20, 'sample2_period2', '-' * 20)\n",
    "y22 = best_model_between.predict(sp2_6h_between)\n",
    "print('Predicted number of tweets in next time window:', y22)\n",
    "\n",
    "# spl2_period3\n",
    "print('-' * 20, 'sample2_period3', '-' * 20)\n",
    "y23 = best_model_after.predict(sp2_6h_after)\n",
    "print('Predicted number of tweets in next time window:', y23)"
   ]
  },
  {
   "cell_type": "markdown",
   "metadata": {},
   "source": [
    "## Question 15:\n",
    "1. Explain the method you use to determine whether the location is in Washington, Massachusetts or neither. Only use the tweets whose authors belong to either Washington or Massachusetts for the next part.\n",
    "2. Train a binary classifier to predict the location of the author of a tweet (Washington or Massachusetts), given only the textual content of the tweet (using the techniques you learnt in project 1). Try different classification algorithms (at least 3). For each, plot ROC curve, report confusion matrix, and calculate accuracy, recall and precision."
   ]
  },
  {
   "cell_type": "code",
   "execution_count": 321,
   "metadata": {},
   "outputs": [],
   "source": [
    "loc_labels = {0: 'WA', 1: 'Massachusetts'}\n",
    "\n",
    "# Judge the location\n",
    "def is_WA(loc):\n",
    "    loc = loc.lstrip().rstrip()\n",
    "    low = loc.lower()\n",
    "    if \"seattle\" in low:\n",
    "        return True\n",
    "    elif \"WA\" in loc:\n",
    "        return True\n",
    "    elif \"washington d\" in low:\n",
    "        return False\n",
    "    elif \"washington\" in low:\n",
    "        return True\n",
    "    else:\n",
    "        specs = [\",\", \".\", \" \", \"|\", \"/\"]\n",
    "        subs = [\"wa\", \"wash\"]\n",
    "        for sub in subs:\n",
    "            for spec in specs:\n",
    "                if low.startswith(sub + spec):\n",
    "                    return True \n",
    "                elif low.endswith(spec + sub) or low.endswith(spec + sub + \".\"):\n",
    "                    return True\n",
    "                else:\n",
    "                    for sp2 in specs:\n",
    "                        if (spec + sub + sp2) in low:\n",
    "                            return True\n",
    "        return False\n",
    "\n",
    "# Extract features\n",
    "def Trans2NLP(filenames):\n",
    "    y = []\n",
    "    data = []\n",
    "    \n",
    "    for f in filenames:\n",
    "        with open(f, 'r') as file:\n",
    "            lines = file.readlines()\n",
    "            for line in lines:\n",
    "                json_obj = json.loads(line)\n",
    "                loc = json_obj['tweet']['user']['location']\n",
    "                text = json_obj['tweet']['text'].lower()\n",
    "                if is_WA(loc):\n",
    "                    y.append(0)\n",
    "                    data.append(text)\n",
    "                elif \"massachusetts\" in loc.lower():\n",
    "                    y.append(1)\n",
    "                    data.append(text)\n",
    "                else:\n",
    "                    pass\n",
    "    return np.array(data), np.array(y)                   "
   ]
  },
  {
   "cell_type": "code",
   "execution_count": 323,
   "metadata": {},
   "outputs": [],
   "source": [
    "data, y = Trans2NLP(files)"
   ]
  },
  {
   "cell_type": "code",
   "execution_count": 351,
   "metadata": {},
   "outputs": [],
   "source": [
    "test, y_test = Trans2NLP(test_filenames)"
   ]
  },
  {
   "cell_type": "code",
   "execution_count": 338,
   "metadata": {},
   "outputs": [
    {
     "name": "stdout",
     "output_type": "stream",
     "text": [
      "--------------------\n",
      "(129737, 102902)\n",
      "--------------------\n",
      "102902\n",
      "--------------------\n",
      "['00001100th', '002wfvrrcv', '003i7v5ejp', '004nbkkqty', '009qaeqqea', '00am', '00bpb2lwtr', '00cattg8ar', '00cjflsmwh', '00dgekbnf3', '00ef4ki5oh', '00gfplsree', '00ghvhyz5u', '00hbhr1xib', '00iikrvrgk', '00lmq4strw', '00mup8tylw', '00nbzpn2ad', '00pm', '00r6kx6fgt', '00tgth7mrd', '00x3w5ut5c', '00xjwiwwmu', '00xkn4ch8a', '00zmp10kh8', '0147asvlhb', '018clcv7b1', '018yb2h019', '01msigjy1q', '01niib7gfi', '01pktlfua8', '01r7mshdes', '01ubtupbs6', '01wigvmhei', '01yd7guzhv', '01ys8gwfag', '01zr2s3wx4', '028gcc3vtb', '02cmoh8oiy', '02dinritkt', '02hg063ow8', '02iqx0uagp', '02k01wbtme', '02meab4crt', '02v7ijxsom', '02v8i0t6hv', '02z335qzdo', '030kytfizx', '03bi7xhihf', '03d5pbwlfv', '03gk15capu', '03lcygh2nv', '03oqhthext', '03prt1ppkr', '03rj5dwhwn', '03tn2vpc7p', '03xa2nrezt', '03xflck7ax', '03yokzbtgq', '0419zi9tpa', '0465zu6uqh', '048x3reaip', '04b9saoatd', '04e11l9qix', '04ebxyqiyc', '04ob4c977u', '04qfnnnisk', '04qzoxygia', '04rbfja7ba', '04rgomuart', '04rsmjblyx', '04sy0dzdt2', '04uwwdltsa', '04ya5kvqjh', '058mhs7q0q', '05abrmr0wz', '05am', '05fx4emenb', '05hwakromr', '05j4xjohpa', '05ju2fhold', '05kzxogtdc', '05pm', '05pnybaxmc', '05sityzte1', '05twy6i4at', '05y50yswft', '05yt6hydrc', '05yxdxfoz4', '0601hdrfpu', '0680botdbg', '06ar9ntyfs', '06atbib1wx', '06klrxtdnv', '06n8g91kya', '06olcmwurt', '06uxkdz6bh', '06uzmg7ncc', '06xuuf3ahp', '06z1uuvhoe']\n"
     ]
    }
   ],
   "source": [
    "# Lemmatization\n",
    "from nltk import pos_tag,word_tokenize\n",
    "from nltk.stem.wordnet import WordNetLemmatizer\n",
    "from nltk.corpus import wordnet as wn\n",
    "from sklearn.feature_extraction.text import ENGLISH_STOP_WORDS, CountVectorizer\n",
    "\n",
    "wnl = WordNetLemmatizer()\n",
    "\n",
    "stop_words = ENGLISH_STOP_WORDS\n",
    "\n",
    "def penn2morphy(penntag):\n",
    "    \"\"\" Converts Penn Treebank tags to WordNet. \"\"\"\n",
    "    morphy_tag = {'NN':'n', 'JJ':'a',\n",
    "                  'VB':'v', 'RB':'r'}\n",
    "    try:\n",
    "        return morphy_tag[penntag[:2]]\n",
    "    except:\n",
    "        return 'n'\n",
    "\n",
    "def lemmatize_sent(list_word):\n",
    "    # Text input is string, returns array of lowercased strings(words).\n",
    "    return [wnl.lemmatize(word.lower(), pos=penn2morphy(tag)) \n",
    "            for word, tag in pos_tag(list_word)]\n",
    "\n",
    "# remove nums as well as stop words\n",
    "def stem_rmv_nums(doc):\n",
    "    return (word for word in lemmatize_sent(analyzer(doc)) if word not in stop_words and not word.isdigit())\n",
    "\n",
    "analyzer = CountVectorizer().build_analyzer()\n",
    "vectorizer = CountVectorizer(min_df=1, analyzer=stem_rmv_nums) # we have removed stopwords when removing nums\n",
    "\n",
    "print('-' * 20)\n",
    "X_train = vectorizer.fit_transform(data)\n",
    "print(X_train.shape)\n",
    "print('-' * 20)\n",
    "print(len(vectorizer.get_feature_names()))\n",
    "print('-' * 20)\n",
    "print(vectorizer.get_feature_names()[:100])"
   ]
  },
  {
   "cell_type": "code",
   "execution_count": 352,
   "metadata": {},
   "outputs": [
    {
     "name": "stdout",
     "output_type": "stream",
     "text": [
      "(730, 102902)\n"
     ]
    }
   ],
   "source": [
    "# test data\n",
    "\n",
    "X_test = vectorizer.transform(test)\n",
    "print(X_test.shape)"
   ]
  },
  {
   "cell_type": "code",
   "execution_count": 339,
   "metadata": {},
   "outputs": [
    {
     "name": "stdout",
     "output_type": "stream",
     "text": [
      "TfidfTransformer(norm='l2', smooth_idf=True, sublinear_tf=False, use_idf=True)\n",
      "--------------------\n",
      "(129737, 102902)\n",
      "--------------------\n",
      "[[0 0 0 0 0 0 0 0 0 0]\n",
      " [0 0 0 0 0 0 0 0 0 0]\n",
      " [0 0 0 0 0 0 0 0 0 0]\n",
      " [0 0 0 0 0 0 0 0 0 0]\n",
      " [0 0 0 0 0 0 0 0 0 0]\n",
      " [0 0 0 0 0 0 0 0 0 0]\n",
      " [0 0 0 0 0 0 0 0 0 0]\n",
      " [0 0 0 0 0 0 0 0 0 0]\n",
      " [0 0 0 0 0 0 0 0 0 0]\n",
      " [0 0 0 0 0 0 0 0 0 0]]\n",
      "--------------------\n",
      "[[0. 0. 0. 0. 0. 0. 0. 0. 0. 0.]\n",
      " [0. 0. 0. 0. 0. 0. 0. 0. 0. 0.]\n",
      " [0. 0. 0. 0. 0. 0. 0. 0. 0. 0.]\n",
      " [0. 0. 0. 0. 0. 0. 0. 0. 0. 0.]\n",
      " [0. 0. 0. 0. 0. 0. 0. 0. 0. 0.]\n",
      " [0. 0. 0. 0. 0. 0. 0. 0. 0. 0.]\n",
      " [0. 0. 0. 0. 0. 0. 0. 0. 0. 0.]\n",
      " [0. 0. 0. 0. 0. 0. 0. 0. 0. 0.]\n",
      " [0. 0. 0. 0. 0. 0. 0. 0. 0. 0.]\n",
      " [0. 0. 0. 0. 0. 0. 0. 0. 0. 0.]]\n"
     ]
    }
   ],
   "source": [
    "# TF-IDF matrices of the train subsets\n",
    "from sklearn.feature_extraction.text import TfidfTransformer\n",
    "tfidf = TfidfTransformer()\n",
    "\n",
    "print(tfidf)\n",
    "print('-' * 20)\n",
    "\n",
    "X_train_tfidf = tfidf.fit_transform(X_train)\n",
    "print(X_train_tfidf.shape)\n",
    "print('-' * 20)\n",
    "print(X_train.toarray()[20:30,20:30])\n",
    "print('-' * 20)\n",
    "print(X_train_tfidf.toarray()[20:30,20:30])"
   ]
  },
  {
   "cell_type": "code",
   "execution_count": 353,
   "metadata": {},
   "outputs": [
    {
     "name": "stdout",
     "output_type": "stream",
     "text": [
      "(730, 102902)\n",
      "--------------------\n",
      "[[0 0 0 0 0 0 0 0 0 0]\n",
      " [0 0 0 0 0 0 0 0 0 0]\n",
      " [0 0 0 0 0 0 0 0 0 0]\n",
      " [0 0 0 0 0 0 0 0 0 0]\n",
      " [0 0 0 0 0 0 0 0 0 0]\n",
      " [0 0 0 0 0 0 0 0 0 0]\n",
      " [0 0 0 0 0 0 0 0 0 0]\n",
      " [0 0 0 0 0 0 0 0 0 0]\n",
      " [0 0 0 0 0 0 0 0 0 0]\n",
      " [0 0 0 0 0 0 0 0 0 0]]\n",
      "--------------------\n",
      "[[0. 0. 0. 0. 0. 0. 0. 0. 0. 0.]\n",
      " [0. 0. 0. 0. 0. 0. 0. 0. 0. 0.]\n",
      " [0. 0. 0. 0. 0. 0. 0. 0. 0. 0.]\n",
      " [0. 0. 0. 0. 0. 0. 0. 0. 0. 0.]\n",
      " [0. 0. 0. 0. 0. 0. 0. 0. 0. 0.]\n",
      " [0. 0. 0. 0. 0. 0. 0. 0. 0. 0.]\n",
      " [0. 0. 0. 0. 0. 0. 0. 0. 0. 0.]\n",
      " [0. 0. 0. 0. 0. 0. 0. 0. 0. 0.]\n",
      " [0. 0. 0. 0. 0. 0. 0. 0. 0. 0.]\n",
      " [0. 0. 0. 0. 0. 0. 0. 0. 0. 0.]]\n"
     ]
    }
   ],
   "source": [
    "# TF-IDF matrices of the test subsets\n",
    "\n",
    "X_test_tfidf = tfidf.transform(X_test)\n",
    "print(X_test_tfidf.shape)\n",
    "print('-' * 20)\n",
    "print(X_test.toarray()[20:30,20:30])\n",
    "print('-' * 20)\n",
    "print(X_test_tfidf.toarray()[20:30,20:30])"
   ]
  },
  {
   "cell_type": "code",
   "execution_count": 354,
   "metadata": {},
   "outputs": [
    {
     "name": "stdout",
     "output_type": "stream",
     "text": [
      "(129737, 50)\n",
      "[[ 0.07485834  0.04504969 -0.01617308 ... -0.01375148  0.00248625\n",
      "  -0.00569536]\n",
      " [ 0.12053523  0.03109499  0.04549029 ... -0.00862915  0.0009208\n",
      "   0.00845792]\n",
      " [ 0.07470516  0.04371893 -0.0195633  ... -0.00791292  0.01251226\n",
      "  -0.01068103]\n",
      " ...\n",
      " [ 0.03670311  0.00626945  0.08540856 ... -0.00716223 -0.00184817\n",
      "   0.00544481]\n",
      " [ 0.14317323 -0.06677141  0.07959171 ... -0.00981124 -0.00103104\n",
      "  -0.03786643]\n",
      " [ 0.2177582  -0.00742927  0.13817315 ...  0.01180711 -0.01378795\n",
      "  -0.01564588]]\n"
     ]
    }
   ],
   "source": [
    "# LSI\n",
    "from sklearn.decomposition import TruncatedSVD\n",
    "\n",
    "svd = TruncatedSVD(n_components = 50, random_state = 42)\n",
    "X_train_lsi = svd.fit_transform(X_train_tfidf)\n",
    "X_test_lsi = svd.transform(X_test_tfidf)\n",
    "\n",
    "# show time\n",
    "print(X_train_lsi.shape)\n",
    "print(X_train_lsi)"
   ]
  },
  {
   "cell_type": "code",
   "execution_count": 355,
   "metadata": {},
   "outputs": [
    {
     "name": "stdout",
     "output_type": "stream",
     "text": [
      "(730, 50)\n"
     ]
    }
   ],
   "source": [
    "print(X_test_lsi.shape)"
   ]
  },
  {
   "cell_type": "code",
   "execution_count": 343,
   "metadata": {},
   "outputs": [
    {
     "data": {
      "text/plain": [
       "Counter({0: 120179, 1: 9558})"
      ]
     },
     "execution_count": 343,
     "metadata": {},
     "output_type": "execute_result"
    }
   ],
   "source": [
    "# Check labels\n",
    "from collections import Counter\n",
    "d = Counter(y)\n",
    "d"
   ]
  },
  {
   "cell_type": "code",
   "execution_count": 344,
   "metadata": {},
   "outputs": [],
   "source": [
    "# define plot drawing\n",
    "from sklearn import metrics\n",
    "from sklearn.svm import SVC\n",
    "import matplotlib.pyplot as plt\n",
    "%matplotlib inline\n",
    "\n",
    "def plot_roc(fpr, tpr):\n",
    "    fig, ax = plt.subplots()\n",
    "\n",
    "    roc_auc = metrics.auc(fpr,tpr)\n",
    "\n",
    "    ax.plot(fpr, tpr, linewidth=2,label= 'area under curve = %0.4f' % roc_auc)\n",
    "\n",
    "    ax.grid(color='0.7', linestyle='--', linewidth=1)\n",
    "\n",
    "    ax.set_xlim([-0.1, 1.1])\n",
    "    ax.set_ylim([0.0, 1.05])\n",
    "    ax.set_xlabel('False Positive Rate',fontsize=15)\n",
    "    ax.set_ylabel('True Positive Rate',fontsize=15)\n",
    "\n",
    "    ax.legend(loc=\"lower right\")\n",
    "\n",
    "    for label in ax.get_xticklabels()+ax.get_yticklabels():\n",
    "        label.set_fontsize(15)"
   ]
  },
  {
   "cell_type": "code",
   "execution_count": 345,
   "metadata": {},
   "outputs": [],
   "source": [
    "# Confusion Matrix & other metrics\n",
    "def evaluate(classifier, clf_name, testSet, label, average=''):\n",
    "    y_pred = classifier.predict(testSet)\n",
    "    CM = metrics.confusion_matrix(label, y_pred)\n",
    "    \n",
    "    print('-'*20, 'Confusion Matrix of', clf_name, '-'*20)\n",
    "    print(CM)\n",
    "    \n",
    "    accuracy = metrics.accuracy_score(label, y_pred)\n",
    "    if average == '':\n",
    "        recall = metrics.recall_score(label, y_pred)\n",
    "        precision = metrics.precision_score(label, y_pred)\n",
    "        Fscore = metrics.f1_score(label, y_pred)\n",
    "    else:\n",
    "        recall = metrics.recall_score(label,y_pred,average=average)\n",
    "        precision = metrics.precision_score(label, y_pred,average=average)\n",
    "        Fscore = metrics.f1_score(label, y_pred,average=average)\n",
    "    \n",
    "    print('-'*20, 'Other Evaluation of', clf_name, '-'*20)\n",
    "    print('Accuracy:', accuracy)\n",
    "    print('Recall:', recall)\n",
    "    print('Precision:', precision)\n",
    "    print('F-1 Score:', Fscore)"
   ]
  },
  {
   "cell_type": "markdown",
   "metadata": {},
   "source": [
    "### SVM"
   ]
  },
  {
   "cell_type": "code",
   "execution_count": 348,
   "metadata": {},
   "outputs": [],
   "source": [
    "# Find out the best param for svm\n",
    "from sklearn.model_selection import cross_val_score\n",
    "from sklearn.model_selection import ShuffleSplit\n",
    "\n",
    "def crossValidation(classifier, train, label):\n",
    "    avg_score = []\n",
    "\n",
    "    for k in range(-3, 4):\n",
    "        classifier.set_params(C=10**k).fit(train, label)\n",
    "        cv = ShuffleSplit(n_splits=5, test_size=0.3, random_state=42)\n",
    "        scores = cross_val_score(classifier, train, label, cv=cv, scoring='accuracy', n_jobs = -1)\n",
    "    \n",
    "        print('-'*20,'C =',10**k,'-'*20)\n",
    "        print(scores)\n",
    "        print(np.average(scores))\n",
    "        avg_score.append(np.average(scores))\n",
    "\n",
    "    max_score = np.max(avg_score)\n",
    "    index = avg_score.index(max_score)\n",
    "    c_idx = [x for x in range(-3,4)][index]\n",
    "    print('-'*20,'Result','-'*20)\n",
    "    print('The best classifier is when C =', 10**c_idx)\n",
    "    print('Average Accuracy is:', max_score)\n",
    "    \n",
    "    return classifier.set_params(C=10**c_idx).fit(train,label)"
   ]
  },
  {
   "cell_type": "code",
   "execution_count": 349,
   "metadata": {},
   "outputs": [
    {
     "name": "stdout",
     "output_type": "stream",
     "text": [
      "-------------------- C = 0.001 --------------------\n",
      "[0.92651971 0.92806125 0.92582601 0.92608294 0.92752171]\n",
      "0.9268023225939057\n",
      "-------------------- C = 0.01 --------------------\n",
      "[0.92651971 0.92806125 0.92582601 0.92608294 0.92752171]\n",
      "0.9268023225939057\n",
      "-------------------- C = 0.1 --------------------\n",
      "[0.93224911 0.93391912 0.93117003 0.93150403 0.93348235]\n",
      "0.9324649298597196\n",
      "-------------------- C = 1 --------------------\n",
      "[0.93538359 0.93656544 0.93404758 0.9343302  0.93592313]\n",
      "0.9352499871537947\n",
      "-------------------- C = 10 --------------------\n",
      "[0.93723344 0.93800421 0.93594882 0.93600021 0.9370279 ]\n",
      "0.9368429166024356\n",
      "-------------------- C = 100 --------------------\n",
      "[0.93692513 0.93797852 0.93589744 0.93587174 0.93689944]\n",
      "0.9367144545501258\n",
      "-------------------- C = 1000 --------------------\n",
      "[0.93695082 0.93797852 0.93589744 0.93587174 0.93689944]\n",
      "0.9367195930322183\n",
      "-------------------- Result --------------------\n",
      "The best classifier is when C = 10\n",
      "Average Accuracy is: 0.9368429166024356\n"
     ]
    }
   ],
   "source": [
    "svm_best = crossValidation(SVC(kernel='linear'), X_train_lsi, y)"
   ]
  },
  {
   "cell_type": "code",
   "execution_count": 358,
   "metadata": {},
   "outputs": [
    {
     "name": "stdout",
     "output_type": "stream",
     "text": [
      "SVC(C=10, cache_size=200, class_weight=None, coef0=0.0,\n",
      "  decision_function_shape='ovr', degree=3, gamma='auto_deprecated',\n",
      "  kernel='linear', max_iter=-1, probability=False, random_state=None,\n",
      "  shrinking=True, tol=0.001, verbose=False)\n"
     ]
    },
    {
     "data": {
      "text/plain": [
       "Text(0.5, 1.0, 'ROC Curve of SVM (train)')"
      ]
     },
     "execution_count": 358,
     "metadata": {},
     "output_type": "execute_result"
    },
    {
     "data": {
      "image/png": "[encoded data removed]",
      "text/plain": [
       "<Figure size 432x288 with 1 Axes>"
      ]
     },
     "metadata": {
      "needs_background": "light"
     },
     "output_type": "display_data"
    },
    {
     "data": {
      "image/png": "[encoded data removed]",
      "text/plain": [
       "<Figure size 432x288 with 1 Axes>"
      ]
     },
     "metadata": {
      "needs_background": "light"
     },
     "output_type": "display_data"
    }
   ],
   "source": [
    "#ROC curve of the best\n",
    "\n",
    "print(svm_best)\n",
    "\n",
    "score_svm_test = svm_best.decision_function(X_test_lsi)\n",
    "fpr_svm_test, tpr_svm_test, _ = metrics.roc_curve(y_test, score_svm_test)\n",
    "\n",
    "plot_roc(fpr_svm_test, tpr_svm_test)\n",
    "plt.title('ROC Curve of SVM (test)')\n",
    "\n",
    "score_svm_train = svm_best.decision_function(X_train_lsi)\n",
    "fpr_svm_train, tpr_svm_train, _ = metrics.roc_curve(y, score_svm_train)\n",
    "\n",
    "plot_roc(fpr_svm_train, tpr_svm_train)\n",
    "plt.title('ROC Curve of SVM (train)')"
   ]
  },
  {
   "cell_type": "code",
   "execution_count": 359,
   "metadata": {},
   "outputs": [
    {
     "name": "stdout",
     "output_type": "stream",
     "text": [
      "-------------------- Confusion Matrix of best SVM (train) --------------------\n",
      "[[118449   1730]\n",
      " [  6547   3011]]\n",
      "-------------------- Other Evaluation of best SVM (train) --------------------\n",
      "Accuracy: 0.9362017003630422\n",
      "Recall: 0.3150240636116342\n",
      "Precision: 0.6350980805737186\n",
      "F-1 Score: 0.42114833205119234\n",
      "-------------------- Confusion Matrix of best SVM (test) --------------------\n",
      "[[604  25]\n",
      " [ 62  39]]\n",
      "-------------------- Other Evaluation of best SVM (test) --------------------\n",
      "Accuracy: 0.8808219178082192\n",
      "Recall: 0.38613861386138615\n",
      "Precision: 0.609375\n",
      "F-1 Score: 0.4727272727272727\n"
     ]
    }
   ],
   "source": [
    "# Confusion Matrix of the best SVM and other metrics\n",
    "evaluate(svm_best, 'best SVM (train)', X_train_lsi, y)\n",
    "evaluate(svm_best, 'best SVM (test)', X_test_lsi, y_test)"
   ]
  },
  {
   "cell_type": "markdown",
   "metadata": {},
   "source": [
    "### Logistic Regression with L2 Regularization"
   ]
  },
  {
   "cell_type": "code",
   "execution_count": 362,
   "metadata": {},
   "outputs": [
    {
     "name": "stdout",
     "output_type": "stream",
     "text": [
      "-------------------- C = 0.001 --------------------\n",
      "[0.92651971 0.92806125 0.92582601 0.92608294 0.92752171]\n",
      "0.9268023225939057\n",
      "-------------------- C = 0.01 --------------------\n",
      "[0.92664817 0.92821541 0.92590309 0.92608294 0.92752171]\n",
      "0.9268742613431993\n",
      "-------------------- C = 0.1 --------------------\n",
      "[0.93371358 0.93440728 0.93232619 0.93258311 0.93409897]\n",
      "0.9334258260109964\n",
      "-------------------- C = 1 --------------------\n",
      "[0.93802991 0.93864652 0.93656544 0.93700221 0.9377216 ]\n",
      "0.9375931349879245\n",
      "-------------------- C = 10 --------------------\n",
      "[0.93890345 0.93990545 0.93733621 0.93761883 0.93934022]\n",
      "0.9386208314064026\n",
      "-------------------- C = 100 --------------------\n",
      "[0.93910899 0.93990545 0.93751606 0.93779867 0.93959714]\n",
      "0.9387852628333591\n",
      "-------------------- C = 1000 --------------------\n",
      "[0.93910899 0.93985407 0.93751606 0.93787575 0.9397513 ]\n",
      "0.9388212322080058\n",
      "-------------------- Result --------------------\n",
      "The best classifier is when C = 1000\n",
      "Average Accuracy is: 0.9388212322080058\n"
     ]
    }
   ],
   "source": [
    "from sklearn.linear_model import LogisticRegression\n",
    "\n",
    "lr_L2_best = crossValidation(LogisticRegression(penalty='l2', solver='liblinear', random_state=42),\n",
    "                        X_train_lsi, y)"
   ]
  },
  {
   "cell_type": "code",
   "execution_count": 364,
   "metadata": {},
   "outputs": [
    {
     "name": "stdout",
     "output_type": "stream",
     "text": [
      "LogisticRegression(C=1000, class_weight=None, dual=False, fit_intercept=True,\n",
      "          intercept_scaling=1, max_iter=100, multi_class='warn',\n",
      "          n_jobs=None, penalty='l2', random_state=42, solver='liblinear',\n",
      "          tol=0.0001, verbose=0, warm_start=False)\n"
     ]
    },
    {
     "data": {
      "text/plain": [
       "Text(0.5, 1.0, 'ROC Curve of Linear Regression with L2 Regularization (train)')"
      ]
     },
     "execution_count": 364,
     "metadata": {},
     "output_type": "execute_result"
    },
    {
     "data": {
      "image/png": "[encoded data removed]",
      "text/plain": [
       "<Figure size 432x288 with 1 Axes>"
      ]
     },
     "metadata": {
      "needs_background": "light"
     },
     "output_type": "display_data"
    },
    {
     "data": {
      "image/png": "[encoded data removed]",
      "text/plain": [
       "<Figure size 432x288 with 1 Axes>"
      ]
     },
     "metadata": {
      "needs_background": "light"
     },
     "output_type": "display_data"
    }
   ],
   "source": [
    "#ROC curve of the best\n",
    "\n",
    "print(lr_L2_best)\n",
    "\n",
    "score_lr_test = lr_L2_best.decision_function(X_test_lsi)\n",
    "fpr_lr_test, tpr_lr_test, _ = metrics.roc_curve(y_test, score_lr_test)\n",
    "\n",
    "plot_roc(fpr_lr_test, tpr_lr_test)\n",
    "plt.title('ROC Curve of Linear Regression with L2 Regularization (test)')\n",
    "\n",
    "score_lr_train = lr_L2_best.decision_function(X_train_lsi)\n",
    "fpr_lr_train, tpr_lr_train, _ = metrics.roc_curve(y, score_lr_train)\n",
    "\n",
    "plot_roc(fpr_lr_train, tpr_lr_train)\n",
    "plt.title('ROC Curve of Linear Regression with L2 Regularization (train)')"
   ]
  },
  {
   "cell_type": "code",
   "execution_count": 372,
   "metadata": {},
   "outputs": [
    {
     "name": "stdout",
     "output_type": "stream",
     "text": [
      "-------------------- Confusion Matrix of best LR with L2 (train) --------------------\n",
      "[[118283   1896]\n",
      " [  6102   3456]]\n",
      "-------------------- Other Evaluation of best LR with L2 (train) --------------------\n",
      "Accuracy: 0.9383522048451868\n",
      "Recall: 0.3615819209039548\n",
      "Precision: 0.6457399103139013\n",
      "F-1 Score: 0.4635814889336016\n",
      "-------------------- Confusion Matrix of best LR with L2 (test) --------------------\n",
      "[[604  25]\n",
      " [ 53  48]]\n",
      "-------------------- Other Evaluation of best LR with L2 (test) --------------------\n",
      "Accuracy: 0.8931506849315068\n",
      "Recall: 0.4752475247524752\n",
      "Precision: 0.6575342465753424\n",
      "F-1 Score: 0.5517241379310345\n"
     ]
    }
   ],
   "source": [
    "# Confusion Matrix of the best SVM and other metrics\n",
    "evaluate(lr_L2_best, 'best LR with L2 (train)', X_train_lsi, y)\n",
    "evaluate(lr_L2_best, 'best LR with L2 (test)', X_test_lsi, y_test)"
   ]
  },
  {
   "cell_type": "markdown",
   "metadata": {},
   "source": [
    "### GaussianNB "
   ]
  },
  {
   "cell_type": "code",
   "execution_count": 373,
   "metadata": {},
   "outputs": [],
   "source": [
    "from sklearn.naive_bayes import GaussianNB\n",
    "\n",
    "bayes = GaussianNB().fit(X_train_lsi, y)"
   ]
  },
  {
   "cell_type": "code",
   "execution_count": 374,
   "metadata": {},
   "outputs": [
    {
     "name": "stdout",
     "output_type": "stream",
     "text": [
      "GaussianNB(priors=None, var_smoothing=1e-09)\n"
     ]
    },
    {
     "data": {
      "text/plain": [
       "Text(0.5, 1.0, 'ROC Curve of GaussianNB (train)')"
      ]
     },
     "execution_count": 374,
     "metadata": {},
     "output_type": "execute_result"
    },
    {
     "data": {
      "image/png": "[encoded data removed]",
      "text/plain": [
       "<Figure size 432x288 with 1 Axes>"
      ]
     },
     "metadata": {
      "needs_background": "light"
     },
     "output_type": "display_data"
    },
    {
     "data": {
      "image/png": "[encoded data removed]",
      "text/plain": [
       "<Figure size 432x288 with 1 Axes>"
      ]
     },
     "metadata": {
      "needs_background": "light"
     },
     "output_type": "display_data"
    }
   ],
   "source": [
    "#ROC curve of the best\n",
    "\n",
    "print(bayes)\n",
    "\n",
    "score_GNB_test = bayes.predict_proba(X_test_lsi)[:,1]\n",
    "fpr_GNB_test, tpr_GNB_test, _ = metrics.roc_curve(y_test, score_GNB_test)\n",
    "\n",
    "plot_roc(fpr_GNB_test, tpr_GNB_test)\n",
    "plt.title('ROC Curve of GaussianNB (test)')\n",
    "\n",
    "score_GNB_train = bayes.predict_proba(X_train_lsi)[:,1]\n",
    "fpr_GNB_train, tpr_GNB_train, _ = metrics.roc_curve(y, score_GNB_train)\n",
    "\n",
    "plot_roc(fpr_GNB_train, tpr_GNB_train)\n",
    "plt.title('ROC Curve of GaussianNB (train)')"
   ]
  },
  {
   "cell_type": "code",
   "execution_count": 375,
   "metadata": {},
   "outputs": [
    {
     "name": "stdout",
     "output_type": "stream",
     "text": [
      "-------------------- Confusion Matrix of best GaussianNB (train) --------------------\n",
      "[[84924 35255]\n",
      " [ 2937  6621]]\n",
      "-------------------- Other Evaluation of best GaussianNB (train) --------------------\n",
      "Accuracy: 0.705619830888644\n",
      "Recall: 0.6927181418706843\n",
      "Precision: 0.15810965708281594\n",
      "F-1 Score: 0.2574561574056072\n",
      "-------------------- Confusion Matrix of best GaussianNB (test) --------------------\n",
      "[[392 237]\n",
      " [ 19  82]]\n",
      "-------------------- Other Evaluation of best GaussianNB (test) --------------------\n",
      "Accuracy: 0.6493150684931507\n",
      "Recall: 0.8118811881188119\n",
      "Precision: 0.25705329153605017\n",
      "F-1 Score: 0.39047619047619053\n"
     ]
    }
   ],
   "source": [
    "# Confusion Matrix of the best SVM and other metrics\n",
    "evaluate(bayes, 'best GaussianNB (train)', X_train_lsi, y)\n",
    "evaluate(bayes, 'best GaussianNB (test)', X_test_lsi, y_test)"
   ]
  },
  {
   "cell_type": "markdown",
   "metadata": {},
   "source": [
    "## qu e"
   ]
  }
 ],
 "metadata": {
  "kernelspec": {
   "display_name": "Python 3",
   "language": "python",
   "name": "python3"
  },
  "language_info": {
   "codemirror_mode": {
    "name": "ipython",
    "version": 3
   },
   "file_extension": ".py",
   "mimetype": "text/x-python",
   "name": "python",
   "nbconvert_exporter": "python",
   "pygments_lexer": "ipython3",
   "version": "3.6.8"
  }
 },
 "nbformat": 4,
 "nbformat_minor": 2
}
