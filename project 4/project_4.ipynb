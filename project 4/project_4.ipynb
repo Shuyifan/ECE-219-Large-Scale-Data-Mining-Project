{
 "cells": [
  {
   "cell_type": "markdown",
   "metadata": {},
   "source": [
    "# Dataset 2"
   ]
  },
  {
   "cell_type": "markdown",
   "metadata": {},
   "source": [
    "### Question 1"
   ]
  },
  {
   "cell_type": "markdown",
   "metadata": {},
   "source": [
    "#### Load Boston Housing Dataset"
   ]
  },
  {
   "cell_type": "code",
   "execution_count": 2,
   "metadata": {},
   "outputs": [
    {
     "name": "stdout",
     "output_type": "stream",
     "text": [
      "index by column numbers:\n",
      "       CRIM    ZN  INDUS  CHAS    NOX     RM   AGE     DIS  RAD  TAX  PTRATIO  \\\n",
      "0  0.00632  18.0   2.31     0  0.538  6.575  65.2  4.0900    1  296     15.3   \n",
      "1  0.02731   0.0   7.07     0  0.469  6.421  78.9  4.9671    2  242     17.8   \n",
      "2  0.02729   0.0   7.07     0  0.469  7.185  61.1  4.9671    2  242     17.8   \n",
      "3  0.03237   0.0   2.18     0  0.458  6.998  45.8  6.0622    3  222     18.7   \n",
      "4  0.06905   0.0   2.18     0  0.458  7.147  54.2  6.0622    3  222     18.7   \n",
      "\n",
      "        B  LSTAT  MEDV  \n",
      "0  396.90   4.98  24.0  \n",
      "1  396.90   9.14  21.6  \n",
      "2  392.83   4.03  34.7  \n",
      "3  394.63   2.94  33.4  \n",
      "4  396.90   5.33  36.2  \n",
      "index by column names: one column\n",
      " 0    0.00632\n",
      "1    0.02731\n",
      "2    0.02729\n",
      "3    0.03237\n",
      "4    0.06905\n",
      "Name: CRIM, dtype: float64\n"
     ]
    }
   ],
   "source": [
    "import pandas as pd\n",
    "import numpy as np\n",
    "\n",
    "df = pd.read_csv('housing_data.csv', sep=',', header=None, names=[\"CRIM\", \"ZN\", \"INDUS\", \"CHAS\",\n",
    "                                                                  \"NOX\", \"RM\", \"AGE\", \"DIS\", \"RAD\",\n",
    "                                                                  \"TAX\", \"PTRATIO\", \"B\", \"LSTAT\", \"MEDV\"])\n",
    "\n",
    "\n",
    "## index by column numbers\n",
    "print(\"index by column numbers:\\n\", df.iloc[0:20, 0:14].head())\n",
    "## index by column names:\n",
    "print(\"index by column names: one column\\n\", df.loc[0:20, 'CRIM'].head())"
   ]
  },
  {
   "cell_type": "markdown",
   "metadata": {},
   "source": [
    "### Question 2"
   ]
  },
  {
   "cell_type": "markdown",
   "metadata": {},
   "source": [
    "#### Fit a linear regression model"
   ]
  },
  {
   "cell_type": "markdown",
   "metadata": {},
   "source": [
    "(a) Set MEDV as the target variable and the other attributes as the features and ordinary least squares as the penalty function"
   ]
  },
  {
   "cell_type": "code",
   "execution_count": 5,
   "metadata": {},
   "outputs": [],
   "source": [
    "from sklearn import linear_model\n",
    "\n",
    "X = df.iloc[:, 0:13].values\n",
    "y = df.iloc[:, 13].values\n",
    "\n",
    "lr = linear_model.LinearRegression()"
   ]
  },
  {
   "cell_type": "markdown",
   "metadata": {},
   "source": [
    "(b) Perfom a 10-fold cross validation and report the averaged RMSE"
   ]
  },
  {
   "cell_type": "code",
   "execution_count": 14,
   "metadata": {},
   "outputs": [
    {
     "name": "stdout",
     "output_type": "stream",
     "text": [
      "--------------------\n",
      "Train RMSE:  4.8335523617121865\n",
      "Test RMSE:  3.0474492130107036\n",
      "--------------------\n",
      "Train RMSE:  4.78351694085294\n",
      "Test RMSE:  3.76181912929218\n",
      "--------------------\n",
      "Train RMSE:  4.818306233036742\n",
      "Test RMSE:  3.7514805283474\n",
      "--------------------\n",
      "Train RMSE:  4.557598345146193\n",
      "Test RMSE:  5.933542308423654\n",
      "--------------------\n",
      "Train RMSE:  4.619028719706438\n",
      "Test RMSE:  5.646690771105267\n",
      "--------------------\n",
      "Train RMSE:  4.729027367770045\n",
      "Test RMSE:  4.453748753783647\n",
      "--------------------\n",
      "Train RMSE:  4.829826233518953\n",
      "Test RMSE:  3.15392916564369\n",
      "--------------------\n",
      "Train RMSE:  3.4582072500374736\n",
      "Test RMSE:  12.97595389720018\n",
      "--------------------\n",
      "Train RMSE:  4.646105398797536\n",
      "Test RMSE:  5.773191930599386\n",
      "--------------------\n",
      "Train RMSE:  4.8155003289057445\n",
      "Test RMSE:  3.31065109599653\n",
      "--------------------\n",
      "Averaged Train RMSE:  4.609066917948425\n",
      "Averaged Test RMSE:  5.180845679340264\n"
     ]
    }
   ],
   "source": [
    "from sklearn import metrics\n",
    "from sklearn.model_selection import KFold\n",
    "\n",
    "kf = KFold(n_splits=10)\n",
    "\n",
    "rmse_train = 0\n",
    "rmse_test = 0\n",
    "\n",
    "for trainset, testset in kf.split(X):\n",
    "    X_train, y_train = X[trainset, :], y[trainset]\n",
    "    X_test, y_test = X[testset, :], y[testset]\n",
    "    lr.fit(X_train, y_train)\n",
    "    \n",
    "    predicted_train = lr.predict(X_train)\n",
    "    predicted_test = lr.predict(X_test)\n",
    "    \n",
    "    rmse_train_i = np.sqrt(metrics.mean_squared_error(predicted_train, y_train))\n",
    "    rmse_test_i = np.sqrt(metrics.mean_squared_error(predicted_test, y_test))\n",
    "    \n",
    "    rmse_train = rmse_train + rmse_train_i\n",
    "    rmse_test = rmse_test + rmse_test_i\n",
    "    \n",
    "    print('-' * 20)\n",
    "    print(\"Train RMSE: \", rmse_train_i)\n",
    "    print(\"Test RMSE: \", rmse_test_i)\n",
    "    \n",
    "rmse_train = rmse_train / 10.0\n",
    "rmse_test = rmse_test / 10.0\n",
    "\n",
    "print('-' * 20)\n",
    "print(\"Averaged Train RMSE: \", rmse_train)\n",
    "print(\"Averaged Test RMSE: \", rmse_test)"
   ]
  },
  {
   "cell_type": "markdown",
   "metadata": {},
   "source": [
    "1) plot fitted values against true values as scatter plot using the whole dataset"
   ]
  },
  {
   "cell_type": "code",
   "execution_count": 9,
   "metadata": {},
   "outputs": [
    {
     "data": {
      "image/png": "[encoded data removed]",
      "text/plain": [
       "<Figure size 432x288 with 1 Axes>"
      ]
     },
     "metadata": {
      "needs_background": "light"
     },
     "output_type": "display_data"
    }
   ],
   "source": [
    "import matplotlib.pyplot as plt\n",
    "\n",
    "y_fitted = lr.fit(X, y).predict(X)\n",
    "\n",
    "plt.scatter(y, y_fitted, alpha=0.5)\n",
    "plt.title(\"y - y_fitted\")\n",
    "plt.xlabel(\"y\")\n",
    "plt.ylabel(\"y_fitted\")\n",
    "plt.grid(True)\n",
    "plt.show()"
   ]
  },
  {
   "cell_type": "markdown",
   "metadata": {},
   "source": [
    "2) plot residuals versus fitted values as scatter plot using the whole dataset"
   ]
  },
  {
   "cell_type": "code",
   "execution_count": 10,
   "metadata": {},
   "outputs": [
    {
     "data": {
      "image/png": "[encoded data removed]",
      "text/plain": [
       "<Figure size 432x288 with 1 Axes>"
      ]
     },
     "metadata": {
      "needs_background": "light"
     },
     "output_type": "display_data"
    }
   ],
   "source": [
    "residuals = y - y_fitted\n",
    "\n",
    "plt.scatter(y_fitted, residuals, alpha=0.5)\n",
    "plt.title(\"y_fitted - residuals\")\n",
    "plt.xlabel(\"y_fitted\")\n",
    "plt.ylabel(\"residuals\")\n",
    "plt.grid(True)\n",
    "plt.show()"
   ]
  },
  {
   "cell_type": "markdown",
   "metadata": {},
   "source": [
    "### Question 3"
   ]
  },
  {
   "cell_type": "markdown",
   "metadata": {},
   "source": [
    "(a) Perform one-hot encoding on all features, then fit and test. Report the train and test RMSE"
   ]
  },
  {
   "cell_type": "code",
   "execution_count": 12,
   "metadata": {},
   "outputs": [
    {
     "data": {
      "text/plain": [
       "OneHotEncoder(categorical_features=None, categories='auto',\n",
       "       dtype=<class 'numpy.float64'>, handle_unknown='error',\n",
       "       n_values=None, sparse=True)"
      ]
     },
     "execution_count": 12,
     "metadata": {},
     "output_type": "execute_result"
    }
   ],
   "source": [
    "from sklearn.preprocessing import OneHotEncoder\n",
    "\n",
    "enc = OneHotEncoder(categories='auto')\n",
    "enc.fit(X)"
   ]
  },
  {
   "cell_type": "code",
   "execution_count": 13,
   "metadata": {},
   "outputs": [],
   "source": [
    "X_encoded = enc.transform(X).toarray()"
   ]
  },
  {
   "cell_type": "code",
   "execution_count": 16,
   "metadata": {},
   "outputs": [
    {
     "name": "stdout",
     "output_type": "stream",
     "text": [
      "--------------------\n",
      "Train RMSE:  4.788059266329572e-14\n",
      "Test RMSE:  6.987959176750142\n",
      "--------------------\n",
      "Train RMSE:  4.3818208891977834e-14\n",
      "Test RMSE:  6.396855244905822\n",
      "--------------------\n",
      "Train RMSE:  4.0071504909314974e-14\n",
      "Test RMSE:  5.5913172514291185\n",
      "--------------------\n",
      "Train RMSE:  3.2784876435438667e-14\n",
      "Test RMSE:  12.396836881511408\n",
      "--------------------\n",
      "Train RMSE:  3.438105467473132e-14\n",
      "Test RMSE:  10.377557618215244\n",
      "--------------------\n",
      "Train RMSE:  2.954358552546098e-14\n",
      "Test RMSE:  9.605338772866071\n",
      "--------------------\n",
      "Train RMSE:  3.3224992393329077e-14\n",
      "Test RMSE:  4.816854553193286\n",
      "--------------------\n",
      "Train RMSE:  2.8007130220988135e-14\n",
      "Test RMSE:  11.973511550024627\n",
      "--------------------\n",
      "Train RMSE:  3.5737722858237607e-14\n",
      "Test RMSE:  6.730780576141158\n",
      "--------------------\n",
      "Train RMSE:  3.056578717429423e-14\n",
      "Test RMSE:  5.154426700189845\n",
      "--------------------\n",
      "Averaged Train RMSE:  3.5601545574706854e-14\n",
      "Averaged Test RMSE:  8.003143832522671\n"
     ]
    }
   ],
   "source": [
    "kf = KFold(n_splits=10)\n",
    "\n",
    "rmse_train_encoded = 0\n",
    "rmse_test_encoded = 0\n",
    "\n",
    "for trainset, testset in kf.split(X_encoded):\n",
    "    X_train, y_train = X_encoded[trainset, :], y[trainset]\n",
    "    X_test, y_test = X_encoded[testset, :], y[testset]\n",
    "    lr.fit(X_train, y_train)\n",
    "    \n",
    "    predicted_train = lr.predict(X_train)\n",
    "    predicted_test = lr.predict(X_test)\n",
    "    \n",
    "    rmse_train_encoded_i = np.sqrt(metrics.mean_squared_error(predicted_train, y_train))\n",
    "    rmse_test_encoded_i = np.sqrt(metrics.mean_squared_error(predicted_test, y_test))\n",
    "    \n",
    "    rmse_train_encoded = rmse_train_encoded + rmse_train_encoded_i\n",
    "    rmse_test_encoded = rmse_test_encoded + rmse_test_encoded_i\n",
    "    \n",
    "    print('-' * 20)\n",
    "    print(\"Train RMSE: \", rmse_train_encoded_i)\n",
    "    print(\"Test RMSE: \", rmse_test_encoded_i)\n",
    "    \n",
    "rmse_train_encoded = rmse_train_encoded / 10.0\n",
    "rmse_test_encoded = rmse_test_encoded / 10.0\n",
    "\n",
    "print('-' * 20)\n",
    "print(\"Averaged Train RMSE: \", rmse_train_encoded)\n",
    "print(\"Averaged Test RMSE: \", rmse_test_encoded)"
   ]
  },
  {
   "cell_type": "markdown",
   "metadata": {},
   "source": [
    "(c) try different regularizations"
   ]
  },
  {
   "cell_type": "markdown",
   "metadata": {},
   "source": [
    "1. Ridge Regularizer"
   ]
  },
  {
   "cell_type": "code",
   "execution_count": 23,
   "metadata": {},
   "outputs": [
    {
     "name": "stdout",
     "output_type": "stream",
     "text": [
      "Best alpha found:  0.1\n"
     ]
    },
    {
     "name": "stderr",
     "output_type": "stream",
     "text": [
      "/Users/apple/miniconda3/lib/python3.7/site-packages/sklearn/model_selection/_search.py:841: DeprecationWarning: The default of the `iid` parameter will change from True to False in version 0.22 and will be removed in 0.24. This will change numeric results when test-set sizes are unequal.\n",
      "  DeprecationWarning)\n"
     ]
    }
   ],
   "source": [
    "from sklearn import linear_model\n",
    "\n",
    "alphas = [x for x in np.arange(0.1, 1.0, 0.05)]\n",
    "\n",
    "reg = linear_model.RidgeCV(alphas=alphas, cv=10)\n",
    "reg.fit(X_encoded, y)\n",
    "print(\"Best alpha found: \", reg.alpha_)"
   ]
  },
  {
   "cell_type": "code",
   "execution_count": 24,
   "metadata": {},
   "outputs": [
    {
     "name": "stdout",
     "output_type": "stream",
     "text": [
      "Averaged Train RMSE:  0.0910103758003489\n",
      "Averaged Test RMSE:  8.00442085716902\n"
     ]
    }
   ],
   "source": [
    "lr_ridge = linear_model.Ridge(alpha=0.1)\n",
    "\n",
    "rmse_train_ridge = 0\n",
    "rmse_test_ridge = 0\n",
    "\n",
    "for trainset, testset in kf.split(X_encoded):\n",
    "    X_train, y_train = X_encoded[trainset, :], y[trainset]\n",
    "    X_test, y_test = X_encoded[testset, :], y[testset]\n",
    "    lr_ridge.fit(X_train, y_train)\n",
    "\n",
    "    predicted_train = lr_ridge.predict(X_train)\n",
    "    predicted_test = lr_ridge.predict(X_test)\n",
    "\n",
    "    rmse_train_ridge = rmse_train_ridge + np.sqrt(metrics.mean_squared_error(predicted_train, y_train))\n",
    "    rmse_test_ridge = rmse_test_ridge + np.sqrt(metrics.mean_squared_error(predicted_test, y_test))\n",
    "\n",
    "rmse_train_ridge = rmse_train_ridge / 10.0\n",
    "rmse_test_ridge = rmse_test_ridge / 10.0\n",
    "\n",
    "print(\"Averaged Train RMSE: \", rmse_train_ridge)\n",
    "print(\"Averaged Test RMSE: \", rmse_test_ridge)"
   ]
  },
  {
   "cell_type": "markdown",
   "metadata": {},
   "source": [
    "2. Lasso Regularizer"
   ]
  },
  {
   "cell_type": "code",
   "execution_count": 25,
   "metadata": {},
   "outputs": [
    {
     "name": "stdout",
     "output_type": "stream",
     "text": [
      "Best alpha found:  0.1\n"
     ]
    }
   ],
   "source": [
    "alphas = [x for x in np.arange(0.1, 1.0, 0.05)]\n",
    "\n",
    "reg = linear_model.LassoCV(alphas=alphas, cv=10)\n",
    "reg.fit(X_encoded, y)\n",
    "print(\"Best alpha found: \", reg.alpha_)"
   ]
  },
  {
   "cell_type": "code",
   "execution_count": 26,
   "metadata": {},
   "outputs": [
    {
     "name": "stdout",
     "output_type": "stream",
     "text": [
      "Averaged Train RMSE:  6.240467370263949\n",
      "Averaged Test RMSE:  8.200368237047693\n"
     ]
    }
   ],
   "source": [
    "lr_lasso = linear_model.Lasso(alpha=0.1)\n",
    "\n",
    "rmse_train_lasso = 0\n",
    "rmse_test_lasso = 0\n",
    "\n",
    "for trainset, testset in kf.split(X_encoded):\n",
    "    X_train, y_train = X_encoded[trainset, :], y[trainset]\n",
    "    X_test, y_test = X_encoded[testset, :], y[testset]\n",
    "    lr_lasso.fit(X_train, y_train)\n",
    "\n",
    "    predicted_train = lr_lasso.predict(X_train)\n",
    "    predicted_test = lr_lasso.predict(X_test)\n",
    "\n",
    "    rmse_train_lasso = rmse_train_lasso + np.sqrt(metrics.mean_squared_error(predicted_train, y_train))\n",
    "    rmse_test_lasso = rmse_test_lasso + np.sqrt(metrics.mean_squared_error(predicted_test, y_test))\n",
    "\n",
    "rmse_train_lasso = rmse_train_lasso / 10.0\n",
    "rmse_test_lasso = rmse_test_lasso / 10.0\n",
    "\n",
    "print(\"Averaged Train RMSE: \", rmse_train_lasso)\n",
    "print(\"Averaged Test RMSE: \", rmse_test_lasso)"
   ]
  },
  {
   "cell_type": "markdown",
   "metadata": {},
   "source": [
    "3. Elastic Net Regularizer"
   ]
  },
  {
   "cell_type": "code",
   "execution_count": 28,
   "metadata": {},
   "outputs": [
    {
     "name": "stdout",
     "output_type": "stream",
     "text": [
      "Best alpha found:  0.1\n",
      "Best l1 ratio found:  0.1\n"
     ]
    }
   ],
   "source": [
    "l1_ratios = [0.1, 0.5, 0.7, 0.8, 0.9, 0.92, 0.94, 0.96, 0.98, 0.99, 1.0]\n",
    "alphas = [x for x in np.arange(0.1, 1.0, 0.05)]\n",
    "\n",
    "reg = linear_model.ElasticNetCV(l1_ratio=l1_ratios, n_alphas=len(alphas), alphas=alphas, cv=10)\n",
    "reg.fit(X_encoded, y)\n",
    "print(\"Best alpha found: \", reg.alpha_)\n",
    "print(\"Best l1 ratio found: \", reg.l1_ratio_)"
   ]
  },
  {
   "cell_type": "code",
   "execution_count": 29,
   "metadata": {},
   "outputs": [
    {
     "name": "stdout",
     "output_type": "stream",
     "text": [
      "Averaged Train RMSE:  6.15734337709661\n",
      "Averaged Test RMSE:  8.105309661930113\n"
     ]
    }
   ],
   "source": [
    "lr_elastic_net = linear_model.ElasticNet(l1_ratio=0.1, alpha=0.1)\n",
    "\n",
    "rmse_train_en = 0\n",
    "rmse_test_en = 0\n",
    "\n",
    "for trainset, testset in kf.split(X_encoded):\n",
    "    X_train, y_train = X_encoded[trainset, :], y[trainset]\n",
    "    X_test, y_test = X_encoded[testset, :], y[testset]\n",
    "    lr_elastic_net.fit(X_train, y_train)\n",
    "\n",
    "    predicted_train = lr_elastic_net.predict(X_train)\n",
    "    predicted_test = lr_elastic_net.predict(X_test)\n",
    "\n",
    "    rmse_train_en = rmse_train_en + np.sqrt(metrics.mean_squared_error(predicted_train, y_train))\n",
    "    rmse_test_en = rmse_test_en + np.sqrt(metrics.mean_squared_error(predicted_test, y_test))\n",
    "\n",
    "rmse_train_en = rmse_train_en / 10.0\n",
    "rmse_test_en = rmse_test_en / 10.0\n",
    "\n",
    "print(\"Averaged Train RMSE: \", rmse_train_en)\n",
    "print(\"Averaged Test RMSE: \", rmse_test_en)"
   ]
  },
  {
   "cell_type": "code",
   "execution_count": null,
   "metadata": {},
   "outputs": [],
   "source": []
  }
 ],
 "metadata": {
  "kernelspec": {
   "display_name": "Python 3",
   "language": "python",
   "name": "python3"
  },
  "language_info": {
   "codemirror_mode": {
    "name": "ipython",
    "version": 3
   },
   "file_extension": ".py",
   "mimetype": "text/x-python",
   "name": "python",
   "nbconvert_exporter": "python",
   "pygments_lexer": "ipython3",
   "version": "3.7.1"
  }
 },
 "nbformat": 4,
 "nbformat_minor": 2
}
