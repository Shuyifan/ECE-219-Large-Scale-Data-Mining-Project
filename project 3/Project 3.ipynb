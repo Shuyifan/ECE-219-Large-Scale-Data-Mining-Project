{
 "cells": [
  {
   "cell_type": "markdown",
   "metadata": {},
   "source": [
    "# Project 3 Collaborative Filtering"
   ]
  },
  {
   "cell_type": "markdown",
   "metadata": {},
   "source": [
    "## Question 1:\n",
    "Compute the sparsity of the movie rating dataset, where sparsity is defined by the following equation:\n",
    "$$Sparsity = \\frac{Total number of available ratings}{Total number of possible ratings}$$"
   ]
  },
  {
   "cell_type": "code",
   "execution_count": 1,
   "metadata": {
    "scrolled": false
   },
   "outputs": [],
   "source": [
    "# import data\n",
    "import numpy as np\n",
    "import csv\n",
    "def loadCSVfile(name):\n",
    "    try:\n",
    "        tmp = np.loadtxt(name, dtype = np.str, delimiter = \",\")\n",
    "        data = tmp[1:,0:].astype(np.str) #加载数据部分\n",
    "        label = tmp[0,0:].astype(np.str) #加载类别标签部分\n",
    "    except ValueError:\n",
    "        with open(name,\"r\",encoding = \"UTF-8\") as f:\n",
    "            content = csv.reader(f)\n",
    "            li = []\n",
    "            i = 0\n",
    "            for row in content:\n",
    "                if i == 0:\n",
    "                    label = np.array(row)\n",
    "                else:\n",
    "                    li.append(np.array(row))\n",
    "                i += 1\n",
    "            data = np.array(li)\n",
    "    return data, label #返回array类型的数据\n",
    "\n",
    "ratings, rate_label = loadCSVfile('ratings.csv')\n",
    "tags, tag_label = loadCSVfile('tags.csv')\n",
    "links, link_label = loadCSVfile('links.csv')\n",
    "movies, movie_label = loadCSVfile('movies.csv')"
   ]
  },
  {
   "cell_type": "code",
   "execution_count": 2,
   "metadata": {},
   "outputs": [
    {
     "name": "stdout",
     "output_type": "stream",
     "text": [
      "-------------------- ratings --------------------\n",
      "The labels are: ['userId' 'movieId' 'rating' 'timestamp']\n",
      "How much is the data: (100836, 4)\n",
      "-------------------- tags --------------------\n",
      "The labels are: ['userId' 'movieId' 'tag' 'timestamp']\n",
      "How much is the data: (3683, 4)\n",
      "-------------------- links --------------------\n",
      "The labels are: ['movieId' 'imdbId' 'tmdbId']\n",
      "How much is the data: (9742, 3)\n",
      "-------------------- movies --------------------\n",
      "The labels are: ['movieId' 'title' 'genres']\n",
      "How much is the data: (9742, 3)\n"
     ]
    }
   ],
   "source": [
    "print('-'*20,'ratings','-'*20)\n",
    "print(\"The labels are:\",rate_label)\n",
    "print(\"How much is the data:\",ratings.shape)\n",
    "print('-'*20,'tags','-'*20)\n",
    "print(\"The labels are:\",tag_label)\n",
    "print(\"How much is the data:\",tags.shape)\n",
    "print('-'*20,'links','-'*20)\n",
    "print(\"The labels are:\",link_label)\n",
    "print(\"How much is the data:\",links.shape)\n",
    "print('-'*20,'movies','-'*20)\n",
    "print(\"The labels are:\",movie_label)\n",
    "print(\"How much is the data:\",movies.shape)"
   ]
  },
  {
   "cell_type": "code",
   "execution_count": 3,
   "metadata": {},
   "outputs": [
    {
     "data": {
      "text/plain": [
       "0.9864135824507121"
      ]
     },
     "execution_count": 3,
     "metadata": {},
     "output_type": "execute_result"
    }
   ],
   "source": [
    "def sparsity(data):\n",
    "    rate = 0\n",
    "    total = len(data)\n",
    "    for i in data:\n",
    "        if i.startswith(\"0\"):\n",
    "            pass\n",
    "        else:\n",
    "            rate+=1\n",
    "    return float(rate)/float(total)\n",
    "\n",
    "sparsity(ratings[:,2])"
   ]
  },
  {
   "cell_type": "markdown",
   "metadata": {},
   "source": [
    "## Question 2:\n",
    "Plot a histogram showing the frequency of the rating values. To be specific, bin the rating values into intervals of width 0.5 and use the binned rating values as the horizontal axis. Count the number of entries in the ratings matrix R with rating values in the binned intervals and use this count as the vertical axis. Briefly comment on the shape of the histogram."
   ]
  },
  {
   "cell_type": "code",
   "execution_count": 76,
   "metadata": {},
   "outputs": [
    {
     "data": {
      "text/plain": [
       "Counter({'0.5': 1370,\n",
       "         '1.0': 2811,\n",
       "         '1.5': 1791,\n",
       "         '2.0': 7551,\n",
       "         '2.5': 5550,\n",
       "         '3.0': 20047,\n",
       "         '3.5': 13136,\n",
       "         '4.0': 26818,\n",
       "         '4.5': 8551,\n",
       "         '5.0': 13211})"
      ]
     },
     "execution_count": 76,
     "metadata": {},
     "output_type": "execute_result"
    }
   ],
   "source": [
    "from collections import Counter\n",
    "rating_span = np.arange(0.5,5.5,0.5)\n",
    "rating_counter = Counter(ratings[:,2])\n",
    "rating_counter2 = [rating_counter[str(i)] for i in rating_span]\n",
    "rating_count = np.array([rating_span,rating_count])\n",
    "rating_counter"
   ]
  },
  {
   "cell_type": "code",
   "execution_count": 85,
   "metadata": {},
   "outputs": [
    {
     "data": {
      "text/plain": [
       "Text(0.5,1,'Frequency of rating values')"
      ]
     },
     "execution_count": 85,
     "metadata": {},
     "output_type": "execute_result"
    },
    {
     "data": {
      "image/png": "[encoded data removed]",
      "text/plain": [
       "<matplotlib.figure.Figure at 0x18ebdea7748>"
      ]
     },
     "metadata": {},
     "output_type": "display_data"
    }
   ],
   "source": [
    "# plot the histogram\n",
    "import matplotlib.pyplot as plt\n",
    "%matplotlib inline\n",
    "plt.bar(rating_span, rating_counter2, 0.5,facecolor=\"blue\", edgecolor=\"black\", alpha=0.7)\n",
    "plt.xticks((0,0.25,0.75,1.25,1.75,2.25,2.75,3.25,3.75,4.25,4.75,5.25),(u'',u'0',u'0.5',u'1',u'1.5',u'2',u'2.5',u'3',u'3.5',u'4',u'4.5',u'5'))\n",
    "plt.grid(True,linestyle='-.')\n",
    "plt.xlabel('Rating values')\n",
    "plt.ylabel('Number of ratings')\n",
    "plt.title('Frequency of rating values')"
   ]
  },
  {
   "cell_type": "markdown",
   "metadata": {},
   "source": [
    "## Question 3:\n",
    "Plot the distribution of the number of ratings received among movies. To be specific, the X-axis should be the movie index ordered by decreasing frequency and the Y-axis should be the number of ratings the movie has received. For example, the movie that has the largest number of ratings has index 1; ties can broken inany way. A monotonically decreasing curve instead of ahistogram is expected."
   ]
  },
  {
   "cell_type": "code",
   "execution_count": null,
   "metadata": {},
   "outputs": [],
   "source": []
  }
 ],
 "metadata": {
  "kernelspec": {
   "display_name": "Python 3",
   "language": "python",
   "name": "python3"
  },
  "language_info": {
   "codemirror_mode": {
    "name": "ipython",
    "version": 3
   },
   "file_extension": ".py",
   "mimetype": "text/x-python",
   "name": "python",
   "nbconvert_exporter": "python",
   "pygments_lexer": "ipython3",
   "version": "3.7.1"
  }
 },
 "nbformat": 4,
 "nbformat_minor": 2
}
