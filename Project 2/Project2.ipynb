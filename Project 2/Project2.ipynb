{
 "cells": [
  {
   "cell_type": "markdown",
   "metadata": {},
   "source": [
    "## Question 1:\n",
    "Report the dimensions of the TF-IDF matrix you get."
   ]
  },
  {
   "cell_type": "code",
   "execution_count": 1,
   "metadata": {},
   "outputs": [],
   "source": [
    "import numpy as np \n",
    "np.random.seed(42) \n",
    "import random\n",
    "random.seed(42)\n",
    "from sklearn.datasets import fetch_20newsgroups\n",
    "from sklearn.feature_extraction.text import ENGLISH_STOP_WORDS, CountVectorizer\n",
    "\n",
    "categories = ['comp.sys.ibm.pc.hardware', 'comp.graphics', 'comp.sys.mac.hardware', 'comp.os.ms-windows.misc', \n",
    "              'rec.autos', 'rec.motorcycles', 'rec.sport.baseball', 'rec.sport.hockey']\n",
    "dataset = fetch_20newsgroups(subset = 'all', categories = categories)\n",
    "\n",
    "vectorizer = CountVectorizer(min_df=3, stop_words='english')\n",
    "X = vectorizer.fit_transform(dataset.data)"
   ]
  },
  {
   "cell_type": "code",
   "execution_count": 2,
   "metadata": {},
   "outputs": [
    {
     "name": "stdout",
     "output_type": "stream",
     "text": [
      "The data's shape is (7882, 27768)\n"
     ]
    }
   ],
   "source": [
    "# TF-IDF matrices of the train subsets\n",
    "from sklearn.feature_extraction.text import TfidfTransformer\n",
    "tfidf = TfidfTransformer()\n",
    "\n",
    "X_tfidf = tfidf.fit_transform(X)\n",
    "\n",
    "print(\"The data's shape is\", X_tfidf.shape)"
   ]
  },
  {
   "cell_type": "markdown",
   "metadata": {},
   "source": [
    "## Question 2:\n",
    "Report the contingency table of your clustering result."
   ]
  },
  {
   "cell_type": "code",
   "execution_count": 3,
   "metadata": {},
   "outputs": [
    {
     "data": {
      "text/plain": [
       "KMeans(algorithm='auto', copy_x=True, init='k-means++', max_iter=1000,\n",
       "    n_clusters=2, n_init=30, n_jobs=None, precompute_distances='auto',\n",
       "    random_state=0, tol=0.0001, verbose=0)"
      ]
     },
     "execution_count": 3,
     "metadata": {},
     "output_type": "execute_result"
    }
   ],
   "source": [
    "from sklearn.cluster import KMeans\n",
    "km = KMeans(n_clusters=2, max_iter=1000, n_init=30, random_state=0)\n",
    "km.fit(X_tfidf)"
   ]
  },
  {
   "cell_type": "code",
   "execution_count": 4,
   "metadata": {},
   "outputs": [
    {
     "name": "stdout",
     "output_type": "stream",
     "text": [
      "[[1718 2261]\n",
      " [   4 3899]]\n"
     ]
    }
   ],
   "source": [
    "from sklearn.metrics.cluster import contingency_matrix\n",
    "\n",
    "class_names = ['Computer', 'Recreation']\n",
    "true_label = [int(x / 4) ^ 1 for x in dataset.target]\n",
    "\n",
    "print(contingency_matrix(true_label, km.labels_))"
   ]
  },
  {
   "cell_type": "markdown",
   "metadata": {},
   "source": [
    "## Question 3:\n",
    "Report the 5 measures above for the K-means clustering results you get."
   ]
  },
  {
   "cell_type": "code",
   "execution_count": 5,
   "metadata": {},
   "outputs": [],
   "source": [
    "from sklearn.metrics.cluster import homogeneity_score,\\\n",
    "                                    completeness_score,\\\n",
    "                                    v_measure_score,\\\n",
    "                                    adjusted_rand_score,\\\n",
    "                                    adjusted_mutual_info_score"
   ]
  },
  {
   "cell_type": "code",
   "execution_count": 6,
   "metadata": {},
   "outputs": [
    {
     "name": "stdout",
     "output_type": "stream",
     "text": [
      "The homogeneity score is: 0.2535958928926043\n",
      "The completeness_score score is: 0.334815748824373\n",
      "The V-measure score is: 0.28860033608397917\n",
      "The adjusted Rand Index score is: 0.18076179588914554\n",
      "The adjusted mutual information score is: 0.25352755133060884\n"
     ]
    },
    {
     "name": "stderr",
     "output_type": "stream",
     "text": [
      "/Users/apple/miniconda3/lib/python3.7/site-packages/sklearn/metrics/cluster/supervised.py:732: FutureWarning: The behavior of AMI will change in version 0.22. To match the behavior of 'v_measure_score', AMI will use average_method='arithmetic' by default.\n",
      "  FutureWarning)\n"
     ]
    }
   ],
   "source": [
    "print(\"The homogeneity score is:\", homogeneity_score(true_label, km.labels_))\n",
    "print(\"The completeness_score score is:\", completeness_score(true_label, km.labels_))\n",
    "print(\"The V-measure score is:\", v_measure_score(true_label, km.labels_))\n",
    "print(\"The adjusted Rand Index score is:\", adjusted_rand_score(true_label, km.labels_))\n",
    "print(\"The adjusted mutual information score is:\", adjusted_mutual_info_score(true_label, km.labels_))"
   ]
  },
  {
   "cell_type": "markdown",
   "metadata": {},
   "source": [
    "## Question 4:\n",
    "Report the plot of the percent of variance the top r principle components can retain v.s. r, for r = 1 to 1000."
   ]
  },
  {
   "cell_type": "code",
   "execution_count": 7,
   "metadata": {},
   "outputs": [
    {
     "data": {
      "text/plain": [
       "TruncatedSVD(algorithm='randomized', n_components=1000, n_iter=5,\n",
       "       random_state=None, tol=0.0)"
      ]
     },
     "execution_count": 7,
     "metadata": {},
     "output_type": "execute_result"
    }
   ],
   "source": [
    "from sklearn.decomposition import TruncatedSVD\n",
    "\n",
    "r = 1000\n",
    "svd = TruncatedSVD(1000)\n",
    "svd.fit(X_tfidf)"
   ]
  },
  {
   "cell_type": "code",
   "execution_count": 8,
   "metadata": {},
   "outputs": [
    {
     "data": {
      "text/plain": [
       "<Figure size 640x480 with 1 Axes>"
      ]
     },
     "metadata": {},
     "output_type": "display_data"
    }
   ],
   "source": [
    "import matplotlib.pyplot as plt\n",
    "\n",
    "ratio = svd.explained_variance_ratio_.cumsum()\n",
    "x = np.array(range(1, 1001))\n",
    "\n",
    "plt.plot(x, ratio)\n",
    "plt.title('Percent of the Variance - Rank')\n",
    "plt.xlabel('Rank')\n",
    "plt.ylabel('Percent of the Variance')\n",
    "plt.show()"
   ]
  },
  {
   "cell_type": "markdown",
   "metadata": {},
   "source": [
    "## Question 5:\n",
    "Let r be the dimension that we want to reduce the data to (i.e. n_components). \n",
    "\n",
    "Try r = 1,2,3,5,10,20,50,100,300, and plot the 5 measure scores v.s. r for both SVD and NMF. \n",
    "\n",
    "Report the best r choice for SVD and NMF respectively. \n",
    "\n",
    "Note: what is “best” after all? What if some measures contradict with each other? Here you are faced with this challenge that you need to decide which measure you value the most, and design your own standard of “best”. Please explain your standard and justify it."
   ]
  },
  {
   "cell_type": "markdown",
   "metadata": {},
   "source": [
    "### SVD"
   ]
  },
  {
   "cell_type": "code",
   "execution_count": 12,
   "metadata": {},
   "outputs": [
    {
     "name": "stderr",
     "output_type": "stream",
     "text": [
      "/Users/apple/miniconda3/lib/python3.7/site-packages/sklearn/metrics/cluster/supervised.py:732: FutureWarning: The behavior of AMI will change in version 0.22. To match the behavior of 'v_measure_score', AMI will use average_method='arithmetic' by default.\n",
      "  FutureWarning)\n"
     ]
    },
    {
     "name": "stdout",
     "output_type": "stream",
     "text": [
      "-------------------- result for rank = 1 --------------------\n",
      "Homogeneity score:  0.0003003030178761853\n",
      "Completeness score:  0.0003047688479979988\n",
      "V-measure score:  0.0003025194525487269\n",
      "Adjusted rand index score:  0.00033904080274629444\n",
      "Adjusted mutual information score:  0.00020877974994934888\n"
     ]
    },
    {
     "name": "stderr",
     "output_type": "stream",
     "text": [
      "/Users/apple/miniconda3/lib/python3.7/site-packages/sklearn/metrics/cluster/supervised.py:732: FutureWarning: The behavior of AMI will change in version 0.22. To match the behavior of 'v_measure_score', AMI will use average_method='arithmetic' by default.\n",
      "  FutureWarning)\n"
     ]
    },
    {
     "name": "stdout",
     "output_type": "stream",
     "text": [
      "-------------------- result for rank = 2 --------------------\n",
      "Homogeneity score:  0.5960249753578137\n",
      "Completeness score:  0.5971396831400697\n",
      "V-measure score:  0.5965818085440118\n",
      "Adjusted rand index score:  0.6972989204562027\n",
      "Adjusted mutual information score:  0.5959879913066645\n"
     ]
    },
    {
     "name": "stderr",
     "output_type": "stream",
     "text": [
      "/Users/apple/miniconda3/lib/python3.7/site-packages/sklearn/metrics/cluster/supervised.py:732: FutureWarning: The behavior of AMI will change in version 0.22. To match the behavior of 'v_measure_score', AMI will use average_method='arithmetic' by default.\n",
      "  FutureWarning)\n"
     ]
    },
    {
     "name": "stdout",
     "output_type": "stream",
     "text": [
      "-------------------- result for rank = 3 --------------------\n",
      "Homogeneity score:  0.4164457136347125\n",
      "Completeness score:  0.4506183461160515\n",
      "V-measure score:  0.4328586258762355\n",
      "Adjusted rand index score:  0.4199087300516852\n",
      "Adjusted mutual information score:  0.416392287513305\n"
     ]
    },
    {
     "name": "stderr",
     "output_type": "stream",
     "text": [
      "/Users/apple/miniconda3/lib/python3.7/site-packages/sklearn/metrics/cluster/supervised.py:732: FutureWarning: The behavior of AMI will change in version 0.22. To match the behavior of 'v_measure_score', AMI will use average_method='arithmetic' by default.\n",
      "  FutureWarning)\n"
     ]
    },
    {
     "name": "stdout",
     "output_type": "stream",
     "text": [
      "-------------------- result for rank = 5 --------------------\n",
      "Homogeneity score:  0.22169446004255983\n",
      "Completeness score:  0.30996400619493775\n",
      "V-measure score:  0.25850167861455114\n",
      "Adjusted rand index score:  0.14515583921549685\n",
      "Adjusted mutual information score:  0.2216231954089647\n"
     ]
    },
    {
     "name": "stderr",
     "output_type": "stream",
     "text": [
      "/Users/apple/miniconda3/lib/python3.7/site-packages/sklearn/metrics/cluster/supervised.py:732: FutureWarning: The behavior of AMI will change in version 0.22. To match the behavior of 'v_measure_score', AMI will use average_method='arithmetic' by default.\n",
      "  FutureWarning)\n"
     ]
    },
    {
     "name": "stdout",
     "output_type": "stream",
     "text": [
      "-------------------- result for rank = 10 --------------------\n",
      "Homogeneity score:  0.23391481037641562\n",
      "Completeness score:  0.32068405497161595\n",
      "V-measure score:  0.27051173233956144\n",
      "Adjusted rand index score:  0.15699331100274733\n",
      "Adjusted mutual information score:  0.23384466542555024\n"
     ]
    },
    {
     "name": "stderr",
     "output_type": "stream",
     "text": [
      "/Users/apple/miniconda3/lib/python3.7/site-packages/sklearn/metrics/cluster/supervised.py:732: FutureWarning: The behavior of AMI will change in version 0.22. To match the behavior of 'v_measure_score', AMI will use average_method='arithmetic' by default.\n",
      "  FutureWarning)\n"
     ]
    },
    {
     "name": "stdout",
     "output_type": "stream",
     "text": [
      "-------------------- result for rank = 20 --------------------\n",
      "Homogeneity score:  0.2353359981753197\n",
      "Completeness score:  0.32175401671564835\n",
      "V-measure score:  0.2718422540943059\n",
      "Adjusted rand index score:  0.15860666758469216\n",
      "Adjusted mutual information score:  0.23526598345354635\n"
     ]
    },
    {
     "name": "stderr",
     "output_type": "stream",
     "text": [
      "/Users/apple/miniconda3/lib/python3.7/site-packages/sklearn/metrics/cluster/supervised.py:732: FutureWarning: The behavior of AMI will change in version 0.22. To match the behavior of 'v_measure_score', AMI will use average_method='arithmetic' by default.\n",
      "  FutureWarning)\n"
     ]
    },
    {
     "name": "stdout",
     "output_type": "stream",
     "text": [
      "-------------------- result for rank = 50 --------------------\n",
      "Homogeneity score:  0.24036931129115102\n",
      "Completeness score:  0.32481406685458625\n",
      "V-measure score:  0.2762831907890341\n",
      "Adjusted rand index score:  0.16534887546071145\n",
      "Adjusted mutual information score:  0.24029975786004792\n"
     ]
    },
    {
     "name": "stderr",
     "output_type": "stream",
     "text": [
      "/Users/apple/miniconda3/lib/python3.7/site-packages/sklearn/metrics/cluster/supervised.py:732: FutureWarning: The behavior of AMI will change in version 0.22. To match the behavior of 'v_measure_score', AMI will use average_method='arithmetic' by default.\n",
      "  FutureWarning)\n"
     ]
    },
    {
     "name": "stdout",
     "output_type": "stream",
     "text": [
      "-------------------- result for rank = 100 --------------------\n",
      "Homogeneity score:  0.2459136851918752\n",
      "Completeness score:  0.32972145379678475\n",
      "V-measure score:  0.28171670663624065\n",
      "Adjusted rand index score:  0.17075973241529788\n",
      "Adjusted mutual information score:  0.2458446396949744\n",
      "-------------------- result for rank = 300 --------------------\n",
      "Homogeneity score:  0.24740213963370916\n",
      "Completeness score:  0.33013026431904685\n",
      "V-measure score:  0.2828410430007851\n",
      "Adjusted rand index score:  0.17349778539125787\n",
      "Adjusted mutual information score:  0.24733323059218043\n"
     ]
    },
    {
     "name": "stderr",
     "output_type": "stream",
     "text": [
      "/Users/apple/miniconda3/lib/python3.7/site-packages/sklearn/metrics/cluster/supervised.py:732: FutureWarning: The behavior of AMI will change in version 0.22. To match the behavior of 'v_measure_score', AMI will use average_method='arithmetic' by default.\n",
      "  FutureWarning)\n"
     ]
    }
   ],
   "source": [
    "# use SVD to reduce dimension and find best rank\n",
    "\n",
    "homogeneity_scores = []\n",
    "completeness_scores = []\n",
    "v_measure_scores = []\n",
    "adjusted_rand_index_scores = []\n",
    "adjusted_mutual_info_scores = []\n",
    "rank_list = [1, 2, 3, 5, 10, 20, 50, 100, 300]\n",
    "\n",
    "for r in rank_list:\n",
    "    X_reduced = svd.transform(X_tfidf)[:,0:r]\n",
    "    clt = KMeans(n_clusters=2, random_state=0, max_iter=1000, n_init=30).fit(X_reduced)\n",
    "    homogeneity_scores.append(homogeneity_score(true_label, clt.labels_))\n",
    "    completeness_scores.append(completeness_score(true_label, clt.labels_))\n",
    "    v_measure_scores.append(v_measure_score(true_label, clt.labels_))\n",
    "    adjusted_rand_index_scores.append(adjusted_rand_score(true_label, clt.labels_))\n",
    "    adjusted_mutual_info_scores.append(adjusted_mutual_info_score(true_label, clt.labels_))\n",
    "    \n",
    "    print('-' * 20, \"result for rank =\", r, '-' * 20)\n",
    "    print(\"Homogeneity score: \", homogeneity_score(true_label, clt.labels_))\n",
    "    print(\"Completeness score: \", completeness_score(true_label, clt.labels_))\n",
    "    print(\"V-measure score: \", v_measure_score(true_label, clt.labels_))\n",
    "    print(\"Adjusted rand index score: \", adjusted_rand_score(true_label, clt.labels_))\n",
    "    print(\"Adjusted mutual information score: \", adjusted_mutual_info_score(true_label, clt.labels_))"
   ]
  },
  {
   "cell_type": "code",
   "execution_count": 14,
   "metadata": {},
   "outputs": [
    {
     "data": {
      "text/plain": [
       "Text(0, 0.5, 'scores')"
      ]
     },
     "execution_count": 14,
     "metadata": {},
     "output_type": "execute_result"
    },
    {
     "data": {
      "image/png": "[encoded data removed]",
      "text/plain": [
       "<Figure size 432x288 with 1 Axes>"
      ]
     },
     "metadata": {
      "needs_background": "light"
     },
     "output_type": "display_data"
    }
   ],
   "source": [
    "plt.title(\"5 scores for SVD\")\n",
    "plt.plot(rank_list[0:6], homogeneity_scores[0:6], color=\"red\", label=\"homogeneity score\")\n",
    "plt.plot(rank_list[0:6], completeness_scores[0:6], color=\"blue\", label=\"completeness score\")\n",
    "plt.plot(rank_list[0:6], v_measure_scores[0:6], color=\"green\", label=\"v-measure score\")\n",
    "plt.plot(rank_list[0:6], adjusted_rand_index_scores[0:6], color=\"purple\", label=\"adjusted rand index score\")\n",
    "plt.plot(rank_list[0:6], adjusted_mutual_info_scores[0:6], color=\"orange\", label=\"adjusted mutual information score\")\n",
    "plt.legend(loc=\"upper right\")\n",
    "plt.xlabel(\"rank\")\n",
    "plt.ylabel(\"scores\")"
   ]
  },
  {
   "cell_type": "code",
   "execution_count": 16,
   "metadata": {},
   "outputs": [
    {
     "name": "stderr",
     "output_type": "stream",
     "text": [
      "/Users/apple/miniconda3/lib/python3.7/site-packages/sklearn/metrics/cluster/supervised.py:732: FutureWarning: The behavior of AMI will change in version 0.22. To match the behavior of 'v_measure_score', AMI will use average_method='arithmetic' by default.\n",
      "  FutureWarning)\n"
     ]
    },
    {
     "name": "stdout",
     "output_type": "stream",
     "text": [
      "-------------------- result for rank = 1 --------------------\n",
      "Homogeneity score:  0.0003003030178761853\n",
      "Completeness score:  0.0003047688479979988\n",
      "V-measure score:  0.0003025194525487269\n",
      "Adjusted rand index score:  0.00033904080274629444\n",
      "Adjusted mutual information score:  0.00020877974994934888\n"
     ]
    },
    {
     "name": "stderr",
     "output_type": "stream",
     "text": [
      "/Users/apple/miniconda3/lib/python3.7/site-packages/sklearn/metrics/cluster/supervised.py:732: FutureWarning: The behavior of AMI will change in version 0.22. To match the behavior of 'v_measure_score', AMI will use average_method='arithmetic' by default.\n",
      "  FutureWarning)\n"
     ]
    },
    {
     "name": "stdout",
     "output_type": "stream",
     "text": [
      "-------------------- result for rank = 2 --------------------\n",
      "Homogeneity score:  0.6790483562300401\n",
      "Completeness score:  0.6801316092104511\n",
      "V-measure score:  0.6795895510492935\n",
      "Adjusted rand index score:  0.7770177788377391\n",
      "Adjusted mutual information score:  0.6790189730005428\n"
     ]
    },
    {
     "name": "stderr",
     "output_type": "stream",
     "text": [
      "/Users/apple/miniconda3/lib/python3.7/site-packages/sklearn/metrics/cluster/supervised.py:732: FutureWarning: The behavior of AMI will change in version 0.22. To match the behavior of 'v_measure_score', AMI will use average_method='arithmetic' by default.\n",
      "  FutureWarning)\n"
     ]
    },
    {
     "name": "stdout",
     "output_type": "stream",
     "text": [
      "-------------------- result for rank = 3 --------------------\n",
      "Homogeneity score:  0.22934270331135687\n",
      "Completeness score:  0.3164839569386385\n",
      "V-measure score:  0.2659572773735104\n",
      "Adjusted rand index score:  0.15279745011356483\n",
      "Adjusted mutual information score:  0.2292721394788808\n"
     ]
    },
    {
     "name": "stderr",
     "output_type": "stream",
     "text": [
      "/Users/apple/miniconda3/lib/python3.7/site-packages/sklearn/metrics/cluster/supervised.py:732: FutureWarning: The behavior of AMI will change in version 0.22. To match the behavior of 'v_measure_score', AMI will use average_method='arithmetic' by default.\n",
      "  FutureWarning)\n"
     ]
    },
    {
     "name": "stdout",
     "output_type": "stream",
     "text": [
      "-------------------- result for rank = 5 --------------------\n",
      "Homogeneity score:  0.1806306858119277\n",
      "Completeness score:  0.2787087965375742\n",
      "V-measure score:  0.2191989280037279\n",
      "Adjusted rand index score:  0.10195567187855815\n",
      "Adjusted mutual information score:  0.180555656934245\n"
     ]
    },
    {
     "name": "stderr",
     "output_type": "stream",
     "text": [
      "/Users/apple/miniconda3/lib/python3.7/site-packages/sklearn/metrics/cluster/supervised.py:732: FutureWarning: The behavior of AMI will change in version 0.22. To match the behavior of 'v_measure_score', AMI will use average_method='arithmetic' by default.\n",
      "  FutureWarning)\n"
     ]
    },
    {
     "name": "stdout",
     "output_type": "stream",
     "text": [
      "-------------------- result for rank = 10 --------------------\n",
      "Homogeneity score:  0.18667569215124882\n",
      "Completeness score:  0.28417895409778\n",
      "V-measure score:  0.2253319718670206\n",
      "Adjusted rand index score:  0.10720979808549169\n",
      "Adjusted mutual information score:  0.18660121742351057\n"
     ]
    },
    {
     "name": "stderr",
     "output_type": "stream",
     "text": [
      "/Users/apple/miniconda3/lib/python3.7/site-packages/sklearn/metrics/cluster/supervised.py:732: FutureWarning: The behavior of AMI will change in version 0.22. To match the behavior of 'v_measure_score', AMI will use average_method='arithmetic' by default.\n",
      "  FutureWarning)\n"
     ]
    },
    {
     "name": "stdout",
     "output_type": "stream",
     "text": [
      "-------------------- result for rank = 20 --------------------\n",
      "Homogeneity score:  0.18193492013962\n",
      "Completeness score:  0.26780498891159743\n",
      "V-measure score:  0.21667225118362626\n",
      "Adjusted rand index score:  0.11413398537860678\n",
      "Adjusted mutual information score:  0.18186001280292877\n"
     ]
    },
    {
     "name": "stderr",
     "output_type": "stream",
     "text": [
      "/Users/apple/miniconda3/lib/python3.7/site-packages/sklearn/metrics/cluster/supervised.py:732: FutureWarning: The behavior of AMI will change in version 0.22. To match the behavior of 'v_measure_score', AMI will use average_method='arithmetic' by default.\n",
      "  FutureWarning)\n"
     ]
    },
    {
     "name": "stdout",
     "output_type": "stream",
     "text": [
      "-------------------- result for rank = 50 --------------------\n",
      "Homogeneity score:  0.011832197188032795\n",
      "Completeness score:  0.07531836949532314\n",
      "V-measure score:  0.020451543430295923\n",
      "Adjusted rand index score:  0.0019441736905535516\n",
      "Adjusted mutual information score:  0.011741494087493415\n"
     ]
    },
    {
     "name": "stderr",
     "output_type": "stream",
     "text": [
      "/Users/apple/miniconda3/lib/python3.7/site-packages/sklearn/metrics/cluster/supervised.py:732: FutureWarning: The behavior of AMI will change in version 0.22. To match the behavior of 'v_measure_score', AMI will use average_method='arithmetic' by default.\n",
      "  FutureWarning)\n"
     ]
    },
    {
     "name": "stdout",
     "output_type": "stream",
     "text": [
      "-------------------- result for rank = 100 --------------------\n",
      "Homogeneity score:  0.031491796685430014\n",
      "Completeness score:  0.15711387564419096\n",
      "V-measure score:  0.05246712007261017\n",
      "Adjusted rand index score:  0.002688756348610146\n",
      "Adjusted mutual information score:  0.03140296500783613\n",
      "-------------------- result for rank = 300 --------------------\n",
      "Homogeneity score:  0.03477298524243016\n",
      "Completeness score:  0.11833131573454173\n",
      "V-measure score:  0.05375071855588762\n",
      "Adjusted rand index score:  0.009594156649875797\n",
      "Adjusted mutual information score:  0.03468452632245759\n"
     ]
    },
    {
     "name": "stderr",
     "output_type": "stream",
     "text": [
      "/Users/apple/miniconda3/lib/python3.7/site-packages/sklearn/metrics/cluster/supervised.py:732: FutureWarning: The behavior of AMI will change in version 0.22. To match the behavior of 'v_measure_score', AMI will use average_method='arithmetic' by default.\n",
      "  FutureWarning)\n"
     ]
    }
   ],
   "source": [
    "# use NMF to reduce dimension and find best rank\n",
    "\n",
    "from sklearn.decomposition import NMF\n",
    "\n",
    "homogeneity_scores_nmf = []\n",
    "completeness_scores_nmf = []\n",
    "v_measure_scores_nmf = []\n",
    "adjusted_rand_index_scores_nmf = []\n",
    "adjusted_mutual_info_scores_nmf = []\n",
    "rank_list = [1, 2, 3, 5, 10, 20, 50, 100, 300]\n",
    "\n",
    "for r in rank_list:\n",
    "    nmf = NMF(n_components=r)\n",
    "    X_nmf_reduced = nmf.fit_transform(X_tfidf)\n",
    "    \n",
    "    clt = KMeans(n_clusters=2, random_state=0, max_iter=1000, n_init=30).fit(X_nmf_reduced)\n",
    "    homogeneity_scores_nmf.append(homogeneity_score(true_label, clt.labels_))\n",
    "    completeness_scores_nmf.append(completeness_score(true_label, clt.labels_))\n",
    "    v_measure_scores_nmf.append(v_measure_score(true_label, clt.labels_))\n",
    "    adjusted_rand_index_scores_nmf.append(adjusted_rand_score(true_label, clt.labels_))\n",
    "    adjusted_mutual_info_scores_nmf.append(adjusted_mutual_info_score(true_label, clt.labels_))\n",
    "    \n",
    "    print('-' * 20, \"result for rank =\", r, '-' * 20)\n",
    "    print(\"Homogeneity score: \", homogeneity_score(true_label, clt.labels_))\n",
    "    print(\"Completeness score: \", completeness_score(true_label, clt.labels_))\n",
    "    print(\"V-measure score: \", v_measure_score(true_label, clt.labels_))\n",
    "    print(\"Adjusted rand index score: \", adjusted_rand_score(true_label, clt.labels_))\n",
    "    print(\"Adjusted mutual information score: \", adjusted_mutual_info_score(true_label, clt.labels_))"
   ]
  },
  {
   "cell_type": "code",
   "execution_count": 17,
   "metadata": {},
   "outputs": [
    {
     "data": {
      "text/plain": [
       "Text(0, 0.5, 'scores')"
      ]
     },
     "execution_count": 17,
     "metadata": {},
     "output_type": "execute_result"
    },
    {
     "data": {
      "image/png": "[encoded data removed]",
      "text/plain": [
       "<Figure size 432x288 with 1 Axes>"
      ]
     },
     "metadata": {
      "needs_background": "light"
     },
     "output_type": "display_data"
    }
   ],
   "source": [
    "plt.title(\"5 scores for NMF\")\n",
    "plt.plot(rank_list[0:6], homogeneity_scores[0:6], color=\"red\", label=\"homogeneity score\")\n",
    "plt.plot(rank_list[0:6], completeness_scores[0:6], color=\"blue\", label=\"completeness score\")\n",
    "plt.plot(rank_list[0:6], v_measure_scores[0:6], color=\"green\", label=\"v-measure score\")\n",
    "plt.plot(rank_list[0:6], adjusted_rand_index_scores[0:6], color=\"purple\", label=\"adjusted rand index score\")\n",
    "plt.plot(rank_list[0:6], adjusted_mutual_info_scores[0:6], color=\"orange\", label=\"adjusted mutual information score\")\n",
    "plt.legend(loc=\"upper right\")\n",
    "plt.xlabel(\"rank\")\n",
    "plt.ylabel(\"scores\")"
   ]
  },
  {
   "cell_type": "markdown",
   "metadata": {},
   "source": [
    "## Question 7: Visualize Clustering Results"
   ]
  },
  {
   "cell_type": "markdown",
   "metadata": {},
   "source": [
    "### SVD with its best rank 2"
   ]
  },
  {
   "cell_type": "code",
   "execution_count": 18,
   "metadata": {},
   "outputs": [
    {
     "data": {
      "image/png": "[encoded data removed]",
      "text/plain": [
       "<Figure size 432x288 with 1 Axes>"
      ]
     },
     "metadata": {
      "needs_background": "light"
     },
     "output_type": "display_data"
    }
   ],
   "source": [
    "X_reduced_svd = svd.transform(X_tfidf)[:,0:2]\n",
    "\n",
    "for i in range(len(true_label)):\n",
    "    point = X_reduced_svd[i]\n",
    "    if(true_label[i] == 0):\n",
    "        plt.plot(point[0], point[1], 'ro', color=\"red\")\n",
    "    else:\n",
    "        plt.plot(point[0], point[1], 'ro', color=\"blue\")"
   ]
  },
  {
   "cell_type": "code",
   "execution_count": 19,
   "metadata": {},
   "outputs": [
    {
     "data": {
      "image/png": "[encoded data removed]",
      "text/plain": [
       "<Figure size 432x288 with 1 Axes>"
      ]
     },
     "metadata": {
      "needs_background": "light"
     },
     "output_type": "display_data"
    }
   ],
   "source": [
    "clt_svd_best = KMeans(n_clusters=2, random_state=0, max_iter=1000, n_init=30).fit(X_reduced_svd)\n",
    "\n",
    "for i in range(len(true_label)):\n",
    "    point = X_reduced_svd[i]\n",
    "    if(clt_svd_best.labels_[i] == 0):\n",
    "        plt.plot(point[0], point[1], 'ro', color=\"red\")\n",
    "    else:\n",
    "        plt.plot(point[0], point[1], 'ro', color=\"blue\")"
   ]
  },
  {
   "cell_type": "markdown",
   "metadata": {},
   "source": [
    "### NMF with its best rank 2"
   ]
  },
  {
   "cell_type": "code",
   "execution_count": 20,
   "metadata": {},
   "outputs": [
    {
     "data": {
      "image/png": "[encoded data removed]",
      "text/plain": [
       "<Figure size 432x288 with 1 Axes>"
      ]
     },
     "metadata": {
      "needs_background": "light"
     },
     "output_type": "display_data"
    }
   ],
   "source": [
    "nmf_best = NMF(n_components=2)\n",
    "X_reduced_nmf = nmf_best.fit_transform(X_tfidf)\n",
    "\n",
    "for i in range(len(true_label)):\n",
    "    point = X_reduced_nmf[i]\n",
    "    if(true_label[i] == 0):\n",
    "        plt.plot(point[0], point[1], 'ro', color=\"red\")\n",
    "    else:\n",
    "        plt.plot(point[0], point[1], 'ro', color=\"blue\")"
   ]
  },
  {
   "cell_type": "code",
   "execution_count": 21,
   "metadata": {},
   "outputs": [
    {
     "data": {
      "image/png": "[encoded data removed]",
      "text/plain": [
       "<Figure size 432x288 with 1 Axes>"
      ]
     },
     "metadata": {
      "needs_background": "light"
     },
     "output_type": "display_data"
    }
   ],
   "source": [
    "clt_nmf_best = KMeans(n_clusters=2, random_state=0, max_iter=1000, n_init=30).fit(X_reduced_nmf)\n",
    "\n",
    "for i in range(len(true_label)):\n",
    "    point = X_reduced_nmf[i]\n",
    "    if(clt_svd_best.labels_[i] == 0):\n",
    "        plt.plot(point[0], point[1], 'ro', color=\"red\")\n",
    "    else:\n",
    "        plt.plot(point[0], point[1], 'ro', color=\"blue\")"
   ]
  },
  {
   "cell_type": "code",
   "execution_count": null,
   "metadata": {},
   "outputs": [],
   "source": []
  }
 ],
 "metadata": {
  "kernelspec": {
   "display_name": "Python 3",
   "language": "python",
   "name": "python3"
  },
  "language_info": {
   "codemirror_mode": {
    "name": "ipython",
    "version": 3
   },
   "file_extension": ".py",
   "mimetype": "text/x-python",
   "name": "python",
   "nbconvert_exporter": "python",
   "pygments_lexer": "ipython3",
   "version": "3.6.6"
  }
 },
 "nbformat": 4,
 "nbformat_minor": 2
}
